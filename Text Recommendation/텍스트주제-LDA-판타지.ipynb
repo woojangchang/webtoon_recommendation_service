{
 "cells": [
  {
   "cell_type": "code",
   "execution_count": 2,
   "id": "ce2ec942-228f-49e5-8962-a22c14916b95",
   "metadata": {},
   "outputs": [
    {
     "name": "stdout",
     "output_type": "stream",
     "text": [
      "(445, 4)\n"
     ]
    },
    {
     "data": {
      "text/html": [
       "<div>\n",
       "<style scoped>\n",
       "    .dataframe tbody tr th:only-of-type {\n",
       "        vertical-align: middle;\n",
       "    }\n",
       "\n",
       "    .dataframe tbody tr th {\n",
       "        vertical-align: top;\n",
       "    }\n",
       "\n",
       "    .dataframe thead th {\n",
       "        text-align: right;\n",
       "    }\n",
       "</style>\n",
       "<table border=\"1\" class=\"dataframe\">\n",
       "  <thead>\n",
       "    <tr style=\"text-align: right;\">\n",
       "      <th></th>\n",
       "      <th>title</th>\n",
       "      <th>genre</th>\n",
       "      <th>story</th>\n",
       "      <th>platform</th>\n",
       "    </tr>\n",
       "  </thead>\n",
       "  <tbody>\n",
       "    <tr>\n",
       "      <th>0</th>\n",
       "      <td>참교육</td>\n",
       "      <td>스토리, 액션</td>\n",
       "      <td>무너진 교권을 지키기 위해 교권보호국 소속 나화진의 참교육이 시작된다! 부활남 채용...</td>\n",
       "      <td>네이버 웹툰</td>\n",
       "    </tr>\n",
       "    <tr>\n",
       "      <th>1</th>\n",
       "      <td>신의 탑</td>\n",
       "      <td>스토리, 판타지</td>\n",
       "      <td>자신의 모든 것이었던 소녀를 쫓아 탑에 들어온 소년 그리고 그런 소년을 시험하는 탑</td>\n",
       "      <td>네이버 웹툰</td>\n",
       "    </tr>\n",
       "    <tr>\n",
       "      <th>2</th>\n",
       "      <td>뷰티풀 군바리</td>\n",
       "      <td>스토리, 드라마</td>\n",
       "      <td>여자도 군대에 간다면? 본격 여자도 군대 가는 만화!</td>\n",
       "      <td>네이버 웹툰</td>\n",
       "    </tr>\n",
       "  </tbody>\n",
       "</table>\n",
       "</div>"
      ],
      "text/plain": [
       "     title     genre                                              story  \\\n",
       "0      참교육   스토리, 액션  무너진 교권을 지키기 위해 교권보호국 소속 나화진의 참교육이 시작된다! 부활남 채용...   \n",
       "1     신의 탑  스토리, 판타지     자신의 모든 것이었던 소녀를 쫓아 탑에 들어온 소년 그리고 그런 소년을 시험하는 탑   \n",
       "2  뷰티풀 군바리  스토리, 드라마                      여자도 군대에 간다면? 본격 여자도 군대 가는 만화!   \n",
       "\n",
       "  platform  \n",
       "0   네이버 웹툰  \n",
       "1   네이버 웹툰  \n",
       "2   네이버 웹툰  "
      ]
     },
     "execution_count": 2,
     "metadata": {},
     "output_type": "execute_result"
    }
   ],
   "source": [
    "import pandas as pd\n",
    "\n",
    "nwb = pd.read_csv('data/NAVER.csv', encoding='cp949', usecols=['title', 'genre', 'story', 'platform'])\n",
    "print(nwb.shape)\n",
    "nwb.head(3)"
   ]
  },
  {
   "cell_type": "code",
   "execution_count": 3,
   "id": "1790a0cc-47e5-49a7-b411-dbfd6b003962",
   "metadata": {},
   "outputs": [
    {
     "name": "stdout",
     "output_type": "stream",
     "text": [
      "(1025, 4)\n"
     ]
    },
    {
     "data": {
      "text/html": [
       "<div>\n",
       "<style scoped>\n",
       "    .dataframe tbody tr th:only-of-type {\n",
       "        vertical-align: middle;\n",
       "    }\n",
       "\n",
       "    .dataframe tbody tr th {\n",
       "        vertical-align: top;\n",
       "    }\n",
       "\n",
       "    .dataframe thead th {\n",
       "        text-align: right;\n",
       "    }\n",
       "</style>\n",
       "<table border=\"1\" class=\"dataframe\">\n",
       "  <thead>\n",
       "    <tr style=\"text-align: right;\">\n",
       "      <th></th>\n",
       "      <th>title</th>\n",
       "      <th>genre</th>\n",
       "      <th>story</th>\n",
       "      <th>platform</th>\n",
       "    </tr>\n",
       "  </thead>\n",
       "  <tbody>\n",
       "    <tr>\n",
       "      <th>0</th>\n",
       "      <td>국왕과 성기사의 약탈혼</td>\n",
       "      <td>스토리, 로맨스</td>\n",
       "      <td>그래, 왕이 되었지. 가지고 싶은 건 다 빼앗아 가지려고. 왕위를 찬탈하고 주변국을...</td>\n",
       "      <td>네이버 웹툰</td>\n",
       "    </tr>\n",
       "    <tr>\n",
       "      <th>1</th>\n",
       "      <td>성경의 역사</td>\n",
       "      <td>스토리, 드라마</td>\n",
       "      <td>모두에게 사랑 받기에 모두가 증오하는 그녀, 성경 .원치않는 애정과 증오속에 성경의...</td>\n",
       "      <td>네이버 웹툰</td>\n",
       "    </tr>\n",
       "    <tr>\n",
       "      <th>2</th>\n",
       "      <td>이츠마인</td>\n",
       "      <td>스토리, 스릴러</td>\n",
       "      <td>어떻게 해야 널 지킬 수 있을까, 다정아? 10년 뒤 다정이가 죽는다는 메시지를 본...</td>\n",
       "      <td>네이버 웹툰</td>\n",
       "    </tr>\n",
       "  </tbody>\n",
       "</table>\n",
       "</div>"
      ],
      "text/plain": [
       "          title     genre                                              story  \\\n",
       "0  국왕과 성기사의 약탈혼  스토리, 로맨스  그래, 왕이 되었지. 가지고 싶은 건 다 빼앗아 가지려고. 왕위를 찬탈하고 주변국을...   \n",
       "1        성경의 역사  스토리, 드라마  모두에게 사랑 받기에 모두가 증오하는 그녀, 성경 .원치않는 애정과 증오속에 성경의...   \n",
       "2          이츠마인  스토리, 스릴러  어떻게 해야 널 지킬 수 있을까, 다정아? 10년 뒤 다정이가 죽는다는 메시지를 본...   \n",
       "\n",
       "  platform  \n",
       "0   네이버 웹툰  \n",
       "1   네이버 웹툰  \n",
       "2   네이버 웹툰  "
      ]
     },
     "execution_count": 3,
     "metadata": {},
     "output_type": "execute_result"
    }
   ],
   "source": [
    "nwb_end = pd.read_csv('data/Naver_FINISH.csv', encoding='cp949', usecols=['title', 'genre', 'story', 'platform'])\n",
    "print(nwb_end.shape)\n",
    "nwb_end.head(3)"
   ]
  },
  {
   "cell_type": "code",
   "execution_count": 4,
   "id": "ec7df978-dbbb-4305-bc3d-97dd602ef466",
   "metadata": {},
   "outputs": [
    {
     "name": "stdout",
     "output_type": "stream",
     "text": [
      "(1470, 4)\n"
     ]
    },
    {
     "data": {
      "text/html": [
       "<div>\n",
       "<style scoped>\n",
       "    .dataframe tbody tr th:only-of-type {\n",
       "        vertical-align: middle;\n",
       "    }\n",
       "\n",
       "    .dataframe tbody tr th {\n",
       "        vertical-align: top;\n",
       "    }\n",
       "\n",
       "    .dataframe thead th {\n",
       "        text-align: right;\n",
       "    }\n",
       "</style>\n",
       "<table border=\"1\" class=\"dataframe\">\n",
       "  <thead>\n",
       "    <tr style=\"text-align: right;\">\n",
       "      <th></th>\n",
       "      <th>title</th>\n",
       "      <th>genre</th>\n",
       "      <th>story</th>\n",
       "      <th>platform</th>\n",
       "    </tr>\n",
       "  </thead>\n",
       "  <tbody>\n",
       "    <tr>\n",
       "      <th>0</th>\n",
       "      <td>참교육</td>\n",
       "      <td>스토리, 액션</td>\n",
       "      <td>무너진 교권을 지키기 위해 교권보호국 소속 나화진의 참교육이 시작된다! 부활남 채용...</td>\n",
       "      <td>네이버 웹툰</td>\n",
       "    </tr>\n",
       "    <tr>\n",
       "      <th>1</th>\n",
       "      <td>신의 탑</td>\n",
       "      <td>스토리, 판타지</td>\n",
       "      <td>자신의 모든 것이었던 소녀를 쫓아 탑에 들어온 소년 그리고 그런 소년을 시험하는 탑</td>\n",
       "      <td>네이버 웹툰</td>\n",
       "    </tr>\n",
       "    <tr>\n",
       "      <th>2</th>\n",
       "      <td>뷰티풀 군바리</td>\n",
       "      <td>스토리, 드라마</td>\n",
       "      <td>여자도 군대에 간다면? 본격 여자도 군대 가는 만화!</td>\n",
       "      <td>네이버 웹툰</td>\n",
       "    </tr>\n",
       "  </tbody>\n",
       "</table>\n",
       "</div>"
      ],
      "text/plain": [
       "     title     genre                                              story  \\\n",
       "0      참교육   스토리, 액션  무너진 교권을 지키기 위해 교권보호국 소속 나화진의 참교육이 시작된다! 부활남 채용...   \n",
       "1     신의 탑  스토리, 판타지     자신의 모든 것이었던 소녀를 쫓아 탑에 들어온 소년 그리고 그런 소년을 시험하는 탑   \n",
       "2  뷰티풀 군바리  스토리, 드라마                      여자도 군대에 간다면? 본격 여자도 군대 가는 만화!   \n",
       "\n",
       "  platform  \n",
       "0   네이버 웹툰  \n",
       "1   네이버 웹툰  \n",
       "2   네이버 웹툰  "
      ]
     },
     "execution_count": 4,
     "metadata": {},
     "output_type": "execute_result"
    }
   ],
   "source": [
    "# 연재 중, 완결 웹툰 합치기\n",
    "nwb = pd.concat([nwb, nwb_end])\n",
    "nwb.reset_index(inplace=True, drop=True)\n",
    "nwb.fillna('완결', inplace=True)\n",
    "print(nwb.shape)\n",
    "nwb.head(3)"
   ]
  },
  {
   "cell_type": "code",
   "execution_count": 5,
   "id": "b84ed8ec-b1a3-42b1-a14a-f6888180710f",
   "metadata": {},
   "outputs": [],
   "source": [
    "nwb['genre'] = nwb['genre'].str.split(', ').str[1]"
   ]
  },
  {
   "cell_type": "code",
   "execution_count": 6,
   "id": "6ba2bc0d-5b13-471c-9f86-fa390b8212d5",
   "metadata": {},
   "outputs": [
    {
     "name": "stdout",
     "output_type": "stream",
     "text": [
      "(127, 4)\n"
     ]
    },
    {
     "data": {
      "text/html": [
       "<div>\n",
       "<style scoped>\n",
       "    .dataframe tbody tr th:only-of-type {\n",
       "        vertical-align: middle;\n",
       "    }\n",
       "\n",
       "    .dataframe tbody tr th {\n",
       "        vertical-align: top;\n",
       "    }\n",
       "\n",
       "    .dataframe thead th {\n",
       "        text-align: right;\n",
       "    }\n",
       "</style>\n",
       "<table border=\"1\" class=\"dataframe\">\n",
       "  <thead>\n",
       "    <tr style=\"text-align: right;\">\n",
       "      <th></th>\n",
       "      <th>title</th>\n",
       "      <th>genre</th>\n",
       "      <th>story</th>\n",
       "      <th>platform</th>\n",
       "    </tr>\n",
       "  </thead>\n",
       "  <tbody>\n",
       "    <tr>\n",
       "      <th>0</th>\n",
       "      <td>바른쀼생활</td>\n",
       "      <td>일상</td>\n",
       "      <td>원룸에서 츄리닝 차림으로 한 프러포즈, 그리고 결혼..? 스물일곱 동갑내기의 바른 ...</td>\n",
       "      <td>레진코믹스</td>\n",
       "    </tr>\n",
       "    <tr>\n",
       "      <th>1</th>\n",
       "      <td>이토록 다채로운 핏빛</td>\n",
       "      <td>판타지</td>\n",
       "      <td>피의 색으로 모든 것이 나뉘는 세상. 순수한 색일수록 높은 신분을, 섞이고 섞여 혼...</td>\n",
       "      <td>레진코믹스</td>\n",
       "    </tr>\n",
       "    <tr>\n",
       "      <th>2</th>\n",
       "      <td>아스란히</td>\n",
       "      <td>BL</td>\n",
       "      <td>전쟁 중에 화살을 맞은 주인공 휘운 은 자신의 죽음 앞에서 좌절하는 소하 를 남겨두...</td>\n",
       "      <td>레진코믹스</td>\n",
       "    </tr>\n",
       "  </tbody>\n",
       "</table>\n",
       "</div>"
      ],
      "text/plain": [
       "         title genre                                              story  \\\n",
       "0        바른쀼생활    일상  원룸에서 츄리닝 차림으로 한 프러포즈, 그리고 결혼..? 스물일곱 동갑내기의 바른 ...   \n",
       "1  이토록 다채로운 핏빛   판타지  피의 색으로 모든 것이 나뉘는 세상. 순수한 색일수록 높은 신분을, 섞이고 섞여 혼...   \n",
       "2         아스란히    BL  전쟁 중에 화살을 맞은 주인공 휘운 은 자신의 죽음 앞에서 좌절하는 소하 를 남겨두...   \n",
       "\n",
       "  platform  \n",
       "0    레진코믹스  \n",
       "1    레진코믹스  \n",
       "2    레진코믹스  "
      ]
     },
     "execution_count": 6,
     "metadata": {},
     "output_type": "execute_result"
    }
   ],
   "source": [
    "lz = pd.read_csv('data/LZ.csv', encoding='cp949', usecols=['title', 'genre', 'story', 'platform'])\n",
    "print(lz.shape)\n",
    "lz.head(3)"
   ]
  },
  {
   "cell_type": "code",
   "execution_count": 7,
   "id": "592b4768-9449-495f-aaa1-a455fbbbed6c",
   "metadata": {},
   "outputs": [
    {
     "name": "stdout",
     "output_type": "stream",
     "text": [
      "(1597, 4)\n"
     ]
    },
    {
     "data": {
      "text/html": [
       "<div>\n",
       "<style scoped>\n",
       "    .dataframe tbody tr th:only-of-type {\n",
       "        vertical-align: middle;\n",
       "    }\n",
       "\n",
       "    .dataframe tbody tr th {\n",
       "        vertical-align: top;\n",
       "    }\n",
       "\n",
       "    .dataframe thead th {\n",
       "        text-align: right;\n",
       "    }\n",
       "</style>\n",
       "<table border=\"1\" class=\"dataframe\">\n",
       "  <thead>\n",
       "    <tr style=\"text-align: right;\">\n",
       "      <th></th>\n",
       "      <th>title</th>\n",
       "      <th>genre</th>\n",
       "      <th>story</th>\n",
       "      <th>platform</th>\n",
       "    </tr>\n",
       "  </thead>\n",
       "  <tbody>\n",
       "    <tr>\n",
       "      <th>1594</th>\n",
       "      <td>튀어나왔어요, BL만화!</td>\n",
       "      <td>드라마</td>\n",
       "      <td>슬럼프로 인해 휴재에 들어간 작가 육번 필명 앞에 그의 만화 네버엔딩 튜토리얼 의 ...</td>\n",
       "      <td>레진코믹스</td>\n",
       "    </tr>\n",
       "    <tr>\n",
       "      <th>1595</th>\n",
       "      <td>포젯션</td>\n",
       "      <td>판타지</td>\n",
       "      <td>인간계 저 아래의 지하왕국 저저저 에서는 17대 대왕의 갑작스런 하야 선언으로 새로...</td>\n",
       "      <td>레진코믹스</td>\n",
       "    </tr>\n",
       "    <tr>\n",
       "      <th>1596</th>\n",
       "      <td>비 마이 게스트[개정판]</td>\n",
       "      <td>로맨스</td>\n",
       "      <td>해당 작품은 비 마이 게스트 성인 버전의 일부 장면을 수정한 개정판입니다. 뜨거운 ...</td>\n",
       "      <td>레진코믹스</td>\n",
       "    </tr>\n",
       "  </tbody>\n",
       "</table>\n",
       "</div>"
      ],
      "text/plain": [
       "              title genre                                              story  \\\n",
       "1594  튀어나왔어요, BL만화!   드라마  슬럼프로 인해 휴재에 들어간 작가 육번 필명 앞에 그의 만화 네버엔딩 튜토리얼 의 ...   \n",
       "1595            포젯션   판타지  인간계 저 아래의 지하왕국 저저저 에서는 17대 대왕의 갑작스런 하야 선언으로 새로...   \n",
       "1596  비 마이 게스트[개정판]   로맨스  해당 작품은 비 마이 게스트 성인 버전의 일부 장면을 수정한 개정판입니다. 뜨거운 ...   \n",
       "\n",
       "     platform  \n",
       "1594    레진코믹스  \n",
       "1595    레진코믹스  \n",
       "1596    레진코믹스  "
      ]
     },
     "execution_count": 7,
     "metadata": {},
     "output_type": "execute_result"
    }
   ],
   "source": [
    "# 네이버, 레진 웹툰 합치기\n",
    "wb = pd.concat([nwb, lz])\n",
    "wb.reset_index(inplace=True, drop=True)\n",
    "print(wb.shape)\n",
    "wb.tail(3)"
   ]
  },
  {
   "cell_type": "markdown",
   "id": "b233c82b-284c-49a0-ae9e-2ba0a01819df",
   "metadata": {},
   "source": [
    "## 전처리\n",
    "- 장르, 줄거리에 대하여 특수문자, 숫자 등을 없앤 순수 한글만 남김\n",
    "- 제목도 하려 했으나, 토큰화 할 때 오류가 생겨 하지 않음"
   ]
  },
  {
   "cell_type": "code",
   "execution_count": 8,
   "id": "7d66bcc4-1ad0-4893-9a11-8f5268d5ea76",
   "metadata": {},
   "outputs": [],
   "source": [
    "import re\n",
    "\n",
    "def hangul(text):\n",
    "    return re.sub('[^ㄱ-ㅎ|ㅏ-ㅣ|가-힣]', ' ', text)"
   ]
  },
  {
   "cell_type": "code",
   "execution_count": 9,
   "id": "5591815c-7b65-4845-bc4c-938d0ff9bf07",
   "metadata": {},
   "outputs": [
    {
     "data": {
      "text/html": [
       "<div>\n",
       "<style scoped>\n",
       "    .dataframe tbody tr th:only-of-type {\n",
       "        vertical-align: middle;\n",
       "    }\n",
       "\n",
       "    .dataframe tbody tr th {\n",
       "        vertical-align: top;\n",
       "    }\n",
       "\n",
       "    .dataframe thead th {\n",
       "        text-align: right;\n",
       "    }\n",
       "</style>\n",
       "<table border=\"1\" class=\"dataframe\">\n",
       "  <thead>\n",
       "    <tr style=\"text-align: right;\">\n",
       "      <th></th>\n",
       "      <th>title</th>\n",
       "      <th>genre</th>\n",
       "      <th>story</th>\n",
       "      <th>platform</th>\n",
       "    </tr>\n",
       "  </thead>\n",
       "  <tbody>\n",
       "    <tr>\n",
       "      <th>0</th>\n",
       "      <td>참교육</td>\n",
       "      <td>액션</td>\n",
       "      <td>무너진 교권을 지키기 위해 교권보호국 소속 나화진의 참교육이 시작된다  부활남 채용...</td>\n",
       "      <td>네이버 웹툰</td>\n",
       "    </tr>\n",
       "    <tr>\n",
       "      <th>1</th>\n",
       "      <td>신의 탑</td>\n",
       "      <td>판타지</td>\n",
       "      <td>자신의 모든 것이었던 소녀를 쫓아 탑에 들어온 소년 그리고 그런 소년을 시험하는 탑</td>\n",
       "      <td>네이버 웹툰</td>\n",
       "    </tr>\n",
       "    <tr>\n",
       "      <th>2</th>\n",
       "      <td>뷰티풀 군바리</td>\n",
       "      <td>드라마</td>\n",
       "      <td>여자도 군대에 간다면  본격 여자도 군대 가는 만화</td>\n",
       "      <td>네이버 웹툰</td>\n",
       "    </tr>\n",
       "  </tbody>\n",
       "</table>\n",
       "</div>"
      ],
      "text/plain": [
       "     title genre                                              story platform\n",
       "0      참교육    액션  무너진 교권을 지키기 위해 교권보호국 소속 나화진의 참교육이 시작된다  부활남 채용...   네이버 웹툰\n",
       "1     신의 탑   판타지     자신의 모든 것이었던 소녀를 쫓아 탑에 들어온 소년 그리고 그런 소년을 시험하는 탑   네이버 웹툰\n",
       "2  뷰티풀 군바리   드라마                      여자도 군대에 간다면  본격 여자도 군대 가는 만화    네이버 웹툰"
      ]
     },
     "execution_count": 9,
     "metadata": {},
     "output_type": "execute_result"
    }
   ],
   "source": [
    "wb_copy = wb[wb['genre']=='판타지'].copy()\n",
    "wb_copy['genre'] = wb_copy['genre'].apply(lambda x:hangul(x))\n",
    "wb_copy['story'] = wb_copy['story'].apply(lambda x:hangul(x))\n",
    "\n",
    "wb_copy.head(3)"
   ]
  },
  {
   "cell_type": "code",
   "execution_count": 10,
   "id": "15e53e16-c01a-4897-ad75-c5048ee3a6b5",
   "metadata": {},
   "outputs": [
    {
     "name": "stdout",
     "output_type": "stream",
     "text": [
      "알 수 없는 오류로 3000년간 각성 테스트에 갇힌 김기봉. 그 사이 현실에선 10년이 흘렀고, 온 세상은 몬스터와 던전으로 가득차게 되었다. 만렙으로 귀환한 김기봉의 모든 것을 원래대로 돌려놓기 위한 싸움이 시작된다!\n",
      "알 수 없는 오류로     년간 각성 테스트에 갇힌 김기봉  그 사이 현실에선   년이 흘렀고  온 세상은 몬스터와 던전으로 가득차게 되었다  만렙으로 귀환한 김기봉의 모든 것을 원래대로 돌려놓기 위한 싸움이 시작된다 \n"
     ]
    }
   ],
   "source": [
    "print(wb['story'][11])\n",
    "print(wb_copy['story'][11])"
   ]
  },
  {
   "cell_type": "code",
   "execution_count": 11,
   "id": "6d7aa7ea-26b0-495d-ae0c-62e44ffe4c61",
   "metadata": {},
   "outputs": [
    {
     "name": "stdout",
     "output_type": "stream",
     "text": [
      "['좀', '원', '잘', '통하', '놓', '이야기', '시작', '보다', '이다', '위해']\n"
     ]
    }
   ],
   "source": [
    "with open('data/stopwords_korean.txt', 'r', encoding='utf8') as f:\n",
    "    stopwords = f.readline()\n",
    "stopwords = stopwords.split()\n",
    "\n",
    "stopwords += ['이야기', '시작', '보다', '이다', '위해']\n",
    "print(stopwords[-10:])"
   ]
  },
  {
   "cell_type": "markdown",
   "id": "f5f75838-8096-4781-87e4-8742ca770ece",
   "metadata": {},
   "source": [
    "## 토큰화\n",
    "- KoNLPy 설치 (교재 538 ~ 540 페이지)\n",
    "- Mecab 설치(윈도우) (https://cleancode-ws.tistory.com/97)\n",
    "- stemming : 갇힌 > 갇히다 등 단어의 원형으로 되돌리는 것\n",
    "    - konlpy에서는 Okt만 지원함"
   ]
  },
  {
   "cell_type": "code",
   "execution_count": 12,
   "id": "b70e790a-e253-4d22-a258-6e85b8f06f8d",
   "metadata": {},
   "outputs": [],
   "source": [
    "from konlpy.tag import Okt\n",
    "okt = Okt() # Okt : Open Korean Text\n",
    "\n",
    "def okt_tokenizer(text):\n",
    "    malist = okt.nouns(text)\n",
    "    filtered_words = []\n",
    "    # 필요한 어구만 대상으로 하기\n",
    "    for word in malist:\n",
    "        if (word not in stopwords) and (len(word) > 1):\n",
    "            filtered_words.append(word)\n",
    "    return filtered_words"
   ]
  },
  {
   "cell_type": "code",
   "execution_count": 13,
   "id": "eee419db-2161-4751-8fe0-a493a7438f92",
   "metadata": {},
   "outputs": [
    {
     "name": "stdout",
     "output_type": "stream",
     "text": [
      "['오류로', '각성', '테스트', '김기봉', '사이', '현실', '세상', '몬스터', '던전', '가득', '만렙', '귀환', '김기봉', '모든', '원래', '싸움']\n"
     ]
    }
   ],
   "source": [
    "print(okt_tokenizer(wb_copy['story'][11]))"
   ]
  },
  {
   "cell_type": "code",
   "execution_count": 14,
   "id": "90fee969-f67d-4ed2-8ddd-9bb33a9a1691",
   "metadata": {},
   "outputs": [],
   "source": [
    "# Gensim\n",
    "import gensim\n",
    "import gensim.corpora as corpora\n",
    "from gensim.models import CoherenceModel\n",
    "\n",
    "# Plotting tools\n",
    "import pyLDAvis.gensim_models\n",
    "import pyLDAvis\n",
    "\n",
    "# Ignore warnings\n",
    "import warnings\n",
    "warnings.filterwarnings(\"ignore\")"
   ]
  },
  {
   "cell_type": "code",
   "execution_count": 15,
   "id": "730e3dfc-01bf-4d3e-a6ed-7cd7bdb420a8",
   "metadata": {},
   "outputs": [],
   "source": [
    "import matplotlib.pyplot as plt\n",
    "from matplotlib import font_manager, rc\n",
    "font_path = \"C:/Windows/Fonts/NGULIM.TTF\"\n",
    "font = font_manager.FontProperties(fname=font_path).get_name()\n",
    "rc('font', family=font)"
   ]
  },
  {
   "cell_type": "code",
   "execution_count": 16,
   "id": "71ed2e24-5d93-41fa-9e0a-852fbb0c21e0",
   "metadata": {
    "tags": []
   },
   "outputs": [],
   "source": [
    "#텍스트 데이터를 리스트로 변환\n",
    "Data_list=wb_copy[wb_copy['genre']=='판타지'].story.values.tolist()\n",
    "\n",
    "#리스트를 요소별로 가져와서 토큰화 후 저장\n",
    "data_word=[]\n",
    "for i in range(len(Data_list)):\n",
    "    data_word.append(okt_tokenizer(Data_list[i]))"
   ]
  },
  {
   "cell_type": "code",
   "execution_count": 17,
   "id": "89e402c3-3476-48bd-a419-7e67aed4a752",
   "metadata": {},
   "outputs": [
    {
     "name": "stdout",
     "output_type": "stream",
     "text": [
      "['모든', '소녀', '소년', '소년', '시험']\n",
      "['뱃사공', '노소', '정체', '전설', '파검법', '후계', '이제', '진시황', '비서', '선근', '수행']\n",
      "['오류로', '각성', '테스트', '김기봉', '사이', '현실', '세상', '몬스터', '던전', '가득', '만렙', '귀환', '김기봉', '모든', '원래', '싸움']\n"
     ]
    }
   ],
   "source": [
    "for words in data_word[:3]:\n",
    "    print(words)"
   ]
  },
  {
   "cell_type": "code",
   "execution_count": 18,
   "id": "255f60dc-a295-495c-be3f-84e808ba7c70",
   "metadata": {},
   "outputs": [
    {
     "name": "stdout",
     "output_type": "stream",
     "text": [
      "[[(0, 1), (1, 1), (2, 2), (3, 1)]]\n"
     ]
    }
   ],
   "source": [
    "# Create Dictionary\n",
    "id2word = corpora.Dictionary(data_word)\n",
    "\n",
    "# Create Corpus\n",
    "texts = data_word\n",
    "\n",
    "# Term Document Frequency\n",
    "corpus = [id2word.doc2bow(text) for text in texts]\n",
    "\n",
    "# 0번으로 할당된 단어가 0번째 텍스트에서 2번 나왔다는 의미\n",
    "print(corpus[:1])"
   ]
  },
  {
   "cell_type": "code",
   "execution_count": 19,
   "id": "c83936fb-5c31-4f54-8577-90e239e4d1f5",
   "metadata": {},
   "outputs": [
    {
     "name": "stdout",
     "output_type": "stream",
     "text": [
      "모든\n"
     ]
    }
   ],
   "source": [
    "# 단어 확인\n",
    "print(id2word[0])"
   ]
  },
  {
   "cell_type": "code",
   "execution_count": 34,
   "id": "93964f24-19b2-4074-a499-4a90fcbf3a29",
   "metadata": {},
   "outputs": [
    {
     "name": "stdout",
     "output_type": "stream",
     "text": [
      "5824\n"
     ]
    }
   ],
   "source": [
    "# 단어 수\n",
    "print(len(id2word))"
   ]
  },
  {
   "cell_type": "code",
   "execution_count": 20,
   "id": "3b7f039f-4246-43f8-99e8-3a8cfd0277a3",
   "metadata": {},
   "outputs": [],
   "source": [
    "def compute_coherence_values(dictionary, corpus, texts, limit, start=2, step=3):\n",
    "    \"\"\"\n",
    "    Compute c_v coherence for various number of topics\n",
    "\n",
    "    Parameters:\n",
    "    ----------\n",
    "    dictionary : Gensim dictionary\n",
    "    corpus : Gensim corpus\n",
    "    texts : List of input texts\n",
    "    limit : Max num of topics\n",
    "\n",
    "    Returns:\n",
    "    -------\n",
    "    model_list : List of LDA topic models\n",
    "    coherence_values : Coherence values corresponding to the LDA model with respective number of topics\n",
    "    \"\"\"\n",
    "    coherence_values = []\n",
    "    model_list = []\n",
    "    for num_topics in range(start, limit, step):\n",
    "        print(num_topics, end=' ')\n",
    "        model = gensim.models.ldamodel.LdaModel(corpus=corpus,\n",
    "                                              id2word=id2word,\n",
    "                                              num_topics=num_topics, \n",
    "                                              random_state=100,\n",
    "                                              update_every=1,\n",
    "                                              chunksize=100,\n",
    "                                              passes=10,\n",
    "                                              alpha='auto',\n",
    "                                              per_word_topics=True)\n",
    "        model_list.append(model)\n",
    "        coherencemodel = CoherenceModel(model=model, texts=texts, dictionary=dictionary, coherence='c_v')\n",
    "        coherence_values.append(coherencemodel.get_coherence())\n",
    "    return model_list, coherence_values"
   ]
  },
  {
   "cell_type": "code",
   "execution_count": 22,
   "id": "616920a6-ca0a-458b-b077-972b155ef8ca",
   "metadata": {},
   "outputs": [
    {
     "name": "stdout",
     "output_type": "stream",
     "text": [
      "3 4 5 6 7 8 9 10 11 12 13 14 "
     ]
    }
   ],
   "source": [
    "model_list, coherence_values = compute_coherence_values(dictionary=id2word, corpus=corpus, texts=texts, start=3, limit=15, step=1)"
   ]
  },
  {
   "cell_type": "code",
   "execution_count": 23,
   "id": "6def1d56-fc36-43ab-ad0f-8fa2ac6420b0",
   "metadata": {},
   "outputs": [
    {
     "data": {
      "image/png": "[encoded data removed]",
      "text/plain": [
       "<Figure size 432x288 with 1 Axes>"
      ]
     },
     "metadata": {
      "needs_background": "light"
     },
     "output_type": "display_data"
    }
   ],
   "source": [
    "# Show graph\n",
    "limit=15; start=3; step=1;\n",
    "x = range(start, limit, step)\n",
    "plt.plot(x, coherence_values)\n",
    "plt.xlabel(\"Num Topics\")\n",
    "plt.ylabel(\"Coherence score\")\n",
    "plt.legend((\"coherence_values\"), loc='best')\n",
    "plt.show()"
   ]
  },
  {
   "cell_type": "code",
   "execution_count": 24,
   "id": "4161534b-ecb0-4e97-90ec-45ced55549c9",
   "metadata": {},
   "outputs": [
    {
     "name": "stdout",
     "output_type": "stream",
     "text": [
      "Num Topics = 3  has Coherence Value of 0.4976\n",
      "Num Topics = 4  has Coherence Value of 0.5166\n",
      "Num Topics = 5  has Coherence Value of 0.5324\n",
      "Num Topics = 6  has Coherence Value of 0.5497\n",
      "Num Topics = 7  has Coherence Value of 0.5742\n",
      "Num Topics = 8  has Coherence Value of 0.5327\n",
      "Num Topics = 9  has Coherence Value of 0.5535\n",
      "Num Topics = 10  has Coherence Value of 0.5231\n",
      "Num Topics = 11  has Coherence Value of 0.5413\n",
      "Num Topics = 12  has Coherence Value of 0.5333\n",
      "Num Topics = 13  has Coherence Value of 0.5118\n",
      "Num Topics = 14  has Coherence Value of 0.5053\n"
     ]
    }
   ],
   "source": [
    "# Print the coherence scores\n",
    "for m, cv in zip(x, coherence_values):\n",
    "    print(\"Num Topics =\", m, \" has Coherence Value of\", round(cv, 4))"
   ]
  },
  {
   "cell_type": "code",
   "execution_count": 25,
   "id": "1fff7003-f3ec-4b59-9a6a-aa472c475b7e",
   "metadata": {},
   "outputs": [
    {
     "name": "stdout",
     "output_type": "stream",
     "text": [
      "[(0,\n",
      "  '0.024*\"판타지\" + 0.024*\"소녀\" + 0.021*\"세계\" + 0.015*\"소년\" + 0.014*\"요괴\" + '\n",
      "  '0.011*\"마법\" + 0.010*\"저주\" + 0.010*\"뱀파이어\" + 0.010*\"찾기\" + 0.009*\"세상\"'),\n",
      " (1,\n",
      "  '0.012*\"소년\" + 0.010*\"선택\" + 0.010*\"대륙\" + 0.010*\"드래곤\" + 0.008*\"과거\" + '\n",
      "  '0.007*\"남자\" + 0.007*\"방울\" + 0.007*\"지젤\" + 0.007*\"아렌\" + 0.007*\"전투\"'),\n",
      " (2,\n",
      "  '0.045*\"작가\" + 0.018*\"인간\" + 0.012*\"세상\" + 0.012*\"마왕\" + 0.012*\"악마\" + 0.012*\"좀비\" '\n",
      "  '+ 0.010*\"판타지\" + 0.009*\"미래\" + 0.009*\"명작\" + 0.007*\"로봇\"'),\n",
      " (3,\n",
      "  '0.019*\"게임\" + 0.019*\"운명\" + 0.014*\"웹툰\" + 0.011*\"지상\" + 0.011*\"세계\" + 0.010*\"현실\" '\n",
      "  '+ 0.010*\"돌이\" + 0.009*\"여정\" + 0.009*\"능력\" + 0.008*\"사건\"'),\n",
      " (4,\n",
      "  '0.050*\"만화\" + 0.015*\"최강\" + 0.015*\"영웅\" + 0.013*\"리메이크\" + 0.013*\"수상작\" + '\n",
      "  '0.012*\"자전\" + 0.011*\"스카우트\" + 0.011*\"대학\" + 0.011*\"액션\" + 0.010*\"지구\"'),\n",
      " (5,\n",
      "  '0.012*\"마법사\" + 0.011*\"동생\" + 0.011*\"정체\" + 0.010*\"사이\" + 0.010*\"불명\" + '\n",
      "  '0.009*\"소녀\" + 0.009*\"단편\" + 0.009*\"신작\" + 0.009*\"가게\" + 0.009*\"여행\"'),\n",
      " (6,\n",
      "  '0.014*\"우주\" + 0.012*\"전쟁\" + 0.011*\"인생\" + 0.011*\"게임\" + 0.010*\"작품\" + '\n",
      "  '0.008*\"호랑이\" + 0.008*\"인물\" + 0.008*\"마일로\" + 0.008*\"천지\" + 0.007*\"마을\"')]\n"
     ]
    }
   ],
   "source": [
    "from pprint import pprint\n",
    "\n",
    "# Select the model and print the topics\n",
    "optimal_model = model_list[4]\n",
    "model_topics = optimal_model.show_topics(formatted=False)\n",
    "pprint(optimal_model.print_topics(num_words=10))"
   ]
  },
  {
   "cell_type": "markdown",
   "id": "87c3f42a-bee1-41cf-a696-21ec84de0d9a",
   "metadata": {},
   "source": [
    "λ =1 일수록 토픽 별로 가장 자주 등장하는 단어들을 우선적으로 키워드로 선택한다는 의미 이고\n",
    "\n",
    "λ = 0 일수록 토픽 간에 차이가 많이 나는 단어를 선택한다는 의미(해당 토픽에서 많이 등장한 단어)입니다."
   ]
  },
  {
   "cell_type": "code",
   "execution_count": null,
   "id": "f44e9c0c-a335-4279-87c4-1958d927fe23",
   "metadata": {},
   "outputs": [],
   "source": [
    "pyLDAvis.enable_notebook()\n",
    "vis = pyLDAvis.gensim_models.prepare(optimal_model, corpus, id2word)\n",
    "vis"
   ]
  },
  {
   "cell_type": "code",
   "execution_count": 27,
   "id": "85c83c52-c9bb-40e3-9657-5fb29870f011",
   "metadata": {},
   "outputs": [],
   "source": [
    "def make_topictable_per_doc(ldamodel, corpus):\n",
    "    topic_table = pd.DataFrame()\n",
    "\n",
    "    # 몇 번째 문서인지를 의미하는 문서 번호와 해당 문서의 토픽 비중을 한 줄씩 꺼내온다.\n",
    "    for i, topic_list in enumerate(ldamodel[corpus]):\n",
    "        doc = topic_list[0] if ldamodel.per_word_topics else topic_list            \n",
    "        doc = sorted(doc, key=lambda x: (x[1]), reverse=True)\n",
    "        # 각 문서에 대해서 비중이 높은 토픽순으로 토픽을 정렬한다.\n",
    "        # EX) 정렬 전 0번 문서 : (2번 토픽, 48.5%), (8번 토픽, 25%), (10번 토픽, 5%), (12번 토픽, 21.5%), \n",
    "        # Ex) 정렬 후 0번 문서 : (2번 토픽, 48.5%), (8번 토픽, 25%), (12번 토픽, 21.5%), (10번 토픽, 5%)\n",
    "        # 48 > 25 > 21 > 5 순으로 정렬이 된 것.\n",
    "\n",
    "        # 모든 문서에 대해서 각각 아래를 수행\n",
    "        for j, (topic_num, prop_topic) in enumerate(doc): #  몇 번 토픽인지와 비중을 나눠서 저장한다.\n",
    "            if j == 0:  # 정렬을 한 상태이므로 가장 앞에 있는 것이 가장 비중이 높은 토픽\n",
    "                topic_table = topic_table.append(pd.Series([int(topic_num), round(prop_topic,4), topic_list]), ignore_index=True)\n",
    "                # 가장 비중이 높은 토픽과, 가장 비중이 높은 토픽의 비중과, 전체 토픽의 비중을 저장한다.\n",
    "            else:\n",
    "                break\n",
    "    return(topic_table)"
   ]
  },
  {
   "cell_type": "code",
   "execution_count": 28,
   "id": "be41bd21-f299-4ed8-8a06-78c5274316bf",
   "metadata": {},
   "outputs": [
    {
     "data": {
      "text/html": [
       "<div>\n",
       "<style scoped>\n",
       "    .dataframe tbody tr th:only-of-type {\n",
       "        vertical-align: middle;\n",
       "    }\n",
       "\n",
       "    .dataframe tbody tr th {\n",
       "        vertical-align: top;\n",
       "    }\n",
       "\n",
       "    .dataframe thead th {\n",
       "        text-align: right;\n",
       "    }\n",
       "</style>\n",
       "<table border=\"1\" class=\"dataframe\">\n",
       "  <thead>\n",
       "    <tr style=\"text-align: right;\">\n",
       "      <th></th>\n",
       "      <th>문서 번호</th>\n",
       "      <th>가장 비중이 높은 토픽</th>\n",
       "      <th>가장 높은 토픽의 비중</th>\n",
       "      <th>각 토픽의 비중</th>\n",
       "    </tr>\n",
       "  </thead>\n",
       "  <tbody>\n",
       "    <tr>\n",
       "      <th>0</th>\n",
       "      <td>0</td>\n",
       "      <td>0.0</td>\n",
       "      <td>0.5110</td>\n",
       "      <td>([(0, 0.5109929), (1, 0.012736322), (2, 0.0189...</td>\n",
       "    </tr>\n",
       "    <tr>\n",
       "      <th>1</th>\n",
       "      <td>1</td>\n",
       "      <td>0.0</td>\n",
       "      <td>0.9566</td>\n",
       "      <td>([(0, 0.95659584)], [(4, [0]), (5, [0]), (6, [...</td>\n",
       "    </tr>\n",
       "    <tr>\n",
       "      <th>2</th>\n",
       "      <td>2</td>\n",
       "      <td>3.0</td>\n",
       "      <td>0.9690</td>\n",
       "      <td>([(3, 0.9689689)], [(0, [3]), (15, [3]), (16, ...</td>\n",
       "    </tr>\n",
       "    <tr>\n",
       "      <th>3</th>\n",
       "      <td>3</td>\n",
       "      <td>5.0</td>\n",
       "      <td>0.9740</td>\n",
       "      <td>([(5, 0.97399193)], [(29, [5]), (30, [5]), (31...</td>\n",
       "    </tr>\n",
       "    <tr>\n",
       "      <th>4</th>\n",
       "      <td>4</td>\n",
       "      <td>4.0</td>\n",
       "      <td>0.9655</td>\n",
       "      <td>([(4, 0.9654779)], [(30, [4]), (45, [4]), (46,...</td>\n",
       "    </tr>\n",
       "    <tr>\n",
       "      <th>5</th>\n",
       "      <td>5</td>\n",
       "      <td>2.0</td>\n",
       "      <td>0.9686</td>\n",
       "      <td>([(2, 0.96856546)], [(21, [2]), (23, [2]), (54...</td>\n",
       "    </tr>\n",
       "    <tr>\n",
       "      <th>6</th>\n",
       "      <td>6</td>\n",
       "      <td>5.0</td>\n",
       "      <td>0.9740</td>\n",
       "      <td>([(5, 0.97399336)], [(0, [5]), (1, [5]), (65, ...</td>\n",
       "    </tr>\n",
       "    <tr>\n",
       "      <th>7</th>\n",
       "      <td>7</td>\n",
       "      <td>4.0</td>\n",
       "      <td>0.9777</td>\n",
       "      <td>([(4, 0.97769916)], [(2, [4]), (31, [4]), (70,...</td>\n",
       "    </tr>\n",
       "    <tr>\n",
       "      <th>8</th>\n",
       "      <td>8</td>\n",
       "      <td>1.0</td>\n",
       "      <td>0.9757</td>\n",
       "      <td>([(1, 0.9756966)], [(0, [1]), (2, [1]), (8, [1...</td>\n",
       "    </tr>\n",
       "    <tr>\n",
       "      <th>9</th>\n",
       "      <td>9</td>\n",
       "      <td>6.0</td>\n",
       "      <td>0.9837</td>\n",
       "      <td>([(6, 0.983738)], [(108, [6]), (109, [6]), (11...</td>\n",
       "    </tr>\n",
       "  </tbody>\n",
       "</table>\n",
       "</div>"
      ],
      "text/plain": [
       "   문서 번호  가장 비중이 높은 토픽  가장 높은 토픽의 비중  \\\n",
       "0      0           0.0        0.5110   \n",
       "1      1           0.0        0.9566   \n",
       "2      2           3.0        0.9690   \n",
       "3      3           5.0        0.9740   \n",
       "4      4           4.0        0.9655   \n",
       "5      5           2.0        0.9686   \n",
       "6      6           5.0        0.9740   \n",
       "7      7           4.0        0.9777   \n",
       "8      8           1.0        0.9757   \n",
       "9      9           6.0        0.9837   \n",
       "\n",
       "                                            각 토픽의 비중  \n",
       "0  ([(0, 0.5109929), (1, 0.012736322), (2, 0.0189...  \n",
       "1  ([(0, 0.95659584)], [(4, [0]), (5, [0]), (6, [...  \n",
       "2  ([(3, 0.9689689)], [(0, [3]), (15, [3]), (16, ...  \n",
       "3  ([(5, 0.97399193)], [(29, [5]), (30, [5]), (31...  \n",
       "4  ([(4, 0.9654779)], [(30, [4]), (45, [4]), (46,...  \n",
       "5  ([(2, 0.96856546)], [(21, [2]), (23, [2]), (54...  \n",
       "6  ([(5, 0.97399336)], [(0, [5]), (1, [5]), (65, ...  \n",
       "7  ([(4, 0.97769916)], [(2, [4]), (31, [4]), (70,...  \n",
       "8  ([(1, 0.9756966)], [(0, [1]), (2, [1]), (8, [1...  \n",
       "9  ([(6, 0.983738)], [(108, [6]), (109, [6]), (11...  "
      ]
     },
     "execution_count": 28,
     "metadata": {},
     "output_type": "execute_result"
    }
   ],
   "source": [
    "topictable = make_topictable_per_doc(optimal_model, corpus)\n",
    "topictable = topictable.reset_index() # 문서 번호을 의미하는 열(column)로 사용하기 위해서 인덱스 열을 하나 더 만든다.\n",
    "topictable.columns = ['문서 번호', '가장 비중이 높은 토픽', '가장 높은 토픽의 비중', '각 토픽의 비중']\n",
    "topictable[:10]"
   ]
  },
  {
   "cell_type": "code",
   "execution_count": 29,
   "id": "97b86595-9294-4ee8-86fb-54360f5012af",
   "metadata": {},
   "outputs": [
    {
     "data": {
      "text/html": [
       "<div>\n",
       "<style scoped>\n",
       "    .dataframe tbody tr th:only-of-type {\n",
       "        vertical-align: middle;\n",
       "    }\n",
       "\n",
       "    .dataframe tbody tr th {\n",
       "        vertical-align: top;\n",
       "    }\n",
       "\n",
       "    .dataframe thead th {\n",
       "        text-align: right;\n",
       "    }\n",
       "</style>\n",
       "<table border=\"1\" class=\"dataframe\">\n",
       "  <thead>\n",
       "    <tr style=\"text-align: right;\">\n",
       "      <th></th>\n",
       "      <th>title</th>\n",
       "      <th>genre</th>\n",
       "      <th>story</th>\n",
       "      <th>platform</th>\n",
       "      <th>가장 비중이 높은 토픽</th>\n",
       "      <th>가장 높은 토픽의 비중</th>\n",
       "      <th>각 토픽의 비중</th>\n",
       "    </tr>\n",
       "  </thead>\n",
       "  <tbody>\n",
       "    <tr>\n",
       "      <th>0</th>\n",
       "      <td>신의 탑</td>\n",
       "      <td>판타지</td>\n",
       "      <td>자신의 모든 것이었던 소녀를 쫓아 탑에 들어온 소년 그리고 그런 소년을 시험하는 탑</td>\n",
       "      <td>네이버 웹툰</td>\n",
       "      <td>0.0</td>\n",
       "      <td>0.5110</td>\n",
       "      <td>([(0, 0.5109929), (1, 0.012736322), (2, 0.0189...</td>\n",
       "    </tr>\n",
       "    <tr>\n",
       "      <th>1</th>\n",
       "      <td>앵무살수</td>\n",
       "      <td>판타지</td>\n",
       "      <td>평범한 뱃사공으로 살고 있는 노소하  하지만 그의 정체는 전설적인 구파검법의 후계자...</td>\n",
       "      <td>네이버 웹툰</td>\n",
       "      <td>0.0</td>\n",
       "      <td>0.9566</td>\n",
       "      <td>([(0, 0.95659584)], [(4, [0]), (5, [0]), (6, [...</td>\n",
       "    </tr>\n",
       "    <tr>\n",
       "      <th>2</th>\n",
       "      <td>만렙돌파</td>\n",
       "      <td>판타지</td>\n",
       "      <td>알 수 없는 오류로     년간 각성 테스트에 갇힌 김기봉  그 사이 현실에선   ...</td>\n",
       "      <td>네이버 웹툰</td>\n",
       "      <td>3.0</td>\n",
       "      <td>0.9690</td>\n",
       "      <td>([(3, 0.9689689)], [(0, [3]), (15, [3]), (16, ...</td>\n",
       "    </tr>\n",
       "  </tbody>\n",
       "</table>\n",
       "</div>"
      ],
      "text/plain": [
       "  title genre                                              story platform  \\\n",
       "0  신의 탑   판타지     자신의 모든 것이었던 소녀를 쫓아 탑에 들어온 소년 그리고 그런 소년을 시험하는 탑   네이버 웹툰   \n",
       "1  앵무살수   판타지  평범한 뱃사공으로 살고 있는 노소하  하지만 그의 정체는 전설적인 구파검법의 후계자...   네이버 웹툰   \n",
       "2  만렙돌파   판타지  알 수 없는 오류로     년간 각성 테스트에 갇힌 김기봉  그 사이 현실에선   ...   네이버 웹툰   \n",
       "\n",
       "   가장 비중이 높은 토픽  가장 높은 토픽의 비중  \\\n",
       "0           0.0        0.5110   \n",
       "1           0.0        0.9566   \n",
       "2           3.0        0.9690   \n",
       "\n",
       "                                            각 토픽의 비중  \n",
       "0  ([(0, 0.5109929), (1, 0.012736322), (2, 0.0189...  \n",
       "1  ([(0, 0.95659584)], [(4, [0]), (5, [0]), (6, [...  \n",
       "2  ([(3, 0.9689689)], [(0, [3]), (15, [3]), (16, ...  "
      ]
     },
     "execution_count": 29,
     "metadata": {},
     "output_type": "execute_result"
    }
   ],
   "source": [
    "wb_label = pd.merge(wb_copy.reset_index(drop=True), topictable, left_index=True, right_index=True, how='left').drop(columns=['문서 번호'])\n",
    "wb_label.head(3)"
   ]
  },
  {
   "cell_type": "code",
   "execution_count": 30,
   "id": "8ab90f7f-442f-4bae-9922-2185258540a5",
   "metadata": {},
   "outputs": [],
   "source": [
    "wb_label.to_csv('data/wbt_lda_fantasy.csv', encoding='cp949')"
   ]
  },
  {
   "cell_type": "code",
   "execution_count": null,
   "id": "d33e3cbd-b0d2-4df9-a8d1-970544a406e1",
   "metadata": {},
   "outputs": [],
   "source": []
  }
 ],
 "metadata": {
  "kernelspec": {
   "display_name": "Python Multi",
   "language": "python",
   "name": "multi"
  },
  "language_info": {
   "codemirror_mode": {
    "name": "ipython",
    "version": 3
   },
   "file_extension": ".py",
   "mimetype": "text/x-python",
   "name": "python",
   "nbconvert_exporter": "python",
   "pygments_lexer": "ipython3",
   "version": "3.7.6"
  }
 },
 "nbformat": 4,
 "nbformat_minor": 5
}
