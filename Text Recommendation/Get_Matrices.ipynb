{
 "cells": [
  {
   "cell_type": "markdown",
   "metadata": {
    "id": "TapJcGqbU690"
   },
   "source": [
    "# 형태소 분석 후 토큰화"
   ]
  },
  {
   "cell_type": "markdown",
   "metadata": {
    "id": "naBaUvmNUzmD"
   },
   "source": [
    "## 데이터 불러오기"
   ]
  },
  {
   "cell_type": "code",
   "execution_count": 1,
   "metadata": {
    "id": "u2xmKgxK-ghU"
   },
   "outputs": [],
   "source": [
    "import pandas as pd\n",
    "import os\n",
    "\n",
    "path = '../Web Service/data/'\n",
    "web = pd.read_csv(os.path.join(path, 'all.csv'), encoding='cp949')"
   ]
  },
  {
   "cell_type": "code",
   "execution_count": 4,
   "metadata": {
    "colab": {
     "base_uri": "https://localhost:8080/"
    },
    "executionInfo": {
     "elapsed": 32,
     "status": "ok",
     "timestamp": 1633330712259,
     "user": {
      "displayName": "이우재",
      "photoUrl": "https://lh3.googleusercontent.com/a/default-user=s64",
      "userId": "15709195273175322901"
     },
     "user_tz": -540
    },
    "id": "lwmlaat3FaW6",
    "outputId": "0ca0ce17-bf17-44d5-ea52-08b9f1dc0053"
   },
   "outputs": [
    {
     "name": "stdout",
     "output_type": "stream",
     "text": [
      "<class 'pandas.core.frame.DataFrame'>\n",
      "Int64Index: 3614 entries, 0 to 3762\n",
      "Data columns (total 8 columns):\n",
      " #   Column       Non-Null Count  Dtype \n",
      "---  ------       --------------  ----- \n",
      " 0   title        3614 non-null   object\n",
      " 1   writer       3614 non-null   object\n",
      " 2   illustrator  3613 non-null   object\n",
      " 3   genre        3614 non-null   object\n",
      " 4   story        3614 non-null   object\n",
      " 5   platform     3614 non-null   object\n",
      " 6   thumb        3609 non-null   object\n",
      " 7   url          3609 non-null   object\n",
      "dtypes: object(8)\n",
      "memory usage: 254.1+ KB\n"
     ]
    }
   ],
   "source": [
    "web.info()"
   ]
  },
  {
   "cell_type": "code",
   "execution_count": 4,
   "metadata": {
    "colab": {
     "base_uri": "https://localhost:8080/",
     "height": 927
    },
    "executionInfo": {
     "elapsed": 495,
     "status": "ok",
     "timestamp": 1633330712732,
     "user": {
      "displayName": "이우재",
      "photoUrl": "https://lh3.googleusercontent.com/a/default-user=s64",
      "userId": "15709195273175322901"
     },
     "user_tz": -540
    },
    "id": "FTsq_TO-_WRS",
    "outputId": "5a8d5f89-4dbc-4895-ae35-597a0b56201d"
   },
   "outputs": [
    {
     "data": {
      "text/html": [
       "<div>\n",
       "<style scoped>\n",
       "    .dataframe tbody tr th:only-of-type {\n",
       "        vertical-align: middle;\n",
       "    }\n",
       "\n",
       "    .dataframe tbody tr th {\n",
       "        vertical-align: top;\n",
       "    }\n",
       "\n",
       "    .dataframe thead th {\n",
       "        text-align: right;\n",
       "    }\n",
       "</style>\n",
       "<table border=\"1\" class=\"dataframe\">\n",
       "  <thead>\n",
       "    <tr style=\"text-align: right;\">\n",
       "      <th></th>\n",
       "      <th>title</th>\n",
       "      <th>writer</th>\n",
       "      <th>illustrator</th>\n",
       "      <th>genre</th>\n",
       "      <th>story</th>\n",
       "      <th>platform</th>\n",
       "      <th>thumb</th>\n",
       "      <th>url</th>\n",
       "    </tr>\n",
       "  </thead>\n",
       "  <tbody>\n",
       "    <tr>\n",
       "      <th>0</th>\n",
       "      <td>나라 구한 전생</td>\n",
       "      <td>양키풀</td>\n",
       "      <td>양키풀</td>\n",
       "      <td>드라마</td>\n",
       "      <td>아버지의 빚 문제로 폐공장에 납치되어 있던 한자인은 재수 좋은 남자 천운조의 등장으...</td>\n",
       "      <td>네이버 웹툰</td>\n",
       "      <td>https://shared-comic.pstatic.net/thumb/webtoon...</td>\n",
       "      <td>https://comic.naver.com/webtoon/list?titleId=7...</td>\n",
       "    </tr>\n",
       "    <tr>\n",
       "      <th>1</th>\n",
       "      <td>모죠의 일지</td>\n",
       "      <td>모죠</td>\n",
       "      <td>모죠</td>\n",
       "      <td>개그</td>\n",
       "      <td>소신있는 취향과 내성적인 성향.훌륭한 집순이 모죠의 은밀한 비밀들</td>\n",
       "      <td>네이버 웹툰</td>\n",
       "      <td>https://shared-comic.pstatic.net/thumb/webtoon...</td>\n",
       "      <td>https://comic.naver.com/webtoon/list?titleId=7...</td>\n",
       "    </tr>\n",
       "    <tr>\n",
       "      <th>2</th>\n",
       "      <td>밤하늘에 구름운</td>\n",
       "      <td>견지</td>\n",
       "      <td>그리온</td>\n",
       "      <td>로맨스</td>\n",
       "      <td>망겜 &lt;검풍 온라인&gt;의 NPC 초낙운, 서윤의 평범했던 일상에 등장!?NPC와의 좌...</td>\n",
       "      <td>네이버 웹툰</td>\n",
       "      <td>https://shared-comic.pstatic.net/thumb/webtoon...</td>\n",
       "      <td>https://comic.naver.com/webtoon/list?titleId=7...</td>\n",
       "    </tr>\n",
       "  </tbody>\n",
       "</table>\n",
       "</div>"
      ],
      "text/plain": [
       "      title writer illustrator genre  \\\n",
       "0  나라 구한 전생    양키풀         양키풀   드라마   \n",
       "1    모죠의 일지     모죠          모죠    개그   \n",
       "2  밤하늘에 구름운     견지         그리온   로맨스   \n",
       "\n",
       "                                               story platform  \\\n",
       "0  아버지의 빚 문제로 폐공장에 납치되어 있던 한자인은 재수 좋은 남자 천운조의 등장으...   네이버 웹툰   \n",
       "1               소신있는 취향과 내성적인 성향.훌륭한 집순이 모죠의 은밀한 비밀들   네이버 웹툰   \n",
       "2  망겜 <검풍 온라인>의 NPC 초낙운, 서윤의 평범했던 일상에 등장!?NPC와의 좌...   네이버 웹툰   \n",
       "\n",
       "                                               thumb  \\\n",
       "0  https://shared-comic.pstatic.net/thumb/webtoon...   \n",
       "1  https://shared-comic.pstatic.net/thumb/webtoon...   \n",
       "2  https://shared-comic.pstatic.net/thumb/webtoon...   \n",
       "\n",
       "                                                 url  \n",
       "0  https://comic.naver.com/webtoon/list?titleId=7...  \n",
       "1  https://comic.naver.com/webtoon/list?titleId=7...  \n",
       "2  https://comic.naver.com/webtoon/list?titleId=7...  "
      ]
     },
     "execution_count": 4,
     "metadata": {},
     "output_type": "execute_result"
    }
   ],
   "source": [
    "web.head(3)"
   ]
  },
  {
   "cell_type": "code",
   "execution_count": 5,
   "metadata": {
    "id": "h2f4uNsIDcwU"
   },
   "outputs": [],
   "source": [
    "# 컬럼 정리\n",
    "web=web[['title','writer','illustrator','genre','story','platform']]"
   ]
  },
  {
   "cell_type": "code",
   "execution_count": 6,
   "metadata": {
    "colab": {
     "base_uri": "https://localhost:8080/",
     "height": 193
    },
    "executionInfo": {
     "elapsed": 26,
     "status": "ok",
     "timestamp": 1633330718747,
     "user": {
      "displayName": "이우재",
      "photoUrl": "https://lh3.googleusercontent.com/a/default-user=s64",
      "userId": "15709195273175322901"
     },
     "user_tz": -540
    },
    "id": "1d1q508ND9el",
    "outputId": "9e230875-be33-45f3-c7bc-782ff122dc05"
   },
   "outputs": [
    {
     "data": {
      "text/html": [
       "<div>\n",
       "<style scoped>\n",
       "    .dataframe tbody tr th:only-of-type {\n",
       "        vertical-align: middle;\n",
       "    }\n",
       "\n",
       "    .dataframe tbody tr th {\n",
       "        vertical-align: top;\n",
       "    }\n",
       "\n",
       "    .dataframe thead th {\n",
       "        text-align: right;\n",
       "    }\n",
       "</style>\n",
       "<table border=\"1\" class=\"dataframe\">\n",
       "  <thead>\n",
       "    <tr style=\"text-align: right;\">\n",
       "      <th></th>\n",
       "      <th>title</th>\n",
       "      <th>writer</th>\n",
       "      <th>illustrator</th>\n",
       "      <th>genre</th>\n",
       "      <th>story</th>\n",
       "      <th>platform</th>\n",
       "    </tr>\n",
       "  </thead>\n",
       "  <tbody>\n",
       "    <tr>\n",
       "      <th>0</th>\n",
       "      <td>나라 구한 전생</td>\n",
       "      <td>양키풀</td>\n",
       "      <td>양키풀</td>\n",
       "      <td>드라마</td>\n",
       "      <td>아버지의 빚 문제로 폐공장에 납치되어 있던 한자인은 재수 좋은 남자 천운조의 등장으...</td>\n",
       "      <td>네이버 웹툰</td>\n",
       "    </tr>\n",
       "    <tr>\n",
       "      <th>1</th>\n",
       "      <td>모죠의 일지</td>\n",
       "      <td>모죠</td>\n",
       "      <td>모죠</td>\n",
       "      <td>개그</td>\n",
       "      <td>소신있는 취향과 내성적인 성향.훌륭한 집순이 모죠의 은밀한 비밀들</td>\n",
       "      <td>네이버 웹툰</td>\n",
       "    </tr>\n",
       "    <tr>\n",
       "      <th>2</th>\n",
       "      <td>밤하늘에 구름운</td>\n",
       "      <td>견지</td>\n",
       "      <td>그리온</td>\n",
       "      <td>로맨스</td>\n",
       "      <td>망겜 &lt;검풍 온라인&gt;의 NPC 초낙운, 서윤의 평범했던 일상에 등장!?NPC와의 좌...</td>\n",
       "      <td>네이버 웹툰</td>\n",
       "    </tr>\n",
       "  </tbody>\n",
       "</table>\n",
       "</div>"
      ],
      "text/plain": [
       "      title writer illustrator genre  \\\n",
       "0  나라 구한 전생    양키풀         양키풀   드라마   \n",
       "1    모죠의 일지     모죠          모죠    개그   \n",
       "2  밤하늘에 구름운     견지         그리온   로맨스   \n",
       "\n",
       "                                               story platform  \n",
       "0  아버지의 빚 문제로 폐공장에 납치되어 있던 한자인은 재수 좋은 남자 천운조의 등장으...   네이버 웹툰  \n",
       "1               소신있는 취향과 내성적인 성향.훌륭한 집순이 모죠의 은밀한 비밀들   네이버 웹툰  \n",
       "2  망겜 <검풍 온라인>의 NPC 초낙운, 서윤의 평범했던 일상에 등장!?NPC와의 좌...   네이버 웹툰  "
      ]
     },
     "execution_count": 6,
     "metadata": {},
     "output_type": "execute_result"
    }
   ],
   "source": [
    "web.head(3)"
   ]
  },
  {
   "cell_type": "markdown",
   "metadata": {
    "id": "HXOqY2Rl_xay"
   },
   "source": [
    "## 전처리"
   ]
  },
  {
   "cell_type": "code",
   "execution_count": 7,
   "metadata": {
    "id": "C1oTZKKCD_Go"
   },
   "outputs": [],
   "source": [
    "import re\n",
    "\n",
    "def hangul(text):\n",
    "    return re.sub('[^ㄱ-ㅎ|ㅏ-ㅣ|가-힣]', ' ', text)"
   ]
  },
  {
   "cell_type": "code",
   "execution_count": 8,
   "metadata": {
    "colab": {
     "base_uri": "https://localhost:8080/",
     "height": 193
    },
    "executionInfo": {
     "elapsed": 301,
     "status": "ok",
     "timestamp": 1633330723172,
     "user": {
      "displayName": "이우재",
      "photoUrl": "https://lh3.googleusercontent.com/a/default-user=s64",
      "userId": "15709195273175322901"
     },
     "user_tz": -540
    },
    "id": "S7snTgbGELQM",
    "outputId": "2a9dbd15-08f5-4193-9a4e-6ca4e23e890c"
   },
   "outputs": [
    {
     "data": {
      "text/html": [
       "<div>\n",
       "<style scoped>\n",
       "    .dataframe tbody tr th:only-of-type {\n",
       "        vertical-align: middle;\n",
       "    }\n",
       "\n",
       "    .dataframe tbody tr th {\n",
       "        vertical-align: top;\n",
       "    }\n",
       "\n",
       "    .dataframe thead th {\n",
       "        text-align: right;\n",
       "    }\n",
       "</style>\n",
       "<table border=\"1\" class=\"dataframe\">\n",
       "  <thead>\n",
       "    <tr style=\"text-align: right;\">\n",
       "      <th></th>\n",
       "      <th>title</th>\n",
       "      <th>writer</th>\n",
       "      <th>illustrator</th>\n",
       "      <th>genre</th>\n",
       "      <th>story</th>\n",
       "      <th>platform</th>\n",
       "    </tr>\n",
       "  </thead>\n",
       "  <tbody>\n",
       "    <tr>\n",
       "      <th>0</th>\n",
       "      <td>나라 구한 전생</td>\n",
       "      <td>양키풀</td>\n",
       "      <td>양키풀</td>\n",
       "      <td>드라마</td>\n",
       "      <td>아버지의 빚 문제로 폐공장에 납치되어 있던 한자인은 재수 좋은 남자 천운조의 등장으...</td>\n",
       "      <td>네이버 웹툰</td>\n",
       "    </tr>\n",
       "    <tr>\n",
       "      <th>1</th>\n",
       "      <td>모죠의 일지</td>\n",
       "      <td>모죠</td>\n",
       "      <td>모죠</td>\n",
       "      <td>개그</td>\n",
       "      <td>소신있는 취향과 내성적인 성향 훌륭한 집순이 모죠의 은밀한 비밀들</td>\n",
       "      <td>네이버 웹툰</td>\n",
       "    </tr>\n",
       "    <tr>\n",
       "      <th>2</th>\n",
       "      <td>밤하늘에 구름운</td>\n",
       "      <td>견지</td>\n",
       "      <td>그리온</td>\n",
       "      <td>로맨스</td>\n",
       "      <td>망겜  검풍 온라인 의     초낙운  서윤의 평범했던 일상에 등장     와의 좌...</td>\n",
       "      <td>네이버 웹툰</td>\n",
       "    </tr>\n",
       "  </tbody>\n",
       "</table>\n",
       "</div>"
      ],
      "text/plain": [
       "      title writer illustrator genre  \\\n",
       "0  나라 구한 전생    양키풀         양키풀   드라마   \n",
       "1    모죠의 일지     모죠          모죠    개그   \n",
       "2  밤하늘에 구름운     견지         그리온   로맨스   \n",
       "\n",
       "                                               story platform  \n",
       "0  아버지의 빚 문제로 폐공장에 납치되어 있던 한자인은 재수 좋은 남자 천운조의 등장으...   네이버 웹툰  \n",
       "1               소신있는 취향과 내성적인 성향 훌륭한 집순이 모죠의 은밀한 비밀들   네이버 웹툰  \n",
       "2  망겜  검풍 온라인 의     초낙운  서윤의 평범했던 일상에 등장     와의 좌...   네이버 웹툰  "
      ]
     },
     "execution_count": 8,
     "metadata": {},
     "output_type": "execute_result"
    }
   ],
   "source": [
    "web_copy = web.copy()\n",
    "# web_copy['title'] = web_copy['title'].apply(lambda x:hangul(x))\n",
    "web_copy['genre'] = web_copy['genre'].apply(lambda x:hangul(x))\n",
    "web_copy['story'] = web_copy['story'].apply(lambda x:hangul(x))\n",
    "\n",
    "web_copy.head(3)"
   ]
  },
  {
   "cell_type": "code",
   "execution_count": 9,
   "metadata": {
    "colab": {
     "base_uri": "https://localhost:8080/"
    },
    "executionInfo": {
     "elapsed": 376,
     "status": "ok",
     "timestamp": 1633330725601,
     "user": {
      "displayName": "이우재",
      "photoUrl": "https://lh3.googleusercontent.com/a/default-user=s64",
      "userId": "15709195273175322901"
     },
     "user_tz": -540
    },
    "id": "jSmoiMwRElBC",
    "outputId": "ed445158-2c2e-4058-ad0e-76605856e97d"
   },
   "outputs": [
    {
     "name": "stdout",
     "output_type": "stream",
     "text": [
      "아버지의 빚 문제로 폐공장에 납치되어 있던 한자인은 재수 좋은 남자 천운조의 등장으로 무사히 풀려나게 된다. 며칠 후, 새 학기가 시작되고 신입생 한자인은 자신의 학교에서 천운조와 그의 친구들을 만나게 된다. 자신들을 전생에 나라를 구한 영웅이라고 소개하는 천운조와 친구들, 그들의 특별한 능력을 눈으로 볼 수 있는 한자인, 그리고 한자인을 노리는 수수께끼의 인물까지. 전생을 기억하는 능력자들과 그 중심에 있는 한자인, 그들에게 과연 어떤 운명이 기다리고 있을까?\n",
      "아버지의 빚 문제로 폐공장에 납치되어 있던 한자인은 재수 좋은 남자 천운조의 등장으로 무사히 풀려나게 된다  며칠 후  새 학기가 시작되고 신입생 한자인은 자신의 학교에서 천운조와 그의 친구들을 만나게 된다  자신들을 전생에 나라를 구한 영웅이라고 소개하는 천운조와 친구들  그들의 특별한 능력을 눈으로 볼 수 있는 한자인  그리고 한자인을 노리는 수수께끼의 인물까지  전생을 기억하는 능력자들과 그 중심에 있는 한자인  그들에게 과연 어떤 운명이 기다리고 있을까 \n"
     ]
    }
   ],
   "source": [
    "print(web.iloc[0,4])\n",
    "print(web_copy.iloc[0,4])"
   ]
  },
  {
   "cell_type": "markdown",
   "metadata": {
    "id": "gYs3leWeGUFc"
   },
   "source": [
    "## 불용어 제거\n",
    "- 작품 명, 작가 명 등"
   ]
  },
  {
   "cell_type": "code",
   "execution_count": 10,
   "metadata": {
    "id": "bW6dK0hDBFy4"
   },
   "outputs": [],
   "source": [
    "w_copy = web.copy()"
   ]
  },
  {
   "cell_type": "code",
   "execution_count": 11,
   "metadata": {
    "id": "4fSQ-AUC7Nvt"
   },
   "outputs": [],
   "source": [
    "# 제목 추출\n",
    "title = w_copy.title.unique()"
   ]
  },
  {
   "cell_type": "code",
   "execution_count": 12,
   "metadata": {
    "id": "ocIVEbeb8Ny6"
   },
   "outputs": [],
   "source": [
    "# 글 작가 추출\n",
    "writer = w_copy.writer.unique()"
   ]
  },
  {
   "cell_type": "code",
   "execution_count": 13,
   "metadata": {
    "id": "GkeKirN78-nW"
   },
   "outputs": [],
   "source": [
    "# 그림 작가 추출\n",
    "illustrator = w_copy.illustrator.unique()"
   ]
  },
  {
   "cell_type": "code",
   "execution_count": 14,
   "metadata": {
    "id": "I3P9bYhd9qsK"
   },
   "outputs": [],
   "source": [
    "# 리스트 변환\n",
    "title=list(title)\n",
    "writer = list(writer)\n",
    "illustrator = list(illustrator)"
   ]
  },
  {
   "cell_type": "code",
   "execution_count": 15,
   "metadata": {
    "colab": {
     "base_uri": "https://localhost:8080/"
    },
    "executionInfo": {
     "elapsed": 406,
     "status": "ok",
     "timestamp": 1633330735991,
     "user": {
      "displayName": "이우재",
      "photoUrl": "https://lh3.googleusercontent.com/a/default-user=s64",
      "userId": "15709195273175322901"
     },
     "user_tz": -540
    },
    "id": "48rMIf7NKwao",
    "outputId": "00e14ff2-469e-4790-c99c-2c28da6b6140"
   },
   "outputs": [
    {
     "name": "stdout",
     "output_type": "stream",
     "text": [
      "['아', '휴', '아이구', '아이쿠', '아이고']\n"
     ]
    }
   ],
   "source": [
    "# 불용어 사전 불러오기\n",
    "with open('stopwords_korean.txt','r',encoding='utf8') as f:\n",
    "    stopwords = f.readline()\n",
    "stopwords = stopwords.split()\n",
    "print(stopwords[:5])"
   ]
  },
  {
   "cell_type": "code",
   "execution_count": 16,
   "metadata": {
    "colab": {
     "base_uri": "https://localhost:8080/"
    },
    "executionInfo": {
     "elapsed": 881,
     "status": "ok",
     "timestamp": 1633330738273,
     "user": {
      "displayName": "이우재",
      "photoUrl": "https://lh3.googleusercontent.com/a/default-user=s64",
      "userId": "15709195273175322901"
     },
     "user_tz": -540
    },
    "id": "KkYflNxJKwar",
    "outputId": "229eae54-2b18-4759-991a-db52dde8bb7d"
   },
   "outputs": [
    {
     "name": "stdout",
     "output_type": "stream",
     "text": [
      "['호이', '턱시도펭귄', '이하안', '늴릴', '스튜디오웨이브', '오솟', 'Sakon', '슬라정', '신', 'Happykwak']\n"
     ]
    }
   ],
   "source": [
    "# 리스트를 불용어 사전에 추가\n",
    "new_word=['신작','은','는','도','고','이다','고','다','못','게','주인공','레알','만화','작가']\n",
    "for word in [new_word, title, writer, illustrator]:\n",
    "    stopwords.extend(word)\n",
    "print(stopwords[-10:])"
   ]
  },
  {
   "cell_type": "markdown",
   "metadata": {
    "id": "S87S7AYsAde2"
   },
   "source": [
    "## 토큰화"
   ]
  },
  {
   "cell_type": "code",
   "execution_count": 17,
   "metadata": {
    "id": "zCKu_SOgAVze"
   },
   "outputs": [],
   "source": [
    "from konlpy.tag import Okt, Hannanum, Kkma, Komoran, Mecab\n",
    "okt = Okt() # Okt : Open Korean Text\n",
    "hannanum = Hannanum() # Hannanum(한나눔) : KAIST\n",
    "kkma = Kkma() # Kkma(꼬꼬마) : 서울대학교\n",
    "komoran = Komoran() # Komoran : Shineware\n",
    "\n",
    "def okt_tokenizer(text):\n",
    "    # 입력 인자로 들어온 텍스트를 형태소 단어로 토큰화해 리스트 형태로 반환\n",
    "    tokens_ko = okt.morphs(text,stem=True)\n",
    "    filtered_words = []\n",
    "    # 각 문장별 단어에 대해 스톱 워드 제거\n",
    "    for word in tokens_ko:\n",
    "        if word not in stopwords:\n",
    "            filtered_words.append(word)\n",
    "    \n",
    "    return filtered_words\n",
    "\n",
    "def kkma_tokenizer(text):\n",
    "    # 입력 인자로 들어온 텍스트를 형태소 단어로 토큰화해 리스트 형태로 반환\n",
    "    tokens_ko = kkma.morphs(text)\n",
    "    filtered_words = []\n",
    "    # 각 문장별 단어에 대해 스톱 워드 제거\n",
    "    for word in tokens_ko:\n",
    "        if word not in stopwords:\n",
    "            filtered_words.append(word)\n",
    "    \n",
    "    return filtered_words\n",
    "\n",
    "def hannanum_tokenizer(text):\n",
    "    # 입력 인자로 들어온 텍스트를 형태소 단어로 토큰화해 리스트 형태로 반환\n",
    "    tokens_ko = hannanum.morphs(text)\n",
    "    filtered_words = []\n",
    "    # 각 문장별 단어에 대해 스톱 워드 제거\n",
    "    for word in tokens_ko:\n",
    "        if word not in stopwords:\n",
    "            filtered_words.append(word)\n",
    "    \n",
    "    return filtered_words\n",
    "\n",
    "def komoran_tokenizer(text):\n",
    "    # 입력 인자로 들어온 텍스트를 형태소 단어로 토큰화해 리스트 형태로 반환\n",
    "    tokens_ko = komoran.morphs(text)\n",
    "    filtered_words = []\n",
    "    # 각 문장별 단어에 대해 스톱 워드 제거\n",
    "    for word in tokens_ko:\n",
    "        if word not in stopwords:\n",
    "            filtered_words.append(word)\n",
    "    \n",
    "    return filtered_words"
   ]
  },
  {
   "cell_type": "markdown",
   "metadata": {},
   "source": [
    "## TF-IDF, CountVector\n",
    "- 장르는 CountVector, 작가는 라벨 인코딩, 스토리는 TF-IDF"
   ]
  },
  {
   "cell_type": "code",
   "execution_count": 20,
   "metadata": {
    "id": "Qm9rjV0CAz3p"
   },
   "outputs": [],
   "source": [
    "from sklearn.feature_extraction.text import TfidfVectorizer, CountVectorizer\n",
    "from sklearn.preprocessing import LabelBinarizer\n",
    "\n",
    "# 입력 값 : 토큰화 도구\n",
    "def get_sparse_matrix(tokenizer):\n",
    "    # 제목, 장르 벡터화\n",
    "    # tfidf_nstory_vec = TfidfVectorizer(tokenizer=tokenizer)\n",
    "    # tfidf_title_matrix = tfidf_nstory_vec.fit_transform(web_copy['title'])\n",
    "    \n",
    "    cnt_genre_vec = CountVectorizer()\n",
    "    cnt_genre_matrix = cnt_genre_vec.fit_transform(web_copy['genre'])\n",
    "\n",
    "    # 작가 인코딩\n",
    "    lb = LabelBinarizer(sparse_output=True) # 다른 행렬과 합치기 위하여 희소 행렬로 반환\n",
    "    lb_writer_matrix = lb.fit_transform(web_copy['writer'].astype(str))\n",
    "    lb_illustrator_matrix = lb.fit_transform(web_copy['illustrator'].astype(str))\n",
    "    \n",
    "    # 줄거리 벡터화\n",
    "    tfidf_story_vec = TfidfVectorizer(tokenizer=tokenizer, ngram_range=(1, 2))\n",
    "    tfidf_story_matrix = tfidf_story_vec.fit_transform(web_copy['story'].astype(str))\n",
    "\n",
    "    \n",
    "    return  cnt_genre_matrix, lb_writer_matrix, lb_illustrator_matrix, tfidf_story_matrix"
   ]
  },
  {
   "cell_type": "code",
   "execution_count": 21,
   "metadata": {
    "colab": {
     "base_uri": "https://localhost:8080/"
    },
    "executionInfo": {
     "elapsed": 687108,
     "status": "ok",
     "timestamp": 1633331442995,
     "user": {
      "displayName": "이우재",
      "photoUrl": "https://lh3.googleusercontent.com/a/default-user=s64",
      "userId": "15709195273175322901"
     },
     "user_tz": -540
    },
    "id": "IJz_4LhIBUQl",
    "outputId": "3b721e3b-7319-460f-f5e6-4390deb5030a"
   },
   "outputs": [
    {
     "name": "stdout",
     "output_type": "stream",
     "text": [
      "Wall time: 5min 23s\n"
     ]
    }
   ],
   "source": [
    "%%time\n",
    "\n",
    "okt_matrices = get_sparse_matrix(okt_tokenizer)\n",
    "kkma_matrices = get_sparse_matrix(kkma_tokenizer)\n",
    "hannanum_matrices = get_sparse_matrix(hannanum_tokenizer)\n",
    "komoran_matrices = get_sparse_matrix(komoran_tokenizer)"
   ]
  },
  {
   "cell_type": "code",
   "execution_count": 22,
   "metadata": {
    "id": "yPHxOsuYcwNv"
   },
   "outputs": [],
   "source": [
    "# 매트릭스 저장\n",
    "import numpy as np\n",
    "\n",
    "matrix_folder = os.path.join(path, 'matrices/')\n",
    "if not os.path.exists(matrix_folder):\n",
    "    os.mkdir(matrix_folder)\n",
    "\n",
    "np.save(os.path.join(matrix_folder, 'okt'), okt_matrices)\n",
    "np.save(os.path.join(matrix_folder, 'kkma'), kkma_matrices)\n",
    "np.save(os.path.join(matrix_folder, 'hannanum'), hannanum_matrices)\n",
    "np.save(os.path.join(matrix_folder, 'komoran'), komoran_matrices)"
   ]
  },
  {
   "cell_type": "code",
   "execution_count": null,
   "metadata": {},
   "outputs": [],
   "source": []
  }
 ],
 "metadata": {
  "colab": {
   "authorship_tag": "ABX9TyM7dETyGFHaZiZz4YUfXYvs",
   "collapsed_sections": [],
   "mount_file_id": "1pTtFY-UKxF3YWHBZtaj8VUk-LxFFodDH",
   "name": "matrics",
   "provenance": [
    {
     "file_id": "1pTtFY-UKxF3YWHBZtaj8VUk-LxFFodDH",
     "timestamp": 1633405965184
    },
    {
     "file_id": "16y61UeAhuBol8DdUSYt189LlMfeNzV3n",
     "timestamp": 1631756213175
    },
    {
     "file_id": "13ZjIJgWq_Uu06c2rtAGeu7a5ng-dgpFl",
     "timestamp": 1631687428716
    }
   ]
  },
  "kernelspec": {
   "display_name": "Python Multi",
   "language": "python",
   "name": "multi"
  },
  "language_info": {
   "codemirror_mode": {
    "name": "ipython",
    "version": 3
   },
   "file_extension": ".py",
   "mimetype": "text/x-python",
   "name": "python",
   "nbconvert_exporter": "python",
   "pygments_lexer": "ipython3",
   "version": "3.7.6"
  },
  "toc": {
   "base_numbering": 1,
   "nav_menu": {},
   "number_sections": false,
   "sideBar": true,
   "skip_h1_title": false,
   "title_cell": "Table of Contents",
   "title_sidebar": "Contents",
   "toc_cell": false,
   "toc_position": {},
   "toc_section_display": true,
   "toc_window_display": false
  }
 },
 "nbformat": 4,
 "nbformat_minor": 1
}
