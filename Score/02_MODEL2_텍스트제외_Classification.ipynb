{
 "cells": [
  {
   "cell_type": "code",
   "execution_count": 1,
   "id": "8e0e83e0",
   "metadata": {},
   "outputs": [],
   "source": [
    "# 필요 라이브러리 호출\n",
    "import numpy as np\n",
    "import pandas as pd\n",
    "from sklearn.model_selection import train_test_split\n",
    "from lightgbm import LGBMClassifier\n",
    "from xgboost import XGBClassifier\n",
    "from sklearn.ensemble import RandomForestClassifier\n",
    "from sklearn.linear_model import LogisticRegression\n",
    "from sklearn.metrics import accuracy_score\n",
    "import warnings\n",
    "warnings.filterwarnings('ignore')"
   ]
  },
  {
   "cell_type": "code",
   "execution_count": 2,
   "id": "c924cd3d",
   "metadata": {},
   "outputs": [
    {
     "data": {
      "text/html": [
       "<div>\n",
       "<style scoped>\n",
       "    .dataframe tbody tr th:only-of-type {\n",
       "        vertical-align: middle;\n",
       "    }\n",
       "\n",
       "    .dataframe tbody tr th {\n",
       "        vertical-align: top;\n",
       "    }\n",
       "\n",
       "    .dataframe thead th {\n",
       "        text-align: right;\n",
       "    }\n",
       "</style>\n",
       "<table border=\"1\" class=\"dataframe\">\n",
       "  <thead>\n",
       "    <tr style=\"text-align: right;\">\n",
       "      <th></th>\n",
       "      <th>title</th>\n",
       "      <th>score</th>\n",
       "      <th>score_num</th>\n",
       "      <th>best_num</th>\n",
       "      <th>best</th>\n",
       "      <th>best_recomm</th>\n",
       "      <th>best_unrecomm</th>\n",
       "      <th>comment_num</th>\n",
       "      <th>comment</th>\n",
       "      <th>star</th>\n",
       "    </tr>\n",
       "  </thead>\n",
       "  <tbody>\n",
       "    <tr>\n",
       "      <th>0</th>\n",
       "      <td>웰캄투실버라이프</td>\n",
       "      <td>9.94</td>\n",
       "      <td>19878</td>\n",
       "      <td>15</td>\n",
       "      <td>아 할머니 귀여우시다 힐링툰 감이 오네요 잘볼게용!\\n시리얼에 뜨거운 우유...나만...</td>\n",
       "      <td>52588</td>\n",
       "      <td>599</td>\n",
       "      <td>2220</td>\n",
       "      <td>정주행 시작\\n솔찍히 자는데 깨우면 짜증남..할머니라도..맘은 이해하지만 더 자고 ...</td>\n",
       "      <td>9.98</td>\n",
       "    </tr>\n",
       "    <tr>\n",
       "      <th>1</th>\n",
       "      <td>원수를 사랑하라</td>\n",
       "      <td>9.95</td>\n",
       "      <td>31528</td>\n",
       "      <td>15</td>\n",
       "      <td>근데 여주 대단하다...엄마랑 아빠가 저런 사람들인데 멀끔히 차려입고 면접보는 거면...</td>\n",
       "      <td>129562</td>\n",
       "      <td>3792</td>\n",
       "      <td>987</td>\n",
       "      <td>근데 나 자신을 믿는것.. 지금 내가 제일 필요한 말임..ㅠㅠㅠㅠㅠ 어제 면접 말려...</td>\n",
       "      <td>9.92</td>\n",
       "    </tr>\n",
       "    <tr>\n",
       "      <th>2</th>\n",
       "      <td>약초마을 연쇄살초사건</td>\n",
       "      <td>9.73</td>\n",
       "      <td>10367</td>\n",
       "      <td>15</td>\n",
       "      <td>아니ㅋㅋㅋㅋㅋㅋ작가님ㅋㅋㅋㅋㅋㅋ이제 작물 쪽으로 길을 트신건가요ㅋㅋㅋㅋㅋㅋㅋㅋ\\n팀...</td>\n",
       "      <td>63294</td>\n",
       "      <td>255</td>\n",
       "      <td>1462</td>\n",
       "      <td>이거 왤케 재밌냨ㅋ 팀장님 죽었는데 뒷담 까는거 보소\\n약초마을 연쇄살인도 아닌 연...</td>\n",
       "      <td>9.87</td>\n",
       "    </tr>\n",
       "    <tr>\n",
       "      <th>3</th>\n",
       "      <td>AI가 세상을 지배한다면</td>\n",
       "      <td>9.88</td>\n",
       "      <td>12207</td>\n",
       "      <td>15</td>\n",
       "      <td>그대가 POGO 싶었소\\n라움 코드 자기가 넣었다고... 이리 당당하게 선전POGO...</td>\n",
       "      <td>59238</td>\n",
       "      <td>967</td>\n",
       "      <td>2036</td>\n",
       "      <td>완결보고 정주행만 3번째 볼때마다 감정이 다름 영화로 나오기엔 잘라내거나 스토리에 ...</td>\n",
       "      <td>9.94</td>\n",
       "    </tr>\n",
       "    <tr>\n",
       "      <th>4</th>\n",
       "      <td>닥터 프로스트 시즌 3~4</td>\n",
       "      <td>9.95</td>\n",
       "      <td>30579</td>\n",
       "      <td>15</td>\n",
       "      <td>아무생각없이 내렸다가 이거 보고 놀란사람 손!!!\\n헐?\\n제가 이 웹툰을 보면서 ...</td>\n",
       "      <td>119758</td>\n",
       "      <td>2817</td>\n",
       "      <td>9707</td>\n",
       "      <td>퍄ㅑㅑ\\n닥프 1기 2기 무료로 풀려있으니까 꼭보세요\\n아 이런 띵작은 유료되기전에...</td>\n",
       "      <td>9.97</td>\n",
       "    </tr>\n",
       "  </tbody>\n",
       "</table>\n",
       "</div>"
      ],
      "text/plain": [
       "            title  score  score_num  best_num  \\\n",
       "0        웰캄투실버라이프   9.94      19878        15   \n",
       "1        원수를 사랑하라   9.95      31528        15   \n",
       "2     약초마을 연쇄살초사건   9.73      10367        15   \n",
       "3   AI가 세상을 지배한다면   9.88      12207        15   \n",
       "4  닥터 프로스트 시즌 3~4   9.95      30579        15   \n",
       "\n",
       "                                                best  best_recomm  \\\n",
       "0  아 할머니 귀여우시다 힐링툰 감이 오네요 잘볼게용!\\n시리얼에 뜨거운 우유...나만...        52588   \n",
       "1  근데 여주 대단하다...엄마랑 아빠가 저런 사람들인데 멀끔히 차려입고 면접보는 거면...       129562   \n",
       "2  아니ㅋㅋㅋㅋㅋㅋ작가님ㅋㅋㅋㅋㅋㅋ이제 작물 쪽으로 길을 트신건가요ㅋㅋㅋㅋㅋㅋㅋㅋ\\n팀...        63294   \n",
       "3  그대가 POGO 싶었소\\n라움 코드 자기가 넣었다고... 이리 당당하게 선전POGO...        59238   \n",
       "4  아무생각없이 내렸다가 이거 보고 놀란사람 손!!!\\n헐?\\n제가 이 웹툰을 보면서 ...       119758   \n",
       "\n",
       "   best_unrecomm  comment_num  \\\n",
       "0            599         2220   \n",
       "1           3792          987   \n",
       "2            255         1462   \n",
       "3            967         2036   \n",
       "4           2817         9707   \n",
       "\n",
       "                                             comment  star  \n",
       "0  정주행 시작\\n솔찍히 자는데 깨우면 짜증남..할머니라도..맘은 이해하지만 더 자고 ...  9.98  \n",
       "1  근데 나 자신을 믿는것.. 지금 내가 제일 필요한 말임..ㅠㅠㅠㅠㅠ 어제 면접 말려...  9.92  \n",
       "2  이거 왤케 재밌냨ㅋ 팀장님 죽었는데 뒷담 까는거 보소\\n약초마을 연쇄살인도 아닌 연...  9.87  \n",
       "3  완결보고 정주행만 3번째 볼때마다 감정이 다름 영화로 나오기엔 잘라내거나 스토리에 ...  9.94  \n",
       "4  퍄ㅑㅑ\\n닥프 1기 2기 무료로 풀려있으니까 꼭보세요\\n아 이런 띵작은 유료되기전에...  9.97  "
      ]
     },
     "execution_count": 2,
     "metadata": {},
     "output_type": "execute_result"
    }
   ],
   "source": [
    "# 데이터 불러오기\n",
    "df = pd.read_csv('data/naver_comment_2.csv', encoding='utf-8-sig')\n",
    "df.head()"
   ]
  },
  {
   "cell_type": "code",
   "execution_count": 3,
   "id": "3291a984",
   "metadata": {},
   "outputs": [],
   "source": [
    "def train_to_evaluate(X, y):\n",
    "    X_train, X_test, y_train, y_test = train_test_split(X, y, test_size=0.2, random_state=0)\n",
    "    X_train, X_val, y_train, y_val = train_test_split(X_train, y_train, test_size=0.2, random_state=0)\n",
    "    \n",
    "    lgbm = LGBMClassifier()\n",
    "    xgb = XGBClassifier()\n",
    "    rf = RandomForestClassifier()\n",
    "    lr = LogisticRegression()\n",
    "\n",
    "    regs = [lgbm, xgb, rf, lr]\n",
    "\n",
    "    result = []\n",
    "    for reg in regs:\n",
    "        reg.fit(X_train, y_train)\n",
    "        pred = reg.predict(X_val)\n",
    "        acc = accuracy_score(y_val, pred)\n",
    "        print(reg.__class__.__name__)\n",
    "        print(f'Accuracy: {acc:.4f}')\n",
    "        \n",
    "    return regs"
   ]
  },
  {
   "cell_type": "code",
   "execution_count": 4,
   "id": "0ee2090d",
   "metadata": {},
   "outputs": [],
   "source": [
    "# 9.9 이상, 미만 비율이 6:4\n",
    "def category(star):\n",
    "    if star >= 9.9:\n",
    "        return 1\n",
    "    else:\n",
    "        return 0"
   ]
  },
  {
   "cell_type": "markdown",
   "id": "da01a46c",
   "metadata": {},
   "source": [
    "# 1. 텍스트 제외 모든 feature"
   ]
  },
  {
   "cell_type": "code",
   "execution_count": 5,
   "id": "b4e18294",
   "metadata": {},
   "outputs": [
    {
     "name": "stdout",
     "output_type": "stream",
     "text": [
      "LGBMClassifier\n",
      "Accuracy: 0.8304\n",
      "[17:27:24] WARNING: ..\\src\\learner.cc:1095: Starting in XGBoost 1.3.0, the default evaluation metric used with the objective 'binary:logistic' was changed from 'error' to 'logloss'. Explicitly set eval_metric if you'd like to restore the old behavior.\n",
      "XGBClassifier\n",
      "Accuracy: 0.8125\n",
      "RandomForestClassifier\n",
      "Accuracy: 0.7946\n",
      "LogisticRegression\n",
      "Accuracy: 0.7232\n"
     ]
    }
   ],
   "source": [
    "X = df.drop(columns=['title', 'best', 'comment', 'star'])\n",
    "y = df['star'].apply(category)\n",
    "\n",
    "regs1 = train_to_evaluate(X, y)"
   ]
  },
  {
   "cell_type": "markdown",
   "id": "6ef43abc",
   "metadata": {},
   "source": [
    "# 2. 베댓 추천 수, 비추천 수 제외"
   ]
  },
  {
   "cell_type": "code",
   "execution_count": 6,
   "id": "b30afa08",
   "metadata": {},
   "outputs": [
    {
     "name": "stdout",
     "output_type": "stream",
     "text": [
      "LGBMClassifier\n",
      "Accuracy: 0.7857\n",
      "[17:27:24] WARNING: ..\\src\\learner.cc:1095: Starting in XGBoost 1.3.0, the default evaluation metric used with the objective 'binary:logistic' was changed from 'error' to 'logloss'. Explicitly set eval_metric if you'd like to restore the old behavior.\n",
      "XGBClassifier\n",
      "Accuracy: 0.7500\n",
      "RandomForestClassifier\n",
      "Accuracy: 0.8036\n",
      "LogisticRegression\n",
      "Accuracy: 0.6786\n"
     ]
    }
   ],
   "source": [
    "X = df.drop(columns=['title', 'best', 'comment', 'star', 'best_recomm', 'best_unrecomm'])\n",
    "\n",
    "regs2 = train_to_evaluate(X, y)"
   ]
  },
  {
   "cell_type": "markdown",
   "id": "b08e3621",
   "metadata": {},
   "source": [
    "## 추가적으로 베댓 수도 제외"
   ]
  },
  {
   "cell_type": "code",
   "execution_count": 7,
   "id": "8e5be1ae",
   "metadata": {},
   "outputs": [
    {
     "name": "stdout",
     "output_type": "stream",
     "text": [
      "LGBMClassifier\n",
      "Accuracy: 0.7857\n",
      "[17:27:24] WARNING: ..\\src\\learner.cc:1095: Starting in XGBoost 1.3.0, the default evaluation metric used with the objective 'binary:logistic' was changed from 'error' to 'logloss'. Explicitly set eval_metric if you'd like to restore the old behavior.\n",
      "XGBClassifier\n",
      "Accuracy: 0.7500\n",
      "RandomForestClassifier\n",
      "Accuracy: 0.8125\n",
      "LogisticRegression\n",
      "Accuracy: 0.6786\n"
     ]
    }
   ],
   "source": [
    "X = X.drop(columns=['best_num'])\n",
    "\n",
    "regs2_a = train_to_evaluate(X, y)"
   ]
  },
  {
   "cell_type": "markdown",
   "id": "33e4ac1e",
   "metadata": {},
   "source": [
    "## 베댓 수만 제외"
   ]
  },
  {
   "cell_type": "code",
   "execution_count": 8,
   "id": "a800ea79",
   "metadata": {},
   "outputs": [
    {
     "name": "stdout",
     "output_type": "stream",
     "text": [
      "LGBMClassifier\n",
      "Accuracy: 0.8304\n",
      "[17:27:25] WARNING: ..\\src\\learner.cc:1095: Starting in XGBoost 1.3.0, the default evaluation metric used with the objective 'binary:logistic' was changed from 'error' to 'logloss'. Explicitly set eval_metric if you'd like to restore the old behavior.\n",
      "XGBClassifier\n",
      "Accuracy: 0.8125\n",
      "RandomForestClassifier\n",
      "Accuracy: 0.8036\n",
      "LogisticRegression\n",
      "Accuracy: 0.7232\n"
     ]
    }
   ],
   "source": [
    "X = df.drop(columns=['title', 'best', 'comment', 'star', 'best_num'])\n",
    "\n",
    "regs2_b = train_to_evaluate(X, y)"
   ]
  },
  {
   "cell_type": "markdown",
   "id": "330f615c",
   "metadata": {},
   "source": [
    "# 3. 1화 평점 제외"
   ]
  },
  {
   "cell_type": "code",
   "execution_count": 9,
   "id": "707021d5",
   "metadata": {},
   "outputs": [
    {
     "name": "stdout",
     "output_type": "stream",
     "text": [
      "LGBMClassifier\n",
      "Accuracy: 0.7411\n",
      "[17:27:25] WARNING: ..\\src\\learner.cc:1095: Starting in XGBoost 1.3.0, the default evaluation metric used with the objective 'binary:logistic' was changed from 'error' to 'logloss'. Explicitly set eval_metric if you'd like to restore the old behavior.\n",
      "XGBClassifier\n",
      "Accuracy: 0.6875\n",
      "RandomForestClassifier\n",
      "Accuracy: 0.7143\n",
      "LogisticRegression\n",
      "Accuracy: 0.7232\n"
     ]
    }
   ],
   "source": [
    "X = df.drop(columns=['title', 'best', 'comment', 'star', 'score'])\n",
    "\n",
    "regs3 = train_to_evaluate(X, y)"
   ]
  },
  {
   "cell_type": "markdown",
   "id": "cb8f8d85",
   "metadata": {},
   "source": [
    "# 4. 1화 평점, 평가 인원으로만"
   ]
  },
  {
   "cell_type": "code",
   "execution_count": 10,
   "id": "63145a3f",
   "metadata": {},
   "outputs": [
    {
     "name": "stdout",
     "output_type": "stream",
     "text": [
      "LGBMClassifier\n",
      "Accuracy: 0.8036\n",
      "[17:27:25] WARNING: ..\\src\\learner.cc:1095: Starting in XGBoost 1.3.0, the default evaluation metric used with the objective 'binary:logistic' was changed from 'error' to 'logloss'. Explicitly set eval_metric if you'd like to restore the old behavior.\n",
      "XGBClassifier\n",
      "Accuracy: 0.7411\n",
      "RandomForestClassifier\n",
      "Accuracy: 0.7946\n",
      "LogisticRegression\n",
      "Accuracy: 0.6071\n"
     ]
    }
   ],
   "source": [
    "X = df[['score', 'score_num']]\n",
    "\n",
    "regs4 = train_to_evaluate(X, y)"
   ]
  },
  {
   "cell_type": "markdown",
   "id": "84fbd616",
   "metadata": {},
   "source": [
    "당연한 결과겠지만, 1화 평점이 평균 평점을 예측하는 데 있어 매우 중요한 요소이며 그렇다고 1화 평점만으로는 평균 평점을 예측하는 데 무리가 있다.  \n",
    "그리고 베댓 수, 베댓 추천 수, 베댓 비추천 수는 오히려 오차를 늘리는 요소이므로 향후 최종 모델에서는 제외하는 것으로...  \n",
    "또한 TF-IDF 결과보다 더 우수한 결과가 나왔다."
   ]
  },
  {
   "cell_type": "code",
   "execution_count": null,
   "id": "c98cb557",
   "metadata": {},
   "outputs": [],
   "source": []
  }
 ],
 "metadata": {
  "kernelspec": {
   "display_name": "Python Multi",
   "language": "python",
   "name": "multi"
  },
  "language_info": {
   "codemirror_mode": {
    "name": "ipython",
    "version": 3
   },
   "file_extension": ".py",
   "mimetype": "text/x-python",
   "name": "python",
   "nbconvert_exporter": "python",
   "pygments_lexer": "ipython3",
   "version": "3.7.6"
  },
  "toc": {
   "base_numbering": 1,
   "nav_menu": {},
   "number_sections": false,
   "sideBar": true,
   "skip_h1_title": false,
   "title_cell": "Table of Contents",
   "title_sidebar": "Contents",
   "toc_cell": false,
   "toc_position": {},
   "toc_section_display": true,
   "toc_window_display": false
  }
 },
 "nbformat": 4,
 "nbformat_minor": 5
}
