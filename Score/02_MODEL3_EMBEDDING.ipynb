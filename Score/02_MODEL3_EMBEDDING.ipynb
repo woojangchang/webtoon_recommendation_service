{
 "cells": [
  {
   "cell_type": "code",
   "execution_count": 1,
   "id": "0ce0e72f",
   "metadata": {},
   "outputs": [],
   "source": [
    "# 필요 라이브러리 호출\n",
    "import numpy as np\n",
    "import pandas as pd\n",
    "from konlpy.tag import Okt\n",
    "from sklearn.model_selection import train_test_split\n",
    "from sklearn.metrics import mean_absolute_error, mean_squared_error\n",
    "from tensorflow.keras.preprocessing.sequence import pad_sequences\n",
    "from tensorflow.keras.preprocessing.text import Tokenizer\n",
    "import warnings\n",
    "warnings.filterwarnings('ignore')"
   ]
  },
  {
   "cell_type": "code",
   "execution_count": 2,
   "id": "202e3f42",
   "metadata": {},
   "outputs": [
    {
     "data": {
      "text/html": [
       "<div>\n",
       "<style scoped>\n",
       "    .dataframe tbody tr th:only-of-type {\n",
       "        vertical-align: middle;\n",
       "    }\n",
       "\n",
       "    .dataframe tbody tr th {\n",
       "        vertical-align: top;\n",
       "    }\n",
       "\n",
       "    .dataframe thead th {\n",
       "        text-align: right;\n",
       "    }\n",
       "</style>\n",
       "<table border=\"1\" class=\"dataframe\">\n",
       "  <thead>\n",
       "    <tr style=\"text-align: right;\">\n",
       "      <th></th>\n",
       "      <th>title</th>\n",
       "      <th>score</th>\n",
       "      <th>score_num</th>\n",
       "      <th>best_num</th>\n",
       "      <th>best</th>\n",
       "      <th>best_recomm</th>\n",
       "      <th>best_unrecomm</th>\n",
       "      <th>comment_num</th>\n",
       "      <th>comment</th>\n",
       "      <th>star</th>\n",
       "    </tr>\n",
       "  </thead>\n",
       "  <tbody>\n",
       "    <tr>\n",
       "      <th>0</th>\n",
       "      <td>엑스트라 데이즈</td>\n",
       "      <td>9.62</td>\n",
       "      <td>101</td>\n",
       "      <td>6</td>\n",
       "      <td>아 근데 실제로 저런 기술이 있다면 쫌 싸할것같다.. 내가 죽어도 사람들은 나랑 똑...</td>\n",
       "      <td>126</td>\n",
       "      <td>0</td>\n",
       "      <td>42</td>\n",
       "      <td>버키 왜 하나만 블러예욬ㅋㅋㅋㅋㅋ\\n이 웹툰은 개재밌을거라고 나한테 텔레파시가왔다\\...</td>\n",
       "      <td>9.65</td>\n",
       "    </tr>\n",
       "    <tr>\n",
       "      <th>1</th>\n",
       "      <td>원수를 사랑하라</td>\n",
       "      <td>9.95</td>\n",
       "      <td>31400</td>\n",
       "      <td>15</td>\n",
       "      <td>근데 여주 대단하다...엄마랑 아빠가 저런 사람들인데 멀끔히 차려입고 면접보는 거면...</td>\n",
       "      <td>129323</td>\n",
       "      <td>3789</td>\n",
       "      <td>984</td>\n",
       "      <td>그림체 마음에 드네 \\n그림체 미친\\n면접관중에 존나 보기싫은얼굴이보이는데?\\n누가...</td>\n",
       "      <td>9.92</td>\n",
       "    </tr>\n",
       "    <tr>\n",
       "      <th>2</th>\n",
       "      <td>우투리</td>\n",
       "      <td>8.50</td>\n",
       "      <td>159</td>\n",
       "      <td>4</td>\n",
       "      <td>학원액션물 만화계의 거장 임재원님의 2번째 작품 우투리입니다.... 스토리, 그림체...</td>\n",
       "      <td>194</td>\n",
       "      <td>5</td>\n",
       "      <td>51</td>\n",
       "      <td>진짜 퀄리티 말도 안되는데 덴마 이후로 미완결 작품은 그냥 혐오스럽다\\n우와아아아!...</td>\n",
       "      <td>9.20</td>\n",
       "    </tr>\n",
       "    <tr>\n",
       "      <th>3</th>\n",
       "      <td>롭플롭</td>\n",
       "      <td>9.78</td>\n",
       "      <td>290</td>\n",
       "      <td>5</td>\n",
       "      <td>나 이 작가 작품 좋아하네.... 잭슨의 관, 데빌샷 보고 바로 들어옴 \\n잭슨의 ...</td>\n",
       "      <td>410</td>\n",
       "      <td>2</td>\n",
       "      <td>64</td>\n",
       "      <td>작가님 어케 이렇게 그천이신거에요\\n노랑머리 친구 명암때문인진 몰라도장례식 이후에 ...</td>\n",
       "      <td>9.91</td>\n",
       "    </tr>\n",
       "    <tr>\n",
       "      <th>4</th>\n",
       "      <td>약초마을 연쇄살초사건</td>\n",
       "      <td>9.73</td>\n",
       "      <td>10226</td>\n",
       "      <td>15</td>\n",
       "      <td>아니ㅋㅋㅋㅋㅋㅋ작가님ㅋㅋㅋㅋㅋㅋ이제 작물 쪽으로 길을 트신건가요ㅋㅋㅋㅋㅋㅋㅋㅋ\\n팀...</td>\n",
       "      <td>62851</td>\n",
       "      <td>254</td>\n",
       "      <td>1463</td>\n",
       "      <td>ㅋㅋㅋㅋㅋㅋㅋㅋ\\n조낸 무서운 이야기인데 약초란 사실과 그림체 때문에 잔혹함이 전달...</td>\n",
       "      <td>9.87</td>\n",
       "    </tr>\n",
       "  </tbody>\n",
       "</table>\n",
       "</div>"
      ],
      "text/plain": [
       "         title  score  score_num  best_num  \\\n",
       "0     엑스트라 데이즈   9.62        101         6   \n",
       "1     원수를 사랑하라   9.95      31400        15   \n",
       "2          우투리   8.50        159         4   \n",
       "3          롭플롭   9.78        290         5   \n",
       "4  약초마을 연쇄살초사건   9.73      10226        15   \n",
       "\n",
       "                                                best  best_recomm  \\\n",
       "0  아 근데 실제로 저런 기술이 있다면 쫌 싸할것같다.. 내가 죽어도 사람들은 나랑 똑...          126   \n",
       "1  근데 여주 대단하다...엄마랑 아빠가 저런 사람들인데 멀끔히 차려입고 면접보는 거면...       129323   \n",
       "2  학원액션물 만화계의 거장 임재원님의 2번째 작품 우투리입니다.... 스토리, 그림체...          194   \n",
       "3  나 이 작가 작품 좋아하네.... 잭슨의 관, 데빌샷 보고 바로 들어옴 \\n잭슨의 ...          410   \n",
       "4  아니ㅋㅋㅋㅋㅋㅋ작가님ㅋㅋㅋㅋㅋㅋ이제 작물 쪽으로 길을 트신건가요ㅋㅋㅋㅋㅋㅋㅋㅋ\\n팀...        62851   \n",
       "\n",
       "   best_unrecomm  comment_num  \\\n",
       "0              0           42   \n",
       "1           3789          984   \n",
       "2              5           51   \n",
       "3              2           64   \n",
       "4            254         1463   \n",
       "\n",
       "                                             comment  star  \n",
       "0  버키 왜 하나만 블러예욬ㅋㅋㅋㅋㅋ\\n이 웹툰은 개재밌을거라고 나한테 텔레파시가왔다\\...  9.65  \n",
       "1  그림체 마음에 드네 \\n그림체 미친\\n면접관중에 존나 보기싫은얼굴이보이는데?\\n누가...  9.92  \n",
       "2  진짜 퀄리티 말도 안되는데 덴마 이후로 미완결 작품은 그냥 혐오스럽다\\n우와아아아!...  9.20  \n",
       "3  작가님 어케 이렇게 그천이신거에요\\n노랑머리 친구 명암때문인진 몰라도장례식 이후에 ...  9.91  \n",
       "4  ㅋㅋㅋㅋㅋㅋㅋㅋ\\n조낸 무서운 이야기인데 약초란 사실과 그림체 때문에 잔혹함이 전달...  9.87  "
      ]
     },
     "execution_count": 2,
     "metadata": {},
     "output_type": "execute_result"
    }
   ],
   "source": [
    "# 데이터 불러오기\n",
    "df = pd.read_csv('data/naver_comment.csv', encoding='utf8')\n",
    "df.head()"
   ]
  },
  {
   "cell_type": "code",
   "execution_count": 3,
   "id": "bd11a8db",
   "metadata": {},
   "outputs": [],
   "source": [
    "okt = Okt()\n",
    "def okt_tokenizer(text):\n",
    "    tokens_ko = okt.morphs(text, stem=True)\n",
    "    return tokens_ko\n",
    "\n",
    "import re\n",
    "\n",
    "def hangul(text):\n",
    "    return re.sub(\"[^가-힣ㄱ-하-ㅣ\\\\s]\", \"\", text)"
   ]
  },
  {
   "cell_type": "code",
   "execution_count": 4,
   "id": "e694f1b9",
   "metadata": {},
   "outputs": [],
   "source": [
    "from tensorflow.keras.models import Sequential\n",
    "from tensorflow.keras.layers import Flatten, Dense, Embedding\n",
    "from tensorflow.keras.callbacks import EarlyStopping, ModelCheckpoint\n",
    "\n",
    "def train_to_evaluate(X, y, file_name, max_words=10000, maxlen=30, embedding_dim=100, *args):\n",
    "    \n",
    "    tokenizer = Tokenizer(num_words=max_words)\n",
    "    tokenizer.fit_on_texts(X)\n",
    "    X_seq = tokenizer.texts_to_sequences(X)\n",
    "\n",
    "    X_pad = pad_sequences(X_seq, maxlen=maxlen)\n",
    "    y = np.asarray(y)\n",
    "    \n",
    "    X_train, X_test, y_train, y_test = train_test_split(X_pad, y, test_size=0.2, random_state=0)\n",
    "    X_train, X_val, y_train, y_val = train_test_split(X_train, y_train, test_size=0.2, random_state=0)\n",
    "    \n",
    "    model = Sequential()\n",
    "    model.add(Embedding(max_words, embedding_dim, input_length=maxlen))\n",
    "    model.add(Flatten())\n",
    "    for unit in args:\n",
    "        model.add(Dense(unit, activation='relu'))\n",
    "    model.add(Dense(1))\n",
    "    \n",
    "    model.compile(optimizer='adam', loss='mse', metrics=['mae'])\n",
    "    \n",
    "    cp = ModelCheckpoint(filepath='data/'+file_name,\n",
    "                         monitor='val_loss',\n",
    "                         save_best_only=True)\n",
    "    \n",
    "    es = EarlyStopping(monitor='val_loss',\n",
    "                       patience=15)\n",
    "    \n",
    "    \n",
    "    hist = model.fit(X_train, y_train,\n",
    "                     epochs=100, batch_size=32,\n",
    "                     validation_data=(X_val, y_val),\n",
    "                     callbacks=[cp, es],\n",
    "                     verbose=0)\n",
    "    \n",
    "    \n",
    "    model.load_weights('data/'+file_name)\n",
    "    mse, mae = model.evaluate(X_val, y_val, verbose=0)\n",
    "#     print('MAE :', np.round(mae, 4), 'RMSE :', np.round(np.sqrt(mse), 4))\n",
    "        \n",
    "    return model, hist, mse, mae"
   ]
  },
  {
   "cell_type": "markdown",
   "id": "70b0c387",
   "metadata": {},
   "source": [
    "# 1. 베댓 + 최근 댓글"
   ]
  },
  {
   "cell_type": "code",
   "execution_count": 5,
   "id": "96b2eab2",
   "metadata": {},
   "outputs": [],
   "source": [
    "X1 = df['best'] + '\\n' + df['comment']\n",
    "y = df['star']\n",
    "\n",
    "X1 = X1.apply(okt_tokenizer).values"
   ]
  },
  {
   "cell_type": "code",
   "execution_count": 6,
   "id": "236e937f",
   "metadata": {},
   "outputs": [
    {
     "data": {
      "text/plain": [
       "1340"
      ]
     },
     "execution_count": 6,
     "metadata": {},
     "output_type": "execute_result"
    }
   ],
   "source": [
    "max([len(x) for x in X1])"
   ]
  },
  {
   "cell_type": "code",
   "execution_count": 7,
   "id": "d9abda56",
   "metadata": {},
   "outputs": [
    {
     "data": {
      "text/plain": [
       "151"
      ]
     },
     "execution_count": 7,
     "metadata": {},
     "output_type": "execute_result"
    }
   ],
   "source": [
    "min([len(x) for x in X1])"
   ]
  },
  {
   "cell_type": "markdown",
   "id": "60e233db",
   "metadata": {},
   "source": [
    "## IMDB로 연습할 때와 동일한 모델로 학습\n",
    "- `num_words=10000`, `maxlen=30`, `embedding_dim=100`, `Dense(32)`\n",
    "- 결과는 매우 좋지 않음(데이터 수가 적어서, 토큰화 된 단어의 수가 적어서, 영어와 달리 한국어는 적은 단어만 사용돼서?)"
   ]
  },
  {
   "cell_type": "code",
   "execution_count": 8,
   "id": "499e97fb",
   "metadata": {
    "scrolled": true
   },
   "outputs": [],
   "source": [
    "model1, hist1, mse1, mae1 = train_to_evaluate(X1, y, 'embedding1.h5', 10000, 30, 100, 32)"
   ]
  },
  {
   "cell_type": "code",
   "execution_count": 9,
   "id": "d0e70fa6",
   "metadata": {},
   "outputs": [
    {
     "name": "stdout",
     "output_type": "stream",
     "text": [
      "MAE : 1.0712 RMSE : 1.355\n"
     ]
    }
   ],
   "source": [
    "print('MAE :', np.round(mae1, 4), 'RMSE :', np.round(np.sqrt(mse1), 4))"
   ]
  },
  {
   "cell_type": "markdown",
   "id": "33418a99",
   "metadata": {},
   "source": [
    "## 파라미터 변경\n",
    "- `num_words=30`, `maxlen=20`, `embedding_dim=30`, `Dense` 없음\n",
    "- TF-IDF 변환 후 LGBM/XGBoost/RandomForest로 학습한 때와 비슷한 수준의 결과가 나옴"
   ]
  },
  {
   "cell_type": "code",
   "execution_count": 10,
   "id": "84bfd58a",
   "metadata": {},
   "outputs": [],
   "source": [
    "model1, hist1, mse1, mae1 = train_to_evaluate(X1, y, 'embedding1.h5', 30, 20, 30)"
   ]
  },
  {
   "cell_type": "code",
   "execution_count": 11,
   "id": "fe1f3f32",
   "metadata": {},
   "outputs": [
    {
     "name": "stdout",
     "output_type": "stream",
     "text": [
      "MAE : 0.2633 RMSE : 0.4362\n"
     ]
    }
   ],
   "source": [
    "print('MAE :', np.round(mae1, 4), 'RMSE :', np.round(np.sqrt(mse1), 4))"
   ]
  },
  {
   "cell_type": "markdown",
   "id": "4d05c9f2",
   "metadata": {},
   "source": [
    "파라미터 값이 작아야 좋은 결과가 나오는 것 같기 때문에 최적 파라미터를 모든 경우의 수를 적용해서 찾아봄"
   ]
  },
  {
   "cell_type": "code",
   "execution_count": 12,
   "id": "b6358a38",
   "metadata": {},
   "outputs": [
    {
     "name": "stderr",
     "output_type": "stream",
     "text": [
      "100%|█████████████████████████████████████████████████████████████████████████████████| 10/10 [22:17<00:00, 133.74s/it]\n"
     ]
    }
   ],
   "source": [
    "from tqdm import tqdm\n",
    "\n",
    "bestmodel = None\n",
    "bestloss = 9999\n",
    "bestmxwords = None\n",
    "bestmxlen = None\n",
    "bestembdim = None\n",
    "bestunit = None\n",
    "result_df = pd.DataFrame(columns=['maxwords', 'maxlen', 'embedding_dim', 'unit', 'mse', 'mae'])\n",
    "\n",
    "for mxwords in tqdm(range(20, 200+1, 20)):\n",
    "    for mxlen in [20, 30]:\n",
    "        for embdim in range(25, 100+1, 25):\n",
    "            for unit in [5, 16, 32, 48, 64]:\n",
    "                model = train_to_evaluate(X1, y, 'embedding1.h5', mxwords, mxlen, embdim, unit)\n",
    "                result_df.loc[len(result_df)] = [mxwords, mxlen, embdim, unit, model[2], model[3]]\n",
    "                if bestloss > model[2]:\n",
    "                    bestmodel = model\n",
    "                    bestloss = model[2]\n",
    "                    bestmxwords = mxwords\n",
    "                    bestmxlen = mxlen\n",
    "                    bestembdim = embdim\n",
    "                    bestunit = unit"
   ]
  },
  {
   "cell_type": "code",
   "execution_count": 13,
   "id": "7b008ee9",
   "metadata": {},
   "outputs": [
    {
     "name": "stdout",
     "output_type": "stream",
     "text": [
      "MAE: 0.2536, RMSE: 0.4329\n",
      "--bestmxwords: 20\t--bestmxlen: 20\t--bestembdim: 25\t--bestunit: 32\n"
     ]
    }
   ],
   "source": [
    "print(f'MAE: {bestmodel[3]:.4f}, RMSE: {np.sqrt(bestmodel[2]):.4f}')\n",
    "print(f'--bestmxwords: {bestmxwords}', f'--bestmxlen: {bestmxlen}', f'--bestembdim: {bestembdim}', f'--bestunit: {bestunit}', sep='\\t')"
   ]
  },
  {
   "cell_type": "markdown",
   "id": "29c99064",
   "metadata": {},
   "source": [
    "## 특문 제거"
   ]
  },
  {
   "cell_type": "code",
   "execution_count": 14,
   "id": "05cb6a3e",
   "metadata": {},
   "outputs": [],
   "source": [
    "X1_a = df['best'].apply(hangul)\n",
    "X1_a = X1_a.apply(okt_tokenizer).values"
   ]
  },
  {
   "cell_type": "code",
   "execution_count": 15,
   "id": "e7e34f7d",
   "metadata": {},
   "outputs": [
    {
     "name": "stderr",
     "output_type": "stream",
     "text": [
      "100%|██████████████████████████████████████████████████████████████████████████████████| 10/10 [16:26<00:00, 98.69s/it]\n"
     ]
    }
   ],
   "source": [
    "bestmodel = None\n",
    "bestloss = 9999\n",
    "bestmxwords = None\n",
    "bestmxlen = None\n",
    "bestembdim = None\n",
    "bestunit = None\n",
    "result_df = pd.DataFrame(columns=['maxwords', 'maxlen', 'embedding_dim', 'unit', 'mse', 'mae'])\n",
    "\n",
    "for mxwords in tqdm(range(20, 200+1, 20)):\n",
    "    for mxlen in [20, 30]:\n",
    "        for embdim in range(25, 100+1, 25):\n",
    "            for unit in [5, 16, 32, 48, 64]:\n",
    "                model = train_to_evaluate(X1_a, y, 'embedding1.h5', mxwords, mxlen, embdim, unit)\n",
    "                result_df.loc[len(result_df)] = [mxwords, mxlen, embdim, unit, model[2], model[3]]\n",
    "                if bestloss > model[2]:\n",
    "                    bestmodel = model\n",
    "                    bestloss = model[2]\n",
    "                    bestmxwords = mxwords\n",
    "                    bestmxlen = mxlen\n",
    "                    bestembdim = embdim\n",
    "                    bestunit = unit"
   ]
  },
  {
   "cell_type": "code",
   "execution_count": 16,
   "id": "2ad2329c",
   "metadata": {},
   "outputs": [
    {
     "name": "stdout",
     "output_type": "stream",
     "text": [
      "MAE: 0.2595, RMSE: 0.4420\n",
      "--bestmxwords: 20\t--bestmxlen: 30\t--bestembdim: 75\t--bestunit: 32\n"
     ]
    }
   ],
   "source": [
    "print(f'MAE: {bestmodel[3]:.4f}, RMSE: {np.sqrt(bestmodel[2]):.4f}')\n",
    "print(f'--bestmxwords: {bestmxwords}', f'--bestmxlen: {bestmxlen}', f'--bestembdim: {bestembdim}', f'--bestunit: {bestunit}', sep='\\t')"
   ]
  },
  {
   "cell_type": "markdown",
   "id": "15ee3e4c",
   "metadata": {},
   "source": [
    "# 2. 베댓만"
   ]
  },
  {
   "cell_type": "markdown",
   "id": "0244977f",
   "metadata": {},
   "source": [
    "## 2-1. Dense 층 없이"
   ]
  },
  {
   "cell_type": "code",
   "execution_count": 17,
   "id": "ad6018ee",
   "metadata": {},
   "outputs": [],
   "source": [
    "X2 = df['best']\n",
    "\n",
    "X2 = X2.apply(okt_tokenizer).values"
   ]
  },
  {
   "cell_type": "code",
   "execution_count": 18,
   "id": "ded07108",
   "metadata": {},
   "outputs": [
    {
     "name": "stderr",
     "output_type": "stream",
     "text": [
      "100%|███████████████████████████████████████████████████████████████████████████████| 20/20 [1:17:43<00:00, 233.17s/it]\n"
     ]
    }
   ],
   "source": [
    "bestmodel = None\n",
    "bestloss = 9999\n",
    "bestmxwords = None\n",
    "bestmxlen = None\n",
    "bestembdim = None\n",
    "bestunit = None\n",
    "result_df = pd.DataFrame(columns=['maxwords', 'maxlen', 'embedding_dim', 'mse', 'mae'])\n",
    "\n",
    "for mxwords in tqdm(range(10, 200+1, 10)):\n",
    "    for mxlen in [20, 25, 30]:\n",
    "        for embdim in range(10, 100+1, 5):\n",
    "            model = train_to_evaluate(X1, y, 'embedding2.h5', mxwords, mxlen, embdim)\n",
    "            result_df.loc[len(result_df)] = [mxwords, mxlen, embdim, model[2], model[3]]\n",
    "            if bestloss > model[2]:\n",
    "                bestmodel = model\n",
    "                bestloss = model[2]\n",
    "                bestmxwords = mxwords\n",
    "                bestmxlen = mxlen\n",
    "                bestembdim = embdim"
   ]
  },
  {
   "cell_type": "code",
   "execution_count": 19,
   "id": "f1bc30ac",
   "metadata": {},
   "outputs": [
    {
     "name": "stdout",
     "output_type": "stream",
     "text": [
      "MAE: 0.2563, RMSE: 0.4193\n",
      "--bestmxwords: 30\t--bestmxlen: 20\t--bestembdim: 15\n"
     ]
    }
   ],
   "source": [
    "print(f'MAE: {bestmodel[3]:.4f}, RMSE: {np.sqrt(bestmodel[2]):.4f}')\n",
    "print(f'--bestmxwords: {bestmxwords}', f'--bestmxlen: {bestmxlen}', f'--bestembdim: {bestembdim}', sep='\\t')"
   ]
  },
  {
   "cell_type": "code",
   "execution_count": 20,
   "id": "58d6816d",
   "metadata": {},
   "outputs": [
    {
     "data": {
      "text/html": [
       "<div>\n",
       "<style scoped>\n",
       "    .dataframe tbody tr th:only-of-type {\n",
       "        vertical-align: middle;\n",
       "    }\n",
       "\n",
       "    .dataframe tbody tr th {\n",
       "        vertical-align: top;\n",
       "    }\n",
       "\n",
       "    .dataframe thead th {\n",
       "        text-align: right;\n",
       "    }\n",
       "</style>\n",
       "<table border=\"1\" class=\"dataframe\">\n",
       "  <thead>\n",
       "    <tr style=\"text-align: right;\">\n",
       "      <th></th>\n",
       "      <th>maxwords</th>\n",
       "      <th>maxlen</th>\n",
       "      <th>embedding_dim</th>\n",
       "      <th>mse</th>\n",
       "      <th>mae</th>\n",
       "    </tr>\n",
       "  </thead>\n",
       "  <tbody>\n",
       "    <tr>\n",
       "      <th>115</th>\n",
       "      <td>30.0</td>\n",
       "      <td>20.0</td>\n",
       "      <td>15.0</td>\n",
       "      <td>0.175843</td>\n",
       "      <td>0.256312</td>\n",
       "    </tr>\n",
       "    <tr>\n",
       "      <th>132</th>\n",
       "      <td>30.0</td>\n",
       "      <td>20.0</td>\n",
       "      <td>100.0</td>\n",
       "      <td>0.180809</td>\n",
       "      <td>0.269051</td>\n",
       "    </tr>\n",
       "    <tr>\n",
       "      <th>134</th>\n",
       "      <td>30.0</td>\n",
       "      <td>25.0</td>\n",
       "      <td>15.0</td>\n",
       "      <td>0.181772</td>\n",
       "      <td>0.260827</td>\n",
       "    </tr>\n",
       "    <tr>\n",
       "      <th>125</th>\n",
       "      <td>30.0</td>\n",
       "      <td>20.0</td>\n",
       "      <td>65.0</td>\n",
       "      <td>0.181852</td>\n",
       "      <td>0.264862</td>\n",
       "    </tr>\n",
       "    <tr>\n",
       "      <th>121</th>\n",
       "      <td>30.0</td>\n",
       "      <td>20.0</td>\n",
       "      <td>45.0</td>\n",
       "      <td>0.182059</td>\n",
       "      <td>0.260396</td>\n",
       "    </tr>\n",
       "    <tr>\n",
       "      <th>145</th>\n",
       "      <td>30.0</td>\n",
       "      <td>25.0</td>\n",
       "      <td>70.0</td>\n",
       "      <td>0.182500</td>\n",
       "      <td>0.263110</td>\n",
       "    </tr>\n",
       "    <tr>\n",
       "      <th>133</th>\n",
       "      <td>30.0</td>\n",
       "      <td>25.0</td>\n",
       "      <td>10.0</td>\n",
       "      <td>0.182667</td>\n",
       "      <td>0.263757</td>\n",
       "    </tr>\n",
       "    <tr>\n",
       "      <th>123</th>\n",
       "      <td>30.0</td>\n",
       "      <td>20.0</td>\n",
       "      <td>55.0</td>\n",
       "      <td>0.182885</td>\n",
       "      <td>0.261376</td>\n",
       "    </tr>\n",
       "    <tr>\n",
       "      <th>150</th>\n",
       "      <td>30.0</td>\n",
       "      <td>25.0</td>\n",
       "      <td>95.0</td>\n",
       "      <td>0.182979</td>\n",
       "      <td>0.265170</td>\n",
       "    </tr>\n",
       "    <tr>\n",
       "      <th>130</th>\n",
       "      <td>30.0</td>\n",
       "      <td>20.0</td>\n",
       "      <td>90.0</td>\n",
       "      <td>0.183198</td>\n",
       "      <td>0.270388</td>\n",
       "    </tr>\n",
       "  </tbody>\n",
       "</table>\n",
       "</div>"
      ],
      "text/plain": [
       "     maxwords  maxlen  embedding_dim       mse       mae\n",
       "115      30.0    20.0           15.0  0.175843  0.256312\n",
       "132      30.0    20.0          100.0  0.180809  0.269051\n",
       "134      30.0    25.0           15.0  0.181772  0.260827\n",
       "125      30.0    20.0           65.0  0.181852  0.264862\n",
       "121      30.0    20.0           45.0  0.182059  0.260396\n",
       "145      30.0    25.0           70.0  0.182500  0.263110\n",
       "133      30.0    25.0           10.0  0.182667  0.263757\n",
       "123      30.0    20.0           55.0  0.182885  0.261376\n",
       "150      30.0    25.0           95.0  0.182979  0.265170\n",
       "130      30.0    20.0           90.0  0.183198  0.270388"
      ]
     },
     "execution_count": 20,
     "metadata": {},
     "output_type": "execute_result"
    }
   ],
   "source": [
    "result_df.sort_values(by=['mse']).head(10)"
   ]
  },
  {
   "cell_type": "code",
   "execution_count": 21,
   "id": "fe999362",
   "metadata": {},
   "outputs": [
    {
     "data": {
      "text/html": [
       "<div>\n",
       "<style scoped>\n",
       "    .dataframe tbody tr th:only-of-type {\n",
       "        vertical-align: middle;\n",
       "    }\n",
       "\n",
       "    .dataframe tbody tr th {\n",
       "        vertical-align: top;\n",
       "    }\n",
       "\n",
       "    .dataframe thead th {\n",
       "        text-align: right;\n",
       "    }\n",
       "</style>\n",
       "<table border=\"1\" class=\"dataframe\">\n",
       "  <thead>\n",
       "    <tr style=\"text-align: right;\">\n",
       "      <th></th>\n",
       "      <th>maxwords</th>\n",
       "      <th>maxlen</th>\n",
       "      <th>embedding_dim</th>\n",
       "      <th>mse</th>\n",
       "      <th>mae</th>\n",
       "    </tr>\n",
       "  </thead>\n",
       "  <tbody>\n",
       "    <tr>\n",
       "      <th>82</th>\n",
       "      <td>20.0</td>\n",
       "      <td>25.0</td>\n",
       "      <td>40.0</td>\n",
       "      <td>0.191705</td>\n",
       "      <td>0.243128</td>\n",
       "    </tr>\n",
       "    <tr>\n",
       "      <th>88</th>\n",
       "      <td>20.0</td>\n",
       "      <td>25.0</td>\n",
       "      <td>70.0</td>\n",
       "      <td>0.189174</td>\n",
       "      <td>0.245186</td>\n",
       "    </tr>\n",
       "    <tr>\n",
       "      <th>89</th>\n",
       "      <td>20.0</td>\n",
       "      <td>25.0</td>\n",
       "      <td>75.0</td>\n",
       "      <td>0.187568</td>\n",
       "      <td>0.246905</td>\n",
       "    </tr>\n",
       "    <tr>\n",
       "      <th>99</th>\n",
       "      <td>20.0</td>\n",
       "      <td>30.0</td>\n",
       "      <td>30.0</td>\n",
       "      <td>0.191793</td>\n",
       "      <td>0.246933</td>\n",
       "    </tr>\n",
       "    <tr>\n",
       "      <th>78</th>\n",
       "      <td>20.0</td>\n",
       "      <td>25.0</td>\n",
       "      <td>20.0</td>\n",
       "      <td>0.192490</td>\n",
       "      <td>0.247627</td>\n",
       "    </tr>\n",
       "    <tr>\n",
       "      <th>85</th>\n",
       "      <td>20.0</td>\n",
       "      <td>25.0</td>\n",
       "      <td>55.0</td>\n",
       "      <td>0.196138</td>\n",
       "      <td>0.247802</td>\n",
       "    </tr>\n",
       "    <tr>\n",
       "      <th>161</th>\n",
       "      <td>30.0</td>\n",
       "      <td>30.0</td>\n",
       "      <td>55.0</td>\n",
       "      <td>0.188838</td>\n",
       "      <td>0.248652</td>\n",
       "    </tr>\n",
       "    <tr>\n",
       "      <th>83</th>\n",
       "      <td>20.0</td>\n",
       "      <td>25.0</td>\n",
       "      <td>45.0</td>\n",
       "      <td>0.196890</td>\n",
       "      <td>0.249093</td>\n",
       "    </tr>\n",
       "    <tr>\n",
       "      <th>87</th>\n",
       "      <td>20.0</td>\n",
       "      <td>25.0</td>\n",
       "      <td>65.0</td>\n",
       "      <td>0.192553</td>\n",
       "      <td>0.249744</td>\n",
       "    </tr>\n",
       "    <tr>\n",
       "      <th>86</th>\n",
       "      <td>20.0</td>\n",
       "      <td>25.0</td>\n",
       "      <td>60.0</td>\n",
       "      <td>0.194110</td>\n",
       "      <td>0.251012</td>\n",
       "    </tr>\n",
       "  </tbody>\n",
       "</table>\n",
       "</div>"
      ],
      "text/plain": [
       "     maxwords  maxlen  embedding_dim       mse       mae\n",
       "82       20.0    25.0           40.0  0.191705  0.243128\n",
       "88       20.0    25.0           70.0  0.189174  0.245186\n",
       "89       20.0    25.0           75.0  0.187568  0.246905\n",
       "99       20.0    30.0           30.0  0.191793  0.246933\n",
       "78       20.0    25.0           20.0  0.192490  0.247627\n",
       "85       20.0    25.0           55.0  0.196138  0.247802\n",
       "161      30.0    30.0           55.0  0.188838  0.248652\n",
       "83       20.0    25.0           45.0  0.196890  0.249093\n",
       "87       20.0    25.0           65.0  0.192553  0.249744\n",
       "86       20.0    25.0           60.0  0.194110  0.251012"
      ]
     },
     "execution_count": 21,
     "metadata": {},
     "output_type": "execute_result"
    }
   ],
   "source": [
    "result_df.sort_values(by=['mae']).head(10)"
   ]
  },
  {
   "cell_type": "markdown",
   "id": "b423bc17",
   "metadata": {},
   "source": [
    "## 특문 제거"
   ]
  },
  {
   "cell_type": "code",
   "execution_count": 22,
   "id": "a8eee914",
   "metadata": {},
   "outputs": [],
   "source": [
    "X2_a = df['best'].apply(hangul)\n",
    "X2_a = X2_a.apply(okt_tokenizer).values"
   ]
  },
  {
   "cell_type": "code",
   "execution_count": 23,
   "id": "5e35a7d1",
   "metadata": {},
   "outputs": [
    {
     "data": {
      "application/vnd.jupyter.widget-view+json": {
       "model_id": "9f4ff944cda24a52bc6f7335937f740f",
       "version_major": 2,
       "version_minor": 0
      },
      "text/plain": [
       "  0%|          | 0/20 [00:00<?, ?it/s]"
      ]
     },
     "metadata": {},
     "output_type": "display_data"
    }
   ],
   "source": [
    "from tqdm.auto import tqdm\n",
    "\n",
    "bestmodel = None\n",
    "bestloss = 9999\n",
    "bestmxwords = None\n",
    "bestmxlen = None\n",
    "bestembdim = None\n",
    "bestunit = None\n",
    "result_df = pd.DataFrame(columns=['maxwords', 'maxlen', 'embedding_dim', 'mse', 'mae'])\n",
    "\n",
    "for mxwords in tqdm(range(10, 200+1, 10)):\n",
    "    for mxlen in [20, 25, 30]:\n",
    "        for embdim in range(10, 100+1, 5):\n",
    "            model = train_to_evaluate(X2, y, 'embedding2a.h5', mxwords, mxlen, embdim)\n",
    "            result_df.loc[len(result_df)] = [mxwords, mxlen, embdim, model[2], model[3]]\n",
    "            if bestloss > model[2]:\n",
    "                bestmodel = model\n",
    "                bestloss = model[2]\n",
    "                bestmxwords = mxwords\n",
    "                bestmxlen = mxlen\n",
    "                bestembdim = embdim"
   ]
  },
  {
   "cell_type": "code",
   "execution_count": 24,
   "id": "57f8a09b",
   "metadata": {},
   "outputs": [
    {
     "name": "stdout",
     "output_type": "stream",
     "text": [
      "MAE: 0.2688, RMSE: 0.4425\n",
      "--bestmxwords: 20\t--bestmxlen: 20\t--bestembdim: 95\n"
     ]
    }
   ],
   "source": [
    "print(f'MAE: {bestmodel[3]:.4f}, RMSE: {np.sqrt(bestmodel[2]):.4f}')\n",
    "print(f'--bestmxwords: {bestmxwords}', f'--bestmxlen: {bestmxlen}', f'--bestembdim: {bestembdim}', sep='\\t')"
   ]
  },
  {
   "cell_type": "code",
   "execution_count": 27,
   "id": "dd79be0f",
   "metadata": {},
   "outputs": [
    {
     "data": {
      "text/html": [
       "<div>\n",
       "<style scoped>\n",
       "    .dataframe tbody tr th:only-of-type {\n",
       "        vertical-align: middle;\n",
       "    }\n",
       "\n",
       "    .dataframe tbody tr th {\n",
       "        vertical-align: top;\n",
       "    }\n",
       "\n",
       "    .dataframe thead th {\n",
       "        text-align: right;\n",
       "    }\n",
       "</style>\n",
       "<table border=\"1\" class=\"dataframe\">\n",
       "  <thead>\n",
       "    <tr style=\"text-align: right;\">\n",
       "      <th></th>\n",
       "      <th>maxwords</th>\n",
       "      <th>maxlen</th>\n",
       "      <th>embedding_dim</th>\n",
       "      <th>mse</th>\n",
       "      <th>mae</th>\n",
       "    </tr>\n",
       "  </thead>\n",
       "  <tbody>\n",
       "    <tr>\n",
       "      <th>74</th>\n",
       "      <td>20.0</td>\n",
       "      <td>20.0</td>\n",
       "      <td>95.0</td>\n",
       "      <td>0.195840</td>\n",
       "      <td>0.268801</td>\n",
       "    </tr>\n",
       "    <tr>\n",
       "      <th>142</th>\n",
       "      <td>30.0</td>\n",
       "      <td>25.0</td>\n",
       "      <td>55.0</td>\n",
       "      <td>0.195933</td>\n",
       "      <td>0.261722</td>\n",
       "    </tr>\n",
       "    <tr>\n",
       "      <th>149</th>\n",
       "      <td>30.0</td>\n",
       "      <td>25.0</td>\n",
       "      <td>90.0</td>\n",
       "      <td>0.197089</td>\n",
       "      <td>0.265945</td>\n",
       "    </tr>\n",
       "    <tr>\n",
       "      <th>135</th>\n",
       "      <td>30.0</td>\n",
       "      <td>25.0</td>\n",
       "      <td>20.0</td>\n",
       "      <td>0.197325</td>\n",
       "      <td>0.263685</td>\n",
       "    </tr>\n",
       "    <tr>\n",
       "      <th>70</th>\n",
       "      <td>20.0</td>\n",
       "      <td>20.0</td>\n",
       "      <td>75.0</td>\n",
       "      <td>0.197533</td>\n",
       "      <td>0.275280</td>\n",
       "    </tr>\n",
       "    <tr>\n",
       "      <th>66</th>\n",
       "      <td>20.0</td>\n",
       "      <td>20.0</td>\n",
       "      <td>55.0</td>\n",
       "      <td>0.197759</td>\n",
       "      <td>0.272899</td>\n",
       "    </tr>\n",
       "    <tr>\n",
       "      <th>68</th>\n",
       "      <td>20.0</td>\n",
       "      <td>20.0</td>\n",
       "      <td>65.0</td>\n",
       "      <td>0.198490</td>\n",
       "      <td>0.263980</td>\n",
       "    </tr>\n",
       "    <tr>\n",
       "      <th>112</th>\n",
       "      <td>20.0</td>\n",
       "      <td>30.0</td>\n",
       "      <td>95.0</td>\n",
       "      <td>0.199313</td>\n",
       "      <td>0.270171</td>\n",
       "    </tr>\n",
       "    <tr>\n",
       "      <th>72</th>\n",
       "      <td>20.0</td>\n",
       "      <td>20.0</td>\n",
       "      <td>85.0</td>\n",
       "      <td>0.199390</td>\n",
       "      <td>0.265917</td>\n",
       "    </tr>\n",
       "    <tr>\n",
       "      <th>133</th>\n",
       "      <td>30.0</td>\n",
       "      <td>25.0</td>\n",
       "      <td>10.0</td>\n",
       "      <td>0.200083</td>\n",
       "      <td>0.263669</td>\n",
       "    </tr>\n",
       "  </tbody>\n",
       "</table>\n",
       "</div>"
      ],
      "text/plain": [
       "     maxwords  maxlen  embedding_dim       mse       mae\n",
       "74       20.0    20.0           95.0  0.195840  0.268801\n",
       "142      30.0    25.0           55.0  0.195933  0.261722\n",
       "149      30.0    25.0           90.0  0.197089  0.265945\n",
       "135      30.0    25.0           20.0  0.197325  0.263685\n",
       "70       20.0    20.0           75.0  0.197533  0.275280\n",
       "66       20.0    20.0           55.0  0.197759  0.272899\n",
       "68       20.0    20.0           65.0  0.198490  0.263980\n",
       "112      20.0    30.0           95.0  0.199313  0.270171\n",
       "72       20.0    20.0           85.0  0.199390  0.265917\n",
       "133      30.0    25.0           10.0  0.200083  0.263669"
      ]
     },
     "execution_count": 27,
     "metadata": {},
     "output_type": "execute_result"
    }
   ],
   "source": [
    "result_df.sort_values(by=['mse']).head(10)"
   ]
  },
  {
   "cell_type": "code",
   "execution_count": 28,
   "id": "d52648e8",
   "metadata": {},
   "outputs": [
    {
     "data": {
      "text/html": [
       "<div>\n",
       "<style scoped>\n",
       "    .dataframe tbody tr th:only-of-type {\n",
       "        vertical-align: middle;\n",
       "    }\n",
       "\n",
       "    .dataframe tbody tr th {\n",
       "        vertical-align: top;\n",
       "    }\n",
       "\n",
       "    .dataframe thead th {\n",
       "        text-align: right;\n",
       "    }\n",
       "</style>\n",
       "<table border=\"1\" class=\"dataframe\">\n",
       "  <thead>\n",
       "    <tr style=\"text-align: right;\">\n",
       "      <th></th>\n",
       "      <th>maxwords</th>\n",
       "      <th>maxlen</th>\n",
       "      <th>embedding_dim</th>\n",
       "      <th>mse</th>\n",
       "      <th>mae</th>\n",
       "    </tr>\n",
       "  </thead>\n",
       "  <tbody>\n",
       "    <tr>\n",
       "      <th>65</th>\n",
       "      <td>20.0</td>\n",
       "      <td>20.0</td>\n",
       "      <td>50.0</td>\n",
       "      <td>0.200875</td>\n",
       "      <td>0.259378</td>\n",
       "    </tr>\n",
       "    <tr>\n",
       "      <th>64</th>\n",
       "      <td>20.0</td>\n",
       "      <td>20.0</td>\n",
       "      <td>45.0</td>\n",
       "      <td>0.201835</td>\n",
       "      <td>0.259566</td>\n",
       "    </tr>\n",
       "    <tr>\n",
       "      <th>155</th>\n",
       "      <td>30.0</td>\n",
       "      <td>30.0</td>\n",
       "      <td>25.0</td>\n",
       "      <td>0.205375</td>\n",
       "      <td>0.259748</td>\n",
       "    </tr>\n",
       "    <tr>\n",
       "      <th>33</th>\n",
       "      <td>10.0</td>\n",
       "      <td>25.0</td>\n",
       "      <td>80.0</td>\n",
       "      <td>0.210077</td>\n",
       "      <td>0.260143</td>\n",
       "    </tr>\n",
       "    <tr>\n",
       "      <th>152</th>\n",
       "      <td>30.0</td>\n",
       "      <td>30.0</td>\n",
       "      <td>10.0</td>\n",
       "      <td>0.208282</td>\n",
       "      <td>0.260736</td>\n",
       "    </tr>\n",
       "    <tr>\n",
       "      <th>142</th>\n",
       "      <td>30.0</td>\n",
       "      <td>25.0</td>\n",
       "      <td>55.0</td>\n",
       "      <td>0.195933</td>\n",
       "      <td>0.261722</td>\n",
       "    </tr>\n",
       "    <tr>\n",
       "      <th>81</th>\n",
       "      <td>20.0</td>\n",
       "      <td>25.0</td>\n",
       "      <td>35.0</td>\n",
       "      <td>0.205634</td>\n",
       "      <td>0.262340</td>\n",
       "    </tr>\n",
       "    <tr>\n",
       "      <th>133</th>\n",
       "      <td>30.0</td>\n",
       "      <td>25.0</td>\n",
       "      <td>10.0</td>\n",
       "      <td>0.200083</td>\n",
       "      <td>0.263669</td>\n",
       "    </tr>\n",
       "    <tr>\n",
       "      <th>164</th>\n",
       "      <td>30.0</td>\n",
       "      <td>30.0</td>\n",
       "      <td>70.0</td>\n",
       "      <td>0.207067</td>\n",
       "      <td>0.263674</td>\n",
       "    </tr>\n",
       "    <tr>\n",
       "      <th>135</th>\n",
       "      <td>30.0</td>\n",
       "      <td>25.0</td>\n",
       "      <td>20.0</td>\n",
       "      <td>0.197325</td>\n",
       "      <td>0.263685</td>\n",
       "    </tr>\n",
       "  </tbody>\n",
       "</table>\n",
       "</div>"
      ],
      "text/plain": [
       "     maxwords  maxlen  embedding_dim       mse       mae\n",
       "65       20.0    20.0           50.0  0.200875  0.259378\n",
       "64       20.0    20.0           45.0  0.201835  0.259566\n",
       "155      30.0    30.0           25.0  0.205375  0.259748\n",
       "33       10.0    25.0           80.0  0.210077  0.260143\n",
       "152      30.0    30.0           10.0  0.208282  0.260736\n",
       "142      30.0    25.0           55.0  0.195933  0.261722\n",
       "81       20.0    25.0           35.0  0.205634  0.262340\n",
       "133      30.0    25.0           10.0  0.200083  0.263669\n",
       "164      30.0    30.0           70.0  0.207067  0.263674\n",
       "135      30.0    25.0           20.0  0.197325  0.263685"
      ]
     },
     "execution_count": 28,
     "metadata": {},
     "output_type": "execute_result"
    }
   ],
   "source": [
    "result_df.sort_values(by=['mae']).head(10)"
   ]
  },
  {
   "cell_type": "markdown",
   "id": "8416c75f",
   "metadata": {},
   "source": [
    "## 2-2. Dense 층 추가"
   ]
  },
  {
   "cell_type": "code",
   "execution_count": 29,
   "id": "5936c013",
   "metadata": {},
   "outputs": [
    {
     "data": {
      "application/vnd.jupyter.widget-view+json": {
       "model_id": "4747948182be42f1b3fd7240aca68cf8",
       "version_major": 2,
       "version_minor": 0
      },
      "text/plain": [
       "  0%|          | 0/5 [00:00<?, ?it/s]"
      ]
     },
     "metadata": {},
     "output_type": "display_data"
    }
   ],
   "source": [
    "bestmodel = None\n",
    "bestloss = 9999\n",
    "bestmxwords = None\n",
    "bestmxlen = None\n",
    "bestembdim = None\n",
    "bestunit = None\n",
    "result_df = pd.DataFrame(columns=['maxwords', 'maxlen', 'embedding_dim', 'unit', 'mse', 'mae'])\n",
    "\n",
    "for mxwords in tqdm(range(20, 60+1, 10)):\n",
    "    for mxlen in [20, 30]:\n",
    "        for embdim in range(10, 100+1, 5):\n",
    "            for unit in [16, 32, 48, 64]:\n",
    "                model = train_to_evaluate(X2, y, 'embedding2b.h5', mxwords, mxlen, embdim, unit)\n",
    "                result_df.loc[len(result_df)] = [mxwords, mxlen, embdim, unit, model[2], model[3]]\n",
    "                if bestloss > model[2]:\n",
    "                    bestmodel = model\n",
    "                    bestloss = model[2]\n",
    "                    bestmxwords = mxwords\n",
    "                    bestmxlen = mxlen\n",
    "                    bestembdim = embdim\n",
    "                    bestunit = unit"
   ]
  },
  {
   "cell_type": "code",
   "execution_count": 30,
   "id": "b02842e5",
   "metadata": {},
   "outputs": [
    {
     "name": "stdout",
     "output_type": "stream",
     "text": [
      "MAE: 0.2623, RMSE: 0.4378\n",
      "--bestmxwords: 20\t--bestmxlen: 20\t--bestembdim: 55\t--bestunit: 64\n"
     ]
    }
   ],
   "source": [
    "print(f'MAE: {bestmodel[3]:.4f}, RMSE: {np.sqrt(bestmodel[2]):.4f}')\n",
    "print(f'--bestmxwords: {bestmxwords}', f'--bestmxlen: {bestmxlen}', f'--bestembdim: {bestembdim}', f'--bestunit: {bestunit}', sep='\\t')"
   ]
  },
  {
   "cell_type": "code",
   "execution_count": 31,
   "id": "bd7a97f2",
   "metadata": {},
   "outputs": [
    {
     "data": {
      "text/html": [
       "<div>\n",
       "<style scoped>\n",
       "    .dataframe tbody tr th:only-of-type {\n",
       "        vertical-align: middle;\n",
       "    }\n",
       "\n",
       "    .dataframe tbody tr th {\n",
       "        vertical-align: top;\n",
       "    }\n",
       "\n",
       "    .dataframe thead th {\n",
       "        text-align: right;\n",
       "    }\n",
       "</style>\n",
       "<table border=\"1\" class=\"dataframe\">\n",
       "  <thead>\n",
       "    <tr style=\"text-align: right;\">\n",
       "      <th></th>\n",
       "      <th>maxwords</th>\n",
       "      <th>maxlen</th>\n",
       "      <th>embedding_dim</th>\n",
       "      <th>unit</th>\n",
       "      <th>mse</th>\n",
       "      <th>mae</th>\n",
       "    </tr>\n",
       "  </thead>\n",
       "  <tbody>\n",
       "    <tr>\n",
       "      <th>39</th>\n",
       "      <td>20.0</td>\n",
       "      <td>20.0</td>\n",
       "      <td>55.0</td>\n",
       "      <td>64.0</td>\n",
       "      <td>0.191650</td>\n",
       "      <td>0.262344</td>\n",
       "    </tr>\n",
       "    <tr>\n",
       "      <th>25</th>\n",
       "      <td>20.0</td>\n",
       "      <td>20.0</td>\n",
       "      <td>40.0</td>\n",
       "      <td>32.0</td>\n",
       "      <td>0.192019</td>\n",
       "      <td>0.267659</td>\n",
       "    </tr>\n",
       "    <tr>\n",
       "      <th>111</th>\n",
       "      <td>20.0</td>\n",
       "      <td>30.0</td>\n",
       "      <td>50.0</td>\n",
       "      <td>64.0</td>\n",
       "      <td>0.192678</td>\n",
       "      <td>0.279257</td>\n",
       "    </tr>\n",
       "    <tr>\n",
       "      <th>32</th>\n",
       "      <td>20.0</td>\n",
       "      <td>20.0</td>\n",
       "      <td>50.0</td>\n",
       "      <td>16.0</td>\n",
       "      <td>0.193773</td>\n",
       "      <td>0.272716</td>\n",
       "    </tr>\n",
       "    <tr>\n",
       "      <th>34</th>\n",
       "      <td>20.0</td>\n",
       "      <td>20.0</td>\n",
       "      <td>50.0</td>\n",
       "      <td>48.0</td>\n",
       "      <td>0.194054</td>\n",
       "      <td>0.270079</td>\n",
       "    </tr>\n",
       "    <tr>\n",
       "      <th>41</th>\n",
       "      <td>20.0</td>\n",
       "      <td>20.0</td>\n",
       "      <td>60.0</td>\n",
       "      <td>32.0</td>\n",
       "      <td>0.194402</td>\n",
       "      <td>0.279883</td>\n",
       "    </tr>\n",
       "    <tr>\n",
       "      <th>142</th>\n",
       "      <td>20.0</td>\n",
       "      <td>30.0</td>\n",
       "      <td>90.0</td>\n",
       "      <td>48.0</td>\n",
       "      <td>0.194666</td>\n",
       "      <td>0.283536</td>\n",
       "    </tr>\n",
       "    <tr>\n",
       "      <th>108</th>\n",
       "      <td>20.0</td>\n",
       "      <td>30.0</td>\n",
       "      <td>50.0</td>\n",
       "      <td>16.0</td>\n",
       "      <td>0.194907</td>\n",
       "      <td>0.288152</td>\n",
       "    </tr>\n",
       "    <tr>\n",
       "      <th>53</th>\n",
       "      <td>20.0</td>\n",
       "      <td>20.0</td>\n",
       "      <td>75.0</td>\n",
       "      <td>32.0</td>\n",
       "      <td>0.195314</td>\n",
       "      <td>0.268854</td>\n",
       "    </tr>\n",
       "    <tr>\n",
       "      <th>15</th>\n",
       "      <td>20.0</td>\n",
       "      <td>20.0</td>\n",
       "      <td>25.0</td>\n",
       "      <td>64.0</td>\n",
       "      <td>0.195502</td>\n",
       "      <td>0.277237</td>\n",
       "    </tr>\n",
       "  </tbody>\n",
       "</table>\n",
       "</div>"
      ],
      "text/plain": [
       "     maxwords  maxlen  embedding_dim  unit       mse       mae\n",
       "39       20.0    20.0           55.0  64.0  0.191650  0.262344\n",
       "25       20.0    20.0           40.0  32.0  0.192019  0.267659\n",
       "111      20.0    30.0           50.0  64.0  0.192678  0.279257\n",
       "32       20.0    20.0           50.0  16.0  0.193773  0.272716\n",
       "34       20.0    20.0           50.0  48.0  0.194054  0.270079\n",
       "41       20.0    20.0           60.0  32.0  0.194402  0.279883\n",
       "142      20.0    30.0           90.0  48.0  0.194666  0.283536\n",
       "108      20.0    30.0           50.0  16.0  0.194907  0.288152\n",
       "53       20.0    20.0           75.0  32.0  0.195314  0.268854\n",
       "15       20.0    20.0           25.0  64.0  0.195502  0.277237"
      ]
     },
     "execution_count": 31,
     "metadata": {},
     "output_type": "execute_result"
    }
   ],
   "source": [
    "result_df.sort_values(by=['mse']).head(10)"
   ]
  },
  {
   "cell_type": "code",
   "execution_count": 32,
   "id": "3854df38",
   "metadata": {},
   "outputs": [
    {
     "data": {
      "text/html": [
       "<div>\n",
       "<style scoped>\n",
       "    .dataframe tbody tr th:only-of-type {\n",
       "        vertical-align: middle;\n",
       "    }\n",
       "\n",
       "    .dataframe tbody tr th {\n",
       "        vertical-align: top;\n",
       "    }\n",
       "\n",
       "    .dataframe thead th {\n",
       "        text-align: right;\n",
       "    }\n",
       "</style>\n",
       "<table border=\"1\" class=\"dataframe\">\n",
       "  <thead>\n",
       "    <tr style=\"text-align: right;\">\n",
       "      <th></th>\n",
       "      <th>maxwords</th>\n",
       "      <th>maxlen</th>\n",
       "      <th>embedding_dim</th>\n",
       "      <th>unit</th>\n",
       "      <th>mse</th>\n",
       "      <th>mae</th>\n",
       "    </tr>\n",
       "  </thead>\n",
       "  <tbody>\n",
       "    <tr>\n",
       "      <th>75</th>\n",
       "      <td>20.0</td>\n",
       "      <td>20.0</td>\n",
       "      <td>100.0</td>\n",
       "      <td>64.0</td>\n",
       "      <td>0.198834</td>\n",
       "      <td>0.258456</td>\n",
       "    </tr>\n",
       "    <tr>\n",
       "      <th>19</th>\n",
       "      <td>20.0</td>\n",
       "      <td>20.0</td>\n",
       "      <td>30.0</td>\n",
       "      <td>64.0</td>\n",
       "      <td>0.202728</td>\n",
       "      <td>0.259561</td>\n",
       "    </tr>\n",
       "    <tr>\n",
       "      <th>55</th>\n",
       "      <td>20.0</td>\n",
       "      <td>20.0</td>\n",
       "      <td>75.0</td>\n",
       "      <td>64.0</td>\n",
       "      <td>0.209863</td>\n",
       "      <td>0.259644</td>\n",
       "    </tr>\n",
       "    <tr>\n",
       "      <th>5</th>\n",
       "      <td>20.0</td>\n",
       "      <td>20.0</td>\n",
       "      <td>15.0</td>\n",
       "      <td>32.0</td>\n",
       "      <td>0.197696</td>\n",
       "      <td>0.260260</td>\n",
       "    </tr>\n",
       "    <tr>\n",
       "      <th>66</th>\n",
       "      <td>20.0</td>\n",
       "      <td>20.0</td>\n",
       "      <td>90.0</td>\n",
       "      <td>48.0</td>\n",
       "      <td>0.204186</td>\n",
       "      <td>0.260663</td>\n",
       "    </tr>\n",
       "    <tr>\n",
       "      <th>8</th>\n",
       "      <td>20.0</td>\n",
       "      <td>20.0</td>\n",
       "      <td>20.0</td>\n",
       "      <td>16.0</td>\n",
       "      <td>0.196922</td>\n",
       "      <td>0.261342</td>\n",
       "    </tr>\n",
       "    <tr>\n",
       "      <th>39</th>\n",
       "      <td>20.0</td>\n",
       "      <td>20.0</td>\n",
       "      <td>55.0</td>\n",
       "      <td>64.0</td>\n",
       "      <td>0.191650</td>\n",
       "      <td>0.262344</td>\n",
       "    </tr>\n",
       "    <tr>\n",
       "      <th>49</th>\n",
       "      <td>20.0</td>\n",
       "      <td>20.0</td>\n",
       "      <td>70.0</td>\n",
       "      <td>32.0</td>\n",
       "      <td>0.202179</td>\n",
       "      <td>0.262471</td>\n",
       "    </tr>\n",
       "    <tr>\n",
       "      <th>156</th>\n",
       "      <td>30.0</td>\n",
       "      <td>20.0</td>\n",
       "      <td>15.0</td>\n",
       "      <td>16.0</td>\n",
       "      <td>0.205145</td>\n",
       "      <td>0.262776</td>\n",
       "    </tr>\n",
       "    <tr>\n",
       "      <th>144</th>\n",
       "      <td>20.0</td>\n",
       "      <td>30.0</td>\n",
       "      <td>95.0</td>\n",
       "      <td>16.0</td>\n",
       "      <td>0.203727</td>\n",
       "      <td>0.262861</td>\n",
       "    </tr>\n",
       "  </tbody>\n",
       "</table>\n",
       "</div>"
      ],
      "text/plain": [
       "     maxwords  maxlen  embedding_dim  unit       mse       mae\n",
       "75       20.0    20.0          100.0  64.0  0.198834  0.258456\n",
       "19       20.0    20.0           30.0  64.0  0.202728  0.259561\n",
       "55       20.0    20.0           75.0  64.0  0.209863  0.259644\n",
       "5        20.0    20.0           15.0  32.0  0.197696  0.260260\n",
       "66       20.0    20.0           90.0  48.0  0.204186  0.260663\n",
       "8        20.0    20.0           20.0  16.0  0.196922  0.261342\n",
       "39       20.0    20.0           55.0  64.0  0.191650  0.262344\n",
       "49       20.0    20.0           70.0  32.0  0.202179  0.262471\n",
       "156      30.0    20.0           15.0  16.0  0.205145  0.262776\n",
       "144      20.0    30.0           95.0  16.0  0.203727  0.262861"
      ]
     },
     "execution_count": 32,
     "metadata": {},
     "output_type": "execute_result"
    }
   ],
   "source": [
    "result_df.sort_values(by=['mae']).head(10)"
   ]
  },
  {
   "cell_type": "markdown",
   "id": "14632991",
   "metadata": {},
   "source": [
    "## 특문 제거"
   ]
  },
  {
   "cell_type": "code",
   "execution_count": 33,
   "id": "6990a464",
   "metadata": {},
   "outputs": [
    {
     "data": {
      "application/vnd.jupyter.widget-view+json": {
       "model_id": "2968196af77e4db0b049105e5aaa7c5c",
       "version_major": 2,
       "version_minor": 0
      },
      "text/plain": [
       "  0%|          | 0/5 [00:00<?, ?it/s]"
      ]
     },
     "metadata": {},
     "output_type": "display_data"
    }
   ],
   "source": [
    "bestmodel = None\n",
    "bestloss = 9999\n",
    "bestmxwords = None\n",
    "bestmxlen = None\n",
    "bestembdim = None\n",
    "bestunit = None\n",
    "result_df = pd.DataFrame(columns=['maxwords', 'maxlen', 'embedding_dim', 'unit', 'mse', 'mae'])\n",
    "\n",
    "for mxwords in tqdm(range(20, 60+1, 10)):\n",
    "    for mxlen in [10, 15, 20, 25, 30]:\n",
    "        for embdim in range(10, 100+1, 5):\n",
    "            for unit in [16, 32, 48, 64]:\n",
    "                model = train_to_evaluate(X2_a, y, 'embedding2c.h5', mxwords, mxlen, embdim, unit)\n",
    "                result_df.loc[len(result_df)] = [mxwords, mxlen, embdim, unit, model[2], model[3]]\n",
    "                if bestloss > model[2]:\n",
    "                    bestmodel = model\n",
    "                    bestloss = model[2]\n",
    "                    bestmxwords = mxwords\n",
    "                    bestmxlen = mxlen\n",
    "                    bestembdim = embdim\n",
    "                    bestunit = unit"
   ]
  },
  {
   "cell_type": "code",
   "execution_count": 34,
   "id": "4d46a47c",
   "metadata": {},
   "outputs": [
    {
     "name": "stdout",
     "output_type": "stream",
     "text": [
      "MAE: 0.2624, RMSE: 0.4286\n",
      "--bestmxwords: 30\t--bestmxlen: 20\t--bestembdim: 90\t--bestunit: 32\n"
     ]
    }
   ],
   "source": [
    "print(f'MAE: {bestmodel[3]:.4f}, RMSE: {np.sqrt(bestmodel[2]):.4f}')\n",
    "print(f'--bestmxwords: {bestmxwords}', f'--bestmxlen: {bestmxlen}', f'--bestembdim: {bestembdim}', f'--bestunit: {bestunit}', sep='\\t')"
   ]
  },
  {
   "cell_type": "code",
   "execution_count": 35,
   "id": "2f5e34bd",
   "metadata": {},
   "outputs": [
    {
     "data": {
      "text/html": [
       "<div>\n",
       "<style scoped>\n",
       "    .dataframe tbody tr th:only-of-type {\n",
       "        vertical-align: middle;\n",
       "    }\n",
       "\n",
       "    .dataframe tbody tr th {\n",
       "        vertical-align: top;\n",
       "    }\n",
       "\n",
       "    .dataframe thead th {\n",
       "        text-align: right;\n",
       "    }\n",
       "</style>\n",
       "<table border=\"1\" class=\"dataframe\">\n",
       "  <thead>\n",
       "    <tr style=\"text-align: right;\">\n",
       "      <th></th>\n",
       "      <th>maxwords</th>\n",
       "      <th>maxlen</th>\n",
       "      <th>embedding_dim</th>\n",
       "      <th>unit</th>\n",
       "      <th>mse</th>\n",
       "      <th>mae</th>\n",
       "    </tr>\n",
       "  </thead>\n",
       "  <tbody>\n",
       "    <tr>\n",
       "      <th>597</th>\n",
       "      <td>30.0</td>\n",
       "      <td>20.0</td>\n",
       "      <td>90.0</td>\n",
       "      <td>32.0</td>\n",
       "      <td>0.183688</td>\n",
       "      <td>0.262411</td>\n",
       "    </tr>\n",
       "    <tr>\n",
       "      <th>548</th>\n",
       "      <td>30.0</td>\n",
       "      <td>20.0</td>\n",
       "      <td>30.0</td>\n",
       "      <td>16.0</td>\n",
       "      <td>0.190082</td>\n",
       "      <td>0.253869</td>\n",
       "    </tr>\n",
       "    <tr>\n",
       "      <th>589</th>\n",
       "      <td>30.0</td>\n",
       "      <td>20.0</td>\n",
       "      <td>80.0</td>\n",
       "      <td>32.0</td>\n",
       "      <td>0.190678</td>\n",
       "      <td>0.270763</td>\n",
       "    </tr>\n",
       "    <tr>\n",
       "      <th>546</th>\n",
       "      <td>30.0</td>\n",
       "      <td>20.0</td>\n",
       "      <td>25.0</td>\n",
       "      <td>48.0</td>\n",
       "      <td>0.191789</td>\n",
       "      <td>0.260937</td>\n",
       "    </tr>\n",
       "    <tr>\n",
       "      <th>538</th>\n",
       "      <td>30.0</td>\n",
       "      <td>20.0</td>\n",
       "      <td>15.0</td>\n",
       "      <td>48.0</td>\n",
       "      <td>0.191804</td>\n",
       "      <td>0.262275</td>\n",
       "    </tr>\n",
       "    <tr>\n",
       "      <th>541</th>\n",
       "      <td>30.0</td>\n",
       "      <td>20.0</td>\n",
       "      <td>20.0</td>\n",
       "      <td>32.0</td>\n",
       "      <td>0.192657</td>\n",
       "      <td>0.257827</td>\n",
       "    </tr>\n",
       "    <tr>\n",
       "      <th>549</th>\n",
       "      <td>30.0</td>\n",
       "      <td>20.0</td>\n",
       "      <td>30.0</td>\n",
       "      <td>32.0</td>\n",
       "      <td>0.192720</td>\n",
       "      <td>0.258495</td>\n",
       "    </tr>\n",
       "    <tr>\n",
       "      <th>570</th>\n",
       "      <td>30.0</td>\n",
       "      <td>20.0</td>\n",
       "      <td>55.0</td>\n",
       "      <td>48.0</td>\n",
       "      <td>0.193526</td>\n",
       "      <td>0.269716</td>\n",
       "    </tr>\n",
       "    <tr>\n",
       "      <th>1037</th>\n",
       "      <td>40.0</td>\n",
       "      <td>25.0</td>\n",
       "      <td>70.0</td>\n",
       "      <td>32.0</td>\n",
       "      <td>0.193974</td>\n",
       "      <td>0.278957</td>\n",
       "    </tr>\n",
       "    <tr>\n",
       "      <th>599</th>\n",
       "      <td>30.0</td>\n",
       "      <td>20.0</td>\n",
       "      <td>90.0</td>\n",
       "      <td>64.0</td>\n",
       "      <td>0.194010</td>\n",
       "      <td>0.253719</td>\n",
       "    </tr>\n",
       "  </tbody>\n",
       "</table>\n",
       "</div>"
      ],
      "text/plain": [
       "      maxwords  maxlen  embedding_dim  unit       mse       mae\n",
       "597       30.0    20.0           90.0  32.0  0.183688  0.262411\n",
       "548       30.0    20.0           30.0  16.0  0.190082  0.253869\n",
       "589       30.0    20.0           80.0  32.0  0.190678  0.270763\n",
       "546       30.0    20.0           25.0  48.0  0.191789  0.260937\n",
       "538       30.0    20.0           15.0  48.0  0.191804  0.262275\n",
       "541       30.0    20.0           20.0  32.0  0.192657  0.257827\n",
       "549       30.0    20.0           30.0  32.0  0.192720  0.258495\n",
       "570       30.0    20.0           55.0  48.0  0.193526  0.269716\n",
       "1037      40.0    25.0           70.0  32.0  0.193974  0.278957\n",
       "599       30.0    20.0           90.0  64.0  0.194010  0.253719"
      ]
     },
     "execution_count": 35,
     "metadata": {},
     "output_type": "execute_result"
    }
   ],
   "source": [
    "result_df.sort_values(by=['mse']).head(10)"
   ]
  },
  {
   "cell_type": "code",
   "execution_count": 36,
   "id": "e2798474",
   "metadata": {},
   "outputs": [
    {
     "data": {
      "text/html": [
       "<div>\n",
       "<style scoped>\n",
       "    .dataframe tbody tr th:only-of-type {\n",
       "        vertical-align: middle;\n",
       "    }\n",
       "\n",
       "    .dataframe tbody tr th {\n",
       "        vertical-align: top;\n",
       "    }\n",
       "\n",
       "    .dataframe thead th {\n",
       "        text-align: right;\n",
       "    }\n",
       "</style>\n",
       "<table border=\"1\" class=\"dataframe\">\n",
       "  <thead>\n",
       "    <tr style=\"text-align: right;\">\n",
       "      <th></th>\n",
       "      <th>maxwords</th>\n",
       "      <th>maxlen</th>\n",
       "      <th>embedding_dim</th>\n",
       "      <th>unit</th>\n",
       "      <th>mse</th>\n",
       "      <th>mae</th>\n",
       "    </tr>\n",
       "  </thead>\n",
       "  <tbody>\n",
       "    <tr>\n",
       "      <th>575</th>\n",
       "      <td>30.0</td>\n",
       "      <td>20.0</td>\n",
       "      <td>60.0</td>\n",
       "      <td>64.0</td>\n",
       "      <td>0.197721</td>\n",
       "      <td>0.248550</td>\n",
       "    </tr>\n",
       "    <tr>\n",
       "      <th>571</th>\n",
       "      <td>30.0</td>\n",
       "      <td>20.0</td>\n",
       "      <td>55.0</td>\n",
       "      <td>64.0</td>\n",
       "      <td>0.198871</td>\n",
       "      <td>0.251278</td>\n",
       "    </tr>\n",
       "    <tr>\n",
       "      <th>307</th>\n",
       "      <td>20.0</td>\n",
       "      <td>30.0</td>\n",
       "      <td>10.0</td>\n",
       "      <td>64.0</td>\n",
       "      <td>0.197254</td>\n",
       "      <td>0.253601</td>\n",
       "    </tr>\n",
       "    <tr>\n",
       "      <th>599</th>\n",
       "      <td>30.0</td>\n",
       "      <td>20.0</td>\n",
       "      <td>90.0</td>\n",
       "      <td>64.0</td>\n",
       "      <td>0.194010</td>\n",
       "      <td>0.253719</td>\n",
       "    </tr>\n",
       "    <tr>\n",
       "      <th>548</th>\n",
       "      <td>30.0</td>\n",
       "      <td>20.0</td>\n",
       "      <td>30.0</td>\n",
       "      <td>16.0</td>\n",
       "      <td>0.190082</td>\n",
       "      <td>0.253869</td>\n",
       "    </tr>\n",
       "    <tr>\n",
       "      <th>328</th>\n",
       "      <td>20.0</td>\n",
       "      <td>30.0</td>\n",
       "      <td>40.0</td>\n",
       "      <td>16.0</td>\n",
       "      <td>0.202181</td>\n",
       "      <td>0.254231</td>\n",
       "    </tr>\n",
       "    <tr>\n",
       "      <th>170</th>\n",
       "      <td>20.0</td>\n",
       "      <td>20.0</td>\n",
       "      <td>30.0</td>\n",
       "      <td>48.0</td>\n",
       "      <td>0.202592</td>\n",
       "      <td>0.255135</td>\n",
       "    </tr>\n",
       "    <tr>\n",
       "      <th>348</th>\n",
       "      <td>20.0</td>\n",
       "      <td>30.0</td>\n",
       "      <td>65.0</td>\n",
       "      <td>16.0</td>\n",
       "      <td>0.204938</td>\n",
       "      <td>0.255418</td>\n",
       "    </tr>\n",
       "    <tr>\n",
       "      <th>325</th>\n",
       "      <td>20.0</td>\n",
       "      <td>30.0</td>\n",
       "      <td>35.0</td>\n",
       "      <td>32.0</td>\n",
       "      <td>0.205945</td>\n",
       "      <td>0.255817</td>\n",
       "    </tr>\n",
       "    <tr>\n",
       "      <th>308</th>\n",
       "      <td>20.0</td>\n",
       "      <td>30.0</td>\n",
       "      <td>15.0</td>\n",
       "      <td>16.0</td>\n",
       "      <td>0.204639</td>\n",
       "      <td>0.256404</td>\n",
       "    </tr>\n",
       "  </tbody>\n",
       "</table>\n",
       "</div>"
      ],
      "text/plain": [
       "     maxwords  maxlen  embedding_dim  unit       mse       mae\n",
       "575      30.0    20.0           60.0  64.0  0.197721  0.248550\n",
       "571      30.0    20.0           55.0  64.0  0.198871  0.251278\n",
       "307      20.0    30.0           10.0  64.0  0.197254  0.253601\n",
       "599      30.0    20.0           90.0  64.0  0.194010  0.253719\n",
       "548      30.0    20.0           30.0  16.0  0.190082  0.253869\n",
       "328      20.0    30.0           40.0  16.0  0.202181  0.254231\n",
       "170      20.0    20.0           30.0  48.0  0.202592  0.255135\n",
       "348      20.0    30.0           65.0  16.0  0.204938  0.255418\n",
       "325      20.0    30.0           35.0  32.0  0.205945  0.255817\n",
       "308      20.0    30.0           15.0  16.0  0.204639  0.256404"
      ]
     },
     "execution_count": 36,
     "metadata": {},
     "output_type": "execute_result"
    }
   ],
   "source": [
    "result_df.sort_values(by=['mae']).head(10)"
   ]
  },
  {
   "cell_type": "markdown",
   "id": "8cbd0812",
   "metadata": {},
   "source": [
    "# 테스트"
   ]
  },
  {
   "cell_type": "code",
   "execution_count": 6,
   "id": "ecd01c2f",
   "metadata": {},
   "outputs": [],
   "source": [
    "'''\n",
    "MAE: 0.2563, RMSE: 0.4193\n",
    "--bestmxwords: 30\t--bestmxlen: 20\t--bestembdim: 15\n",
    "'''\n",
    "max_words = 30\n",
    "maxlen = 20\n",
    "\n",
    "from tensorflow.keras.models import load_model\n",
    "\n",
    "X = df['best']\n",
    "\n",
    "X = X.apply(okt_tokenizer).values\n",
    "\n",
    "tokenizer = Tokenizer(num_words=max_words)\n",
    "tokenizer.fit_on_texts(X)"
   ]
  },
  {
   "cell_type": "code",
   "execution_count": 15,
   "id": "723e48e7",
   "metadata": {},
   "outputs": [],
   "source": [
    "y = df['star']\n",
    "\n",
    "model = train_to_evaluate(X, y, 'embedding2.h5', 30, 20, 15)"
   ]
  },
  {
   "cell_type": "code",
   "execution_count": 21,
   "id": "d68ec09e",
   "metadata": {},
   "outputs": [],
   "source": [
    "X_seq = tokenizer.texts_to_sequences([okt_tokenizer('와 진짜 재밌음 작가님 기대하고 있을게요')])\n",
    "\n",
    "X_pad = pad_sequences(X_seq, maxlen=maxlen)"
   ]
  },
  {
   "cell_type": "code",
   "execution_count": 22,
   "id": "c0a9d046",
   "metadata": {},
   "outputs": [],
   "source": [
    "model = load_model('data/embedding2.h5')\n",
    "pred = model.predict(X_pad)"
   ]
  },
  {
   "cell_type": "code",
   "execution_count": 23,
   "id": "05200a79",
   "metadata": {},
   "outputs": [
    {
     "data": {
      "text/plain": [
       "array([[9.32203]], dtype=float32)"
      ]
     },
     "execution_count": 23,
     "metadata": {},
     "output_type": "execute_result"
    }
   ],
   "source": [
    "pred"
   ]
  },
  {
   "cell_type": "code",
   "execution_count": 24,
   "id": "8c1e2975",
   "metadata": {},
   "outputs": [
    {
     "data": {
      "text/plain": [
       "array([[9.292497]], dtype=float32)"
      ]
     },
     "execution_count": 24,
     "metadata": {},
     "output_type": "execute_result"
    }
   ],
   "source": [
    "X_seq = tokenizer.texts_to_sequences([okt_tokenizer('와 진짜 재미없네 이 작가 작품 다 별로임')])\n",
    "\n",
    "X_pad = pad_sequences(X_seq, maxlen=maxlen)\n",
    "pred = model.predict(X_pad)\n",
    "pred"
   ]
  },
  {
   "cell_type": "code",
   "execution_count": 25,
   "id": "e3d9b058",
   "metadata": {},
   "outputs": [
    {
     "data": {
      "text/plain": [
       "array([[9.178808]], dtype=float32)"
      ]
     },
     "execution_count": 25,
     "metadata": {},
     "output_type": "execute_result"
    }
   ],
   "source": [
    "X_seq = tokenizer.texts_to_sequences([okt_tokenizer('이거 뭐냐 왤케 잼씀 ㅋㅋㅋ')])\n",
    "\n",
    "X_pad = pad_sequences(X_seq, maxlen=maxlen)\n",
    "pred = model.predict(X_pad)\n",
    "pred"
   ]
  },
  {
   "cell_type": "markdown",
   "id": "f90e2d3d",
   "metadata": {},
   "source": [
    "성능은 괜찮아 보여도 실제로 넣어보면 아닌 것 같다. 아무래도 중앙값이 9.92점으로 높은 점수에 편중되어 있는 y값이라 그런 듯 하다.  \n",
    "차라리 점수 예측 대신에 임의로 점수를 카테고리화 하여 분류 예측을 해보는 것이 나을 수도 있을 것 같다."
   ]
  },
  {
   "cell_type": "code",
   "execution_count": null,
   "id": "54e8cea5",
   "metadata": {},
   "outputs": [],
   "source": []
  }
 ],
 "metadata": {
  "kernelspec": {
   "display_name": "Python Multi",
   "language": "python",
   "name": "multi"
  },
  "language_info": {
   "codemirror_mode": {
    "name": "ipython",
    "version": 3
   },
   "file_extension": ".py",
   "mimetype": "text/x-python",
   "name": "python",
   "nbconvert_exporter": "python",
   "pygments_lexer": "ipython3",
   "version": "3.7.6"
  },
  "toc": {
   "base_numbering": 1,
   "nav_menu": {},
   "number_sections": false,
   "sideBar": true,
   "skip_h1_title": false,
   "title_cell": "Table of Contents",
   "title_sidebar": "Contents",
   "toc_cell": false,
   "toc_position": {},
   "toc_section_display": true,
   "toc_window_display": false
  }
 },
 "nbformat": 4,
 "nbformat_minor": 5
}
