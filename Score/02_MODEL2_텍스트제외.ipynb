{
 "cells": [
  {
   "cell_type": "code",
   "execution_count": 1,
   "id": "8e0e83e0",
   "metadata": {},
   "outputs": [],
   "source": [
    "# 필요 라이브러리 호출\n",
    "import numpy as np\n",
    "import pandas as pd\n",
    "from sklearn.model_selection import train_test_split\n",
    "from lightgbm import LGBMRegressor\n",
    "from xgboost import XGBRegressor\n",
    "from sklearn.ensemble import RandomForestRegressor\n",
    "from sklearn.metrics import mean_absolute_error, mean_squared_error\n",
    "import warnings\n",
    "warnings.filterwarnings('ignore')"
   ]
  },
  {
   "cell_type": "code",
   "execution_count": 2,
   "id": "c924cd3d",
   "metadata": {},
   "outputs": [
    {
     "data": {
      "text/html": [
       "<div>\n",
       "<style scoped>\n",
       "    .dataframe tbody tr th:only-of-type {\n",
       "        vertical-align: middle;\n",
       "    }\n",
       "\n",
       "    .dataframe tbody tr th {\n",
       "        vertical-align: top;\n",
       "    }\n",
       "\n",
       "    .dataframe thead th {\n",
       "        text-align: right;\n",
       "    }\n",
       "</style>\n",
       "<table border=\"1\" class=\"dataframe\">\n",
       "  <thead>\n",
       "    <tr style=\"text-align: right;\">\n",
       "      <th></th>\n",
       "      <th>title</th>\n",
       "      <th>score</th>\n",
       "      <th>score_num</th>\n",
       "      <th>best_num</th>\n",
       "      <th>best</th>\n",
       "      <th>best_recomm</th>\n",
       "      <th>best_unrecomm</th>\n",
       "      <th>comment_num</th>\n",
       "      <th>comment</th>\n",
       "      <th>star</th>\n",
       "    </tr>\n",
       "  </thead>\n",
       "  <tbody>\n",
       "    <tr>\n",
       "      <th>0</th>\n",
       "      <td>엑스트라 데이즈</td>\n",
       "      <td>9.62</td>\n",
       "      <td>101</td>\n",
       "      <td>6</td>\n",
       "      <td>아 근데 실제로 저런 기술이 있다면 쫌 싸할것같다.. 내가 죽어도 사람들은 나랑 똑...</td>\n",
       "      <td>126</td>\n",
       "      <td>0</td>\n",
       "      <td>42</td>\n",
       "      <td>버키 왜 하나만 블러예욬ㅋㅋㅋㅋㅋ\\n이 웹툰은 개재밌을거라고 나한테 텔레파시가왔다\\...</td>\n",
       "      <td>9.65</td>\n",
       "    </tr>\n",
       "    <tr>\n",
       "      <th>1</th>\n",
       "      <td>원수를 사랑하라</td>\n",
       "      <td>9.95</td>\n",
       "      <td>31400</td>\n",
       "      <td>15</td>\n",
       "      <td>근데 여주 대단하다...엄마랑 아빠가 저런 사람들인데 멀끔히 차려입고 면접보는 거면...</td>\n",
       "      <td>129323</td>\n",
       "      <td>3789</td>\n",
       "      <td>984</td>\n",
       "      <td>그림체 마음에 드네 \\n그림체 미친\\n면접관중에 존나 보기싫은얼굴이보이는데?\\n누가...</td>\n",
       "      <td>9.92</td>\n",
       "    </tr>\n",
       "    <tr>\n",
       "      <th>2</th>\n",
       "      <td>우투리</td>\n",
       "      <td>8.50</td>\n",
       "      <td>159</td>\n",
       "      <td>4</td>\n",
       "      <td>학원액션물 만화계의 거장 임재원님의 2번째 작품 우투리입니다.... 스토리, 그림체...</td>\n",
       "      <td>194</td>\n",
       "      <td>5</td>\n",
       "      <td>51</td>\n",
       "      <td>진짜 퀄리티 말도 안되는데 덴마 이후로 미완결 작품은 그냥 혐오스럽다\\n우와아아아!...</td>\n",
       "      <td>9.20</td>\n",
       "    </tr>\n",
       "    <tr>\n",
       "      <th>3</th>\n",
       "      <td>롭플롭</td>\n",
       "      <td>9.78</td>\n",
       "      <td>290</td>\n",
       "      <td>5</td>\n",
       "      <td>나 이 작가 작품 좋아하네.... 잭슨의 관, 데빌샷 보고 바로 들어옴 \\n잭슨의 ...</td>\n",
       "      <td>410</td>\n",
       "      <td>2</td>\n",
       "      <td>64</td>\n",
       "      <td>작가님 어케 이렇게 그천이신거에요\\n노랑머리 친구 명암때문인진 몰라도장례식 이후에 ...</td>\n",
       "      <td>9.91</td>\n",
       "    </tr>\n",
       "    <tr>\n",
       "      <th>4</th>\n",
       "      <td>약초마을 연쇄살초사건</td>\n",
       "      <td>9.73</td>\n",
       "      <td>10226</td>\n",
       "      <td>15</td>\n",
       "      <td>아니ㅋㅋㅋㅋㅋㅋ작가님ㅋㅋㅋㅋㅋㅋ이제 작물 쪽으로 길을 트신건가요ㅋㅋㅋㅋㅋㅋㅋㅋ\\n팀...</td>\n",
       "      <td>62851</td>\n",
       "      <td>254</td>\n",
       "      <td>1463</td>\n",
       "      <td>ㅋㅋㅋㅋㅋㅋㅋㅋ\\n조낸 무서운 이야기인데 약초란 사실과 그림체 때문에 잔혹함이 전달...</td>\n",
       "      <td>9.87</td>\n",
       "    </tr>\n",
       "  </tbody>\n",
       "</table>\n",
       "</div>"
      ],
      "text/plain": [
       "         title  score  score_num  best_num  \\\n",
       "0     엑스트라 데이즈   9.62        101         6   \n",
       "1     원수를 사랑하라   9.95      31400        15   \n",
       "2          우투리   8.50        159         4   \n",
       "3          롭플롭   9.78        290         5   \n",
       "4  약초마을 연쇄살초사건   9.73      10226        15   \n",
       "\n",
       "                                                best  best_recomm  \\\n",
       "0  아 근데 실제로 저런 기술이 있다면 쫌 싸할것같다.. 내가 죽어도 사람들은 나랑 똑...          126   \n",
       "1  근데 여주 대단하다...엄마랑 아빠가 저런 사람들인데 멀끔히 차려입고 면접보는 거면...       129323   \n",
       "2  학원액션물 만화계의 거장 임재원님의 2번째 작품 우투리입니다.... 스토리, 그림체...          194   \n",
       "3  나 이 작가 작품 좋아하네.... 잭슨의 관, 데빌샷 보고 바로 들어옴 \\n잭슨의 ...          410   \n",
       "4  아니ㅋㅋㅋㅋㅋㅋ작가님ㅋㅋㅋㅋㅋㅋ이제 작물 쪽으로 길을 트신건가요ㅋㅋㅋㅋㅋㅋㅋㅋ\\n팀...        62851   \n",
       "\n",
       "   best_unrecomm  comment_num  \\\n",
       "0              0           42   \n",
       "1           3789          984   \n",
       "2              5           51   \n",
       "3              2           64   \n",
       "4            254         1463   \n",
       "\n",
       "                                             comment  star  \n",
       "0  버키 왜 하나만 블러예욬ㅋㅋㅋㅋㅋ\\n이 웹툰은 개재밌을거라고 나한테 텔레파시가왔다\\...  9.65  \n",
       "1  그림체 마음에 드네 \\n그림체 미친\\n면접관중에 존나 보기싫은얼굴이보이는데?\\n누가...  9.92  \n",
       "2  진짜 퀄리티 말도 안되는데 덴마 이후로 미완결 작품은 그냥 혐오스럽다\\n우와아아아!...  9.20  \n",
       "3  작가님 어케 이렇게 그천이신거에요\\n노랑머리 친구 명암때문인진 몰라도장례식 이후에 ...  9.91  \n",
       "4  ㅋㅋㅋㅋㅋㅋㅋㅋ\\n조낸 무서운 이야기인데 약초란 사실과 그림체 때문에 잔혹함이 전달...  9.87  "
      ]
     },
     "execution_count": 2,
     "metadata": {},
     "output_type": "execute_result"
    }
   ],
   "source": [
    "# 데이터 불러오기\n",
    "df = pd.read_csv('data/naver_comment.csv', encoding='utf8')\n",
    "df.head()"
   ]
  },
  {
   "cell_type": "code",
   "execution_count": 5,
   "id": "3291a984",
   "metadata": {},
   "outputs": [],
   "source": [
    "def train_to_evaluate(X, y):\n",
    "    X_train, X_test, y_train, y_test = train_test_split(X, y, test_size=0.2, random_state=0)\n",
    "    X_train, X_val, y_train, y_val = train_test_split(X_train, y_train, test_size=0.2, random_state=0)\n",
    "    \n",
    "    lgbm = LGBMRegressor()\n",
    "    xgb = XGBRegressor()\n",
    "    rf = RandomForestRegressor()\n",
    "\n",
    "    regs = [lgbm, xgb, rf]\n",
    "\n",
    "    result = []\n",
    "    for reg in regs:\n",
    "        reg.fit(X_train, y_train)\n",
    "        pred = reg.predict(X_val)\n",
    "        mae = mean_absolute_error(y_val, pred)\n",
    "        rmse = np.sqrt(mean_squared_error(y_val, pred))\n",
    "        print(reg.__class__.__name__)\n",
    "        print(f'MAE : {mae:.4f}, RMSE : {rmse:.4f}')\n",
    "        \n",
    "    return regs"
   ]
  },
  {
   "cell_type": "markdown",
   "id": "da01a46c",
   "metadata": {},
   "source": [
    "# 1. 텍스트 제외 모든 feature"
   ]
  },
  {
   "cell_type": "code",
   "execution_count": 6,
   "id": "b4e18294",
   "metadata": {},
   "outputs": [
    {
     "name": "stdout",
     "output_type": "stream",
     "text": [
      "LGBMRegressor\n",
      "MAE : 0.1773, RMSE : 0.3286\n",
      "XGBRegressor\n",
      "MAE : 0.1891, RMSE : 0.4106\n",
      "RandomForestRegressor\n",
      "MAE : 0.1692, RMSE : 0.3719\n"
     ]
    }
   ],
   "source": [
    "X = df.drop(columns=['title', 'best', 'comment', 'star'])\n",
    "y = df['star']\n",
    "\n",
    "regs1 = train_to_evaluate(X, y)"
   ]
  },
  {
   "cell_type": "markdown",
   "id": "6ef43abc",
   "metadata": {},
   "source": [
    "# 2. 베댓 추천 수, 비추천 수 제외"
   ]
  },
  {
   "cell_type": "code",
   "execution_count": 7,
   "id": "b30afa08",
   "metadata": {},
   "outputs": [
    {
     "name": "stdout",
     "output_type": "stream",
     "text": [
      "LGBMRegressor\n",
      "MAE : 0.1567, RMSE : 0.2952\n",
      "XGBRegressor\n",
      "MAE : 0.1860, RMSE : 0.4040\n",
      "RandomForestRegressor\n",
      "MAE : 0.1697, RMSE : 0.3830\n"
     ]
    }
   ],
   "source": [
    "X = df.drop(columns=['title', 'best', 'comment', 'star', 'best_recomm', 'best_unrecomm'])\n",
    "y = df['star']\n",
    "\n",
    "regs2 = train_to_evaluate(X, y)"
   ]
  },
  {
   "cell_type": "markdown",
   "id": "b08e3621",
   "metadata": {},
   "source": [
    "## 추가적으로 베댓 수도 제외"
   ]
  },
  {
   "cell_type": "code",
   "execution_count": 8,
   "id": "8e5be1ae",
   "metadata": {},
   "outputs": [
    {
     "name": "stdout",
     "output_type": "stream",
     "text": [
      "LGBMRegressor\n",
      "MAE : 0.1560, RMSE : 0.2900\n",
      "XGBRegressor\n",
      "MAE : 0.1837, RMSE : 0.3937\n",
      "RandomForestRegressor\n",
      "MAE : 0.1677, RMSE : 0.3792\n"
     ]
    }
   ],
   "source": [
    "X = X.drop(columns=['best_num'])\n",
    "\n",
    "regs2_a = train_to_evaluate(X, y)"
   ]
  },
  {
   "cell_type": "markdown",
   "id": "33e4ac1e",
   "metadata": {},
   "source": [
    "## 베댓 수만 제외"
   ]
  },
  {
   "cell_type": "code",
   "execution_count": 11,
   "id": "a800ea79",
   "metadata": {},
   "outputs": [
    {
     "name": "stdout",
     "output_type": "stream",
     "text": [
      "LGBMRegressor\n",
      "MAE : 0.1776, RMSE : 0.3320\n",
      "XGBRegressor\n",
      "MAE : 0.1982, RMSE : 0.4265\n",
      "RandomForestRegressor\n",
      "MAE : 0.1688, RMSE : 0.3752\n"
     ]
    }
   ],
   "source": [
    "X = df.drop(columns=['title', 'best', 'comment', 'star', 'best_num'])\n",
    "y = df['star']\n",
    "\n",
    "regs2_b = train_to_evaluate(X, y)"
   ]
  },
  {
   "cell_type": "markdown",
   "id": "330f615c",
   "metadata": {},
   "source": [
    "# 3. 1화 평점 제외"
   ]
  },
  {
   "cell_type": "code",
   "execution_count": 9,
   "id": "707021d5",
   "metadata": {},
   "outputs": [
    {
     "name": "stdout",
     "output_type": "stream",
     "text": [
      "LGBMRegressor\n",
      "MAE : 0.3304, RMSE : 0.5263\n",
      "XGBRegressor\n",
      "MAE : 0.2946, RMSE : 0.5495\n",
      "RandomForestRegressor\n",
      "MAE : 0.2657, RMSE : 0.5126\n"
     ]
    }
   ],
   "source": [
    "X = df.drop(columns=['title', 'best', 'comment', 'star', 'score'])\n",
    "y = df['star']\n",
    "\n",
    "regs3 = train_to_evaluate(X, y)"
   ]
  },
  {
   "cell_type": "markdown",
   "id": "cb8f8d85",
   "metadata": {},
   "source": [
    "# 4. 1화 평점, 평가 인원으로만"
   ]
  },
  {
   "cell_type": "code",
   "execution_count": 10,
   "id": "63145a3f",
   "metadata": {},
   "outputs": [
    {
     "name": "stdout",
     "output_type": "stream",
     "text": [
      "LGBMRegressor\n",
      "MAE : 0.1446, RMSE : 0.2774\n",
      "XGBRegressor\n",
      "MAE : 0.1901, RMSE : 0.4133\n",
      "RandomForestRegressor\n",
      "MAE : 0.1727, RMSE : 0.3801\n"
     ]
    }
   ],
   "source": [
    "X = df[['score', 'score_num']]\n",
    "y = df['star']\n",
    "\n",
    "regs4 = train_to_evaluate(X, y)"
   ]
  },
  {
   "cell_type": "markdown",
   "id": "84fbd616",
   "metadata": {},
   "source": [
    "당연한 결과겠지만, 1화 평점이 평균 평점을 예측하는 데 있어 매우 중요한 요소이며 그렇다고 1화 평점만으로는 평균 평점을 예측하는 데 무리가 있다.  \n",
    "그리고 베댓 수, 베댓 추천 수, 베댓 비추천 수는 오히려 오차를 늘리는 요소이므로 향후 최종 모델에서는 제외하는 것으로...  \n",
    "또한 TF-IDF 결과보다 더 우수한 결과가 나왔다."
   ]
  },
  {
   "cell_type": "code",
   "execution_count": null,
   "id": "c98cb557",
   "metadata": {},
   "outputs": [],
   "source": []
  }
 ],
 "metadata": {
  "kernelspec": {
   "display_name": "Python Multi",
   "language": "python",
   "name": "multi"
  },
  "language_info": {
   "codemirror_mode": {
    "name": "ipython",
    "version": 3
   },
   "file_extension": ".py",
   "mimetype": "text/x-python",
   "name": "python",
   "nbconvert_exporter": "python",
   "pygments_lexer": "ipython3",
   "version": "3.7.6"
  },
  "toc": {
   "base_numbering": 1,
   "nav_menu": {},
   "number_sections": false,
   "sideBar": true,
   "skip_h1_title": false,
   "title_cell": "Table of Contents",
   "title_sidebar": "Contents",
   "toc_cell": false,
   "toc_position": {},
   "toc_section_display": true,
   "toc_window_display": false
  }
 },
 "nbformat": 4,
 "nbformat_minor": 5
}
