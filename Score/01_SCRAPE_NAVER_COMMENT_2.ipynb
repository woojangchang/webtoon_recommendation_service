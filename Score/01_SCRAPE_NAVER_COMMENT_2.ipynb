{
 "cells": [
  {
   "cell_type": "code",
   "execution_count": 1,
   "id": "e5c177c9",
   "metadata": {},
   "outputs": [],
   "source": [
    "import requests\n",
    "from bs4 import BeautifulSoup\n",
    "import numpy as np\n",
    "import pandas as pd\n",
    "from selenium import webdriver\n",
    "\n",
    "url_main = 'https://comic.naver.com/' # webtoon/finish 완결, webtoon/detail?titleId=xxx&no=1 1화\n",
    "driver_path = 'data/chromedriver.exe'\n",
    "\n",
    "# 19세 이상 웹툰 데이터 수집을 위한 selenium 사용\n",
    "driver = webdriver.Chrome(executable_path=driver_path)"
   ]
  },
  {
   "cell_type": "code",
   "execution_count": 2,
   "id": "83bbdbee",
   "metadata": {},
   "outputs": [],
   "source": [
    "driver.get(url_main + 'webtoon/finish')"
   ]
  },
  {
   "cell_type": "markdown",
   "id": "8022af0f",
   "metadata": {},
   "source": [
    "직접 로그인 진행"
   ]
  },
  {
   "cell_type": "code",
   "execution_count": 8,
   "id": "19b8fae9",
   "metadata": {},
   "outputs": [],
   "source": [
    "def get_webtoon_titleId(url_main=url_main):\n",
    "    r = requests.get(url_main + 'webtoon/finish').text\n",
    "    soup = BeautifulSoup(r, 'lxml')\n",
    "    a_list = soup.select('div.thumb a')\n",
    "    \n",
    "    webtoon_details = []\n",
    "    epi_url_list = []\n",
    "    comment_url_list = []\n",
    "    \n",
    "    for a in a_list:\n",
    "        webtoon_detail = url_main + 'webtoon/list' + a.attrs['href'].split('list')[-1]\n",
    "        epi_url = url_main + 'webtoon/detail' + a.attrs['href'].split('list')[-1]\n",
    "        comment_url = url_main + 'comment/comment' + a.attrs['href'].split('list')[-1]\n",
    "        \n",
    "        webtoon_details.append(webtoon_detail)\n",
    "        epi_url_list.append(epi_url)\n",
    "        comment_url_list.append(comment_url)\n",
    "        \n",
    "    return webtoon_details, epi_url_list, comment_url_list"
   ]
  },
  {
   "cell_type": "code",
   "execution_count": 9,
   "id": "a3acc6bb",
   "metadata": {},
   "outputs": [],
   "source": [
    "webtoon_details, epi_url_list, comment_url_list = get_webtoon_titleId()"
   ]
  },
  {
   "cell_type": "code",
   "execution_count": 10,
   "id": "84edb187",
   "metadata": {},
   "outputs": [
    {
     "data": {
      "text/plain": [
       "['https://comic.naver.com/webtoon/list?titleId=780986',\n",
       " 'https://comic.naver.com/webtoon/list?titleId=780987',\n",
       " 'https://comic.naver.com/webtoon/list?titleId=780984',\n",
       " 'https://comic.naver.com/webtoon/list?titleId=749456',\n",
       " 'https://comic.naver.com/webtoon/list?titleId=733079',\n",
       " 'https://comic.naver.com/webtoon/list?titleId=780857',\n",
       " 'https://comic.naver.com/webtoon/list?titleId=780983',\n",
       " 'https://comic.naver.com/webtoon/list?titleId=776541',\n",
       " 'https://comic.naver.com/webtoon/list?titleId=755674',\n",
       " 'https://comic.naver.com/webtoon/list?titleId=655749']"
      ]
     },
     "execution_count": 10,
     "metadata": {},
     "output_type": "execute_result"
    }
   ],
   "source": [
    "webtoon_details[:10]"
   ]
  },
  {
   "cell_type": "code",
   "execution_count": 33,
   "id": "843606f2",
   "metadata": {},
   "outputs": [
    {
     "data": {
      "text/plain": [
       "[9.31, 9.48, 9.8, 9.98, 9.92, 9.29, 9.93, 9.87, 9.94, 9.97]"
      ]
     },
     "execution_count": 33,
     "metadata": {},
     "output_type": "execute_result"
    }
   ],
   "source": [
    "soup = BeautifulSoup(driver.page_source, 'lxml')\n",
    "stars = soup.select('div.rating_type strong')\n",
    "stars = [float(star.get_text()) for star in stars]\n",
    "stars[:10]"
   ]
  },
  {
   "cell_type": "code",
   "execution_count": 34,
   "id": "6dad3906",
   "metadata": {},
   "outputs": [
    {
     "data": {
      "text/plain": [
       "(1064, 1064, 1064, 1064)"
      ]
     },
     "execution_count": 34,
     "metadata": {},
     "output_type": "execute_result"
    }
   ],
   "source": [
    "len(webtoon_details), len(epi_url_list), len(comment_url_list), len(stars)"
   ]
  },
  {
   "cell_type": "markdown",
   "id": "c22d84b9",
   "metadata": {},
   "source": [
    "# 회차별 댓글 수집\n",
    "- 2013년 5월 이후 업로드된 작품만 수집(베댓 시스템 생긴 시점)\n",
    "- 좋아요(하트) 100 이상의 작품만 수집(다른 플랫폼에서 완결되어 넘어온 웹툰 제외)"
   ]
  },
  {
   "cell_type": "code",
   "execution_count": 14,
   "id": "3d5dfb89",
   "metadata": {},
   "outputs": [
    {
     "data": {
      "text/plain": [
       "'99,999+'"
      ]
     },
     "execution_count": 14,
     "metadata": {},
     "output_type": "execute_result"
    }
   ],
   "source": [
    "soup = BeautifulSoup(driver.page_source, 'lxml')\n",
    "soup.select('em.u_cnt')[0].get_text()"
   ]
  },
  {
   "cell_type": "code",
   "execution_count": 15,
   "id": "e5a20455",
   "metadata": {},
   "outputs": [
    {
     "data": {
      "text/plain": [
       "99999"
      ]
     },
     "execution_count": 15,
     "metadata": {},
     "output_type": "execute_result"
    }
   ],
   "source": [
    "int(soup.select('em.u_cnt')[0].get_text().replace(',', '').replace('+', ''))"
   ]
  },
  {
   "cell_type": "markdown",
   "id": "1e5f3278",
   "metadata": {},
   "source": [
    "## 함수 생성"
   ]
  },
  {
   "cell_type": "code",
   "execution_count": 19,
   "id": "bfa914d9",
   "metadata": {},
   "outputs": [],
   "source": [
    "import time\n",
    "import datetime\n",
    "\n",
    "basedate = datetime.date(2013, 5, 1)\n",
    "\n",
    "def get_comment_epi(webtoon_detail, epi_url, comment_url, star, after=basedate, no=1):\n",
    "    \"\"\"\n",
    "    webtoon_detail : 작품의 상세 페이지 (좋아요 수를 가져오기 위한 url)\n",
    "    epi_url : 회차 base url (작품 제목과 날짜를 가져오기 위한 url)\n",
    "    comment_url : 회차 댓글 url (베스트 댓글 수 등을 가져오기 위한 url)\n",
    "    star : 평균 평점 (예측을 위한 값(y))\n",
    "    after : 베댓 시스템이 생긴 2013년 5월 이후로만 수집\n",
    "    no : 회차\n",
    "    \"\"\"\n",
    "    \n",
    "    # 좋아요 수를 추출하여 100 미만이면 pass\n",
    "    driver.get(webtoon_detail)\n",
    "    time.sleep(0.5)\n",
    "    soup = BeautifulSoup(driver.page_source, 'lxml')\n",
    "    like = soup.select('em.u_cnt')\n",
    "    \n",
    "    # 좋아요 수가 0인 경우\n",
    "    if len(like) == 0:\n",
    "        return\n",
    "    \n",
    "    like = int(like[0].get_text().replace(',', '').replace('+', ''))\n",
    "    if like < 100:\n",
    "        return\n",
    "    \n",
    "    # 우선 날짜를 추출 하여 2013년 5월 전에 올라온 회차면 pass\n",
    "    driver.get(epi_url + '&no={}'.format(no))\n",
    "    time.sleep(0.5)\n",
    "    soup = BeautifulSoup(driver.page_source, 'html.parser')\n",
    "    date = soup.select('.date')[0].get_text()\n",
    "    date = datetime.date(int(date.split('.')[0]), int(date.split('.')[1]), int(date.split('.')[2]))\n",
    "    \n",
    "    if date < basedate:\n",
    "        return\n",
    "    \n",
    "    # 제목과 평점, 평가한 인원 수 가져오기\n",
    "    title = soup.select('.detail')[0].get_text().split('\\t')[0].strip()\n",
    "    score = float(soup.select('#topPointTotalNumber')[0].get_text())\n",
    "    score_num = int(soup.select('.pointTotalPerson em')[0].get_text())\n",
    "    \n",
    "    # 베스트 댓글 수, 내용, 추천 합, 비추천 합 추출\n",
    "    driver.get(comment_url + '&no={}'.format(no))\n",
    "    time.sleep(0.5)\n",
    "    soup = BeautifulSoup(driver.page_source, 'html.parser')\n",
    "    best_comments = soup.select('.u_cbox_contents')\n",
    "    \n",
    "    best_comments_num = len(best_comments)\n",
    "    best_comments = [comment.get_text() for comment in best_comments]\n",
    "    best_comments = '\\n'.join(best_comments) # 댓글을 하나로 합침\n",
    "    \n",
    "    recommen = soup.select('.u_cbox_cnt_recomm')\n",
    "    recommen = [int(num.get_text()) for num in recommen]\n",
    "    sum_recommen = sum(recommen)\n",
    "    \n",
    "    unrecomm = soup.select('.u_cbox_cnt_unrecomm')\n",
    "    unrecomm = [int(num.get_text()) for num in unrecomm]\n",
    "    sum_unrecomm = sum(unrecomm)\n",
    "    \n",
    "    # 전체 댓글 수, 최근 15개 댓글 내용 추출\n",
    "    comments_num = int(soup.select('.u_cbox_count')[0].get_text().replace(',', ''))\n",
    "    \n",
    "    driver.find_element_by_css_selector('#cbox_module_wai_u_cbox_sort_option_tab2 > span.u_cbox_sort_label').click()\n",
    "    time.sleep(0.5)\n",
    "    \n",
    "    soup = BeautifulSoup(driver.page_source, 'html.parser')\n",
    "    comments_ = soup.select('.u_cbox_contents')\n",
    "    comments_ = [comment.get_text() for comment in comments_]\n",
    "    comments_ = '\\n'.join(comments_)\n",
    "    \n",
    "    return [title, score, score_num, best_comments_num, best_comments, sum_recommen, sum_unrecomm, comments_num, comments_, star]"
   ]
  },
  {
   "cell_type": "code",
   "execution_count": 27,
   "id": "9ec73871",
   "metadata": {},
   "outputs": [],
   "source": [
    "# 테스트 (좋아요 수 71)\n",
    "result = get_comment_epi(webtoon_details[15], epi_url_list[15], comment_url_list[15], stars[15])\n",
    "result"
   ]
  },
  {
   "cell_type": "code",
   "execution_count": 29,
   "id": "b57a1a68",
   "metadata": {},
   "outputs": [],
   "source": [
    "# 테스트2 (2012년 작품)\n",
    "result = get_comment_epi('https://comic.naver.com/webtoon/list?titleId=318995', 'https://comic.naver.com/webtoon/detail?titleId=318995', 'https://comic.naver.com/comment/comment?titleId=318995', 0)\n",
    "result"
   ]
  },
  {
   "cell_type": "code",
   "execution_count": 31,
   "id": "66f00f05",
   "metadata": {},
   "outputs": [
    {
     "data": {
      "text/plain": [
       "['롤랑롤랑',\n",
       " 9.96,\n",
       " 46931,\n",
       " 15,\n",
       " '완전 동화책 같다...\\n강아지들 빵실빵실할게 너무 귀엽다ㅠㅠㅠ\\n아 자유님!  정말 기다렸어요얼마만에 나온 신작인지 다른작품도재밌는데비인기라는게 넘 아쉬웠습니다 점수매기자면백점만점중 백점인데ㅠㅠ괄호열고 전에있던 작품도 재연재하였으면... 좋겠네요이 작가님은 다른작품들도 재밌어서 쿠키 구워드리고 싶은데...  괄호닫고만화 재밌게 잘보겠습니다세계에서 제일가는 작가가 됬음 좋겠어요^^\\n몰랑 몰랑한 개 볼 만지고 싶다 몰랑 몰랑\\n헉 너무 아기자기해ㅠㅠㅠㅠ완전 기대된다\\n웰시코기하면 꼭 저 이야기 하시는 분들이 계시는데.. 있는 웰시코기가 있고 없는 웰시코기가 따로 있습니다 무조건 학대당한 동물이라고 어필하진 말아주세요...\\n저희집 웰시코기는 꼬리가 원래 짧은 팸브룩 종입니다. 모든 웰시코기가 다 자르지는 않아요. 가디건 종도 단미하지 않는게 추세로 떠오르고 있구요. 그리고 부득이한 미용목적의 단미도 병원에서 충분히 안전하게 수술을 통해서 단미합니다. 웰시코기 견주로써 정확하지 않은 의견이 다수인양 퍼지는게 슬퍼서요.\\n별점 테러 진짜 그만 좀 하자\\n베댓분이 하신 말씀이 틀린 건 아니지만 태어날 때 부터 꼬리 없는 웰시코기는 없습니다.자연 단미인 아이들도 꼬리가 짧을 뿐 형태는 있어요. (짧고 뭉툭함)한국에서 보이는 대부분의 펨브룩도 꼬리의 형태가 없다면 단미수술을 거친 아이들입니다. 자연 단미는 거의 없다고 봐야해요.꼬리가 아예 없는 것 처럼 보이는 웰시코기들은 전부 단미 수술한 애들이 맞아요..\\n베너사진 왹굳형이랑 메시 인줄\\n아 인챈트 작가님이시구나 그림체가 전작과 달라보여서 헷갈렸어요ㅎㅎ 이번 작품도 잘 부탁드립니다!\\n다들 웰시코기 꼬리 얘기만 하시는데 저는 그것보다 다른 동물들은 모두 인간을 없애려? 하는데 개들만이 인간을 용서해달라고 빌었던 장면에서 정말 울컥했네요. 지금도 인간에 의해 고통받는 개들이 많을텐데 진짜 개들에게 미안하고 또 인간과 같이 살아줘서 고마워요\\n나도 어쩔 수 없는 침팬지인가봐...와꾸텽이 왜 거기서 나와?\\n알마...(무릎꿇음)\\n아줌마 보러 왔슴다',\n",
       " 125677,\n",
       " 1581,\n",
       " 4000,\n",
       " '다리긴 강아지로 변신하면 되는거 아닌가요?\\n정주행다시간다...\\n?? 웰시코기 꼬리가 왜 짤려있죠?\\n중간에 하차해버렸어서... 완결난 겸 정주행 감니다\\n캐릭터는 귀여움.\\n4001\\n저게 미화였다니...\\n완결한지 몰랏다,, 다시 정주행해야징!\\n재밌어보인다 정주행가즈아\\n재정주행하러왔습니당\\n완결기념 정주행 스타트\\n이때는 힐링인줄 알았죠..\\n우리 롤랑이 너무 귀여워ㅠㅠ\\n정주행의 계절..\\n알마… 내 최애 언니 두명 중 한명… 역시 언니 믿고 있었어… 반전의 반전…',\n",
       " <strong>9.98</strong>]"
      ]
     },
     "execution_count": 31,
     "metadata": {},
     "output_type": "execute_result"
    }
   ],
   "source": [
    "# 테스트3\n",
    "result = get_comment_epi(webtoon_details[14], epi_url_list[14], comment_url_list[14], stars[14])\n",
    "result"
   ]
  },
  {
   "cell_type": "code",
   "execution_count": 35,
   "id": "530df18c",
   "metadata": {
    "scrolled": true
   },
   "outputs": [
    {
     "name": "stderr",
     "output_type": "stream",
     "text": [
      "100%|██████████████████████████████████████████████████████████████████████████████| 1064/1064 [44:44<00:00,  2.52s/it]\n"
     ]
    },
    {
     "data": {
      "text/html": [
       "<div>\n",
       "<style scoped>\n",
       "    .dataframe tbody tr th:only-of-type {\n",
       "        vertical-align: middle;\n",
       "    }\n",
       "\n",
       "    .dataframe tbody tr th {\n",
       "        vertical-align: top;\n",
       "    }\n",
       "\n",
       "    .dataframe thead th {\n",
       "        text-align: right;\n",
       "    }\n",
       "</style>\n",
       "<table border=\"1\" class=\"dataframe\">\n",
       "  <thead>\n",
       "    <tr style=\"text-align: right;\">\n",
       "      <th></th>\n",
       "      <th>title</th>\n",
       "      <th>score</th>\n",
       "      <th>score_num</th>\n",
       "      <th>best_num</th>\n",
       "      <th>best</th>\n",
       "      <th>best_recomm</th>\n",
       "      <th>best_unrecomm</th>\n",
       "      <th>comment_num</th>\n",
       "      <th>comment</th>\n",
       "      <th>star</th>\n",
       "    </tr>\n",
       "  </thead>\n",
       "  <tbody>\n",
       "    <tr>\n",
       "      <th>0</th>\n",
       "      <td>웰캄투실버라이프</td>\n",
       "      <td>9.94</td>\n",
       "      <td>19878</td>\n",
       "      <td>15</td>\n",
       "      <td>아 할머니 귀여우시다 힐링툰 감이 오네요 잘볼게용!\\n시리얼에 뜨거운 우유...나만...</td>\n",
       "      <td>52588</td>\n",
       "      <td>599</td>\n",
       "      <td>2220</td>\n",
       "      <td>정주행 시작\\n솔찍히 자는데 깨우면 짜증남..할머니라도..맘은 이해하지만 더 자고 ...</td>\n",
       "      <td>9.98</td>\n",
       "    </tr>\n",
       "    <tr>\n",
       "      <th>1</th>\n",
       "      <td>원수를 사랑하라</td>\n",
       "      <td>9.95</td>\n",
       "      <td>31528</td>\n",
       "      <td>15</td>\n",
       "      <td>근데 여주 대단하다...엄마랑 아빠가 저런 사람들인데 멀끔히 차려입고 면접보는 거면...</td>\n",
       "      <td>129562</td>\n",
       "      <td>3792</td>\n",
       "      <td>987</td>\n",
       "      <td>근데 나 자신을 믿는것.. 지금 내가 제일 필요한 말임..ㅠㅠㅠㅠㅠ 어제 면접 말려...</td>\n",
       "      <td>9.92</td>\n",
       "    </tr>\n",
       "    <tr>\n",
       "      <th>2</th>\n",
       "      <td>약초마을 연쇄살초사건</td>\n",
       "      <td>9.73</td>\n",
       "      <td>10367</td>\n",
       "      <td>15</td>\n",
       "      <td>아니ㅋㅋㅋㅋㅋㅋ작가님ㅋㅋㅋㅋㅋㅋ이제 작물 쪽으로 길을 트신건가요ㅋㅋㅋㅋㅋㅋㅋㅋ\\n팀...</td>\n",
       "      <td>63294</td>\n",
       "      <td>255</td>\n",
       "      <td>1462</td>\n",
       "      <td>이거 왤케 재밌냨ㅋ 팀장님 죽었는데 뒷담 까는거 보소\\n약초마을 연쇄살인도 아닌 연...</td>\n",
       "      <td>9.87</td>\n",
       "    </tr>\n",
       "    <tr>\n",
       "      <th>3</th>\n",
       "      <td>AI가 세상을 지배한다면</td>\n",
       "      <td>9.88</td>\n",
       "      <td>12207</td>\n",
       "      <td>15</td>\n",
       "      <td>그대가 POGO 싶었소\\n라움 코드 자기가 넣었다고... 이리 당당하게 선전POGO...</td>\n",
       "      <td>59238</td>\n",
       "      <td>967</td>\n",
       "      <td>2036</td>\n",
       "      <td>완결보고 정주행만 3번째 볼때마다 감정이 다름 영화로 나오기엔 잘라내거나 스토리에 ...</td>\n",
       "      <td>9.94</td>\n",
       "    </tr>\n",
       "    <tr>\n",
       "      <th>4</th>\n",
       "      <td>닥터 프로스트 시즌 3~4</td>\n",
       "      <td>9.95</td>\n",
       "      <td>30579</td>\n",
       "      <td>15</td>\n",
       "      <td>아무생각없이 내렸다가 이거 보고 놀란사람 손!!!\\n헐?\\n제가 이 웹툰을 보면서 ...</td>\n",
       "      <td>119758</td>\n",
       "      <td>2817</td>\n",
       "      <td>9707</td>\n",
       "      <td>퍄ㅑㅑ\\n닥프 1기 2기 무료로 풀려있으니까 꼭보세요\\n아 이런 띵작은 유료되기전에...</td>\n",
       "      <td>9.97</td>\n",
       "    </tr>\n",
       "  </tbody>\n",
       "</table>\n",
       "</div>"
      ],
      "text/plain": [
       "            title  score  score_num  best_num  \\\n",
       "0        웰캄투실버라이프   9.94      19878        15   \n",
       "1        원수를 사랑하라   9.95      31528        15   \n",
       "2     약초마을 연쇄살초사건   9.73      10367        15   \n",
       "3   AI가 세상을 지배한다면   9.88      12207        15   \n",
       "4  닥터 프로스트 시즌 3~4   9.95      30579        15   \n",
       "\n",
       "                                                best  best_recomm  \\\n",
       "0  아 할머니 귀여우시다 힐링툰 감이 오네요 잘볼게용!\\n시리얼에 뜨거운 우유...나만...        52588   \n",
       "1  근데 여주 대단하다...엄마랑 아빠가 저런 사람들인데 멀끔히 차려입고 면접보는 거면...       129562   \n",
       "2  아니ㅋㅋㅋㅋㅋㅋ작가님ㅋㅋㅋㅋㅋㅋ이제 작물 쪽으로 길을 트신건가요ㅋㅋㅋㅋㅋㅋㅋㅋ\\n팀...        63294   \n",
       "3  그대가 POGO 싶었소\\n라움 코드 자기가 넣었다고... 이리 당당하게 선전POGO...        59238   \n",
       "4  아무생각없이 내렸다가 이거 보고 놀란사람 손!!!\\n헐?\\n제가 이 웹툰을 보면서 ...       119758   \n",
       "\n",
       "   best_unrecomm  comment_num  \\\n",
       "0            599         2220   \n",
       "1           3792          987   \n",
       "2            255         1462   \n",
       "3            967         2036   \n",
       "4           2817         9707   \n",
       "\n",
       "                                             comment  star  \n",
       "0  정주행 시작\\n솔찍히 자는데 깨우면 짜증남..할머니라도..맘은 이해하지만 더 자고 ...  9.98  \n",
       "1  근데 나 자신을 믿는것.. 지금 내가 제일 필요한 말임..ㅠㅠㅠㅠㅠ 어제 면접 말려...  9.92  \n",
       "2  이거 왤케 재밌냨ㅋ 팀장님 죽었는데 뒷담 까는거 보소\\n약초마을 연쇄살인도 아닌 연...  9.87  \n",
       "3  완결보고 정주행만 3번째 볼때마다 감정이 다름 영화로 나오기엔 잘라내거나 스토리에 ...  9.94  \n",
       "4  퍄ㅑㅑ\\n닥프 1기 2기 무료로 풀려있으니까 꼭보세요\\n아 이런 띵작은 유료되기전에...  9.97  "
      ]
     },
     "execution_count": 35,
     "metadata": {},
     "output_type": "execute_result"
    }
   ],
   "source": [
    "# 코드 돌리기 전에 반드시 클린봇 OFF로!!\n",
    "\n",
    "import pandas as pd\n",
    "from tqdm import tqdm\n",
    "\n",
    "results = []\n",
    "for webtoon_detail, epi_url, comment_url, star in tqdm(zip(webtoon_details, epi_url_list, comment_url_list, stars), total=len(epi_url_list)):\n",
    "    result = get_comment_epi(webtoon_detail, epi_url, comment_url, star)\n",
    "    if result is None:\n",
    "        continue\n",
    "    results.append(result)\n",
    "    \n",
    "df = pd.DataFrame(results, columns=['title', 'score', 'score_num', 'best_num', 'best', 'best_recomm', 'best_unrecomm', 'comment_num', 'comment', 'star'])\n",
    "df.head()"
   ]
  },
  {
   "cell_type": "code",
   "execution_count": 36,
   "id": "ebecb12a",
   "metadata": {},
   "outputs": [],
   "source": [
    "df.to_csv('data/naver_comment_2.csv', encoding='utf-8-sig', index=False)"
   ]
  },
  {
   "cell_type": "code",
   "execution_count": 37,
   "id": "3a14cf10",
   "metadata": {},
   "outputs": [],
   "source": [
    "driver.close()"
   ]
  },
  {
   "cell_type": "code",
   "execution_count": null,
   "id": "49245311",
   "metadata": {},
   "outputs": [],
   "source": []
  }
 ],
 "metadata": {
  "kernelspec": {
   "display_name": "Python Multi",
   "language": "python",
   "name": "multi"
  },
  "language_info": {
   "codemirror_mode": {
    "name": "ipython",
    "version": 3
   },
   "file_extension": ".py",
   "mimetype": "text/x-python",
   "name": "python",
   "nbconvert_exporter": "python",
   "pygments_lexer": "ipython3",
   "version": "3.7.6"
  },
  "toc": {
   "base_numbering": 1,
   "nav_menu": {},
   "number_sections": false,
   "sideBar": true,
   "skip_h1_title": false,
   "title_cell": "Table of Contents",
   "title_sidebar": "Contents",
   "toc_cell": false,
   "toc_position": {},
   "toc_section_display": true,
   "toc_window_display": false
  }
 },
 "nbformat": 4,
 "nbformat_minor": 5
}
