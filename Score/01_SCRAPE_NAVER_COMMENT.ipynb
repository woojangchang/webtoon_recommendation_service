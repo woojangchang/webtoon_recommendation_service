{
 "cells": [
  {
   "cell_type": "code",
   "execution_count": 1,
   "id": "e5c177c9",
   "metadata": {},
   "outputs": [],
   "source": [
    "import requests\n",
    "from bs4 import BeautifulSoup\n",
    "import numpy as np\n",
    "import pandas as pd\n",
    "from selenium import webdriver\n",
    "\n",
    "url_main = 'https://comic.naver.com/' # webtoon/finish 완결, webtoon/detail?titleId=xxx&no=1 1화\n",
    "driver_path = 'data/chromedriver.exe'\n",
    "\n",
    "# 19세 이상 웹툰 데이터 수집을 위한 selenium 사용\n",
    "driver = webdriver.Chrome(executable_path=driver_path)"
   ]
  },
  {
   "cell_type": "code",
   "execution_count": 3,
   "id": "83bbdbee",
   "metadata": {},
   "outputs": [],
   "source": [
    "driver.get(url_main + 'webtoon/finish')"
   ]
  },
  {
   "cell_type": "markdown",
   "id": "8022af0f",
   "metadata": {},
   "source": [
    "직접 로그인 진행"
   ]
  },
  {
   "cell_type": "markdown",
   "id": "65872105",
   "metadata": {},
   "source": [
    "# 웹툰 상세 페이지 이동"
   ]
  },
  {
   "cell_type": "code",
   "execution_count": 91,
   "id": "795adda1",
   "metadata": {},
   "outputs": [],
   "source": [
    "r = requests.get(url_main + 'webtoon/finish').text\n",
    "soup = BeautifulSoup(r, 'lxml')"
   ]
  },
  {
   "cell_type": "code",
   "execution_count": 92,
   "id": "b0265c3c",
   "metadata": {},
   "outputs": [
    {
     "data": {
      "text/plain": [
       "<a href=\"/webtoon/list?titleId=780984\" onclick=\"nclk_v2(event,'lst.img','','1')\" title=\"엑스트라 데이즈\">\n",
       "<img alt=\"엑스트라 데이즈\" height=\"90\" onerror=\"this.src='https://ssl.pstatic.net/static/comic/images/migration/common/blank.gif'\" src=\"https://shared-comic.pstatic.net/thumb/webtoon/780984/thumbnail/thumbnail_IMAG10_59b0aaa5-0153-4e9f-b34f-1c860b46d347.jpg\" title=\"엑스트라 데이즈\" width=\"83\"/>\n",
       "<span class=\"mask\"></span>\n",
       "</a>"
      ]
     },
     "execution_count": 92,
     "metadata": {},
     "output_type": "execute_result"
    }
   ],
   "source": [
    "a = soup.select('div.thumb a')[0]\n",
    "a"
   ]
  },
  {
   "cell_type": "code",
   "execution_count": 93,
   "id": "e4d703fa",
   "metadata": {},
   "outputs": [
    {
     "data": {
      "text/plain": [
       "'/webtoon/list?titleId=780984'"
      ]
     },
     "execution_count": 93,
     "metadata": {},
     "output_type": "execute_result"
    }
   ],
   "source": [
    "a.attrs['href']"
   ]
  },
  {
   "cell_type": "code",
   "execution_count": 98,
   "id": "50c3f3d9",
   "metadata": {},
   "outputs": [
    {
     "data": {
      "text/plain": [
       "[<strong>9.65</strong>,\n",
       " <strong>9.92</strong>,\n",
       " <strong>9.20</strong>,\n",
       " <strong>9.91</strong>,\n",
       " <strong>9.87</strong>,\n",
       " <strong>9.94</strong>,\n",
       " <strong>9.97</strong>,\n",
       " <strong>9.92</strong>,\n",
       " <strong>9.73</strong>,\n",
       " <strong>9.97</strong>]"
      ]
     },
     "execution_count": 98,
     "metadata": {},
     "output_type": "execute_result"
    }
   ],
   "source": [
    "stars = soup.select('div.rating_type strong')\n",
    "stars[:10]"
   ]
  },
  {
   "cell_type": "code",
   "execution_count": 100,
   "id": "e38b143a",
   "metadata": {},
   "outputs": [
    {
     "data": {
      "text/plain": [
       "[9.65, 9.92, 9.2, 9.91, 9.87, 9.94, 9.97, 9.92, 9.73, 9.97]"
      ]
     },
     "execution_count": 100,
     "metadata": {},
     "output_type": "execute_result"
    }
   ],
   "source": [
    "stars = [float(star.get_text()) for star in stars]\n",
    "stars[:10]"
   ]
  },
  {
   "cell_type": "code",
   "execution_count": 56,
   "id": "88979e91",
   "metadata": {},
   "outputs": [],
   "source": [
    "def get_webtoon_titleId(url_main=url_main):\n",
    "    r = requests.get(url_main + 'webtoon/finish').text\n",
    "    soup = BeautifulSoup(r, 'lxml')\n",
    "    a_list = soup.select('div.thumb a')\n",
    "    epi_url_list = []\n",
    "    comment_url_list = []\n",
    "    \n",
    "    for a in a_list:\n",
    "        epi_url = url_main + 'webtoon/detail' + a.attrs['href'].split('list')[-1]\n",
    "        comment_url = url_main + 'comment/comment' + a.attrs['href'].split('list')[-1]\n",
    "        epi_url_list.append(epi_url)\n",
    "        comment_url_list.append(comment_url)\n",
    "        \n",
    "    return epi_url_list, comment_url_list"
   ]
  },
  {
   "cell_type": "code",
   "execution_count": 57,
   "id": "1d3bb831",
   "metadata": {},
   "outputs": [],
   "source": [
    "epi_url_list, comment_url_list = get_webtoon_titleId()"
   ]
  },
  {
   "cell_type": "code",
   "execution_count": 58,
   "id": "2a6086c3",
   "metadata": {},
   "outputs": [
    {
     "data": {
      "text/plain": [
       "['https://comic.naver.com/webtoon/detail?titleId=780984',\n",
       " 'https://comic.naver.com/webtoon/detail?titleId=733079',\n",
       " 'https://comic.naver.com/webtoon/detail?titleId=780857',\n",
       " 'https://comic.naver.com/webtoon/detail?titleId=780983',\n",
       " 'https://comic.naver.com/webtoon/detail?titleId=776541',\n",
       " 'https://comic.naver.com/webtoon/detail?titleId=755674',\n",
       " 'https://comic.naver.com/webtoon/detail?titleId=655749',\n",
       " 'https://comic.naver.com/webtoon/detail?titleId=751625',\n",
       " 'https://comic.naver.com/webtoon/detail?titleId=778741',\n",
       " 'https://comic.naver.com/webtoon/detail?titleId=728015']"
      ]
     },
     "execution_count": 58,
     "metadata": {},
     "output_type": "execute_result"
    }
   ],
   "source": [
    "epi_url_list[:10]"
   ]
  },
  {
   "cell_type": "code",
   "execution_count": 59,
   "id": "c5d2c97a",
   "metadata": {},
   "outputs": [
    {
     "data": {
      "text/plain": [
       "['https://comic.naver.com/comment/comment?titleId=780984',\n",
       " 'https://comic.naver.com/comment/comment?titleId=733079',\n",
       " 'https://comic.naver.com/comment/comment?titleId=780857',\n",
       " 'https://comic.naver.com/comment/comment?titleId=780983',\n",
       " 'https://comic.naver.com/comment/comment?titleId=776541',\n",
       " 'https://comic.naver.com/comment/comment?titleId=755674',\n",
       " 'https://comic.naver.com/comment/comment?titleId=655749',\n",
       " 'https://comic.naver.com/comment/comment?titleId=751625',\n",
       " 'https://comic.naver.com/comment/comment?titleId=778741',\n",
       " 'https://comic.naver.com/comment/comment?titleId=728015']"
      ]
     },
     "execution_count": 59,
     "metadata": {},
     "output_type": "execute_result"
    }
   ],
   "source": [
    "comment_url_list[:10]"
   ]
  },
  {
   "cell_type": "code",
   "execution_count": 61,
   "id": "19b8fae9",
   "metadata": {},
   "outputs": [],
   "source": [
    "driver.get(epi_url_list[0] + '&no=1')"
   ]
  },
  {
   "cell_type": "markdown",
   "id": "c22d84b9",
   "metadata": {},
   "source": [
    "# 회차별 댓글 수집\n",
    "- 2013년 5월 이후 업로드된 작품만 수집(베댓 시스템 생긴 시점)"
   ]
  },
  {
   "cell_type": "markdown",
   "id": "8edd96d1",
   "metadata": {},
   "source": [
    "## 제목, 날짜 수집"
   ]
  },
  {
   "cell_type": "code",
   "execution_count": 62,
   "id": "9caf292f",
   "metadata": {},
   "outputs": [
    {
     "data": {
      "text/plain": [
       "[<dd class=\"date\">2021.10.11</dd>]"
      ]
     },
     "execution_count": 62,
     "metadata": {},
     "output_type": "execute_result"
    }
   ],
   "source": [
    "soup = BeautifulSoup(driver.page_source, 'html.parser')\n",
    "soup.select('.date')"
   ]
  },
  {
   "cell_type": "code",
   "execution_count": 63,
   "id": "f2d7ddc3",
   "metadata": {},
   "outputs": [
    {
     "data": {
      "text/plain": [
       "'2021.10.11'"
      ]
     },
     "execution_count": 63,
     "metadata": {},
     "output_type": "execute_result"
    }
   ],
   "source": [
    "soup.select('.date')[0].get_text()"
   ]
  },
  {
   "cell_type": "code",
   "execution_count": 64,
   "id": "1e4b0ae0",
   "metadata": {},
   "outputs": [
    {
     "data": {
      "text/plain": [
       "datetime.date(2021, 10, 11)"
      ]
     },
     "execution_count": 64,
     "metadata": {},
     "output_type": "execute_result"
    }
   ],
   "source": [
    "import datetime\n",
    "\n",
    "date = soup.select('.date')[0].get_text()\n",
    "dt_test = datetime.date(int(date.split('.')[0]), int(date.split('.')[1]), int(date.split('.')[2]))\n",
    "dt_test"
   ]
  },
  {
   "cell_type": "code",
   "execution_count": 65,
   "id": "1075f6d8",
   "metadata": {},
   "outputs": [
    {
     "data": {
      "text/plain": [
       "True"
      ]
     },
     "execution_count": 65,
     "metadata": {},
     "output_type": "execute_result"
    }
   ],
   "source": [
    "dt_test > datetime.date(2013, 5, 1)"
   ]
  },
  {
   "cell_type": "code",
   "execution_count": 69,
   "id": "f9d20a17",
   "metadata": {},
   "outputs": [
    {
     "data": {
      "text/plain": [
       "'엑스트라 데이즈'"
      ]
     },
     "execution_count": 69,
     "metadata": {},
     "output_type": "execute_result"
    }
   ],
   "source": [
    "soup.select('.detail')[0].get_text().split('\\t')[0].strip()"
   ]
  },
  {
   "cell_type": "markdown",
   "id": "6288c156",
   "metadata": {},
   "source": [
    "## 댓글 수집"
   ]
  },
  {
   "cell_type": "code",
   "execution_count": 70,
   "id": "301ea636",
   "metadata": {},
   "outputs": [],
   "source": [
    "driver.get(comment_url_list[0] + '&no=1')"
   ]
  },
  {
   "cell_type": "code",
   "execution_count": 72,
   "id": "f68bcca7",
   "metadata": {},
   "outputs": [
    {
     "data": {
      "text/plain": [
       "[<span class=\"u_cbox_contents\" data-lang=\"ko\" style=\"\">아 근데 실제로 저런 기술이 있다면 쫌 싸할것같다.. 내가 죽어도 사람들은 나랑 똑같이 생긴 로봇이나 주문할 생각 하고 있을거 아니야..</span>,\n",
       " <span class=\"u_cbox_contents\" data-lang=\"ko\" style=\"\">헉 완전 명작 느낌</span>,\n",
       " <span class=\"u_cbox_contents\" data-lang=\"ko\" style=\"\">아니 이게 네이버로... 댑악적ㅠㅠ</span>,\n",
       " <span class=\"u_cbox_contents\" data-lang=\"ko\" style=\"\">아니영 작가님 작품이라니... 고민없이 쿠키갑니다.. 저는 당신의 제빵사</span>]"
      ]
     },
     "execution_count": 72,
     "metadata": {},
     "output_type": "execute_result"
    }
   ],
   "source": [
    "soup = BeautifulSoup(driver.page_source, 'html.parser')\n",
    "soup.select('.u_cbox_contents')"
   ]
  },
  {
   "cell_type": "code",
   "execution_count": 74,
   "id": "c18a4653",
   "metadata": {},
   "outputs": [
    {
     "data": {
      "text/plain": [
       "[<em class=\"u_cbox_cnt_recomm\">57</em>,\n",
       " <em class=\"u_cbox_cnt_recomm\">39</em>,\n",
       " <em class=\"u_cbox_cnt_recomm\">8</em>,\n",
       " <em class=\"u_cbox_cnt_recomm\">8</em>]"
      ]
     },
     "execution_count": 74,
     "metadata": {},
     "output_type": "execute_result"
    }
   ],
   "source": [
    "soup.select('.u_cbox_cnt_recomm') # 베댓 추천 수"
   ]
  },
  {
   "cell_type": "code",
   "execution_count": 75,
   "id": "77fee117",
   "metadata": {},
   "outputs": [
    {
     "data": {
      "text/plain": [
       "[<em class=\"u_cbox_cnt_unrecomm\">0</em>,\n",
       " <em class=\"u_cbox_cnt_unrecomm\">0</em>,\n",
       " <em class=\"u_cbox_cnt_unrecomm\">0</em>,\n",
       " <em class=\"u_cbox_cnt_unrecomm\">0</em>]"
      ]
     },
     "execution_count": 75,
     "metadata": {},
     "output_type": "execute_result"
    }
   ],
   "source": [
    "soup.select('.u_cbox_cnt_unrecomm') # 베댓 비추 수"
   ]
  },
  {
   "cell_type": "code",
   "execution_count": 80,
   "id": "1c0f5fd2",
   "metadata": {},
   "outputs": [],
   "source": [
    "# 베스트 댓글에서 전체 댓글로 변경\n",
    "driver.find_element_by_css_selector('#cbox_module_wai_u_cbox_sort_option_tab2 > span.u_cbox_sort_label').click()"
   ]
  },
  {
   "cell_type": "code",
   "execution_count": 81,
   "id": "1fc91ee3",
   "metadata": {},
   "outputs": [
    {
     "data": {
      "text/plain": [
       "[<span class=\"u_cbox_contents\" data-lang=\"ko\" style=\"\">이 웹툰은 개재밌을거라고 나한테 텔레파시가왔다</span>,\n",
       " <span class=\"u_cbox_contents\" data-lang=\"ko\" style=\"\">이게..... 이게 네이버에 오다니!!!!! 너무 감사합니다 진짜ㅠㅠ 케이툰에서 정말 재밌게 봤었어요ㅠㅠ</span>,\n",
       " <span class=\"u_cbox_contents\" data-lang=\"ko\" style=\"\">한 번쯤 생각해본 적 있는 상황인데..만약에 실제로 저런 기술이 도입된다면 어떨까?</span>,\n",
       " <span class=\"u_cbox_contents\" data-lang=\"ko\" style=\"\">대박재밌어요!</span>,\n",
       " <span class=\"u_cbox_contents\" data-lang=\"ko\" style=\"\">있으면 진짜 세대갈등 뺨치게 갈등 커질듯</span>,\n",
       " <span class=\"u_cbox_contents\" data-lang=\"ko\" style=\"\">그림체가 눈에 익는다고 생각했는데 라일락200%작가님이셨군요!!!</span>,\n",
       " <span class=\"u_cbox_contents\" data-lang=\"ko\" style=\"\">소재벌써좋다</span>,\n",
       " <span class=\"u_cbox_contents\" data-lang=\"ko\" style=\"\">왜 하루만에 모든화가 올라온거임? 나만그렇게 보이나</span>,\n",
       " <span class=\"u_cbox_contents\" data-lang=\"ko\" style=\"\">썸네일 윙크가 너무 앙큼해서 보러옴ㅎ</span>,\n",
       " <span class=\"u_cbox_contents\" data-lang=\"ko\" style=\"\">죽은 사람은 보내줘야지...ㅠㅠ 오히려 붙잡고있는게 정신 건강에 해로울텐데</span>,\n",
       " <span class=\"u_cbox_contents\" data-lang=\"ko\" style=\"\">영광의교실이랑 오렌지 그 뭐냐 암튼 그작가님!</span>,\n",
       " <span class=\"u_cbox_contents\" data-lang=\"ko\" style=\"\">라일락 200%,영광의 교실 작가님 ㅠㅠ</span>,\n",
       " <span class=\"u_cbox_contents\" data-lang=\"ko\" style=\"\">아하 제목만보고 저 소다가 사람이된거같은 상큼한 애가가정폭력을 하는 부모를 갱생시키는 그런류인가 생각했는데이런 느낌의 작품이라니 미쳤다 미쳤어!!!</span>,\n",
       " <span class=\"u_cbox_contents\" data-lang=\"ko\" style=\"\">와 소재봐,,</span>,\n",
       " <span class=\"u_cbox_contents\" data-lang=\"ko\" style=\"\">와 익숙한 그림체에 광클했어요!!!정주행 시작합니다.... :)</span>]"
      ]
     },
     "execution_count": 81,
     "metadata": {},
     "output_type": "execute_result"
    }
   ],
   "source": [
    "soup = BeautifulSoup(driver.page_source, 'html.parser')\n",
    "soup.select('.u_cbox_contents')"
   ]
  },
  {
   "cell_type": "code",
   "execution_count": 82,
   "id": "d4c2bee2",
   "metadata": {},
   "outputs": [
    {
     "data": {
      "text/plain": [
       "[<span class=\"u_cbox_count\">41</span>]"
      ]
     },
     "execution_count": 82,
     "metadata": {},
     "output_type": "execute_result"
    }
   ],
   "source": [
    "soup.select('.u_cbox_count') # 전체 댓글 수"
   ]
  },
  {
   "cell_type": "code",
   "execution_count": 87,
   "id": "01e7ee4f",
   "metadata": {},
   "outputs": [
    {
     "data": {
      "text/plain": [
       "[<em>101</em>, <em>101</em>]"
      ]
     },
     "execution_count": 87,
     "metadata": {},
     "output_type": "execute_result"
    }
   ],
   "source": [
    "driver.get(epi_url_list[0] + '&no=1')\n",
    "\n",
    "soup = BeautifulSoup(driver.page_source, 'html.parser')\n",
    "soup.select('.pointTotalPerson em') # 위 아래에 있어서 2개 출력 (평가한 인원 수)"
   ]
  },
  {
   "cell_type": "code",
   "execution_count": 90,
   "id": "9ba955f1",
   "metadata": {},
   "outputs": [
    {
     "data": {
      "text/plain": [
       "'9.62'"
      ]
     },
     "execution_count": 90,
     "metadata": {},
     "output_type": "execute_result"
    }
   ],
   "source": [
    "soup.select('#topPointTotalNumber')[0].get_text() # 평점"
   ]
  },
  {
   "cell_type": "markdown",
   "id": "1e5f3278",
   "metadata": {},
   "source": [
    "## 함수 생성"
   ]
  },
  {
   "cell_type": "code",
   "execution_count": 123,
   "id": "bfa914d9",
   "metadata": {},
   "outputs": [],
   "source": [
    "import time\n",
    "\n",
    "basedate = datetime.date(2013, 5, 1)\n",
    "\n",
    "def get_comment_epi(epi_url, comment_url, star, after=basedate, no=1):\n",
    "    \"\"\"\n",
    "    epi_url : 회차 base url (작품 제목과 날짜를 가져오기 위한 url)\n",
    "    comment_url : 회차 댓글 url (베스트 댓글 수 등을 가져오기 위한 url)\n",
    "    star : 평균 평점 (예측을 위한 값(y))\n",
    "    after : 베댓 시스템이 생긴 2013년 5월 이후로만 수집\n",
    "    no : 회차\n",
    "    \"\"\"\n",
    "    \n",
    "    # 우선 날짜를 추출 하여 2013년 5월 전에 올라온 회차면 pass\n",
    "    driver.get(epi_url + '&no={}'.format(no))\n",
    "    time.sleep(0.5)\n",
    "    soup = BeautifulSoup(driver.page_source, 'html.parser')\n",
    "    date = soup.select('.date')[0].get_text()\n",
    "    date = datetime.date(int(date.split('.')[0]), int(date.split('.')[1]), int(date.split('.')[2]))\n",
    "    \n",
    "    if date < basedate:\n",
    "        return\n",
    "    \n",
    "    # 제목과 평점, 평가한 인원 수 가져오기\n",
    "    title = soup.select('.detail')[0].get_text().split('\\t')[0].strip()\n",
    "    score = float(soup.select('#topPointTotalNumber')[0].get_text())\n",
    "    score_num = int(soup.select('.pointTotalPerson em')[0].get_text())\n",
    "    \n",
    "    # 베스트 댓글 수, 내용, 추천 합, 비추천 합 추출\n",
    "    driver.get(comment_url + '&no={}'.format(no))\n",
    "    time.sleep(0.5)\n",
    "    soup = BeautifulSoup(driver.page_source, 'html.parser')\n",
    "    best_comments = soup.select('.u_cbox_contents')\n",
    "    \n",
    "    best_comments_num = len(best_comments)\n",
    "    best_comments = [comment.get_text() for comment in best_comments]\n",
    "    best_comments = '\\n'.join(best_comments) # 댓글을 하나로 합침\n",
    "    \n",
    "    recommen = soup.select('.u_cbox_cnt_recomm')\n",
    "    recommen = [int(num.get_text()) for num in recommen]\n",
    "    sum_recommen = sum(recommen)\n",
    "    \n",
    "    unrecomm = soup.select('.u_cbox_cnt_unrecomm')\n",
    "    unrecomm = [int(num.get_text()) for num in unrecomm]\n",
    "    sum_unrecomm = sum(unrecomm)\n",
    "    \n",
    "    # 전체 댓글 수, 최근 15개 댓글 내용 추출\n",
    "    comments_num = int(soup.select('.u_cbox_count')[0].get_text().replace(',', ''))\n",
    "    \n",
    "    driver.find_element_by_css_selector('#cbox_module_wai_u_cbox_sort_option_tab2 > span.u_cbox_sort_label').click()\n",
    "    time.sleep(0.5)\n",
    "    \n",
    "    soup = BeautifulSoup(driver.page_source, 'html.parser')\n",
    "    comments_ = soup.select('.u_cbox_contents')\n",
    "    comments_ = [comment.get_text() for comment in comments_]\n",
    "    comments_ = '\\n'.join(comments_)\n",
    "    \n",
    "    return [title, score, score_num, best_comments_num, best_comments, sum_recommen, sum_unrecomm, comments_num, comments_, star]"
   ]
  },
  {
   "cell_type": "code",
   "execution_count": 124,
   "id": "9ec73871",
   "metadata": {},
   "outputs": [
    {
     "data": {
      "text/plain": [
       "['엑스트라 데이즈',\n",
       " 9.62,\n",
       " 101,\n",
       " 6,\n",
       " '아 근데 실제로 저런 기술이 있다면 쫌 싸할것같다.. 내가 죽어도 사람들은 나랑 똑같이 생긴 로봇이나 주문할 생각 하고 있을거 아니야..\\n헉 완전 명작 느낌\\n아니영 작가님 작품이라니... 고민없이 쿠키갑니다.. 저는 당신의 제빵사\\n아니 이게 네이버로... 댑악적ㅠㅠ\\n그림체가 눈에 익는다고 생각했는데 라일락200%작가님이셨군요!!!\\n영광의교실이랑 오렌지 그 뭐냐 암튼 그작가님!',\n",
       " 126,\n",
       " 0,\n",
       " 42,\n",
       " '버키 왜 하나만 블러예욬ㅋㅋㅋㅋㅋ\\n이 웹툰은 개재밌을거라고 나한테 텔레파시가왔다\\n이게..... 이게 네이버에 오다니!!!!! 너무 감사합니다 진짜ㅠㅠ 케이툰에서 정말 재밌게 봤었어요ㅠㅠ\\n한 번쯤 생각해본 적 있는 상황인데..만약에 실제로 저런 기술이 도입된다면 어떨까?\\n대박재밌어요!\\n있으면 진짜 세대갈등 뺨치게 갈등 커질듯\\n그림체가 눈에 익는다고 생각했는데 라일락200%작가님이셨군요!!!\\n소재벌써좋다\\n왜 하루만에 모든화가 올라온거임? 나만그렇게 보이나\\n썸네일 윙크가 너무 앙큼해서 보러옴ㅎ\\n죽은 사람은 보내줘야지...ㅠㅠ 오히려 붙잡고있는게 정신 건강에 해로울텐데\\n영광의교실이랑 오렌지 그 뭐냐 암튼 그작가님!\\n라일락 200%,영광의 교실 작가님 ㅠㅠ\\n아하 제목만보고 저 소다가 사람이된거같은 상큼한 애가가정폭력을 하는 부모를 갱생시키는 그런류인가 생각했는데이런 느낌의 작품이라니 미쳤다 미쳤어!!!\\n와 소재봐,,',\n",
       " 9.65]"
      ]
     },
     "execution_count": 124,
     "metadata": {},
     "output_type": "execute_result"
    }
   ],
   "source": [
    "# 테스트\n",
    "result = get_comment_epi(epi_url_list[0], comment_url_list[0], stars[0])\n",
    "result"
   ]
  },
  {
   "cell_type": "code",
   "execution_count": 125,
   "id": "b57a1a68",
   "metadata": {},
   "outputs": [],
   "source": [
    "# 테스트2 (2012년 작품)\n",
    "result = get_comment_epi('https://comic.naver.com/webtoon/detail?titleId=318995', 'https://comic.naver.com/comment/comment?titleId=318995', 0)\n",
    "result"
   ]
  },
  {
   "cell_type": "code",
   "execution_count": 126,
   "id": "8436632a",
   "metadata": {},
   "outputs": [
    {
     "data": {
      "text/plain": [
       "NoneType"
      ]
     },
     "execution_count": 126,
     "metadata": {},
     "output_type": "execute_result"
    }
   ],
   "source": [
    "type(result)"
   ]
  },
  {
   "cell_type": "code",
   "execution_count": 131,
   "id": "530df18c",
   "metadata": {
    "scrolled": true
   },
   "outputs": [
    {
     "data": {
      "application/vnd.jupyter.widget-view+json": {
       "model_id": "3ffa9312e2994e10a98a8c76ee7565a4",
       "version_major": 2,
       "version_minor": 0
      },
      "text/plain": [
       "  0%|          | 0/1061 [00:00<?, ?it/s]"
      ]
     },
     "metadata": {},
     "output_type": "display_data"
    },
    {
     "data": {
      "text/html": [
       "<div>\n",
       "<style scoped>\n",
       "    .dataframe tbody tr th:only-of-type {\n",
       "        vertical-align: middle;\n",
       "    }\n",
       "\n",
       "    .dataframe tbody tr th {\n",
       "        vertical-align: top;\n",
       "    }\n",
       "\n",
       "    .dataframe thead th {\n",
       "        text-align: right;\n",
       "    }\n",
       "</style>\n",
       "<table border=\"1\" class=\"dataframe\">\n",
       "  <thead>\n",
       "    <tr style=\"text-align: right;\">\n",
       "      <th></th>\n",
       "      <th>title</th>\n",
       "      <th>score</th>\n",
       "      <th>score_num</th>\n",
       "      <th>best_num</th>\n",
       "      <th>best</th>\n",
       "      <th>best_recomm</th>\n",
       "      <th>best_unrecomm</th>\n",
       "      <th>comment_num</th>\n",
       "      <th>comment</th>\n",
       "      <th>star</th>\n",
       "    </tr>\n",
       "  </thead>\n",
       "  <tbody>\n",
       "    <tr>\n",
       "      <th>0</th>\n",
       "      <td>엑스트라 데이즈</td>\n",
       "      <td>9.62</td>\n",
       "      <td>101</td>\n",
       "      <td>6</td>\n",
       "      <td>아 근데 실제로 저런 기술이 있다면 쫌 싸할것같다.. 내가 죽어도 사람들은 나랑 똑...</td>\n",
       "      <td>126</td>\n",
       "      <td>0</td>\n",
       "      <td>42</td>\n",
       "      <td>버키 왜 하나만 블러예욬ㅋㅋㅋㅋㅋ\\n이 웹툰은 개재밌을거라고 나한테 텔레파시가왔다\\...</td>\n",
       "      <td>9.65</td>\n",
       "    </tr>\n",
       "    <tr>\n",
       "      <th>1</th>\n",
       "      <td>원수를 사랑하라</td>\n",
       "      <td>9.95</td>\n",
       "      <td>31400</td>\n",
       "      <td>15</td>\n",
       "      <td>근데 여주 대단하다...엄마랑 아빠가 저런 사람들인데 멀끔히 차려입고 면접보는 거면...</td>\n",
       "      <td>129323</td>\n",
       "      <td>3789</td>\n",
       "      <td>984</td>\n",
       "      <td>그림체 마음에 드네 \\n그림체 미친\\n면접관중에 존나 보기싫은얼굴이보이는데?\\n누가...</td>\n",
       "      <td>9.92</td>\n",
       "    </tr>\n",
       "    <tr>\n",
       "      <th>2</th>\n",
       "      <td>우투리</td>\n",
       "      <td>8.50</td>\n",
       "      <td>159</td>\n",
       "      <td>4</td>\n",
       "      <td>학원액션물 만화계의 거장 임재원님의 2번째 작품 우투리입니다.... 스토리, 그림체...</td>\n",
       "      <td>194</td>\n",
       "      <td>5</td>\n",
       "      <td>51</td>\n",
       "      <td>진짜 퀄리티 말도 안되는데 덴마 이후로 미완결 작품은 그냥 혐오스럽다\\n우와아아아!...</td>\n",
       "      <td>9.20</td>\n",
       "    </tr>\n",
       "    <tr>\n",
       "      <th>3</th>\n",
       "      <td>롭플롭</td>\n",
       "      <td>9.78</td>\n",
       "      <td>290</td>\n",
       "      <td>5</td>\n",
       "      <td>나 이 작가 작품 좋아하네.... 잭슨의 관, 데빌샷 보고 바로 들어옴 \\n잭슨의 ...</td>\n",
       "      <td>410</td>\n",
       "      <td>2</td>\n",
       "      <td>64</td>\n",
       "      <td>작가님 어케 이렇게 그천이신거에요\\n노랑머리 친구 명암때문인진 몰라도장례식 이후에 ...</td>\n",
       "      <td>9.91</td>\n",
       "    </tr>\n",
       "    <tr>\n",
       "      <th>4</th>\n",
       "      <td>약초마을 연쇄살초사건</td>\n",
       "      <td>9.73</td>\n",
       "      <td>10226</td>\n",
       "      <td>15</td>\n",
       "      <td>아니ㅋㅋㅋㅋㅋㅋ작가님ㅋㅋㅋㅋㅋㅋ이제 작물 쪽으로 길을 트신건가요ㅋㅋㅋㅋㅋㅋㅋㅋ\\n팀...</td>\n",
       "      <td>62851</td>\n",
       "      <td>254</td>\n",
       "      <td>1463</td>\n",
       "      <td>ㅋㅋㅋㅋㅋㅋㅋㅋ\\n조낸 무서운 이야기인데 약초란 사실과 그림체 때문에 잔혹함이 전달...</td>\n",
       "      <td>9.87</td>\n",
       "    </tr>\n",
       "  </tbody>\n",
       "</table>\n",
       "</div>"
      ],
      "text/plain": [
       "         title  score  score_num  best_num  \\\n",
       "0     엑스트라 데이즈   9.62        101         6   \n",
       "1     원수를 사랑하라   9.95      31400        15   \n",
       "2          우투리   8.50        159         4   \n",
       "3          롭플롭   9.78        290         5   \n",
       "4  약초마을 연쇄살초사건   9.73      10226        15   \n",
       "\n",
       "                                                best  best_recomm  \\\n",
       "0  아 근데 실제로 저런 기술이 있다면 쫌 싸할것같다.. 내가 죽어도 사람들은 나랑 똑...          126   \n",
       "1  근데 여주 대단하다...엄마랑 아빠가 저런 사람들인데 멀끔히 차려입고 면접보는 거면...       129323   \n",
       "2  학원액션물 만화계의 거장 임재원님의 2번째 작품 우투리입니다.... 스토리, 그림체...          194   \n",
       "3  나 이 작가 작품 좋아하네.... 잭슨의 관, 데빌샷 보고 바로 들어옴 \\n잭슨의 ...          410   \n",
       "4  아니ㅋㅋㅋㅋㅋㅋ작가님ㅋㅋㅋㅋㅋㅋ이제 작물 쪽으로 길을 트신건가요ㅋㅋㅋㅋㅋㅋㅋㅋ\\n팀...        62851   \n",
       "\n",
       "   best_unrecomm  comment_num  \\\n",
       "0              0           42   \n",
       "1           3789          984   \n",
       "2              5           51   \n",
       "3              2           64   \n",
       "4            254         1463   \n",
       "\n",
       "                                             comment  star  \n",
       "0  버키 왜 하나만 블러예욬ㅋㅋㅋㅋㅋ\\n이 웹툰은 개재밌을거라고 나한테 텔레파시가왔다\\...  9.65  \n",
       "1  그림체 마음에 드네 \\n그림체 미친\\n면접관중에 존나 보기싫은얼굴이보이는데?\\n누가...  9.92  \n",
       "2  진짜 퀄리티 말도 안되는데 덴마 이후로 미완결 작품은 그냥 혐오스럽다\\n우와아아아!...  9.20  \n",
       "3  작가님 어케 이렇게 그천이신거에요\\n노랑머리 친구 명암때문인진 몰라도장례식 이후에 ...  9.91  \n",
       "4  ㅋㅋㅋㅋㅋㅋㅋㅋ\\n조낸 무서운 이야기인데 약초란 사실과 그림체 때문에 잔혹함이 전달...  9.87  "
      ]
     },
     "execution_count": 131,
     "metadata": {},
     "output_type": "execute_result"
    }
   ],
   "source": [
    "# 코드 돌리기 전에 반드시 클린봇 OFF로!!\n",
    "\n",
    "import pandas as pd\n",
    "from tqdm.auto import tqdm\n",
    "\n",
    "results = []\n",
    "for epi_url, comment_url, star in tqdm(zip(epi_url_list, comment_url_list, stars), total=len(epi_url_list)):\n",
    "    result = get_comment_epi(epi_url, comment_url, star)\n",
    "    if result is None:\n",
    "        continue\n",
    "    results.append(result)\n",
    "    \n",
    "df = pd.DataFrame(results, columns=['title', 'score', 'score_num', 'best_num', 'best', 'best_recomm', 'best_unrecomm', 'comment_num', 'comment', 'star'])\n",
    "df.head()"
   ]
  },
  {
   "cell_type": "code",
   "execution_count": 134,
   "id": "e6e6a742",
   "metadata": {},
   "outputs": [],
   "source": [
    "df.to_csv('data/naver_comment.csv', encoding='utf8', index=False)"
   ]
  },
  {
   "cell_type": "code",
   "execution_count": 136,
   "id": "ebecb12a",
   "metadata": {},
   "outputs": [],
   "source": [
    "df.to_csv('data/naver_comment3.csv', encoding='utf-8-sig', index=False)"
   ]
  },
  {
   "cell_type": "code",
   "execution_count": null,
   "id": "3a14cf10",
   "metadata": {},
   "outputs": [],
   "source": [
    "driver.close()"
   ]
  },
  {
   "cell_type": "code",
   "execution_count": null,
   "id": "49245311",
   "metadata": {},
   "outputs": [],
   "source": []
  }
 ],
 "metadata": {
  "kernelspec": {
   "display_name": "Python Multi",
   "language": "python",
   "name": "multi"
  },
  "language_info": {
   "codemirror_mode": {
    "name": "ipython",
    "version": 3
   },
   "file_extension": ".py",
   "mimetype": "text/x-python",
   "name": "python",
   "nbconvert_exporter": "python",
   "pygments_lexer": "ipython3",
   "version": "3.7.6"
  },
  "toc": {
   "base_numbering": 1,
   "nav_menu": {},
   "number_sections": false,
   "sideBar": true,
   "skip_h1_title": false,
   "title_cell": "Table of Contents",
   "title_sidebar": "Contents",
   "toc_cell": false,
   "toc_position": {},
   "toc_section_display": true,
   "toc_window_display": false
  }
 },
 "nbformat": 4,
 "nbformat_minor": 5
}
