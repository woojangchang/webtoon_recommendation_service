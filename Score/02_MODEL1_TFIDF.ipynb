{
 "cells": [
  {
   "cell_type": "code",
   "execution_count": 1,
   "id": "20e15c37",
   "metadata": {},
   "outputs": [],
   "source": [
    "# 필요 라이브러리 호출\n",
    "import numpy as np\n",
    "import pandas as pd\n",
    "from konlpy.tag import Okt\n",
    "from sklearn.feature_extraction.text import TfidfVectorizer\n",
    "from sklearn.model_selection import train_test_split\n",
    "from lightgbm import LGBMRegressor\n",
    "from xgboost import XGBRegressor\n",
    "from sklearn.ensemble import RandomForestRegressor\n",
    "from sklearn.metrics import mean_absolute_error, mean_squared_error\n",
    "import warnings\n",
    "warnings.filterwarnings('ignore')"
   ]
  },
  {
   "cell_type": "code",
   "execution_count": 2,
   "id": "31530b6e",
   "metadata": {},
   "outputs": [
    {
     "data": {
      "text/html": [
       "<div>\n",
       "<style scoped>\n",
       "    .dataframe tbody tr th:only-of-type {\n",
       "        vertical-align: middle;\n",
       "    }\n",
       "\n",
       "    .dataframe tbody tr th {\n",
       "        vertical-align: top;\n",
       "    }\n",
       "\n",
       "    .dataframe thead th {\n",
       "        text-align: right;\n",
       "    }\n",
       "</style>\n",
       "<table border=\"1\" class=\"dataframe\">\n",
       "  <thead>\n",
       "    <tr style=\"text-align: right;\">\n",
       "      <th></th>\n",
       "      <th>title</th>\n",
       "      <th>score</th>\n",
       "      <th>score_num</th>\n",
       "      <th>best_num</th>\n",
       "      <th>best</th>\n",
       "      <th>best_recomm</th>\n",
       "      <th>best_unrecomm</th>\n",
       "      <th>comment_num</th>\n",
       "      <th>comment</th>\n",
       "      <th>star</th>\n",
       "    </tr>\n",
       "  </thead>\n",
       "  <tbody>\n",
       "    <tr>\n",
       "      <th>0</th>\n",
       "      <td>엑스트라 데이즈</td>\n",
       "      <td>9.62</td>\n",
       "      <td>101</td>\n",
       "      <td>6</td>\n",
       "      <td>아 근데 실제로 저런 기술이 있다면 쫌 싸할것같다.. 내가 죽어도 사람들은 나랑 똑...</td>\n",
       "      <td>126</td>\n",
       "      <td>0</td>\n",
       "      <td>42</td>\n",
       "      <td>버키 왜 하나만 블러예욬ㅋㅋㅋㅋㅋ\\n이 웹툰은 개재밌을거라고 나한테 텔레파시가왔다\\...</td>\n",
       "      <td>9.65</td>\n",
       "    </tr>\n",
       "    <tr>\n",
       "      <th>1</th>\n",
       "      <td>원수를 사랑하라</td>\n",
       "      <td>9.95</td>\n",
       "      <td>31400</td>\n",
       "      <td>15</td>\n",
       "      <td>근데 여주 대단하다...엄마랑 아빠가 저런 사람들인데 멀끔히 차려입고 면접보는 거면...</td>\n",
       "      <td>129323</td>\n",
       "      <td>3789</td>\n",
       "      <td>984</td>\n",
       "      <td>그림체 마음에 드네 \\n그림체 미친\\n면접관중에 존나 보기싫은얼굴이보이는데?\\n누가...</td>\n",
       "      <td>9.92</td>\n",
       "    </tr>\n",
       "    <tr>\n",
       "      <th>2</th>\n",
       "      <td>우투리</td>\n",
       "      <td>8.50</td>\n",
       "      <td>159</td>\n",
       "      <td>4</td>\n",
       "      <td>학원액션물 만화계의 거장 임재원님의 2번째 작품 우투리입니다.... 스토리, 그림체...</td>\n",
       "      <td>194</td>\n",
       "      <td>5</td>\n",
       "      <td>51</td>\n",
       "      <td>진짜 퀄리티 말도 안되는데 덴마 이후로 미완결 작품은 그냥 혐오스럽다\\n우와아아아!...</td>\n",
       "      <td>9.20</td>\n",
       "    </tr>\n",
       "    <tr>\n",
       "      <th>3</th>\n",
       "      <td>롭플롭</td>\n",
       "      <td>9.78</td>\n",
       "      <td>290</td>\n",
       "      <td>5</td>\n",
       "      <td>나 이 작가 작품 좋아하네.... 잭슨의 관, 데빌샷 보고 바로 들어옴 \\n잭슨의 ...</td>\n",
       "      <td>410</td>\n",
       "      <td>2</td>\n",
       "      <td>64</td>\n",
       "      <td>작가님 어케 이렇게 그천이신거에요\\n노랑머리 친구 명암때문인진 몰라도장례식 이후에 ...</td>\n",
       "      <td>9.91</td>\n",
       "    </tr>\n",
       "    <tr>\n",
       "      <th>4</th>\n",
       "      <td>약초마을 연쇄살초사건</td>\n",
       "      <td>9.73</td>\n",
       "      <td>10226</td>\n",
       "      <td>15</td>\n",
       "      <td>아니ㅋㅋㅋㅋㅋㅋ작가님ㅋㅋㅋㅋㅋㅋ이제 작물 쪽으로 길을 트신건가요ㅋㅋㅋㅋㅋㅋㅋㅋ\\n팀...</td>\n",
       "      <td>62851</td>\n",
       "      <td>254</td>\n",
       "      <td>1463</td>\n",
       "      <td>ㅋㅋㅋㅋㅋㅋㅋㅋ\\n조낸 무서운 이야기인데 약초란 사실과 그림체 때문에 잔혹함이 전달...</td>\n",
       "      <td>9.87</td>\n",
       "    </tr>\n",
       "  </tbody>\n",
       "</table>\n",
       "</div>"
      ],
      "text/plain": [
       "         title  score  score_num  best_num  \\\n",
       "0     엑스트라 데이즈   9.62        101         6   \n",
       "1     원수를 사랑하라   9.95      31400        15   \n",
       "2          우투리   8.50        159         4   \n",
       "3          롭플롭   9.78        290         5   \n",
       "4  약초마을 연쇄살초사건   9.73      10226        15   \n",
       "\n",
       "                                                best  best_recomm  \\\n",
       "0  아 근데 실제로 저런 기술이 있다면 쫌 싸할것같다.. 내가 죽어도 사람들은 나랑 똑...          126   \n",
       "1  근데 여주 대단하다...엄마랑 아빠가 저런 사람들인데 멀끔히 차려입고 면접보는 거면...       129323   \n",
       "2  학원액션물 만화계의 거장 임재원님의 2번째 작품 우투리입니다.... 스토리, 그림체...          194   \n",
       "3  나 이 작가 작품 좋아하네.... 잭슨의 관, 데빌샷 보고 바로 들어옴 \\n잭슨의 ...          410   \n",
       "4  아니ㅋㅋㅋㅋㅋㅋ작가님ㅋㅋㅋㅋㅋㅋ이제 작물 쪽으로 길을 트신건가요ㅋㅋㅋㅋㅋㅋㅋㅋ\\n팀...        62851   \n",
       "\n",
       "   best_unrecomm  comment_num  \\\n",
       "0              0           42   \n",
       "1           3789          984   \n",
       "2              5           51   \n",
       "3              2           64   \n",
       "4            254         1463   \n",
       "\n",
       "                                             comment  star  \n",
       "0  버키 왜 하나만 블러예욬ㅋㅋㅋㅋㅋ\\n이 웹툰은 개재밌을거라고 나한테 텔레파시가왔다\\...  9.65  \n",
       "1  그림체 마음에 드네 \\n그림체 미친\\n면접관중에 존나 보기싫은얼굴이보이는데?\\n누가...  9.92  \n",
       "2  진짜 퀄리티 말도 안되는데 덴마 이후로 미완결 작품은 그냥 혐오스럽다\\n우와아아아!...  9.20  \n",
       "3  작가님 어케 이렇게 그천이신거에요\\n노랑머리 친구 명암때문인진 몰라도장례식 이후에 ...  9.91  \n",
       "4  ㅋㅋㅋㅋㅋㅋㅋㅋ\\n조낸 무서운 이야기인데 약초란 사실과 그림체 때문에 잔혹함이 전달...  9.87  "
      ]
     },
     "execution_count": 2,
     "metadata": {},
     "output_type": "execute_result"
    }
   ],
   "source": [
    "# 데이터 불러오기\n",
    "df = pd.read_csv('data/naver_comment.csv', encoding='utf8')\n",
    "df.head()"
   ]
  },
  {
   "cell_type": "code",
   "execution_count": 3,
   "id": "a828274e",
   "metadata": {},
   "outputs": [],
   "source": [
    "okt = Okt()\n",
    "def okt_tokenizer(text):\n",
    "    tokens_ko = okt.morphs(text, stem=True)\n",
    "    return tokens_ko\n",
    "\n",
    "import re\n",
    "\n",
    "def hangul(text):\n",
    "    return re.sub(\"[^가-힣ㄱ-하-ㅣ\\\\s]\", \"\", text)"
   ]
  },
  {
   "cell_type": "code",
   "execution_count": 9,
   "id": "f0e54257",
   "metadata": {},
   "outputs": [],
   "source": [
    "def train_to_evaluate(X, y, min_df, max_df):\n",
    "    tfidf_vect = TfidfVectorizer(tokenizer=okt_tokenizer, ngram_range=(1, 2), min_df=min_df, max_df=max_df)\n",
    "    tfidf_vect.fit(X)\n",
    "    tfidf_matrix = tfidf_vect.transform(X)\n",
    "    \n",
    "    X_train, X_test, y_train, y_test = train_test_split(tfidf_matrix, y, test_size=0.2, random_state=0)\n",
    "    X_train, X_val, y_train, y_val = train_test_split(X_train, y_train, test_size=0.2, random_state=0)\n",
    "    \n",
    "    lgbm = LGBMRegressor()\n",
    "    xgb = XGBRegressor()\n",
    "    rf = RandomForestRegressor()\n",
    "\n",
    "    regs = [lgbm, xgb, rf]\n",
    "\n",
    "    result = []\n",
    "    for reg in regs:\n",
    "        reg.fit(X_train, y_train)\n",
    "        pred = reg.predict(X_val)\n",
    "        mae = mean_absolute_error(y_val, pred)\n",
    "        rmse = np.sqrt(mean_squared_error(y_val, pred))\n",
    "        print(reg.__class__.__name__)\n",
    "        print(f'MAE : {mae:.4f}, RMSE : {rmse:.4f}')\n",
    "        \n",
    "    return regs"
   ]
  },
  {
   "cell_type": "markdown",
   "id": "211eace9",
   "metadata": {},
   "source": [
    "# 1. 베댓 + 최근 댓글 15개 통합"
   ]
  },
  {
   "cell_type": "markdown",
   "id": "5c9242d4",
   "metadata": {},
   "source": [
    "## 1-1. `min_df=0, max_df=0.9`, 특수문자도 함께 처리"
   ]
  },
  {
   "cell_type": "code",
   "execution_count": 10,
   "id": "5e4f8c52",
   "metadata": {},
   "outputs": [
    {
     "name": "stdout",
     "output_type": "stream",
     "text": [
      "LGBMRegressor\n",
      "MAE : 0.2664, RMSE : 0.4567\n",
      "XGBRegressor\n",
      "MAE : 0.2510, RMSE : 0.4586\n",
      "RandomForestRegressor\n",
      "MAE : 0.2563, RMSE : 0.4783\n",
      "Wall time: 3min 24s\n"
     ]
    }
   ],
   "source": [
    "%%time\n",
    "\n",
    "X = df['best'] + '\\n' + df['comment']\n",
    "y = df['star']\n",
    "\n",
    "regs1_1 = train_to_evaluate(X, y, 0, 0.9)"
   ]
  },
  {
   "cell_type": "markdown",
   "id": "2d5bc24d",
   "metadata": {},
   "source": [
    "## 1-2. `min_df=3, max_df=0.95`, 특수문자도 함께 처리"
   ]
  },
  {
   "cell_type": "code",
   "execution_count": 13,
   "id": "2cfbd6ce",
   "metadata": {},
   "outputs": [
    {
     "name": "stdout",
     "output_type": "stream",
     "text": [
      "LGBMRegressor\n",
      "MAE : 0.2668, RMSE : 0.4658\n",
      "XGBRegressor\n",
      "MAE : 0.2450, RMSE : 0.4812\n",
      "RandomForestRegressor\n",
      "MAE : 0.2514, RMSE : 0.4639\n",
      "Wall time: 1min 43s\n"
     ]
    }
   ],
   "source": [
    "%%time\n",
    "\n",
    "regs1_2 = train_to_evaluate(X, y, 3, 0.95)"
   ]
  },
  {
   "cell_type": "markdown",
   "id": "97eefe89",
   "metadata": {},
   "source": [
    "## 1-3. `min_df=0, max_df=0.9`, 특수문자 제거"
   ]
  },
  {
   "cell_type": "code",
   "execution_count": 11,
   "id": "1e7ef97b",
   "metadata": {},
   "outputs": [
    {
     "name": "stdout",
     "output_type": "stream",
     "text": [
      "LGBMRegressor\n",
      "MAE : 0.2727, RMSE : 0.4532\n",
      "XGBRegressor\n",
      "MAE : 0.2819, RMSE : 0.5556\n",
      "RandomForestRegressor\n",
      "MAE : 0.2601, RMSE : 0.4723\n",
      "Wall time: 3min 14s\n"
     ]
    }
   ],
   "source": [
    "%%time\n",
    "\n",
    "regs1_3 = train_to_evaluate(X.apply(hangul), y, 0, 0.9)"
   ]
  },
  {
   "cell_type": "markdown",
   "id": "3ec32a81",
   "metadata": {},
   "source": [
    "## 1-4. `min_df=3, max_df=0.95`, 특수문자 제거"
   ]
  },
  {
   "cell_type": "code",
   "execution_count": 12,
   "id": "842ad18e",
   "metadata": {},
   "outputs": [
    {
     "name": "stdout",
     "output_type": "stream",
     "text": [
      "LGBMRegressor\n",
      "MAE : 0.2606, RMSE : 0.4384\n",
      "XGBRegressor\n",
      "MAE : 0.3035, RMSE : 0.5792\n",
      "RandomForestRegressor\n",
      "MAE : 0.2492, RMSE : 0.4621\n",
      "Wall time: 1min 46s\n"
     ]
    }
   ],
   "source": [
    "%%time\n",
    "\n",
    "regs1_4 = train_to_evaluate(X.apply(hangul), y, 3, 0.95)"
   ]
  },
  {
   "cell_type": "markdown",
   "id": "ef010e59",
   "metadata": {},
   "source": [
    "# 2. 최근 댓글 15개로만"
   ]
  },
  {
   "cell_type": "markdown",
   "id": "127aab67",
   "metadata": {},
   "source": [
    "## 2-1. `min_df=0, max_df=0.9`, 특수문자도 함께 처리"
   ]
  },
  {
   "cell_type": "code",
   "execution_count": 19,
   "id": "c3ba61e3",
   "metadata": {},
   "outputs": [
    {
     "name": "stdout",
     "output_type": "stream",
     "text": [
      "LGBMRegressor\n",
      "MAE : 0.2368, RMSE : 0.4019\n",
      "XGBRegressor\n",
      "MAE : 0.2504, RMSE : 0.4881\n",
      "RandomForestRegressor\n",
      "MAE : 0.2195, RMSE : 0.4376\n",
      "Wall time: 1min 35s\n"
     ]
    }
   ],
   "source": [
    "%%time\n",
    "\n",
    "X = df['comment']\n",
    "y = df['star']\n",
    "\n",
    "regs2_1 = train_to_evaluate(X, y, 0, 0.9)"
   ]
  },
  {
   "cell_type": "markdown",
   "id": "67a1f69f",
   "metadata": {},
   "source": [
    "## 2-2. `min_df=3, max_df=0.95`, 특수문자도 함께 처리"
   ]
  },
  {
   "cell_type": "code",
   "execution_count": 20,
   "id": "0d2a0fd0",
   "metadata": {},
   "outputs": [
    {
     "name": "stdout",
     "output_type": "stream",
     "text": [
      "LGBMRegressor\n",
      "MAE : 0.2485, RMSE : 0.4137\n",
      "XGBRegressor\n",
      "MAE : 0.2475, RMSE : 0.4764\n",
      "RandomForestRegressor\n",
      "MAE : 0.2286, RMSE : 0.4420\n"
     ]
    }
   ],
   "source": [
    "regs2_2 = train_to_evaluate(X, y, 3, 0.95)"
   ]
  },
  {
   "cell_type": "markdown",
   "id": "1eaf7585",
   "metadata": {},
   "source": [
    "## 2-3. `min_df=0, max_df=0.9`, 특수문자 제거"
   ]
  },
  {
   "cell_type": "code",
   "execution_count": 21,
   "id": "22f23809",
   "metadata": {},
   "outputs": [
    {
     "name": "stdout",
     "output_type": "stream",
     "text": [
      "LGBMRegressor\n",
      "MAE : 0.2411, RMSE : 0.4102\n",
      "XGBRegressor\n",
      "MAE : 0.2517, RMSE : 0.4773\n",
      "RandomForestRegressor\n",
      "MAE : 0.2288, RMSE : 0.4523\n",
      "Wall time: 1min 34s\n"
     ]
    }
   ],
   "source": [
    "%%time\n",
    "\n",
    "regs2_3 = train_to_evaluate(X.apply(hangul), y, 0, 0.9)"
   ]
  },
  {
   "cell_type": "markdown",
   "id": "6b284871",
   "metadata": {},
   "source": [
    "## 2-4. `min_df=3, max_df=0.95`, 특수문자 제거"
   ]
  },
  {
   "cell_type": "code",
   "execution_count": 22,
   "id": "59418146",
   "metadata": {},
   "outputs": [
    {
     "name": "stdout",
     "output_type": "stream",
     "text": [
      "LGBMRegressor\n",
      "MAE : 0.2466, RMSE : 0.4182\n",
      "XGBRegressor\n",
      "MAE : 0.2376, RMSE : 0.4372\n",
      "RandomForestRegressor\n",
      "MAE : 0.2215, RMSE : 0.4383\n",
      "Wall time: 58.8 s\n"
     ]
    }
   ],
   "source": [
    "%%time\n",
    "\n",
    "regs2_4 = train_to_evaluate(X.apply(hangul), y, 3, 0.95)"
   ]
  },
  {
   "cell_type": "markdown",
   "id": "242598c2",
   "metadata": {},
   "source": [
    "- 특수문자 제거를 하지 않는 것이 더 높은 예측력(아주 약간)을 가짐\n",
    "- `min_df`와 `max_df`는 뭘로 하든지 비슷하다\n",
    "- TF-IDF로 예측 결과 MAE는 0.22\\~0.30, RMSE는 0.40\\~0.55"
   ]
  },
  {
   "cell_type": "code",
   "execution_count": null,
   "id": "d468e1f7",
   "metadata": {},
   "outputs": [],
   "source": []
  }
 ],
 "metadata": {
  "kernelspec": {
   "display_name": "Python Multi",
   "language": "python",
   "name": "multi"
  },
  "language_info": {
   "codemirror_mode": {
    "name": "ipython",
    "version": 3
   },
   "file_extension": ".py",
   "mimetype": "text/x-python",
   "name": "python",
   "nbconvert_exporter": "python",
   "pygments_lexer": "ipython3",
   "version": "3.7.6"
  },
  "toc": {
   "base_numbering": 1,
   "nav_menu": {},
   "number_sections": false,
   "sideBar": true,
   "skip_h1_title": false,
   "title_cell": "Table of Contents",
   "title_sidebar": "Contents",
   "toc_cell": false,
   "toc_position": {},
   "toc_section_display": true,
   "toc_window_display": false
  }
 },
 "nbformat": 4,
 "nbformat_minor": 5
}
