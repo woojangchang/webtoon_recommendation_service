{
 "cells": [
  {
   "cell_type": "markdown",
   "id": "0a832514",
   "metadata": {},
   "source": [
    "# 데이터 이해"
   ]
  },
  {
   "cell_type": "code",
   "execution_count": 3,
   "id": "aae97ce5",
   "metadata": {},
   "outputs": [],
   "source": [
    "import pandas as pd\n",
    "import matplotlib.pyplot as plt\n",
    "import matplotlib as mpl\n",
    "\n",
    "mpl.rcParams['font.family'] = 'NanumGothic'\n",
    "mpl.rcParams['axes.unicode_minus'] = False"
   ]
  },
  {
   "cell_type": "code",
   "execution_count": 4,
   "id": "b77cf20d",
   "metadata": {},
   "outputs": [
    {
     "data": {
      "text/html": [
       "<div>\n",
       "<style scoped>\n",
       "    .dataframe tbody tr th:only-of-type {\n",
       "        vertical-align: middle;\n",
       "    }\n",
       "\n",
       "    .dataframe tbody tr th {\n",
       "        vertical-align: top;\n",
       "    }\n",
       "\n",
       "    .dataframe thead th {\n",
       "        text-align: right;\n",
       "    }\n",
       "</style>\n",
       "<table border=\"1\" class=\"dataframe\">\n",
       "  <thead>\n",
       "    <tr style=\"text-align: right;\">\n",
       "      <th></th>\n",
       "      <th>title</th>\n",
       "      <th>score</th>\n",
       "      <th>score_num</th>\n",
       "      <th>best_num</th>\n",
       "      <th>best</th>\n",
       "      <th>best_recomm</th>\n",
       "      <th>best_unrecomm</th>\n",
       "      <th>comment_num</th>\n",
       "      <th>comment</th>\n",
       "      <th>star</th>\n",
       "    </tr>\n",
       "  </thead>\n",
       "  <tbody>\n",
       "    <tr>\n",
       "      <th>0</th>\n",
       "      <td>엑스트라 데이즈</td>\n",
       "      <td>9.62</td>\n",
       "      <td>101</td>\n",
       "      <td>6</td>\n",
       "      <td>아 근데 실제로 저런 기술이 있다면 쫌 싸할것같다.. 내가 죽어도 사람들은 나랑 똑...</td>\n",
       "      <td>126</td>\n",
       "      <td>0</td>\n",
       "      <td>42</td>\n",
       "      <td>버키 왜 하나만 블러예욬ㅋㅋㅋㅋㅋ\\n이 웹툰은 개재밌을거라고 나한테 텔레파시가왔다\\...</td>\n",
       "      <td>9.65</td>\n",
       "    </tr>\n",
       "    <tr>\n",
       "      <th>1</th>\n",
       "      <td>원수를 사랑하라</td>\n",
       "      <td>9.95</td>\n",
       "      <td>31400</td>\n",
       "      <td>15</td>\n",
       "      <td>근데 여주 대단하다...엄마랑 아빠가 저런 사람들인데 멀끔히 차려입고 면접보는 거면...</td>\n",
       "      <td>129323</td>\n",
       "      <td>3789</td>\n",
       "      <td>984</td>\n",
       "      <td>그림체 마음에 드네 \\n그림체 미친\\n면접관중에 존나 보기싫은얼굴이보이는데?\\n누가...</td>\n",
       "      <td>9.92</td>\n",
       "    </tr>\n",
       "    <tr>\n",
       "      <th>2</th>\n",
       "      <td>우투리</td>\n",
       "      <td>8.50</td>\n",
       "      <td>159</td>\n",
       "      <td>4</td>\n",
       "      <td>학원액션물 만화계의 거장 임재원님의 2번째 작품 우투리입니다.... 스토리, 그림체...</td>\n",
       "      <td>194</td>\n",
       "      <td>5</td>\n",
       "      <td>51</td>\n",
       "      <td>진짜 퀄리티 말도 안되는데 덴마 이후로 미완결 작품은 그냥 혐오스럽다\\n우와아아아!...</td>\n",
       "      <td>9.20</td>\n",
       "    </tr>\n",
       "    <tr>\n",
       "      <th>3</th>\n",
       "      <td>롭플롭</td>\n",
       "      <td>9.78</td>\n",
       "      <td>290</td>\n",
       "      <td>5</td>\n",
       "      <td>나 이 작가 작품 좋아하네.... 잭슨의 관, 데빌샷 보고 바로 들어옴 \\n잭슨의 ...</td>\n",
       "      <td>410</td>\n",
       "      <td>2</td>\n",
       "      <td>64</td>\n",
       "      <td>작가님 어케 이렇게 그천이신거에요\\n노랑머리 친구 명암때문인진 몰라도장례식 이후에 ...</td>\n",
       "      <td>9.91</td>\n",
       "    </tr>\n",
       "    <tr>\n",
       "      <th>4</th>\n",
       "      <td>약초마을 연쇄살초사건</td>\n",
       "      <td>9.73</td>\n",
       "      <td>10226</td>\n",
       "      <td>15</td>\n",
       "      <td>아니ㅋㅋㅋㅋㅋㅋ작가님ㅋㅋㅋㅋㅋㅋ이제 작물 쪽으로 길을 트신건가요ㅋㅋㅋㅋㅋㅋㅋㅋ\\n팀...</td>\n",
       "      <td>62851</td>\n",
       "      <td>254</td>\n",
       "      <td>1463</td>\n",
       "      <td>ㅋㅋㅋㅋㅋㅋㅋㅋ\\n조낸 무서운 이야기인데 약초란 사실과 그림체 때문에 잔혹함이 전달...</td>\n",
       "      <td>9.87</td>\n",
       "    </tr>\n",
       "  </tbody>\n",
       "</table>\n",
       "</div>"
      ],
      "text/plain": [
       "         title  score  score_num  best_num  \\\n",
       "0     엑스트라 데이즈   9.62        101         6   \n",
       "1     원수를 사랑하라   9.95      31400        15   \n",
       "2          우투리   8.50        159         4   \n",
       "3          롭플롭   9.78        290         5   \n",
       "4  약초마을 연쇄살초사건   9.73      10226        15   \n",
       "\n",
       "                                                best  best_recomm  \\\n",
       "0  아 근데 실제로 저런 기술이 있다면 쫌 싸할것같다.. 내가 죽어도 사람들은 나랑 똑...          126   \n",
       "1  근데 여주 대단하다...엄마랑 아빠가 저런 사람들인데 멀끔히 차려입고 면접보는 거면...       129323   \n",
       "2  학원액션물 만화계의 거장 임재원님의 2번째 작품 우투리입니다.... 스토리, 그림체...          194   \n",
       "3  나 이 작가 작품 좋아하네.... 잭슨의 관, 데빌샷 보고 바로 들어옴 \\n잭슨의 ...          410   \n",
       "4  아니ㅋㅋㅋㅋㅋㅋ작가님ㅋㅋㅋㅋㅋㅋ이제 작물 쪽으로 길을 트신건가요ㅋㅋㅋㅋㅋㅋㅋㅋ\\n팀...        62851   \n",
       "\n",
       "   best_unrecomm  comment_num  \\\n",
       "0              0           42   \n",
       "1           3789          984   \n",
       "2              5           51   \n",
       "3              2           64   \n",
       "4            254         1463   \n",
       "\n",
       "                                             comment  star  \n",
       "0  버키 왜 하나만 블러예욬ㅋㅋㅋㅋㅋ\\n이 웹툰은 개재밌을거라고 나한테 텔레파시가왔다\\...  9.65  \n",
       "1  그림체 마음에 드네 \\n그림체 미친\\n면접관중에 존나 보기싫은얼굴이보이는데?\\n누가...  9.92  \n",
       "2  진짜 퀄리티 말도 안되는데 덴마 이후로 미완결 작품은 그냥 혐오스럽다\\n우와아아아!...  9.20  \n",
       "3  작가님 어케 이렇게 그천이신거에요\\n노랑머리 친구 명암때문인진 몰라도장례식 이후에 ...  9.91  \n",
       "4  ㅋㅋㅋㅋㅋㅋㅋㅋ\\n조낸 무서운 이야기인데 약초란 사실과 그림체 때문에 잔혹함이 전달...  9.87  "
      ]
     },
     "execution_count": 4,
     "metadata": {},
     "output_type": "execute_result"
    }
   ],
   "source": [
    "df = pd.read_csv('data/naver_comment.csv', encoding='utf8')\n",
    "df.head()"
   ]
  },
  {
   "cell_type": "code",
   "execution_count": 5,
   "id": "a9a99eb3",
   "metadata": {},
   "outputs": [
    {
     "data": {
      "image/png": "[encoded data removed]",
      "text/plain": [
       "<Figure size 432x288 with 1 Axes>"
      ]
     },
     "metadata": {
      "needs_background": "light"
     },
     "output_type": "display_data"
    }
   ],
   "source": [
    "df['star'].plot.hist(rot=0, bins=100)\n",
    "plt.show()"
   ]
  },
  {
   "cell_type": "code",
   "execution_count": 6,
   "id": "dc13e06b",
   "metadata": {},
   "outputs": [
    {
     "data": {
      "image/png": "[encoded data removed]",
      "text/plain": [
       "<Figure size 432x288 with 1 Axes>"
      ]
     },
     "metadata": {
      "needs_background": "light"
     },
     "output_type": "display_data"
    }
   ],
   "source": [
    "df['star'].plot.hist(rot=0, bins=100)\n",
    "plt.xlim((9, 10))\n",
    "plt.show()"
   ]
  },
  {
   "cell_type": "code",
   "execution_count": 14,
   "id": "4eb654f6",
   "metadata": {},
   "outputs": [
    {
     "data": {
      "image/png": "[encoded data removed]",
      "text/plain": [
       "<Figure size 432x288 with 1 Axes>"
      ]
     },
     "metadata": {
      "needs_background": "light"
     },
     "output_type": "display_data"
    }
   ],
   "source": [
    "plt.boxplot(df['star'])\n",
    "plt.xticks([1], ['평점'])\n",
    "plt.show()"
   ]
  },
  {
   "cell_type": "code",
   "execution_count": 15,
   "id": "f6c4f5ea",
   "metadata": {},
   "outputs": [
    {
     "data": {
      "image/png": "[encoded data removed]",
      "text/plain": [
       "<Figure size 432x288 with 1 Axes>"
      ]
     },
     "metadata": {
      "needs_background": "light"
     },
     "output_type": "display_data"
    }
   ],
   "source": [
    "plt.boxplot(df['star'])\n",
    "plt.xticks([1], ['평점'])\n",
    "plt.ylim((9, 10))\n",
    "plt.show()"
   ]
  },
  {
   "cell_type": "code",
   "execution_count": 16,
   "id": "6aabe891",
   "metadata": {},
   "outputs": [
    {
     "data": {
      "text/html": [
       "<div>\n",
       "<style scoped>\n",
       "    .dataframe tbody tr th:only-of-type {\n",
       "        vertical-align: middle;\n",
       "    }\n",
       "\n",
       "    .dataframe tbody tr th {\n",
       "        vertical-align: top;\n",
       "    }\n",
       "\n",
       "    .dataframe thead th {\n",
       "        text-align: right;\n",
       "    }\n",
       "</style>\n",
       "<table border=\"1\" class=\"dataframe\">\n",
       "  <thead>\n",
       "    <tr style=\"text-align: right;\">\n",
       "      <th></th>\n",
       "      <th>score</th>\n",
       "      <th>score_num</th>\n",
       "      <th>best_num</th>\n",
       "      <th>best_recomm</th>\n",
       "      <th>best_unrecomm</th>\n",
       "      <th>comment_num</th>\n",
       "      <th>star</th>\n",
       "    </tr>\n",
       "  </thead>\n",
       "  <tbody>\n",
       "    <tr>\n",
       "      <th>count</th>\n",
       "      <td>768.000000</td>\n",
       "      <td>768.000000</td>\n",
       "      <td>768.000000</td>\n",
       "      <td>768.000000</td>\n",
       "      <td>768.000000</td>\n",
       "      <td>768.000000</td>\n",
       "      <td>768.000000</td>\n",
       "    </tr>\n",
       "    <tr>\n",
       "      <th>mean</th>\n",
       "      <td>9.576745</td>\n",
       "      <td>29619.946615</td>\n",
       "      <td>14.250000</td>\n",
       "      <td>119911.082031</td>\n",
       "      <td>3965.587240</td>\n",
       "      <td>4898.585938</td>\n",
       "      <td>9.727044</td>\n",
       "    </tr>\n",
       "    <tr>\n",
       "      <th>std</th>\n",
       "      <td>0.862808</td>\n",
       "      <td>26340.627766</td>\n",
       "      <td>2.465406</td>\n",
       "      <td>107403.809573</td>\n",
       "      <td>5874.876957</td>\n",
       "      <td>6113.059486</td>\n",
       "      <td>0.593415</td>\n",
       "    </tr>\n",
       "    <tr>\n",
       "      <th>min</th>\n",
       "      <td>2.680000</td>\n",
       "      <td>101.000000</td>\n",
       "      <td>1.000000</td>\n",
       "      <td>30.000000</td>\n",
       "      <td>0.000000</td>\n",
       "      <td>23.000000</td>\n",
       "      <td>4.440000</td>\n",
       "    </tr>\n",
       "    <tr>\n",
       "      <th>25%</th>\n",
       "      <td>9.660000</td>\n",
       "      <td>10710.750000</td>\n",
       "      <td>15.000000</td>\n",
       "      <td>38516.500000</td>\n",
       "      <td>741.750000</td>\n",
       "      <td>1123.750000</td>\n",
       "      <td>9.770000</td>\n",
       "    </tr>\n",
       "    <tr>\n",
       "      <th>50%</th>\n",
       "      <td>9.870000</td>\n",
       "      <td>24995.000000</td>\n",
       "      <td>15.000000</td>\n",
       "      <td>99381.000000</td>\n",
       "      <td>2452.000000</td>\n",
       "      <td>3125.500000</td>\n",
       "      <td>9.920000</td>\n",
       "    </tr>\n",
       "    <tr>\n",
       "      <th>75%</th>\n",
       "      <td>9.930000</td>\n",
       "      <td>42235.000000</td>\n",
       "      <td>15.000000</td>\n",
       "      <td>178769.750000</td>\n",
       "      <td>4885.000000</td>\n",
       "      <td>6701.750000</td>\n",
       "      <td>9.960000</td>\n",
       "    </tr>\n",
       "    <tr>\n",
       "      <th>max</th>\n",
       "      <td>9.980000</td>\n",
       "      <td>247874.000000</td>\n",
       "      <td>15.000000</td>\n",
       "      <td>826991.000000</td>\n",
       "      <td>76363.000000</td>\n",
       "      <td>68000.000000</td>\n",
       "      <td>9.990000</td>\n",
       "    </tr>\n",
       "  </tbody>\n",
       "</table>\n",
       "</div>"
      ],
      "text/plain": [
       "            score      score_num    best_num    best_recomm  best_unrecomm  \\\n",
       "count  768.000000     768.000000  768.000000     768.000000     768.000000   \n",
       "mean     9.576745   29619.946615   14.250000  119911.082031    3965.587240   \n",
       "std      0.862808   26340.627766    2.465406  107403.809573    5874.876957   \n",
       "min      2.680000     101.000000    1.000000      30.000000       0.000000   \n",
       "25%      9.660000   10710.750000   15.000000   38516.500000     741.750000   \n",
       "50%      9.870000   24995.000000   15.000000   99381.000000    2452.000000   \n",
       "75%      9.930000   42235.000000   15.000000  178769.750000    4885.000000   \n",
       "max      9.980000  247874.000000   15.000000  826991.000000   76363.000000   \n",
       "\n",
       "        comment_num        star  \n",
       "count    768.000000  768.000000  \n",
       "mean    4898.585938    9.727044  \n",
       "std     6113.059486    0.593415  \n",
       "min       23.000000    4.440000  \n",
       "25%     1123.750000    9.770000  \n",
       "50%     3125.500000    9.920000  \n",
       "75%     6701.750000    9.960000  \n",
       "max    68000.000000    9.990000  "
      ]
     },
     "execution_count": 16,
     "metadata": {},
     "output_type": "execute_result"
    }
   ],
   "source": [
    "df.describe()"
   ]
  },
  {
   "cell_type": "code",
   "execution_count": null,
   "id": "a669d7d6",
   "metadata": {},
   "outputs": [],
   "source": []
  }
 ],
 "metadata": {
  "kernelspec": {
   "display_name": "Python Multi",
   "language": "python",
   "name": "multi"
  },
  "language_info": {
   "codemirror_mode": {
    "name": "ipython",
    "version": 3
   },
   "file_extension": ".py",
   "mimetype": "text/x-python",
   "name": "python",
   "nbconvert_exporter": "python",
   "pygments_lexer": "ipython3",
   "version": "3.7.6"
  },
  "toc": {
   "base_numbering": 1,
   "nav_menu": {},
   "number_sections": false,
   "sideBar": true,
   "skip_h1_title": false,
   "title_cell": "Table of Contents",
   "title_sidebar": "Contents",
   "toc_cell": false,
   "toc_position": {},
   "toc_section_display": true,
   "toc_window_display": false
  }
 },
 "nbformat": 4,
 "nbformat_minor": 5
}
