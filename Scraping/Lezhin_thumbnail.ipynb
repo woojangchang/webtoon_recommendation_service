{
 "cells": [
  {
   "cell_type": "markdown",
   "id": "UDj_sZe8QieC",
   "metadata": {
    "id": "UDj_sZe8QieC"
   },
   "source": [
    "# Lezhin 작품별 썸네일"
   ]
  },
  {
   "cell_type": "code",
   "execution_count": null,
   "id": "z81HZZkgQieH",
   "metadata": {
    "id": "z81HZZkgQieH"
   },
   "outputs": [],
   "source": [
    "import pandas as pd\n",
    "from selenium import webdriver\n",
    "import urllib.request\n",
    "import urllib\n",
    "import time\n",
    "import re\n",
    "import os\n",
    "from bs4 import BeautifulSoup\n",
    "from selenium.webdriver.common.keys import Keys"
   ]
  },
  {
   "cell_type": "code",
   "execution_count": null,
   "id": "cFZACif7QieJ",
   "metadata": {
    "id": "cFZACif7QieJ"
   },
   "outputs": [],
   "source": [
    "URL = 'https://www.lezhin.com/ko/scheduled?day=1'\n",
    "\n",
    "driver = webdriver.Chrome(executable_path='chromedriver')\n",
    "driver.implicitly_wait(time_to_wait=1)\n",
    "driver.get(URL)\n",
    "time.sleep(1)\n",
    "\n",
    "#요일별 데이터 가져오기\n",
    "for i in range(1,9): \n",
    "\n",
    "    driver.find_element_by_xpath('//*[@id=\"main\"]/div/a['+str(i)+']').click()\n",
    "    time.sleep(0.5)\n",
    "\n",
    "    for key_down in range(0,5):\n",
    "        driver.find_element_by_tag_name('body').send_keys(Keys.PAGE_DOWN)\n",
    "        time.sleep(0.5)\n",
    "\n",
    "    html = driver.page_source\n",
    "    soup = BeautifulSoup(html, 'html.parser')\n",
    "    webtoon_area = soup.select('#main > ul.lzComic__list')\n",
    "\n",
    "    #제목 수집\n",
    "    title = soup.find_all('div', {'class': 'lzComic__title'}) # 제목 수집\n",
    "    titles = []\n",
    "    for t in range(len(title)):\n",
    "        titles.append(re.sub('[^0-9a-zA-Zㄱ-힗]','',title[t].get_text()))\n",
    "\n",
    "    titles = titles[0:]\n",
    "    print(len(titles))\n",
    "\n",
    "    #이미지 수집\n",
    "    data_list=soup.findAll('div',{'class':'lzComic__thumb'})\n",
    "\n",
    "    li_list = []\n",
    "    for data in data_list:\n",
    "        li_list.extend(data.findAll('picture')) #해당 부분을 찾아 li_list와 병합\n",
    "\n",
    "    thumb = []\n",
    "\n",
    "    for li in li_list:\n",
    "        img = li.find('img')\n",
    "        img_src = img['src']\n",
    "        thumb.append(img_src)\n",
    "    thumb = thumb[0:]\n",
    "    print(len(thumb))\n",
    "\n",
    "    for k in range(len(thumb)):\n",
    "            try:\n",
    "                urllib.request.urlretrieve(thumb[k], './LZ/imgs/{}.webp'.format(titles[k]))\n",
    "            except:\n",
    "                k += 1\n",
    "                continue\n",
    "            k += 1\n",
    "\n",
    "    driver.execute_script(\"window.scrollTo(0, -10000)\")\n",
    "                                   \n",
    "driver.close()\n",
    "print('Complete')"
   ]
  },
  {
   "cell_type": "code",
   "execution_count": null,
   "id": "t5_qEC7yQieK",
   "metadata": {
    "id": "t5_qEC7yQieK"
   },
   "outputs": [],
   "source": [
    "print(titles)"
   ]
  },
  {
   "cell_type": "code",
   "execution_count": null,
   "id": "HKFwauJDQieK",
   "metadata": {
    "id": "HKFwauJDQieK"
   },
   "outputs": [],
   "source": [
    "lz = pd.DataFrame({'title':titles, 'thumb':thumb})\n",
    "lz = lz.drop_duplicates(['title'], keep='first')"
   ]
  },
  {
   "cell_type": "code",
   "execution_count": null,
   "id": "jaIsfLRWQieL",
   "metadata": {
    "id": "jaIsfLRWQieL"
   },
   "outputs": [],
   "source": [
    "lz"
   ]
  },
  {
   "cell_type": "code",
   "execution_count": null,
   "id": "dtxyv4AEQieM",
   "metadata": {
    "id": "dtxyv4AEQieM"
   },
   "outputs": [],
   "source": [
    "lz.to_csv('LZ_list.csv', encoding='euc-kr')"
   ]
  },
  {
   "cell_type": "markdown",
   "id": "WFERARsaQieM",
   "metadata": {
    "id": "WFERARsaQieM"
   },
   "source": [
    "## PIL 활용하여 이미지 변환 저장"
   ]
  },
  {
   "cell_type": "code",
   "execution_count": null,
   "id": "2m44ktsSQieN",
   "metadata": {
    "id": "2m44ktsSQieN"
   },
   "outputs": [],
   "source": [
    "from PIL import Image\n",
    "\n",
    "im = Image.open('LZ/imgs/1미터사이.webp').convert('RGB')\n",
    "im.save('1미터사이.png', 'png')"
   ]
  },
  {
   "cell_type": "code",
   "execution_count": null,
   "id": "FboN5SKEQieO",
   "metadata": {
    "id": "FboN5SKEQieO"
   },
   "outputs": [],
   "source": [
    "data = './LZ/imgs/'\n",
    "c_data = './LZ/imgs_c/'\n",
    "file_list = os.listdir(data)\n",
    "webp_list = []\n",
    "\n",
    "k = 0\n",
    "for i in file_list:\n",
    "    k += 1\n",
    "    if k%10==0:\n",
    "        print('변환 개수 :' +str(k)+' / '+str(len(file_list)))\n",
    "    img = Image.open(data+str(i))\n",
    "    img_1 = img.convert('RGB')\n",
    "    webp_list.append(img_1)\n",
    "img_1.save(c_data, 'png', save_all=True, append_images=webp_list)\n",
    "print('Complete')"
   ]
  },
  {
   "cell_type": "markdown",
   "id": "G09NFexbQieO",
   "metadata": {
    "id": "G09NFexbQieO"
   },
   "source": [
    "## Lezhin 회차별 썸네일"
   ]
  },
  {
   "cell_type": "code",
   "execution_count": null,
   "id": "6o_xFYHlQieP",
   "metadata": {
    "id": "6o_xFYHlQieP",
    "outputId": "d67217a7-8f5a-4ee0-ccb8-8f5a6fcdb866"
   },
   "outputs": [
    {
     "name": "stdout",
     "output_type": "stream",
     "text": [
      "28\n",
      "28\n",
      "PAGE COMPLETE\n",
      "Complete\n"
     ]
    }
   ],
   "source": [
    "URL = 'https://www.lezhin.com/ko/comic/'\n",
    "link = input('작품 링크 : ')\n",
    "\n",
    "driver = webdriver.Chrome(executable_path='chromedriver')\n",
    "driver.implicitly_wait(time_to_wait=1)\n",
    "driver.get(URL+link)\n",
    "time.sleep(1)\n",
    "\n",
    "body = driver.find_element_by_tag_name('body')\n",
    "last = driver.execute_script('return document.body.scrollHeight')\n",
    "\n",
    "# while True:\n",
    "#     scroll_down = 0\n",
    "#     while scroll_down < 10:\n",
    "#         elem.send_keys(Keys.PAGE_DOWN)\n",
    "#         time.sleep(0.5)\n",
    "#         scroll_down += 1\n",
    "\n",
    "for key_down in range(1):\n",
    "    # driver.find_element_by_tag_name('body').send_keys(Keys.PAGE_DOWN)\n",
    "\n",
    "    for scroll in range(0, 40):     # PAGE_DOWN 횟수\n",
    "        scroll_down = 0\n",
    "        body.send_keys(Keys.PAGE_DOWN)\n",
    "        time.sleep(0.15)\n",
    "        scroll_down += 1\n",
    "\n",
    "        new = driver.execute_script('return document.body.scrollHeight')\n",
    "\n",
    "    html = driver.page_source\n",
    "    soup = BeautifulSoup(html, 'html.parser')\n",
    "    webtoon_area = soup.select('#main > #section > ul.comic-episode-list')\n",
    "\n",
    "    #제목 수집\n",
    "    title = soup.find_all('div', {'class': 'episode__name'}) # 제목 수집\n",
    "    titles = []\n",
    "    for t in range(len(title)):\n",
    "        titles.append(re.sub('[^0-9a-zA-Zㄱ-힗]','',title[t].get_text()))\n",
    "\n",
    "    titles = titles[0:]\n",
    "    print(len(titles))\n",
    "\n",
    "    #이미지 수집\n",
    "    data_list=soup.findAll('div',{'class':'episode__thumb'})\n",
    "\n",
    "    li_list = []\n",
    "    for data in data_list:\n",
    "        li_list.extend(data.findAll('picture')) #해당 부분을 찾아 li_list와 병합\n",
    "\n",
    "    thumb = []\n",
    "\n",
    "    for li in li_list:\n",
    "        img = li.find('img')\n",
    "        img_src = img['src']\n",
    "        thumb.append(img_src)\n",
    "    thumb = thumb[0:]\n",
    "    print(len(thumb))\n",
    "\n",
    "    for k in range(len(thumb)):\n",
    "            try:\n",
    "                urllib.request.urlretrieve(thumb[k], './LZ/imgs_t/{}.png'.format(titles[k]))       # 저장형식 지정\n",
    "            except:\n",
    "                k += 1\n",
    "                continue\n",
    "            k += 1\n",
    "\n",
    "    if new == last:\n",
    "        print('PAGE COMPLETE')      # 스크롤 범위 지정\n",
    "\n",
    "    last = new\n",
    "\n",
    "driver.close()\n",
    "print('Complete')"
   ]
  },
  {
   "cell_type": "code",
   "execution_count": null,
   "id": "To5fbKRPQieR",
   "metadata": {
    "id": "To5fbKRPQieR",
    "outputId": "e7b3b6a7-3719-4102-9f0e-9b4a8248e984"
   },
   "outputs": [
    {
     "data": {
      "text/plain": [
       "['https://ccdn.lezhin.com/v2/comics/4566161041522688/episodes/4807617213759488/images/cover.jpg?updated=1587792744678&width=156',\n",
       " 'https://ccdn.lezhin.com/v2/comics/4566161041522688/episodes/5626063272935424/images/cover.jpg?updated=1587792760645&width=156',\n",
       " 'https://ccdn.lezhin.com/v2/comics/4566161041522688/episodes/5228262602964992/images/cover.jpg?updated=1587792772804&width=156',\n",
       " 'https://ccdn.lezhin.com/v2/comics/4566161041522688/episodes/6559526832439296/images/cover.jpg?updated=1587792785132&width=156',\n",
       " 'https://ccdn.lezhin.com/v2/comics/4566161041522688/episodes/4729939483820032/images/cover.jpg?updated=1587792798194&width=156',\n",
       " 'https://ccdn.lezhin.com/v2/comics/4566161041522688/episodes/6363082880057344/images/cover.jpg?updated=1587793188583&width=156',\n",
       " 'https://ccdn.lezhin.com/v2/comics/4566161041522688/episodes/5282174299144192/images/cover.jpg?updated=1587793205244&width=156',\n",
       " 'https://ccdn.lezhin.com/v2/comics/4566161041522688/episodes/5355961686294528/images/cover.jpg?updated=1587793216518&width=156',\n",
       " 'https://ccdn.lezhin.com/v2/comics/4566161041522688/episodes/6568229107269632/images/cover.jpg?updated=1587793235438&width=156',\n",
       " 'https://ccdn.lezhin.com/v2/comics/4566161041522688/episodes/5396001686683648/images/cover.jpg?updated=1587793246496&width=156',\n",
       " 'https://ccdn.lezhin.com/v2/comics/4566161041522688/episodes/5347792939515904/images/cover.jpg?updated=1587793263755&width=156',\n",
       " 'https://ccdn.lezhin.com/v2/comics/4566161041522688/episodes/6049736901394432/images/cover.jpg?updated=1587793274763&width=156',\n",
       " 'https://ccdn.lezhin.com/v2/comics/4566161041522688/episodes/5982917813469184/images/cover.jpg?updated=1587793289668&width=156',\n",
       " 'https://ccdn.lezhin.com/v2/comics/4566161041522688/episodes/5481297191436288/images/cover.jpg?updated=1587793303383&width=156',\n",
       " 'https://ccdn.lezhin.com/v2/comics/4566161041522688/episodes/5279282666471424/images/cover.jpg?updated=1587793385398&width=156',\n",
       " 'https://ccdn.lezhin.com/v2/comics/4566161041522688/episodes/6023160180834304/images/cover.jpg?updated=1587793425928&width=156',\n",
       " 'https://ccdn.lezhin.com/v2/comics/4566161041522688/episodes/5545621423456256/images/cover.jpg?updated=1587793480318&width=156',\n",
       " 'https://ccdn.lezhin.com/v2/comics/4566161041522688/episodes/5026028619628544/images/cover.jpg?updated=1587793493635&width=156',\n",
       " 'https://ccdn.lezhin.com/v2/comics/4566161041522688/episodes/6145289580773376/images/cover.jpg?updated=1587793523464&width=156',\n",
       " 'https://ccdn.lezhin.com/v2/comics/4566161041522688/episodes/6320141642039296/images/cover.jpg?updated=1587793537630&width=156',\n",
       " 'https://ccdn.lezhin.com/v2/comics/4566161041522688/episodes/4805091945152512/images/cover.jpg?updated=1587793548897&width=156',\n",
       " 'https://ccdn.lezhin.com/v2/comics/4566161041522688/episodes/5240524856426496/images/cover.jpg?updated=1587793611599&width=156',\n",
       " 'https://ccdn.lezhin.com/v2/comics/4566161041522688/episodes/6242410350837760/images/cover.jpg?updated=1587793731832&width=156',\n",
       " 'https://ccdn.lezhin.com/v2/comics/4566161041522688/episodes/5818165372190720/images/cover.jpg?updated=1587793819928&width=156',\n",
       " 'https://ccdn.lezhin.com/v2/comics/4566161041522688/episodes/6103069880287232/images/cover.jpg?updated=1587793830201&width=156',\n",
       " 'https://ccdn.lezhin.com/v2/comics/4566161041522688/episodes/6139118144782336/images/cover.jpg?updated=1587793842328&width=156',\n",
       " 'https://ccdn.lezhin.com/v2/comics/4566161041522688/episodes/6205267318472704/images/cover.jpg?updated=1587793872169&width=156',\n",
       " 'https://ccdn.lezhin.com/v2/comics/4566161041522688/episodes/6452282833043456/images/cover.jpg?updated=1587793891271&width=156',\n",
       " 'https://ccdn.lezhin.com/v2/comics/4566161041522688/episodes/6400253095903232/images/cover.jpg?updated=1587793907453&width=156',\n",
       " 'https://ccdn.lezhin.com/v2/comics/4566161041522688/episodes/4891479445143552/images/cover.jpg?updated=1587793917857&width=156',\n",
       " 'https://ccdn.lezhin.com/v2/comics/4566161041522688/episodes/4896798023942144/images/cover.jpg?updated=1587793930508&width=156',\n",
       " 'https://ccdn.lezhin.com/v2/comics/4566161041522688/episodes/6694718108925952/images/cover.jpg?updated=1587793944832&width=156',\n",
       " 'https://ccdn.lezhin.com/v2/comics/4566161041522688/episodes/5117129561014272/images/cover.jpg?updated=1587793955815&width=156',\n",
       " 'https://ccdn.lezhin.com/v2/comics/4566161041522688/episodes/5365743474507776/images/cover.jpg?updated=1587793968599&width=156',\n",
       " 'https://ccdn.lezhin.com/v2/comics/4566161041522688/episodes/5537855873024000/images/cover.jpg?updated=1587793981723&width=156',\n",
       " 'https://ccdn.lezhin.com/v2/comics/4566161041522688/episodes/6408008445788160/images/cover.jpg?updated=1587794006290&width=156',\n",
       " 'https://ccdn.lezhin.com/v2/comics/4566161041522688/episodes/6645997717487616/images/cover.jpg?updated=1587794018249&width=156',\n",
       " 'https://ccdn.lezhin.com/v2/comics/4566161041522688/episodes/5099112389214208/images/cover.jpg?updated=1587794030153&width=156',\n",
       " 'https://ccdn.lezhin.com/v2/comics/4566161041522688/episodes/6516107999510528/images/cover.jpg?updated=1587794064429&width=156',\n",
       " 'https://ccdn.lezhin.com/v2/comics/4566161041522688/episodes/6068357554044928/images/cover.jpg?updated=1587794887900&width=156',\n",
       " 'https://ccdn.lezhin.com/v2/comics/4566161041522688/episodes/5190611193888768/images/cover.jpg?updated=1587794424803&width=156',\n",
       " 'https://ccdn.lezhin.com/v2/comics/4566161041522688/episodes/4762216643493888/images/cover.jpg?updated=1587794437476&width=156',\n",
       " 'https://ccdn.lezhin.com/v2/comics/4566161041522688/episodes/5816923172438016/images/cover.jpg?updated=1587794448610&width=156',\n",
       " 'https://ccdn.lezhin.com/v2/comics/4566161041522688/episodes/6232430790901760/images/cover.jpg?updated=1587794460720&width=156',\n",
       " 'https://ccdn.lezhin.com/v2/comics/4566161041522688/episodes/6663989104803840/images/cover.jpg?updated=1587794470857&width=156',\n",
       " 'https://ccdn.lezhin.com/v2/comics/4566161041522688/episodes/6414560162545664/images/cover.jpg?updated=1587794484306&width=156',\n",
       " 'https://ccdn.lezhin.com/v2/comics/4566161041522688/episodes/6207984751411200/images/cover.jpg?updated=1587794496296&width=156',\n",
       " 'https://ccdn.lezhin.com/v2/comics/4566161041522688/episodes/5626427358642176/images/cover.jpg?updated=1587794507403&width=156',\n",
       " 'https://ccdn.lezhin.com/v2/comics/4566161041522688/episodes/6668694118793216/images/cover.jpg?updated=1587794519836&width=156',\n",
       " '//ccdn.lezhin.com/files/assets/blank.png',\n",
       " '//ccdn.lezhin.com/files/assets/blank.png',\n",
       " '//ccdn.lezhin.com/files/assets/blank.png',\n",
       " '//ccdn.lezhin.com/files/assets/blank.png',\n",
       " '//ccdn.lezhin.com/files/assets/blank.png',\n",
       " '//ccdn.lezhin.com/files/assets/blank.png',\n",
       " '//ccdn.lezhin.com/files/assets/blank.png',\n",
       " '//ccdn.lezhin.com/files/assets/blank.png',\n",
       " '//ccdn.lezhin.com/files/assets/blank.png',\n",
       " '//ccdn.lezhin.com/files/assets/blank.png',\n",
       " '//ccdn.lezhin.com/files/assets/blank.png',\n",
       " '//ccdn.lezhin.com/files/assets/blank.png',\n",
       " '//ccdn.lezhin.com/files/assets/blank.png',\n",
       " '//ccdn.lezhin.com/files/assets/blank.png',\n",
       " '//ccdn.lezhin.com/files/assets/blank.png',\n",
       " '//ccdn.lezhin.com/files/assets/blank.png',\n",
       " '//ccdn.lezhin.com/files/assets/blank.png',\n",
       " '//ccdn.lezhin.com/files/assets/blank.png',\n",
       " '//ccdn.lezhin.com/files/assets/blank.png',\n",
       " '//ccdn.lezhin.com/files/assets/blank.png',\n",
       " '//ccdn.lezhin.com/files/assets/blank.png',\n",
       " '//ccdn.lezhin.com/files/assets/blank.png',\n",
       " '//ccdn.lezhin.com/files/assets/blank.png',\n",
       " '//ccdn.lezhin.com/files/assets/blank.png',\n",
       " '//ccdn.lezhin.com/files/assets/blank.png',\n",
       " '//ccdn.lezhin.com/files/assets/blank.png',\n",
       " '//ccdn.lezhin.com/files/assets/blank.png',\n",
       " '//ccdn.lezhin.com/files/assets/blank.png',\n",
       " '//ccdn.lezhin.com/files/assets/blank.png',\n",
       " '//ccdn.lezhin.com/files/assets/blank.png',\n",
       " '//ccdn.lezhin.com/files/assets/blank.png',\n",
       " '//ccdn.lezhin.com/files/assets/blank.png',\n",
       " '//ccdn.lezhin.com/files/assets/blank.png',\n",
       " '//ccdn.lezhin.com/files/assets/blank.png',\n",
       " '//ccdn.lezhin.com/files/assets/blank.png',\n",
       " '//ccdn.lezhin.com/files/assets/blank.png',\n",
       " '//ccdn.lezhin.com/files/assets/blank.png',\n",
       " '//ccdn.lezhin.com/files/assets/blank.png',\n",
       " '//ccdn.lezhin.com/files/assets/blank.png',\n",
       " '//ccdn.lezhin.com/files/assets/blank.png',\n",
       " '//ccdn.lezhin.com/files/assets/blank.png',\n",
       " '//ccdn.lezhin.com/files/assets/blank.png',\n",
       " '//ccdn.lezhin.com/files/assets/blank.png',\n",
       " '//ccdn.lezhin.com/files/assets/blank.png',\n",
       " '//ccdn.lezhin.com/files/assets/blank.png',\n",
       " '//ccdn.lezhin.com/files/assets/blank.png',\n",
       " '//ccdn.lezhin.com/files/assets/blank.png',\n",
       " '//ccdn.lezhin.com/files/assets/blank.png',\n",
       " '//ccdn.lezhin.com/files/assets/blank.png',\n",
       " '//ccdn.lezhin.com/files/assets/blank.png',\n",
       " '//ccdn.lezhin.com/files/assets/blank.png',\n",
       " '//ccdn.lezhin.com/files/assets/blank.png',\n",
       " '//ccdn.lezhin.com/files/assets/blank.png',\n",
       " '//ccdn.lezhin.com/files/assets/blank.png',\n",
       " '//ccdn.lezhin.com/files/assets/blank.png',\n",
       " '//ccdn.lezhin.com/files/assets/blank.png',\n",
       " '//ccdn.lezhin.com/files/assets/blank.png',\n",
       " '//ccdn.lezhin.com/files/assets/blank.png',\n",
       " '//ccdn.lezhin.com/files/assets/blank.png',\n",
       " '//ccdn.lezhin.com/files/assets/blank.png',\n",
       " '//ccdn.lezhin.com/files/assets/blank.png',\n",
       " '//ccdn.lezhin.com/files/assets/blank.png',\n",
       " '//ccdn.lezhin.com/files/assets/blank.png',\n",
       " '//ccdn.lezhin.com/files/assets/blank.png',\n",
       " '//ccdn.lezhin.com/files/assets/blank.png',\n",
       " '//ccdn.lezhin.com/files/assets/blank.png',\n",
       " '//ccdn.lezhin.com/files/assets/blank.png',\n",
       " '//ccdn.lezhin.com/files/assets/blank.png',\n",
       " '//ccdn.lezhin.com/files/assets/blank.png',\n",
       " '//ccdn.lezhin.com/files/assets/blank.png',\n",
       " '//ccdn.lezhin.com/files/assets/blank.png',\n",
       " '//ccdn.lezhin.com/files/assets/blank.png',\n",
       " '//ccdn.lezhin.com/files/assets/blank.png',\n",
       " '//ccdn.lezhin.com/files/assets/blank.png',\n",
       " '//ccdn.lezhin.com/files/assets/blank.png',\n",
       " '//ccdn.lezhin.com/files/assets/blank.png',\n",
       " '//ccdn.lezhin.com/files/assets/blank.png',\n",
       " '//ccdn.lezhin.com/files/assets/blank.png',\n",
       " '//ccdn.lezhin.com/files/assets/blank.png',\n",
       " '//ccdn.lezhin.com/files/assets/blank.png',\n",
       " '//ccdn.lezhin.com/files/assets/blank.png',\n",
       " '//ccdn.lezhin.com/files/assets/blank.png',\n",
       " '//ccdn.lezhin.com/files/assets/blank.png',\n",
       " '//ccdn.lezhin.com/files/assets/blank.png',\n",
       " '//ccdn.lezhin.com/files/assets/blank.png',\n",
       " '//ccdn.lezhin.com/files/assets/blank.png',\n",
       " '//ccdn.lezhin.com/files/assets/blank.png',\n",
       " '//ccdn.lezhin.com/files/assets/blank.png',\n",
       " '//ccdn.lezhin.com/files/assets/blank.png',\n",
       " '//ccdn.lezhin.com/files/assets/blank.png',\n",
       " '//ccdn.lezhin.com/files/assets/blank.png',\n",
       " '//ccdn.lezhin.com/files/assets/blank.png',\n",
       " '//ccdn.lezhin.com/files/assets/blank.png',\n",
       " '//ccdn.lezhin.com/files/assets/blank.png',\n",
       " '//ccdn.lezhin.com/files/assets/blank.png',\n",
       " '//ccdn.lezhin.com/files/assets/blank.png',\n",
       " '//ccdn.lezhin.com/files/assets/blank.png',\n",
       " '//ccdn.lezhin.com/files/assets/blank.png',\n",
       " '//ccdn.lezhin.com/files/assets/blank.png',\n",
       " '//ccdn.lezhin.com/files/assets/blank.png',\n",
       " '//ccdn.lezhin.com/files/assets/blank.png',\n",
       " '//ccdn.lezhin.com/files/assets/blank.png',\n",
       " '//ccdn.lezhin.com/files/assets/blank.png',\n",
       " '//ccdn.lezhin.com/files/assets/blank.png',\n",
       " '//ccdn.lezhin.com/files/assets/blank.png',\n",
       " '//ccdn.lezhin.com/files/assets/blank.png',\n",
       " '//ccdn.lezhin.com/files/assets/blank.png',\n",
       " '//ccdn.lezhin.com/files/assets/blank.png',\n",
       " '//ccdn.lezhin.com/files/assets/blank.png',\n",
       " '//ccdn.lezhin.com/files/assets/blank.png',\n",
       " '//ccdn.lezhin.com/files/assets/blank.png',\n",
       " '//ccdn.lezhin.com/files/assets/blank.png',\n",
       " '//ccdn.lezhin.com/files/assets/blank.png',\n",
       " '//ccdn.lezhin.com/files/assets/blank.png',\n",
       " '//ccdn.lezhin.com/files/assets/blank.png',\n",
       " '//ccdn.lezhin.com/files/assets/blank.png',\n",
       " '//ccdn.lezhin.com/files/assets/blank.png',\n",
       " '//ccdn.lezhin.com/files/assets/blank.png',\n",
       " '//ccdn.lezhin.com/files/assets/blank.png',\n",
       " '//ccdn.lezhin.com/files/assets/blank.png',\n",
       " '//ccdn.lezhin.com/files/assets/blank.png',\n",
       " '//ccdn.lezhin.com/files/assets/blank.png',\n",
       " '//ccdn.lezhin.com/files/assets/blank.png',\n",
       " '//ccdn.lezhin.com/files/assets/blank.png',\n",
       " '//ccdn.lezhin.com/files/assets/blank.png',\n",
       " 'https://ccdn.lezhin.com/v2/comics/4566161041522688/episodes/5897763520053248/images/cover.jpg?updated=1628299516690&width=156',\n",
       " 'https://ccdn.lezhin.com/v2/comics/4566161041522688/episodes/4521752500961280/images/cover.jpg?updated=1628299514823&width=156',\n",
       " 'https://ccdn.lezhin.com/v2/comics/4566161041522688/episodes/6042255816458240/images/cover.jpg?updated=1628903473652&width=156',\n",
       " 'https://ccdn.lezhin.com/v2/comics/4566161041522688/episodes/5260114904023040/images/cover.jpg?updated=1628995939309&width=156',\n",
       " 'https://ccdn.lezhin.com/v2/comics/4566161041522688/episodes/5281098100965376/images/cover.jpg?updated=1629509069599&width=156',\n",
       " 'https://ccdn.lezhin.com/v2/comics/4566161041522688/episodes/4884247002546176/images/cover.jpg?updated=1629595512539&width=156',\n",
       " 'https://ccdn.lezhin.com/v2/comics/4566161041522688/episodes/5105817130172416/images/cover.jpg?updated=1630126559610&width=156',\n",
       " 'https://ccdn.lezhin.com/v2/comics/4566161041522688/episodes/6682392250351616/images/cover.jpg?updated=1630203593140&width=156',\n",
       " 'https://ccdn.lezhin.com/v2/comics/4566161041522688/episodes/6562065319002112/images/cover.jpg?updated=1630722855761&width=156',\n",
       " 'https://ccdn.lezhin.com/v2/comics/4566161041522688/episodes/4846827179671552/images/cover.jpg?updated=1630809626993&width=156']"
      ]
     },
     "execution_count": 5,
     "metadata": {},
     "output_type": "execute_result"
    }
   ],
   "source": [
    "thumb"
   ]
  },
  {
   "cell_type": "code",
   "execution_count": null,
   "id": "h7iy4BsyQieR",
   "metadata": {
    "id": "h7iy4BsyQieR"
   },
   "outputs": [],
   "source": []
  }
 ],
 "metadata": {
  "colab": {
   "name": "LZ_thumb.ipynb",
   "provenance": []
  },
  "interpreter": {
   "hash": "cbc7b8543d1a0c0580dd6c6f93fd506ee08c247999fac6a3411f4896a6caf960"
  },
  "kernelspec": {
   "display_name": "Python 3",
   "language": "python",
   "name": "python3"
  },
  "language_info": {
   "codemirror_mode": {
    "name": "ipython",
    "version": 3
   },
   "file_extension": ".py",
   "mimetype": "text/x-python",
   "name": "python",
   "nbconvert_exporter": "python",
   "pygments_lexer": "ipython3",
   "version": "3.7.6"
  },
  "toc": {
   "base_numbering": 1,
   "nav_menu": {},
   "number_sections": false,
   "sideBar": true,
   "skip_h1_title": false,
   "title_cell": "Table of Contents",
   "title_sidebar": "Contents",
   "toc_cell": false,
   "toc_position": {},
   "toc_section_display": true,
   "toc_window_display": false
  }
 },
 "nbformat": 4,
 "nbformat_minor": 5
}
