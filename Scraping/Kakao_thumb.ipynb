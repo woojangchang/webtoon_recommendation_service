{
 "cells": [
  {
   "cell_type": "code",
   "execution_count": 1,
   "id": "5184b579-0e77-4225-a9c4-d6ff75fdad5b",
   "metadata": {},
   "outputs": [],
   "source": [
    "import pandas as pd\n",
    "import numpy as np\n",
    "import json\n",
    "\n",
    "with open('weekdays.json', 'r', encoding='utf8') as f:\n",
    "    contents = f.read()\n",
    "    json_data = json.loads(contents)\n",
    "\n",
    "# print(json.dumps(json_data, indent=\"\\t\", ensure_ascii=False))\n",
    "# print(json_data['data']['sections'][0]['cardGroups'][0]['cards'][0]['content']['title'])"
   ]
  },
  {
   "cell_type": "code",
   "execution_count": 2,
   "id": "d1811206-e877-4635-8bfd-11d628c8d8e8",
   "metadata": {},
   "outputs": [
    {
     "name": "stdout",
     "output_type": "stream",
     "text": [
      "미생\n",
      "['#공감되는', '#몰입되는', '#드라마', '#오피스물']\n",
      "자신의 삶을 승리하기 위해 한 수 한 수 돌을 잇는 사람들의 이야기\n",
      "[{'name': '윤태호', 'type': 'AUTHOR', 'order': 1}, {'name': '윤태호', 'type': 'ILLUSTRATOR', 'order': 2}, {'name': '카카오웹툰 스튜디오', 'type': 'PUBLISHER', 'order': 3}, {'name': '슈퍼코믹스스튜디오', 'type': 'PUBLISHER', 'order': 4}]\n",
      "https://kr-a.kakaopagecdn.com/P/C/818/c2/2x/198e3dbe-6875-431a-a59f-3299e0877d1a.png\n"
     ]
    }
   ],
   "source": [
    "# 구조 정제\n",
    "\n",
    "title = json_data['data']['sections'][0]['cardGroups'][0]['cards'][0]['content']['title']\n",
    "keyword = json_data['data']['sections'][0]['cardGroups'][0]['cards'][0]['content']['seoKeywords']\n",
    "synopsis = json_data['data']['sections'][0]['cardGroups'][0]['cards'][0]['content']['synopsis']\n",
    "authors = json_data['data']['sections'][0]['cardGroups'][0]['cards'][0]['content']['authors']\n",
    "featuredCharacterImageB = json_data['data']['sections'][0]['cardGroups'][0]['cards'][0]['content']['featuredCharacterImageB']\n",
    "\n",
    "print(title)\n",
    "print(keyword)\n",
    "print(synopsis)\n",
    "print(authors)\n",
    "print(featuredCharacterImageB+'.png')"
   ]
  },
  {
   "cell_type": "code",
   "execution_count": 3,
   "id": "1c6cd467-3768-4796-87ca-c63e7b273cc0",
   "metadata": {},
   "outputs": [],
   "source": [
    "x = 0\n",
    "y = 0\n",
    "z = 0\n",
    "\n",
    "days = []\n",
    "titles = []\n",
    "keywords = []\n",
    "synopsises = []\n",
    "authorsl = []\n",
    "main_image = []\n",
    "\n",
    "while True:\n",
    "  try:\n",
    "    xs = json_data['data']['sections'][x]\n",
    "    while True:\n",
    "      try:\n",
    "        ys = xs['cardGroups'][y]\n",
    "        while True:\n",
    "          try:\n",
    "            day = xs['title']\n",
    "            title = ys['cards'][z]['content']['title']\n",
    "            keyword = ys['cards'][z]['content']['seoKeywords']\n",
    "            synopsis = ys['cards'][z]['content']['synopsis']\n",
    "            authors = ys['cards'][z]['content']['authors']\n",
    "            images = ys['cards'][z]['content']['featuredCharacterImageB']\n",
    "\n",
    "            days.append(day)\n",
    "            titles.append(title)\n",
    "            keywords.append(keyword)\n",
    "            synopsises.append(synopsis)\n",
    "            authorsl.append(authors)\n",
    "            main_image.append(images)\n",
    "\n",
    "            z += 1\n",
    "          except:\n",
    "            z = 0\n",
    "            y += 1\n",
    "            break\n",
    "      except:\n",
    "        z = 0\n",
    "        y = 0\n",
    "        x += 1\n",
    "        break\n",
    "  except:\n",
    "    break"
   ]
  },
  {
   "cell_type": "code",
   "execution_count": 15,
   "id": "5a05e9fb-44c4-4edb-be39-c57d9c07cdf3",
   "metadata": {},
   "outputs": [
    {
     "name": "stdout",
     "output_type": "stream",
     "text": [
      "['미생', '바니와 오빠들', '사귄 건 아닌데', '뱀파이어님의 대리식사', '쓰레기 머학생', '액괴', '그 책에 마음을 주지 마세요', '기숙사(死)', '서천화원', '오무라이스 잼잼', '교수님을 빚는 중', '그라티아', '이대로 멈출 순 없다', '환골탈태', '흑우', '사랑하면 디져~트', '독고3 [완전판]', '집행자여', '천인의 신부', '강호표사', '환율이 바뀌었나요', '유부녀의 탄생', '조류공포증', '일단 질러! 질렐루야', '니니툰즈', '롱리브더킹', '무지개다리 파수꾼', '아싸가 알아버렸다', '타원을 그리는 법', '연습생 고영신', '너를 만나다', '네 곁에도 어쩌면', '아비무쌍', '비밀 사이', '지옥사원', '사랑하는 존재', '멸종인간', '딩스뚱스', '단두 (斷頭)', '우리집이거든요!', '골드핸즈', '신랑이 사라졌다', '기프트', '악한 기사', '아싸클럽', '우주를 삼킨 별', '트리거', '환상의 아이들', '그녀의 앵무새', '화폐개혁', '해피하우스', '대선비쇼에 어서오세요!', '악마의 편집', '개목걸이', '니니툰즈', '뱀파이어 신드롬', '닥터 파인의 하루', '쌍갑포차', '유부녀 킬러', '말하지 말까', '두번째 썸', '금수친구들', '천광명월', '수린당 -비늘 고치는 집-', '블랙 베히모스', '후크', '좋아하면 울리는', '칼집의 아이', '악녀의 탄생', '구원', '방구석 여포', '소쩍이 운다', '죽어도! 치우', '조국이 당신을 원한다', '저승사자 온라인', '미드나잇 블루', '이미테이션', '하나하나둘', '슈퍼매치 1탄  LoL BJ 멸망전', '우리가 사랑하는 방법', 'CELL', '니니툰즈', '관존 이강진', '블랙윈터', '샬롯에게는 다섯 명의 제자가 있다', '러브 스트리밍', '뽀짜툰', '함께 춤을', '프레너미', '신의 태궁', '백의사자', '시간이 머문 집', '침묵의 정원', '26번째 살인', '쑥', '록산', '울화통 고등학교', '저기요 손님', '조국이 당신을 원한다', '도깨비언덕에 왜 왔니', '시월드 게임 -please save my husband-', '재벌과의 인터뷰', '나를 지켜줘', '살어리랏다', '논현동 장사꾼', '트러블', '니니툰즈', '백로식당', '갱스쿨', '스타의 학교생활', '바리공주', '나만 아는 사랑', '퀴퀴한 일기', '소녀신선', '남남', '불합격인간', '헤븐 투 헬', '열무와 알타리', '우리가 헤어진 사이에', '지금은 연애를 쉽니다', '로엘린은 미래를 걷는다', '키몽의 호구로운 생활', '더 챌린저', '신락도', '파륜아이', '플러스 마이너스 제로', '전생에 나라를 구한 자', '체벌교사', '날씨의 요정', '불러줘 내 이름만', '폭군황제의 첫사랑', '슈퍼매치 1탄  LoL BJ 멸망전', '크레센도', '닭은 의외로 위대하다', '니니툰즈', '유리의 벽', '너에게 투 혼(魂)!', '김탐정 사용설명서', '미완결', '백작가의 불청객들', '복무신조  우리의 결의', '이렇게 바보일리 없어', '랑데부', '반지하셋방', '천연 天緣', '할매', '후궁공략', '풍검', '별똥별이 떨어지는 그 곳에서 기다려', '이세계 전담반', '쥐덫', '오늘은 꼭 고백할 거야!', '선택은 하나', '어린 (물고기 비늘)', '부기영화', '랜딩', '주말 도미 시식회', '허약선생', '순정 히포크라테스', '정의는 죽지 않는다', '이토록 보통의', '너에게 가는 거리 2091km', '멀리서 보면 푸른 봄', '우리반 숙경이', '샤크', '이뤄질 수 없는 마녀의 소망', '구슬의 주인', '주간소년열애사', '리매치 ', '내일도 출근!', '취향저격 그녀', '가드패스', '남의 사랑 이야기', '슬프게도 이게 내 인생', '질투유발자들', '백의조각', '트레이스 리마스터', '무법대학', '크라우드', '퀴퀴한 일기', '우범소년', '이상징후', '언데드킹', '일진에게 찍혔을 때', '그 아해', '이토록 보통의', '하렘생존기', '씨방것들', '미래의 사진', '내 친구는 선녀보살']\n",
      "190\n"
     ]
    }
   ],
   "source": [
    "#제목 정제\n",
    "import re\n",
    "\n",
    "re_titles = []\n",
    "\n",
    "for i in range(len(titles)):\n",
    "    re_titles.append(re.sub('[\\\\/*\"<>|:?]','',titles[i]))\n",
    "    \n",
    "print(re_titles)\n",
    "print(len(re_titles))"
   ]
  },
  {
   "cell_type": "code",
   "execution_count": 17,
   "id": "b30a7c95-c93f-4254-b5ee-bf0c546a9142",
   "metadata": {},
   "outputs": [
    {
     "name": "stdout",
     "output_type": "stream",
     "text": [
      "182\n"
     ]
    }
   ],
   "source": [
    "print(len(pd.Series(re_titles).unique()))"
   ]
  },
  {
   "cell_type": "code",
   "execution_count": 12,
   "id": "82239167-6c5c-460c-9313-888d22aee666",
   "metadata": {},
   "outputs": [
    {
     "name": "stdout",
     "output_type": "stream",
     "text": [
      "['윤태호', '니은', '민홍', '멜리', '수레기', '서강용', '문시현', '이제환', '마하로', '조경규', '서아', '상민', '자룡', '마고(mago)', '늙슬', '참치캔', '민(meen)', '종수', '문솔', 'OZi', 'YB', '김환타', '조눈', 'yami', '니니즈', '버드나무숲', '이서', '곰브', '섬멍', '정현수', '다노아', '윤지운', '노경찬', '맥퀸스튜디오', '네온비', '향유 크리에이티브', '디디', '딩스', '붉은 발', '공룡', '박하', '방자', '정이리이리', '글가애', '랑쓰', '이온상', '불만있냥', '김다', '금계수', '윤필', '장삥준', '아람', '건초', '김종욱', '니니즈', '이충호', '김용회', '배혜수', 'YOON', '마루', '비아이', '짤태식', '석빈', '일링스', '케이지콘', '나진수', '천계영', '김형민', 'TB', 'Axis', '키미하이', '박흥용', '만백', '숭어', '쑨', '보보군', '박경란', '고은', '빛돌', '기비', '강형규', '니니즈', '노경찬', '정이나', '용용', '마영신', '유리', '도연', '돌석', '해소금', '체사', '헤고', '염라', '수오', '문홍조', '백작', '박세가', '강소소', '숭어', '김용회', '송백', '우다', '동남', '김민소', '김영현', 'NASTY CAT', '니니즈', '확천금', 'taibogi', '올챙구리', '김나임', '아임', '2B', '효미', '정영롱', 'Sepia', '김종훈', '유영', '오하', '유현숙', '로지야', '키몽', 'TryTry(REDICE STUDIO)', '다원', '박은비', '마영신', '현마담', '시노키오', '이이영', '꿀삼', '김수오', '빛돌', '김탐미', '미역의효능', '니니즈', '조호', '롱토피아', '이장희', '네온비', '아르누니', '우윱', '한지혜', 'Hun', '평범한 자매', 'ALIC', '재후', '봉봉', '김철현', '만물상', '손희준', '오닛', 'CHYA', '박만두', '윤태호', '급소가격', '설구', '이용우', '철범', '골드키위새', '크레용', '캐롯', '빵시헌', '지늉', '해밀 외 1인', '운(雲)', '해청', '갸가', '박시인', '이노안', '맥퀸스튜디오', '로즈옹', '오손도손', '사란', '슬', '김꽁', '홍일', '네스티캣', '기령', '만두비', '2B', '병장', '잇선', '윤준식', '언정이', '권계림', '캐롯', '오리발', '오청', '낑깡', '챰']\n",
      "190\n"
     ]
    }
   ],
   "source": [
    "#작가 정제\n",
    "import re\n",
    "\n",
    "re_author = []\n",
    "\n",
    "for i in range(len(authorsl)):\n",
    "    re_author.append(re.sub('[\\\\/*\"<>|?]','',authorsl[i][0]['name']))\n",
    "    \n",
    "print(re_author)\n",
    "print(len(re_author))"
   ]
  },
  {
   "cell_type": "code",
   "execution_count": 13,
   "id": "cf4b48e0-275d-42a8-b51d-0f07cbb34c4f",
   "metadata": {},
   "outputs": [
    {
     "name": "stdout",
     "output_type": "stream",
     "text": [
      "190\n"
     ]
    }
   ],
   "source": [
    "# url 정제\n",
    "img_url = []\n",
    "for i in range(len(main_image)):\n",
    "    img_url.append(str(main_image[i])+'.png')\n",
    "print(len(img_url))"
   ]
  },
  {
   "cell_type": "code",
   "execution_count": 14,
   "id": "44b5f9a0-86c8-4d20-bc3c-a1ae14b4193e",
   "metadata": {},
   "outputs": [
    {
     "name": "stdout",
     "output_type": "stream",
     "text": [
      "39.065903186798096\n"
     ]
    }
   ],
   "source": [
    "import os\n",
    "import time\n",
    "import urllib.request\n",
    "\n",
    "if not os.path.exists('./thumb'):\n",
    "    os.mkdir('./thumb')\n",
    "    \n",
    "start = time.time()\n",
    "\n",
    "for i in range(len(img_url)):\n",
    "#     os.system(\"curl \" + img_url[i] + \" > \" + re_titles[i] + \".jpg\")\n",
    "    print(re_titles[i])\n",
    "    urllib.request.urlretrieve(img_url[i], \"./thumb/\"+ re_titles[i] +\".jpg\")\n",
    "\n",
    "print(time.time() - start)"
   ]
  },
  {
   "cell_type": "code",
   "execution_count": null,
   "id": "b54556f4-1460-4c4c-a9ea-2b51b6f8b03b",
   "metadata": {},
   "outputs": [],
   "source": [
    "# pd.set_option('display.max_rows', None)\n",
    "kakao = pd.read_csv('../Data/kakao.csv', encoding='euc-kr', index_col=0)\n",
    "kakao.head(5)"
   ]
  },
  {
   "cell_type": "code",
   "execution_count": null,
   "id": "47967307-efbe-4618-90ce-3ba79d5ccddc",
   "metadata": {},
   "outputs": [],
   "source": [
    "kakao.loc[kakao.title == ' 무법대학', ('title')] = '무법대학'\n",
    "# 21’ LCK 서머 : Summer is Coming\n",
    "# 21’ LCK 서머 : Summer is Coming\n",
    "kakao.head()"
   ]
  },
  {
   "cell_type": "code",
   "execution_count": null,
   "id": "ef93cd5b-1259-49f9-99ae-cf9e0a3d0085",
   "metadata": {},
   "outputs": [],
   "source": [
    "ti_au = pd.DataFrame(np.column_stack([re_titles, re_author]), columns=['title', 'author'])\n",
    "# ti_au.to_csv('../Data/title_author.csv', encoding='euc-kr')"
   ]
  },
  {
   "cell_type": "code",
   "execution_count": null,
   "id": "c0884fc2-b64c-451b-b529-865436e4ace5",
   "metadata": {},
   "outputs": [],
   "source": [
    "m_kakao = pd.merge(kakao, ti_au, how='outer', on='title')\n",
    "m_kakao.head(20)"
   ]
  },
  {
   "cell_type": "code",
   "execution_count": null,
   "id": "31438dab-6641-45b1-875a-0804ab072b4a",
   "metadata": {},
   "outputs": [],
   "source": [
    "len(m_kakao)"
   ]
  },
  {
   "cell_type": "code",
   "execution_count": null,
   "id": "b840bfd4-e58a-4cae-820c-06496732207f",
   "metadata": {},
   "outputs": [],
   "source": [
    "print(len(ti_au))\n",
    "print(len(kakao))"
   ]
  },
  {
   "cell_type": "code",
   "execution_count": null,
   "id": "691d311e-d450-4c37-b239-ce58068cbdcb",
   "metadata": {},
   "outputs": [],
   "source": [
    "m_kakao = m_kakao.drop_duplicates(['title'])\n",
    "# m_kakao.duplicated(['title'])\n",
    "len(m_kakao)"
   ]
  },
  {
   "cell_type": "code",
   "execution_count": null,
   "id": "6f7eabe5-69f5-4475-8f9b-138cd848d5fe",
   "metadata": {},
   "outputs": [],
   "source": [
    "m_kakao.to_csv('../Data/123.csv', encoding='euc-kr')"
   ]
  },
  {
   "cell_type": "code",
   "execution_count": null,
   "id": "5aac5a61-c121-428e-ae71-7254baeeb869",
   "metadata": {},
   "outputs": [],
   "source": []
  }
 ],
 "metadata": {
  "kernelspec": {
   "display_name": "Python Multi",
   "language": "python",
   "name": "multi"
  },
  "language_info": {
   "codemirror_mode": {
    "name": "ipython",
    "version": 3
   },
   "file_extension": ".py",
   "mimetype": "text/x-python",
   "name": "python",
   "nbconvert_exporter": "python",
   "pygments_lexer": "ipython3",
   "version": "3.7.6"
  }
 },
 "nbformat": 4,
 "nbformat_minor": 5
}
