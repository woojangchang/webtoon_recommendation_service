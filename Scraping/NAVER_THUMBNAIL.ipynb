{
 "cells": [
  {
   "cell_type": "code",
   "execution_count": 1,
   "id": "7356f17b-2d89-4fd5-a63e-61d1641a3498",
   "metadata": {},
   "outputs": [],
   "source": [
    "import requests\n",
    "import urllib\n",
    "import time\n",
    "import re\n",
    "import os\n",
    "from bs4 import BeautifulSoup"
   ]
  },
  {
   "cell_type": "markdown",
   "id": "3d7212bf-ce28-413c-bd7f-e403226339d8",
   "metadata": {},
   "source": [
    "# 완결 총 페이지 수"
   ]
  },
  {
   "cell_type": "code",
   "execution_count": 2,
   "id": "b7ded0d6-61df-4c32-bf10-68c1eb41d6d9",
   "metadata": {},
   "outputs": [
    {
     "data": {
      "text/plain": [
       "34"
      ]
     },
     "execution_count": 2,
     "metadata": {},
     "output_type": "execute_result"
    }
   ],
   "source": [
    "url = 'https://m.comic.naver.com/webtoon/finish'\n",
    "req_finish = requests.get(url)\n",
    "soup_finish = BeautifulSoup(req_finish.text, 'lxml')\n",
    "total = soup_finish.select(\"#ct > div.section_list_toon > div.paging_type2 > em > span\")\n",
    "total_num = int(re.sub('(<([^>]+)>)', '', str(total[0])))\n",
    "total_num"
   ]
  },
  {
   "cell_type": "markdown",
   "id": "9603c4f9-a9ab-43c0-bbfe-e75771cc8115",
   "metadata": {},
   "source": [
    "# 각 페이지 별 제목, 작가, 작품 url 가져오기"
   ]
  },
  {
   "cell_type": "code",
   "execution_count": 3,
   "id": "26b48efd-f3cf-4983-b720-f2d3f3904e60",
   "metadata": {},
   "outputs": [],
   "source": [
    "def get_urls(num):\n",
    "    url = f'https://m.comic.naver.com/webtoon/finish?sort=UPDATE&page={num}'\n",
    "    \n",
    "    req = requests.get(url)\n",
    "    soup = BeautifulSoup(req.text,'lxml')\n",
    "    page = soup.select(\"#ct > div.section_list_toon > ul\")\n",
    "    \n",
    "    page_content = str(page[0])\n",
    "    \n",
    "    titles = re.findall('<strong class=\"title\">.*</strong>', page_content)\n",
    "    authors = re.findall('<span class=\"author\">.*</span>', page_content)\n",
    "    urls = re.findall('/webtoon/list\\?titleId=\\d+', page_content)\n",
    "    \n",
    "    return titles, authors, urls"
   ]
  },
  {
   "cell_type": "code",
   "execution_count": 4,
   "id": "d7cedbb7-0ab1-488e-a2b7-0ab4235ded4e",
   "metadata": {},
   "outputs": [],
   "source": [
    "titles = []\n",
    "authors = []\n",
    "urls = []\n",
    "\n",
    "for i in range(1, total_num + 1):\n",
    "    title, author, url = get_urls(i)\n",
    "    \n",
    "    titles += title\n",
    "    authors += author\n",
    "    urls += url"
   ]
  },
  {
   "cell_type": "code",
   "execution_count": 5,
   "id": "93991a36-7d0f-455c-826c-54c2fd91bf38",
   "metadata": {},
   "outputs": [
    {
     "data": {
      "text/plain": [
       "(1005, 1005, 1005)"
      ]
     },
     "execution_count": 5,
     "metadata": {},
     "output_type": "execute_result"
    }
   ],
   "source": [
    "len(titles), len(authors), len(urls)"
   ]
  },
  {
   "cell_type": "code",
   "execution_count": 6,
   "id": "b3bd35f3-df8d-4fd9-9936-0e208c125242",
   "metadata": {},
   "outputs": [
    {
     "data": {
      "text/plain": [
       "('<strong class=\"title\">나라 구한 전생</strong>',\n",
       " '<span class=\"author\">양키풀</span>',\n",
       " '/webtoon/list?titleId=778741')"
      ]
     },
     "execution_count": 6,
     "metadata": {},
     "output_type": "execute_result"
    }
   ],
   "source": [
    "titles[0], authors[0], urls[0]"
   ]
  },
  {
   "cell_type": "markdown",
   "id": "b79f938c-da7e-459b-863c-00672fcb0115",
   "metadata": {},
   "source": [
    "## 제목, 작가 명 정리\n",
    "- 정규식을 이용하여 HTML 태그 지우기\n",
    "- 작가에서 그림 작가만 가져오기"
   ]
  },
  {
   "cell_type": "code",
   "execution_count": 7,
   "id": "5629243b-d61b-4ea4-bec7-b8b7d2ff9cff",
   "metadata": {},
   "outputs": [],
   "source": [
    "titles = list(map(lambda x:re.sub('(<([^>]+)>)', '', x), titles))\n",
    "authors = list(map(lambda x:re.sub('(<([^>]+)>)', '', x), authors))"
   ]
  },
  {
   "cell_type": "code",
   "execution_count": 8,
   "id": "077b5f08-f379-4cd7-a552-94c301062565",
   "metadata": {},
   "outputs": [
    {
     "data": {
      "text/plain": [
       "('나라 구한 전생', '양키풀')"
      ]
     },
     "execution_count": 8,
     "metadata": {},
     "output_type": "execute_result"
    }
   ],
   "source": [
    "titles[0], authors[0]"
   ]
  },
  {
   "cell_type": "code",
   "execution_count": 9,
   "id": "3e59c636-d46b-4c27-b57c-a78d5ea038c6",
   "metadata": {},
   "outputs": [],
   "source": [
    "def get_illustrator(author):\n",
    "    if '/' in author:\n",
    "        author = author.split('/')[-1].strip()\n",
    "\n",
    "    return author"
   ]
  },
  {
   "cell_type": "code",
   "execution_count": 10,
   "id": "ea0bfcc7-bf84-47fb-9b55-7417ea466284",
   "metadata": {},
   "outputs": [],
   "source": [
    "authors = list(map(get_illustrator, authors))"
   ]
  },
  {
   "cell_type": "code",
   "execution_count": 11,
   "id": "4254fe7a-c24a-4381-95c0-2852431d8e02",
   "metadata": {},
   "outputs": [
    {
     "data": {
      "text/plain": [
       "'양키풀'"
      ]
     },
     "execution_count": 11,
     "metadata": {},
     "output_type": "execute_result"
    }
   ],
   "source": [
    "authors[0]"
   ]
  },
  {
   "cell_type": "markdown",
   "id": "f87fa6a5-f40c-4755-b973-6e147b8321b1",
   "metadata": {},
   "source": [
    "# 웹툰 별 페이지에서 썸네일 이미지 정보 가져오기"
   ]
  },
  {
   "cell_type": "code",
   "execution_count": 13,
   "id": "c1cbb266-dcc9-4ae0-8cbf-51a909c3e057",
   "metadata": {},
   "outputs": [],
   "source": [
    "# 19세 이상 작품의 썸네일을 가져오기 위한 네이버 로그인\n",
    "from selenium import webdriver\n",
    "executable_path='./webdriver/chromedriver.exe'\n",
    "\n",
    "options = webdriver.ChromeOptions()\n",
    "driver = webdriver.Chrome(executable_path = executable_path)\n",
    "driver.get(\"http://www.naver.com\")"
   ]
  },
  {
   "cell_type": "code",
   "execution_count": 14,
   "id": "27f5c895-4d26-4c03-a398-fda4c86bc749",
   "metadata": {},
   "outputs": [],
   "source": [
    "def get_thumb_img_episode(url, num):\n",
    "    url = url + f'&sortOrder=ASC&page={num}'\n",
    "    driver.get(url)\n",
    "#     req = requests.get(url)\n",
    "    soup = BeautifulSoup(driver.page_source, 'html.parser')\n",
    "    index = 1\n",
    "    info = soup.select(f\"#ct > ul.section_episode_list > li:nth-of-type({index}) > a > div.thumbnail > img\")\n",
    "    \n",
    "    epis = []\n",
    "    urls = []\n",
    "    while len(info) > 0:\n",
    "        info_detail = str(info[0])\n",
    "        epi_name = info_detail.split('\"')[1]\n",
    "        url = info_detail.split('\"')[-4]\n",
    "        \n",
    "        epis.append(epi_name)\n",
    "        urls.append(url)\n",
    "        \n",
    "        index += 1\n",
    "        info = soup.select(f\"#ct > ul.section_episode_list > li:nth-of-type({index}) > a > div.thumbnail > img\")\n",
    "    return epis, urls"
   ]
  },
  {
   "cell_type": "code",
   "execution_count": 15,
   "id": "c4b9ed7b-5411-4430-9a66-985709ef9390",
   "metadata": {},
   "outputs": [
    {
     "data": {
      "text/plain": [
       "('31화',\n",
       " 'https://image-comic.pstatic.net/webtoon/778741/31/thumbnail_202x120_7089850426517107556.jpg')"
      ]
     },
     "execution_count": 15,
     "metadata": {},
     "output_type": "execute_result"
    }
   ],
   "source": [
    "epi, imgurl = get_thumb_img_episode('https://m.comic.naver.com'+urls[0], 2)\n",
    "epi[0], imgurl[0]"
   ]
  },
  {
   "cell_type": "code",
   "execution_count": 21,
   "id": "5325cd58-5423-4c74-bdbf-1504641a4fae",
   "metadata": {},
   "outputs": [],
   "source": [
    "# 403 error를 피하기 위한 조치\n",
    "import urllib.request\n",
    "\n",
    "opener=urllib.request.build_opener()\n",
    "opener.addheaders=[('User-Agent','Mozilla/5.0 (Windows NT 6.1; WOW64) AppleWebKit/537.36 (KHTML, like Gecko) Chrome/36.0.1941.0 Safari/537.36')]\n",
    "urllib.request.install_opener(opener)"
   ]
  },
  {
   "cell_type": "code",
   "execution_count": 25,
   "id": "6ed899d1-402d-4b28-89ad-0ea872246335",
   "metadata": {},
   "outputs": [
    {
     "data": {
      "text/plain": [
       "('./data/imgs/자유/롤랑롤랑_0152.jpg', <http.client.HTTPMessage at 0x2e00e5fb948>)"
      ]
     },
     "execution_count": 25,
     "metadata": {},
     "output_type": "execute_result"
    }
   ],
   "source": [
    "urllib.request.urlretrieve(imgurls[k], img_file_name)"
   ]
  },
  {
   "cell_type": "code",
   "execution_count": 26,
   "id": "a69b1a11-815a-4bde-a607-06d34385c275",
   "metadata": {},
   "outputs": [
    {
     "name": "stdout",
     "output_type": "stream",
     "text": [
      "All Complete\n",
      "Wall time: 1h 9min 31s\n"
     ]
    }
   ],
   "source": [
    "%%time\n",
    "from IPython.display import clear_output\n",
    "import time\n",
    "\n",
    "domain = 'https://m.comic.naver.com'\n",
    "\n",
    "# 각 작품별\n",
    "for i in range(len(titles)):\n",
    "    \n",
    "    # 폴더\n",
    "    img_folder = './data/imgs/' + authors[i]\n",
    "    if not os.path.exists(img_folder):\n",
    "        os.mkdir(img_folder)\n",
    "    \n",
    "    # 작품 url 내\n",
    "    url_main = domain + urls[i]\n",
    "    driver.get(url_main)\n",
    "#     source = requests.get(url_main)\n",
    "    soup = BeautifulSoup(driver.page_source, 'html.parser')\n",
    "    try:\n",
    "        last = int(re.sub('(<([^>]+)>)', '', str(soup.select('#ct > div.paging_type2 > em > span')[0])))\n",
    "    except:\n",
    "        last = 1\n",
    "    \n",
    "    # 전체 페이지\n",
    "    idx = 1\n",
    "    for j in range(1, last+1):\n",
    "        print(f'{titles[i]} - {j}/{last} Downloading...', end='\\r')\n",
    "        epis, imgurls = get_thumb_img_episode(url_main, j)\n",
    "        \n",
    "        # 각 페이지별 썸네일 이미지 저장\n",
    "        for k in range(len(imgurls)):\n",
    "            # 중복 방지를 위하여 페이지, 이미지 인덱스를 파일명에 추가\n",
    "#             img_file_name = img_folder + '/' + titles[i] + '_' + re.sub('[^0-9a-zA-Zㄱ-힗\\s]', '', epis[k]) + '_' + str(j) + '_' + str(k) + '.jpg'\n",
    "\n",
    "            # 에피소드명 대신 회차를 파일명으로\n",
    "            img_file_name = img_folder + '/' + re.sub('[:\\?]', '', titles[i]) + '_' + f'{idx:04d}' + '.jpg'\n",
    "            try:                \n",
    "                urllib.request.urlretrieve(imgurls[k], img_file_name)\n",
    "            except:\n",
    "                idx += 1\n",
    "                continue\n",
    "            idx += 1\n",
    "        \n",
    "        print(f'{titles[i]} - {j}/{last} Download Complete')\n",
    "        \n",
    "    clear_output()\n",
    "\n",
    "    print(f'{titles[i]} - {i+1}/{len(titles)} Complete')\n",
    "clear_output()\n",
    "print('All Complete')"
   ]
  },
  {
   "cell_type": "code",
   "execution_count": 86,
   "id": "3b22ecc2-1487-4584-8225-8e067ba63eb7",
   "metadata": {},
   "outputs": [],
   "source": [
    "driver.close()"
   ]
  },
  {
   "cell_type": "markdown",
   "id": "6087c9eb",
   "metadata": {},
   "source": [
    "# 연재 중 작품"
   ]
  },
  {
   "cell_type": "code",
   "execution_count": 3,
   "id": "026fb3af-9b82-4cb4-bd8b-d6dbdf2b17b1",
   "metadata": {},
   "outputs": [],
   "source": [
    "domain_url = 'https://comic.naver.com'\n",
    "main_url = 'https://comic.naver.com/webtoon/weekday.nhn'\n",
    "\n",
    "html = requests.get(main_url).text\n",
    "soup = BeautifulSoup(html, 'html.parser')\n",
    "webtoon_area = soup.select('#content > div.list_area.daily_all > div.col > div > ul > li > div.thumb > a')"
   ]
  },
  {
   "cell_type": "code",
   "execution_count": 7,
   "id": "1424d5db-58ea-40e0-ad73-81204cf72763",
   "metadata": {
    "tags": []
   },
   "outputs": [
    {
     "name": "stdout",
     "output_type": "stream",
     "text": [
      "All Complete\n",
      "Wall time: 22min 34s\n"
     ]
    }
   ],
   "source": [
    "%%time\n",
    "\n",
    "from IPython.display import clear_output\n",
    "\n",
    "for i, each_webtoon in enumerate(webtoon_area):\n",
    "    webtoon_last_page = domain_url + each_webtoon['href'] + '&page={}'.format(99999)\n",
    "    html = requests.get(webtoon_last_page).text\n",
    "    soup = BeautifulSoup(html, 'html.parser')\n",
    "    last_page_num = int(soup.select('#content > div.paginate > div > strong.page')[0].find('em').text)\n",
    "    title = soup.select('.comicinfo h2')[0].text.strip().split('\\n')[0]\n",
    "    author = get_illustrator(soup.select('.comicinfo h2')[0].text.strip().split('\\n')[1].strip())\n",
    "    \n",
    "    img_folder = './data/imgs_week/' + author\n",
    "    if not os.path.exists(img_folder):\n",
    "        os.mkdir(img_folder)\n",
    "    \n",
    "    idx = 1\n",
    "    for page_num in range(1, last_page_num + 1):\n",
    "        print(f'{title} - {page_num}/{last_page_num} Downloading...', end='\\r')\n",
    "        webtoon_url = domain_url + each_webtoon['href'] + '&page={}'.format(page_num)\n",
    "        html = requests.get(webtoon_url).text\n",
    "        soup = BeautifulSoup(html, 'html.parser')\n",
    "\n",
    "        thumbnail_area = soup.find('table', 'viewList')\n",
    "        thumbnail_img_list = thumbnail_area.select('td > a > img')[1:]\n",
    "        for each_img_tag in thumbnail_img_list:\n",
    "            img_file_name = img_folder + '/' + re.sub('[:\\?]', '', title) + '_' + f'{idx:04d}' + '.jpg'\n",
    "            try:\n",
    "                urllib.request.urlretrieve(each_img_tag['src'], img_file_name)\n",
    "            except:\n",
    "                idx += 1\n",
    "                continue\n",
    "            idx += 1\n",
    "        \n",
    "        print(f'{title} - {page_num}/{last_page_num} Download Complete')\n",
    "        \n",
    "    clear_output()\n",
    "\n",
    "    print(f'{title} - {i+1}/{len(webtoon_area)} Complete')\n",
    "clear_output()\n",
    "print('All Complete')"
   ]
  },
  {
   "cell_type": "code",
   "execution_count": null,
   "id": "2ffc3044-f16b-43d9-af83-b0c7cd78346d",
   "metadata": {},
   "outputs": [],
   "source": []
  }
 ],
 "metadata": {
  "kernelspec": {
   "display_name": "Python Multi",
   "language": "python",
   "name": "multi"
  },
  "language_info": {
   "codemirror_mode": {
    "name": "ipython",
    "version": 3
   },
   "file_extension": ".py",
   "mimetype": "text/x-python",
   "name": "python",
   "nbconvert_exporter": "python",
   "pygments_lexer": "ipython3",
   "version": "3.7.6"
  },
  "toc": {
   "base_numbering": 1,
   "nav_menu": {},
   "number_sections": false,
   "sideBar": true,
   "skip_h1_title": false,
   "title_cell": "Table of Contents",
   "title_sidebar": "Contents",
   "toc_cell": false,
   "toc_position": {},
   "toc_section_display": true,
   "toc_window_display": false
  }
 },
 "nbformat": 4,
 "nbformat_minor": 5
}
