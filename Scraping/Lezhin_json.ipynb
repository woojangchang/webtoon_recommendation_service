{
 "cells": [
  {
   "cell_type": "markdown",
   "id": "c17bab06",
   "metadata": {},
   "source": [
    "F12 - network - home_scheduled~~ json 파일"
   ]
  },
  {
   "cell_type": "code",
   "execution_count": 66,
   "id": "086263d6-874d-4554-8a39-af03fee6f766",
   "metadata": {
    "colab": {
     "base_uri": "https://localhost:8080/"
    },
    "id": "K8jIFaF9G6C9",
    "outputId": "a6a9857c-3143-4043-fe9c-1453496392c1"
   },
   "outputs": [],
   "source": [
    "import json\n",
    "\n",
    "with open('weekdays.json', 'r', encoding='utf8') as f:\n",
    "    contents = f.read()\n",
    "    json_data = json.loads(contents)\n",
    "\n",
    "# print(json.dumps(json_data, indent=\"\\t\", ensure_ascii=False))\n",
    "# for i in range(1,9):\n",
    "#     print(json_data['data']['inventoryList'][i]['items'][0])"
   ]
  },
  {
   "cell_type": "code",
   "execution_count": 67,
   "id": "6848542c-3283-4447-9b17-d7247524925c",
   "metadata": {
    "colab": {
     "base_uri": "https://localhost:8080/"
    },
    "id": "K8jIFaF9G6C9",
    "outputId": "a6a9857c-3143-4043-fe9c-1453496392c1"
   },
   "outputs": [
    {
     "name": "stdout",
     "output_type": "stream",
     "text": [
      "{'id': '5092573991927808', 'idLezhinObject': 59, 'lezhinObjectType': 'comic', 'title': '천지해', 'authors': [{'id': 'pingpu', 'name': '핑푸'}], 'schedule': {'periods': ['SUN'], 'anchor': 0}, 'badges': 'e', 'targetUrl': '/ko/comic/cheonjihae', 'type': 'lezhinObject', 'seq': 82, 'mediaList': [{'mediaKey': 'square/1', 'url': '/comics/59/images/squares/1', 'state': 'saved'}, {'mediaKey': 'tall/1', 'url': '/comics/59/images/talls/1', 'state': 'saved'}, {'mediaKey': 'thumbnail/1', 'url': '/comics/59/images/thumbnails/1', 'state': 'saved'}, {'mediaKey': 'wide/1', 'url': '/comics/59/images/wides/1', 'state': 'saved'}], 'createdAt': 1554907374000, 'itemUpdatedAt': 1632988778000, 'genres': ['fantasy'], 'alias': 'cheonjihae', 'freedEpisodeSize': 430, 'locale': 'ko-KR', 'mediaMap': {'square': 1, 'thumbnail': 1, 'wide': 1, 'tall': 1}, 'tags': ['fantasy', '동양풍', '성장물', '이종족'], 'filters': [], 'newPublishedAt': 1373036400000, 'updatedAt': 1632988786452}\n"
     ]
    }
   ],
   "source": [
    "print(json_data['data']['inventoryList'][1]['items'][0])"
   ]
  },
  {
   "cell_type": "code",
   "execution_count": 68,
   "id": "f99f1dbd-82ed-4832-9d23-cc2982cf6db3",
   "metadata": {
    "colab": {
     "base_uri": "https://localhost:8080/"
    },
    "id": "K8jIFaF9G6C9",
    "outputId": "a6a9857c-3143-4043-fe9c-1453496392c1"
   },
   "outputs": [
    {
     "name": "stdout",
     "output_type": "stream",
     "text": [
      "천지해\n",
      "[{'id': 'pingpu', 'name': '핑푸'}]\n",
      "https://ccdn.lezhin.com/v2/comics/59/images/thumbnails/1\n",
      "https://www.lezhin.com/ko/comic/cheonjihae\n",
      "['fantasy']\n",
      "\n",
      "바른쀼생활\n",
      "[{'id': 'kkp256900', 'name': '윤박'}]\n",
      "https://ccdn.lezhin.com/v2/comics/4566161041522688/images/thumbnails/1\n",
      "https://www.lezhin.com/ko/comic/20_nov\n",
      "['day']\n",
      "\n",
      "미성년\n",
      "[{'id': 'hinoon', 'name': '히눈'}]\n",
      "https://ccdn.lezhin.com/v2/comics/4509144894210048/images/thumbnails/1\n",
      "https://www.lezhin.com/ko/comic/immature\n",
      "['bl']\n",
      "\n",
      "소꿉친구가 자꾸 괴롭혀!\n",
      "[{'id': 'nakta', 'name': 'NAKTA'}]\n",
      "https://ccdn.lezhin.com/v2/comics/5015838139940864/images/thumbnails/1\n",
      "https://www.lezhin.com/ko/comic/nuri\n",
      "['school']\n",
      "\n",
      "아이싱\n",
      "[{'id': 'studioweiib', 'name': '스튜디오 웨이브'}, {'id': 'kidaristudio', 'name': '키다리스튜디오'}]\n",
      "https://ccdn.lezhin.com/v2/comics/6550274492923904/images/thumbnails/1\n",
      "https://www.lezhin.com/ko/comic/icing\n",
      "['action']\n",
      "\n",
      "레바툰\n",
      "[{'id': 'reva', 'name': '레바'}]\n",
      "https://ccdn.lezhin.com/v2/comics/260/images/thumbnails/1\n",
      "https://www.lezhin.com/ko/comic/revatoon\n",
      "['day']\n",
      "\n",
      "킬러가 사랑에 빠졌을 때\n",
      "[{'id': 'eresemo', 'name': '에레세모'}]\n",
      "https://ccdn.lezhin.com/v2/comics/6181022497832960/images/thumbnails/1\n",
      "https://www.lezhin.com/ko/comic/killer\n",
      "['bl']\n",
      "\n",
      "박씨유대기\n",
      "[{'id': 'slla_j', 'name': '슬라정'}]\n",
      "https://ccdn.lezhin.com/v2/comics/6727405857669120/images/thumbnails/1\n",
      "https://www.lezhin.com/ko/comic/waitmrpark\n",
      "['gag']\n",
      "\n"
     ]
    }
   ],
   "source": [
    "for i in range(1,9):\n",
    "    print(json_data['data']['inventoryList'][i]['items'][0]['title'])\n",
    "    print(json_data['data']['inventoryList'][i]['items'][0]['authors'])\n",
    "    print('https://ccdn.lezhin.com/v2' + json_data['data']['inventoryList'][i]['items'][0]['mediaList'][2]['url'])\n",
    "    print('https://www.lezhin.com' + json_data['data']['inventoryList'][i]['items'][0]['targetUrl'])\n",
    "    print(json_data['data']['inventoryList'][i]['items'][0]['genres'])\n",
    "    print()"
   ]
  },
  {
   "cell_type": "code",
   "execution_count": 69,
   "id": "7a45557a",
   "metadata": {
    "colab": {
     "base_uri": "https://localhost:8080/"
    },
    "id": "uIV452M2G6DA",
    "outputId": "a081269a-95c7-4967-fd7c-a0c6fa506bf0"
   },
   "outputs": [
    {
     "name": "stdout",
     "output_type": "stream",
     "text": [
      "박씨유대기\n",
      "[{'id': 'slla_j', 'name': '슬라정'}]\n",
      "https://ccdn.lezhin.com/v2/comics/6727405857669120/images/squares/1\n",
      "https://www.lezhin.com/ko/comic/waitmrpark\n",
      "gag\n"
     ]
    }
   ],
   "source": [
    "# 구조 정제\n",
    "\n",
    "title = json_data['data']['inventoryList'][i]['items'][0]['title']\n",
    "author = json_data['data']['inventoryList'][i]['items'][0]['authors']\n",
    "img_url = 'https://ccdn.lezhin.com/v2' + json_data['data']['inventoryList'][i]['items'][0]['mediaList'][0]['url']\n",
    "url = 'https://www.lezhin.com' + json_data['data']['inventoryList'][i]['items'][0]['targetUrl']\n",
    "genre = json_data['data']['inventoryList'][i]['items'][0]['genres'][0]\n",
    "\n",
    "print(title)\n",
    "print(author)\n",
    "print(img_url)\n",
    "print(url)\n",
    "print(genre)"
   ]
  },
  {
   "cell_type": "code",
   "execution_count": 70,
   "id": "88dcdadb-813e-4976-b4a8-2e034fa44a2b",
   "metadata": {},
   "outputs": [],
   "source": [
    "# 글/그림작가 스토리 필요"
   ]
  },
  {
   "cell_type": "code",
   "execution_count": 71,
   "id": "6a4f5774",
   "metadata": {
    "id": "vMJE4an5G6DB"
   },
   "outputs": [],
   "source": [
    "x = 1\n",
    "y = 0\n",
    "z = 0\n",
    "\n",
    "end = ['end']\n",
    "\n",
    "title = []\n",
    "author = []\n",
    "img_url = []\n",
    "url = []\n",
    "genre = []\n",
    "\n",
    "while True:\n",
    "    try:\n",
    "        xs = json_data['data']['inventoryList'][x]\n",
    "        while True:\n",
    "            try:\n",
    "                ys = xs['items'][y]\n",
    "                while True:\n",
    "                    try:\n",
    "                        titles = json_data['data']['inventoryList'][x]['items'][y]['title']\n",
    "#                         print(titles)\n",
    "                        authors = ys['authors']\n",
    "                        img_urls = 'https://ccdn.lezhin.com/v2' + ys['mediaList'][2]['url']\n",
    "                        urls = 'https://www.lezhin.com' + ys['targetUrl']\n",
    "                        genres = ys['genres'][0]\n",
    "                        \n",
    "                    \n",
    "                        title.append(titles)\n",
    "                        author.append(authors)\n",
    "                        img_url.append(img_urls)\n",
    "                        url.append(urls)\n",
    "                        genre.append(genres)\n",
    "                        \n",
    "                        filters = ys['filters'][z]\n",
    "                        z += 1\n",
    "                    except:\n",
    "                        z = 0\n",
    "                        y += 1\n",
    "                        break\n",
    "            except:\n",
    "                z = 0\n",
    "                y = 0\n",
    "                x += 1\n",
    "                break\n",
    "    except:\n",
    "        break"
   ]
  },
  {
   "cell_type": "code",
   "execution_count": 72,
   "id": "fb31c5e2",
   "metadata": {},
   "outputs": [
    {
     "name": "stdout",
     "output_type": "stream",
     "text": [
      "['천지해', '여우비 내리는 날에', '정당한 기만', '부랄친구', '꼴데툰 2021', '아버지의 집밥', '명동젠틀맨', '달토끼와 안드로이드', '펀칭머신', '타임라인', '기절소녀 하나미!', '데스크레센도', '안아줄게 (Burn It)', '제5열 Born to kill', '상상당 한의원', '바른쀼생활', '바퀴멘터리', '커튼콜 아래그랑', '꼴데툰 2021', 'citrus 시트러스', 'BJ 알렉스[개정판]', '안나 이야기', '아스란히', '모모세 헬프!!', '이토록 다채로운 핏빛', '러브 포엠', '주먹꾹', '사랑이라 생각하지 않아', '사람의 사이로', '미성년', '바퀴멘터리', '4컷용사', '오타쿠에게 사랑은 어려워', '레그널 트리거', '안티피티[개정판]', '러브 오어 헤이트[개정판]', '잘 자 내 꿈 꿔', '조만국박람회', '인시크릿[개정판]', '나의 수하[개정판]', '시선 끝, 30도', '구독한 식탁', '신데렐라 리미트', '용의 아들 최창식', '울프 인더 하우스[개정판]', '노라줘요 -우리 집 웰시코기 이야기-', '그렇게 내가 싫다면[개정판]', '보름달 식당', '연화', '소꿉친구가 자꾸 괴롭혀!', '타치바나 백작', '단금지교', '바퀴멘터리', '배달부들', 'LOVE WINS', '머쉬룸 스프', '왓치가이', '꼴데툰 2021', '달의 상자', '국제결혼 절대로 하지 마라', '킹스메이커', '피장파장의 오류', '차린 건 없지만', '1미터 사이', '니 친구 김저키', '바람', '4와 2분의 1 정거장', '풀스 리마스터', '주인의 사정[개정판]', '비 갠 뒤 우리들을 따라', '꽃점 봐 드립니다', '살맛 : 전생에 나라를 구했습니다[개정판]', 'Teach Me!', '삐딱한 기억 사전', '바리데기 별자국', '한여름 밤의 꿈', '아이싱', '바퀴멘터리', '바나나툰', '히어로즈 플랜비', '이름 없는 가게', '집사랑', '돌아올 땐 해일같이', '꼴데툰 2021', '방과후에 3', '구최애로부터 비밀을 사수하라!', '소년이 소년에게', '일어나서 사랑을 시작해', '헌터의 약혼자로 살아남기', '아르카나 판타지', '보름달 식당', '전설의 과학도들', '레바툰', 'A와 B의 초상', '매드 독', '바퀴멘터리', '나는 너의 귀여운 카피캣!', '하루종일 조아영', '친하게 지내자', '에로만화부!', '2주간 재워주세요', '꼴데툰 2021', '삼국지 가후전 R', '라온의 남자', '블랙보이', '나와 호랑이님', '천사의 용도', '황룡전 [개정판]', '조만국박람회', '사랑이라 하기엔 기분 나빠', '마들레느가 9번지', '제 3 경호팀', '주먹꾹', '조만국의 영화캠프', '심펭져스', '킬러가 사랑에 빠졌을 때', '클라우드', 'BJ 엘프의 요리 채널', '불멸의 날들', '백억년을 자는 남자', '꼴데툰 2021', '무명의 등불', '데우스 바드 마키나 2 : 선택받은 잡것', '메리 고 라운드', '차린 건 없지만', '내가 원하는 건', '꽃은 꽃으로, 잎은 잎으로', '최강! 중2병 그녀', '작전본부: 우리 집', '한여름 밤의 꿈', '박씨유대기', '표준규격전사', '던전 속 사정[개정판]', '지젤 씨의 피[개정판]', '도깨비도 수풀이 있어야 모인다[개정판]', '포젯션', '비 마이 게스트[개정판]', 'FREAK-QUENCY : 프릭-퀀시']\n"
     ]
    }
   ],
   "source": [
    "print(title)"
   ]
  },
  {
   "cell_type": "code",
   "execution_count": 8,
   "id": "8237e304",
   "metadata": {
    "colab": {
     "base_uri": "https://localhost:8080/"
    },
    "id": "cyz4ES7GKmP3",
    "outputId": "317cf29e-0176-456f-cfd7-856ec753f55d"
   },
   "outputs": [],
   "source": [
    "# print(author)"
   ]
  },
  {
   "cell_type": "code",
   "execution_count": 9,
   "id": "1edcfec7",
   "metadata": {
    "colab": {
     "base_uri": "https://localhost:8080/"
    },
    "id": "68afPkL3MO4T",
    "outputId": "0818a7c1-e1d7-4987-d63a-771ae970fd2f"
   },
   "outputs": [
    {
     "name": "stdout",
     "output_type": "stream",
     "text": [
      "['https://ccdn.lezhin.com/v2/comics/59/images/thumbnails/1', 'https://ccdn.lezhin.com/v2/comics/5901673735454720/images/thumbnails/1', 'https://ccdn.lezhin.com/v2/comics/5675252141588480/images/thumbnails/1', 'https://ccdn.lezhin.com/v2/comics/5474379383439360/images/thumbnails/1', 'https://ccdn.lezhin.com/v2/comics/6690294575988736/images/thumbnails/1', 'https://ccdn.lezhin.com/v2/comics/6049192073035776/images/thumbnails/1', 'https://ccdn.lezhin.com/v2/comics/5714360039440384/images/thumbnails/1', 'https://ccdn.lezhin.com/v2/comics/4508665371033600/images/thumbnails/1', 'https://ccdn.lezhin.com/v2/comics/4664659247431680/images/thumbnails/1', 'https://ccdn.lezhin.com/v2/comics/4995133933682688/images/thumbnails/1', 'https://ccdn.lezhin.com/v2/comics/4649055289081856/images/thumbnails/1', 'https://ccdn.lezhin.com/v2/comics/6227818152787968/images/thumbnails/1', 'https://ccdn.lezhin.com/v2/comics/5783553740963840/images/thumbnails/1', 'https://ccdn.lezhin.com/v2/comics/5510000216965120/images/thumbnails/1', 'https://ccdn.lezhin.com/v2/comics/4821808825892864/images/thumbnails/1', 'https://ccdn.lezhin.com/v2/comics/4566161041522688/images/thumbnails/1', 'https://ccdn.lezhin.com/v2/comics/6185833387393024/images/thumbnails/1', 'https://ccdn.lezhin.com/v2/comics/5/images/thumbnails/1', 'https://ccdn.lezhin.com/v2/comics/6690294575988736/images/thumbnails/1', 'https://ccdn.lezhin.com/v2/comics/4520115655147520/images/thumbnails/1', 'https://ccdn.lezhin.com/v2/comics/5367962326859776/images/thumbnails/1', 'https://ccdn.lezhin.com/v2/comics/4907714540535808/images/thumbnails/1', 'https://ccdn.lezhin.com/v2/comics/5330738698911744/images/thumbnails/1', 'https://ccdn.lezhin.com/v2/comics/6453048194760704/images/thumbnails/1', 'https://ccdn.lezhin.com/v2/comics/4705963879235584/images/thumbnails/1', 'https://ccdn.lezhin.com/v2/comics/4775451873837056/images/thumbnails/1', 'https://ccdn.lezhin.com/v2/comics/4974892860702720/images/thumbnails/1', 'https://ccdn.lezhin.com/v2/comics/6283465192701952/images/thumbnails/1', 'https://ccdn.lezhin.com/v2/comics/5016813088342016/images/thumbnails/1', 'https://ccdn.lezhin.com/v2/comics/4509144894210048/images/thumbnails/1', 'https://ccdn.lezhin.com/v2/comics/6185833387393024/images/thumbnails/1', 'https://ccdn.lezhin.com/v2/comics/248/images/thumbnails/1', 'https://ccdn.lezhin.com/v2/comics/6466786480095232/images/thumbnails/1', 'https://ccdn.lezhin.com/v2/comics/6016237758185472/images/thumbnails/1', 'https://ccdn.lezhin.com/v2/comics/4706772223328256/images/thumbnails/1', 'https://ccdn.lezhin.com/v2/comics/5641055802818560/images/thumbnails/1', 'https://ccdn.lezhin.com/v2/comics/5611356766994432/images/thumbnails/1', 'https://ccdn.lezhin.com/v2/comics/5275168827310080/images/thumbnails/1', 'https://ccdn.lezhin.com/v2/comics/5665181768679424/images/thumbnails/1', 'https://ccdn.lezhin.com/v2/comics/6234227991969792/images/thumbnails/1', 'https://ccdn.lezhin.com/v2/comics/5073458287935488/images/thumbnails/1', 'https://ccdn.lezhin.com/v2/comics/6602849724465152/images/thumbnails/1', 'https://ccdn.lezhin.com/v2/comics/6170000663052288/images/thumbnails/1', 'https://ccdn.lezhin.com/v2/comics/6613349614616576/images/thumbnails/1', 'https://ccdn.lezhin.com/v2/comics/5005186239102976/images/thumbnails/1', 'https://ccdn.lezhin.com/v2/comics/5947434825154560/images/thumbnails/1', 'https://ccdn.lezhin.com/v2/comics/6004151141072896/images/thumbnails/1', 'https://ccdn.lezhin.com/v2/comics/5873525665628160/images/thumbnails/1', 'https://ccdn.lezhin.com/v2/comics/5777799590772736/images/thumbnails/1', 'https://ccdn.lezhin.com/v2/comics/5015838139940864/images/thumbnails/1', 'https://ccdn.lezhin.com/v2/comics/5878601020145664/images/thumbnails/1', 'https://ccdn.lezhin.com/v2/comics/5778995370655744/images/thumbnails/1', 'https://ccdn.lezhin.com/v2/comics/6185833387393024/images/thumbnails/1', 'https://ccdn.lezhin.com/v2/comics/4865266188943360/images/thumbnails/1', 'https://ccdn.lezhin.com/v2/comics/4527189402124288/images/thumbnails/1', 'https://ccdn.lezhin.com/v2/comics/6614679117758464/images/thumbnails/1', 'https://ccdn.lezhin.com/v2/comics/4625200343023616/images/thumbnails/1', 'https://ccdn.lezhin.com/v2/comics/6690294575988736/images/thumbnails/1', 'https://ccdn.lezhin.com/v2/comics/6014243980443648/images/thumbnails/1', 'https://ccdn.lezhin.com/v2/comics/6631616049119232/images/thumbnails/1', 'https://ccdn.lezhin.com/v2/comics/5172685072760832/images/thumbnails/1', 'https://ccdn.lezhin.com/v2/comics/6399994036813824/images/thumbnails/1', 'https://ccdn.lezhin.com/v2/comics/5186358298083328/images/thumbnails/1', 'https://ccdn.lezhin.com/v2/comics/5950656923107328/images/thumbnails/1', 'https://ccdn.lezhin.com/v2/comics/5118126189576192/images/thumbnails/1', 'https://ccdn.lezhin.com/v2/comics/6400253992501248/images/thumbnails/1', 'https://ccdn.lezhin.com/v2/comics/6444206006337536/images/thumbnails/1', 'https://ccdn.lezhin.com/v2/comics/6522308882137088/images/thumbnails/1', 'https://ccdn.lezhin.com/v2/comics/5669970438848512/images/thumbnails/1', 'https://ccdn.lezhin.com/v2/comics/5784277577433088/images/thumbnails/1', 'https://ccdn.lezhin.com/v2/comics/6128037428264960/images/thumbnails/1', 'https://ccdn.lezhin.com/v2/comics/5420909429325824/images/thumbnails/1', 'https://ccdn.lezhin.com/v2/comics/5411508990312448/images/thumbnails/1', 'https://ccdn.lezhin.com/v2/comics/5487399481769984/images/thumbnails/1', 'https://ccdn.lezhin.com/v2/comics/4520271553298432/images/thumbnails/1', 'https://ccdn.lezhin.com/v2/comics/5600310336225280/images/thumbnails/1', 'https://ccdn.lezhin.com/v2/comics/6550274492923904/images/thumbnails/1', 'https://ccdn.lezhin.com/v2/comics/6185833387393024/images/thumbnails/1', 'https://ccdn.lezhin.com/v2/comics/6551967191793664/images/thumbnails/1', 'https://ccdn.lezhin.com/v2/comics/312/images/thumbnails/1', 'https://ccdn.lezhin.com/v2/comics/5967542155214848/images/thumbnails/1', 'https://ccdn.lezhin.com/v2/comics/6456906317627392/images/thumbnails/1', 'https://ccdn.lezhin.com/v2/comics/5742475241193472/images/thumbnails/1', 'https://ccdn.lezhin.com/v2/comics/6690294575988736/images/thumbnails/1', 'https://ccdn.lezhin.com/v2/comics/6657732865032192/images/thumbnails/1', 'https://ccdn.lezhin.com/v2/comics/6430096279011328/images/thumbnails/1', 'https://ccdn.lezhin.com/v2/comics/6402044966010880/images/thumbnails/1', 'https://ccdn.lezhin.com/v2/comics/5099211312922624/images/thumbnails/1', 'https://ccdn.lezhin.com/v2/comics/6561586036146176/images/thumbnails/1', 'https://ccdn.lezhin.com/v2/comics/6657233319231488/images/thumbnails/1', 'https://ccdn.lezhin.com/v2/comics/5873525665628160/images/thumbnails/1', 'https://ccdn.lezhin.com/v2/comics/5914872409817088/images/thumbnails/1', 'https://ccdn.lezhin.com/v2/comics/260/images/thumbnails/1', 'https://ccdn.lezhin.com/v2/comics/6735413248917504/images/thumbnails/1', 'https://ccdn.lezhin.com/v2/comics/5290374773145600/images/thumbnails/1', 'https://ccdn.lezhin.com/v2/comics/6185833387393024/images/thumbnails/1', 'https://ccdn.lezhin.com/v2/comics/5305536612728832/images/thumbnails/1', 'https://ccdn.lezhin.com/v2/comics/4537933260652544/images/thumbnails/1', 'https://ccdn.lezhin.com/v2/comics/4807559635271680/images/thumbnails/1', 'https://ccdn.lezhin.com/v2/comics/5089653580955648/images/thumbnails/1', 'https://ccdn.lezhin.com/v2/comics/5053488885465088/images/thumbnails/1', 'https://ccdn.lezhin.com/v2/comics/6690294575988736/images/thumbnails/1', 'https://ccdn.lezhin.com/v2/comics/4609020734078976/images/thumbnails/1', 'https://ccdn.lezhin.com/v2/comics/6430757328846848/images/thumbnails/1', 'https://ccdn.lezhin.com/v2/comics/235/images/thumbnails/1', 'https://ccdn.lezhin.com/v2/comics/277/images/thumbnails/1', 'https://ccdn.lezhin.com/v2/comics/5892678096060416/images/thumbnails/1', 'https://ccdn.lezhin.com/v2/comics/5510340547772416/images/thumbnails/1', 'https://ccdn.lezhin.com/v2/comics/5275168827310080/images/thumbnails/1', 'https://ccdn.lezhin.com/v2/comics/4511761836933120/images/thumbnails/1', 'https://ccdn.lezhin.com/v2/comics/6/images/thumbnails/1', 'https://ccdn.lezhin.com/v2/comics/185/images/thumbnails/1', 'https://ccdn.lezhin.com/v2/comics/4974892860702720/images/thumbnails/1', 'https://ccdn.lezhin.com/v2/comics/5437222505283584/images/thumbnails/1', 'https://ccdn.lezhin.com/v2/comics/5125076916699136/images/thumbnails/1', 'https://ccdn.lezhin.com/v2/comics/6181022497832960/images/thumbnails/1', 'https://ccdn.lezhin.com/v2/comics/5183802990723072/images/thumbnails/1', 'https://ccdn.lezhin.com/v2/comics/5206473638477824/images/thumbnails/1', 'https://ccdn.lezhin.com/v2/comics/5308438415671296/images/thumbnails/1', 'https://ccdn.lezhin.com/v2/comics/5551016703033344/images/thumbnails/1', 'https://ccdn.lezhin.com/v2/comics/6690294575988736/images/thumbnails/1', 'https://ccdn.lezhin.com/v2/comics/4593648627417088/images/thumbnails/1', 'https://ccdn.lezhin.com/v2/comics/6171464924725248/images/thumbnails/1', 'https://ccdn.lezhin.com/v2/comics/5274670161854464/images/thumbnails/1', 'https://ccdn.lezhin.com/v2/comics/5186358298083328/images/thumbnails/1', 'https://ccdn.lezhin.com/v2/comics/6694684605874176/images/thumbnails/1', 'https://ccdn.lezhin.com/v2/comics/5231277554073600/images/thumbnails/1', 'https://ccdn.lezhin.com/v2/comics/5057602952429568/images/thumbnails/1', 'https://ccdn.lezhin.com/v2/comics/6013643236114432/images/thumbnails/1', 'https://ccdn.lezhin.com/v2/comics/5600310336225280/images/thumbnails/1', 'https://ccdn.lezhin.com/v2/comics/6727405857669120/images/thumbnails/1', 'https://ccdn.lezhin.com/v2/comics/4733152235356160/images/thumbnails/1', 'https://ccdn.lezhin.com/v2/comics/5145070025637888/images/thumbnails/1', 'https://ccdn.lezhin.com/v2/comics/6607767147184128/images/thumbnails/1', 'https://ccdn.lezhin.com/v2/comics/5612748599263232/images/thumbnails/1', 'https://ccdn.lezhin.com/v2/comics/4805662733369344/images/thumbnails/1', 'https://ccdn.lezhin.com/v2/comics/4636603184644096/images/thumbnails/1', 'https://ccdn.lezhin.com/v2/comics/6504189639000064/images/thumbnails/1']\n"
     ]
    }
   ],
   "source": [
    "print(img_url)"
   ]
  },
  {
   "cell_type": "code",
   "execution_count": 10,
   "id": "5537c6a8",
   "metadata": {
    "colab": {
     "base_uri": "https://localhost:8080/"
    },
    "id": "8mpEUAo2NM8Q",
    "outputId": "44b94ca2-f0df-4578-a055-d2cddee06e16"
   },
   "outputs": [
    {
     "name": "stdout",
     "output_type": "stream",
     "text": [
      "['https://www.lezhin.com/ko/comic/cheonjihae', 'https://www.lezhin.com/ko/comic/foxrain', 'https://www.lezhin.com/ko/comic/giman', 'https://www.lezhin.com/ko/comic/bff', 'https://www.lezhin.com/ko/comic/ggtoon2021', 'https://www.lezhin.com/ko/comic/cooksilver', 'https://www.lezhin.com/ko/comic/gentleman', 'https://www.lezhin.com/ko/comic/moonrabbit', 'https://www.lezhin.com/ko/comic/boxing_machine', 'https://www.lezhin.com/ko/comic/timeline', 'https://www.lezhin.com/ko/comic/haami', 'https://www.lezhin.com/ko/comic/cranberry_juice', 'https://www.lezhin.com/ko/comic/burnit', 'https://www.lezhin.com/ko/comic/borntokill', 'https://www.lezhin.com/ko/comic/sangsangdang', 'https://www.lezhin.com/ko/comic/20_nov', 'https://www.lezhin.com/ko/comic/baquimentary', 'https://www.lezhin.com/ko/comic/curtain_call', 'https://www.lezhin.com/ko/comic/ggtoon2021', 'https://www.lezhin.com/ko/comic/citrus', 'https://www.lezhin.com/ko/comic/bjalex_15', 'https://www.lezhin.com/ko/comic/story_of_anna', 'https://www.lezhin.com/ko/comic/dimly', 'https://www.lezhin.com/ko/comic/momose', 'https://www.lezhin.com/ko/comic/colorful', 'https://www.lezhin.com/ko/comic/love_poem', 'https://www.lezhin.com/ko/comic/cat_fist', 'https://www.lezhin.com/ko/comic/not_in_love', 'https://www.lezhin.com/ko/comic/saram', 'https://www.lezhin.com/ko/comic/immature', 'https://www.lezhin.com/ko/comic/baquimentary', 'https://www.lezhin.com/ko/comic/cartoon_hero', 'https://www.lezhin.com/ko/comic/otakoi', 'https://www.lezhin.com/ko/comic/regnal_trigger', 'https://www.lezhin.com/ko/comic/anti_pt_15', 'https://www.lezhin.com/ko/comic/loveorhate_15', 'https://www.lezhin.com/ko/comic/goodnight', 'https://www.lezhin.com/ko/comic/expo', 'https://www.lezhin.com/ko/comic/insecret_15', 'https://www.lezhin.com/ko/comic/my_suha_15', 'https://www.lezhin.com/ko/comic/stare', 'https://www.lezhin.com/ko/comic/siktak', 'https://www.lezhin.com/ko/comic/limit', 'https://www.lezhin.com/ko/comic/dragon', 'https://www.lezhin.com/ko/comic/wolf_inda_house_15', 'https://www.lezhin.com/ko/comic/asondekure', 'https://www.lezhin.com/ko/comic/hate_me_15', 'https://www.lezhin.com/ko/comic/kimbotong_fullmoon', 'https://www.lezhin.com/ko/comic/lotus', 'https://www.lezhin.com/ko/comic/nuri', 'https://www.lezhin.com/ko/comic/tachibanabl', 'https://www.lezhin.com/ko/comic/dangeum_jigyo', 'https://www.lezhin.com/ko/comic/baquimentary', 'https://www.lezhin.com/ko/comic/qr', 'https://www.lezhin.com/ko/comic/lovewins', 'https://www.lezhin.com/ko/comic/mushroomsoup', 'https://www.lezhin.com/ko/comic/watchguy', 'https://www.lezhin.com/ko/comic/ggtoon2021', 'https://www.lezhin.com/ko/comic/dalbox', 'https://www.lezhin.com/ko/comic/never_marry_a_foreigner', 'https://www.lezhin.com/ko/comic/kingsmaker', 'https://www.lezhin.com/ko/comic/you_too', 'https://www.lezhin.com/ko/comic/meal', 'https://www.lezhin.com/ko/comic/1m', 'https://www.lezhin.com/ko/comic/kimjerky', 'https://www.lezhin.com/ko/comic/wind', 'https://www.lezhin.com/ko/comic/station', 'https://www.lezhin.com/ko/comic/fools_re', 'https://www.lezhin.com/ko/comic/jooin_15', 'https://www.lezhin.com/ko/comic/aftertherain', 'https://www.lezhin.com/ko/comic/flowertaro', 'https://www.lezhin.com/ko/comic/salmat_15', 'https://www.lezhin.com/ko/comic/teachme', 'https://www.lezhin.com/ko/comic/crooked_pedia', 'https://www.lezhin.com/ko/comic/baridegi', 'https://www.lezhin.com/ko/comic/midsummer', 'https://www.lezhin.com/ko/comic/icing', 'https://www.lezhin.com/ko/comic/baquimentary', 'https://www.lezhin.com/ko/comic/bananatoon', 'https://www.lezhin.com/ko/comic/planb', 'https://www.lezhin.com/ko/comic/noname_shop', 'https://www.lezhin.com/ko/comic/butlove', 'https://www.lezhin.com/ko/comic/likeatsunami', 'https://www.lezhin.com/ko/comic/ggtoon2021', 'https://www.lezhin.com/ko/comic/afterschool3', 'https://www.lezhin.com/ko/comic/exonepick', 'https://www.lezhin.com/ko/comic/dear_boy', 'https://www.lezhin.com/ko/comic/wake_up', 'https://www.lezhin.com/ko/comic/hunterlover', 'https://www.lezhin.com/ko/comic/arcana_fantasy', 'https://www.lezhin.com/ko/comic/kimbotong_fullmoon', 'https://www.lezhin.com/ko/comic/kimbotong_wabtoon', 'https://www.lezhin.com/ko/comic/revatoon', 'https://www.lezhin.com/ko/comic/portrait', 'https://www.lezhin.com/ko/comic/mad_dog', 'https://www.lezhin.com/ko/comic/baquimentary', 'https://www.lezhin.com/ko/comic/copycat', 'https://www.lezhin.com/ko/comic/joayoung', 'https://www.lezhin.com/ko/comic/together', 'https://www.lezhin.com/ko/comic/eroticomic_club', 'https://www.lezhin.com/ko/comic/2weeks', 'https://www.lezhin.com/ko/comic/ggtoon2021', 'https://www.lezhin.com/ko/comic/gahu_r', 'https://www.lezhin.com/ko/comic/raon', 'https://www.lezhin.com/ko/comic/blackboy', 'https://www.lezhin.com/ko/comic/mylovetiger', 'https://www.lezhin.com/ko/comic/angelsuse', 'https://www.lezhin.com/ko/comic/hwangryong_15', 'https://www.lezhin.com/ko/comic/expo', 'https://www.lezhin.com/ko/comic/hard_to_say_love', 'https://www.lezhin.com/ko/comic/m_street_no9', 'https://www.lezhin.com/ko/comic/3rd_security', 'https://www.lezhin.com/ko/comic/cat_fist', 'https://www.lezhin.com/ko/comic/movie', 'https://www.lezhin.com/ko/comic/kimbotong_hirawebtoon', 'https://www.lezhin.com/ko/comic/killer', 'https://www.lezhin.com/ko/comic/cloud', 'https://www.lezhin.com/ko/comic/bjelf', 'https://www.lezhin.com/ko/comic/ImmortalDays', 'https://www.lezhin.com/ko/comic/sleepingman', 'https://www.lezhin.com/ko/comic/ggtoon2021', 'https://www.lezhin.com/ko/comic/from_nothing', 'https://www.lezhin.com/ko/comic/bard2', 'https://www.lezhin.com/ko/comic/merry_go_round', 'https://www.lezhin.com/ko/comic/meal', 'https://www.lezhin.com/ko/comic/alliwantis', 'https://www.lezhin.com/ko/comic/flower_leaf', 'https://www.lezhin.com/ko/comic/sophomoricillness', 'https://www.lezhin.com/ko/comic/our_home', 'https://www.lezhin.com/ko/comic/midsummer', 'https://www.lezhin.com/ko/comic/waitmrpark', 'https://www.lezhin.com/ko/comic/standardheroes', 'https://www.lezhin.com/ko/comic/dungeon_15', 'https://www.lezhin.com/ko/comic/giselle_15', 'https://www.lezhin.com/ko/comic/bush_15', 'https://www.lezhin.com/ko/comic/pozetssion', 'https://www.lezhin.com/ko/comic/bemyguest_15', 'https://www.lezhin.com/ko/comic/freak']\n"
     ]
    }
   ],
   "source": [
    "print(url)"
   ]
  },
  {
   "cell_type": "code",
   "execution_count": 11,
   "id": "ba21f3cf-2c7f-477d-9269-d1f9a9cec1fb",
   "metadata": {},
   "outputs": [
    {
     "name": "stdout",
     "output_type": "stream",
     "text": [
      "['fantasy', 'school', 'bl', 'gag', 'gag', 'drama', 'drama', 'gag', 'action', 'drama', 'romance', 'drama', 'drama', 'action', 'drama', 'day', 'day', 'fantasy', 'gag', 'gl', 'bl', 'romance', 'bl', 'fantasy', 'fantasy', 'bl', 'day', 'bl', 'drama', 'bl', 'day', 'fantasy', 'romance', 'fantasy', 'bl', 'bl', 'mystery', 'day', 'bl', 'bl', 'bl', 'day', 'romance', 'gag', 'bl', 'day', 'bl', 'drama', 'romance', 'school', 'bl', 'bl', 'day', 'drama', 'gl', 'fantasy', 'drama', 'gag', 'fantasy', 'day', 'bl', 'bl', 'day', 'romance', 'day', 'fantasy', 'bl', 'bl', 'bl', 'bl', 'drama', 'romance', 'bl', 'day', 'fantasy', 'fantasy', 'action', 'day', 'day', 'action', 'fantasy', 'bl', 'action', 'gag', 'mystery', 'romance', 'bl', 'bl', 'romance', 'fantasy', 'drama', 'drama', 'day', 'bl', 'bl', 'day', 'bl', 'day', 'day', 'school', 'drama', 'gag', 'drama', 'bl', 'fantasy', 'fantasy', 'romance', 'bl', 'day', 'romance', 'drama', 'action', 'day', 'gag', 'drama', 'bl', 'bl', 'gag', 'action', 'drama', 'gag', 'drama', 'fantasy', 'romance', 'day', 'romance', 'romance', 'drama', 'drama', 'fantasy', 'gag', 'gag', 'fantasy', 'fantasy', 'bl', 'fantasy', 'romance', 'fantasy']\n"
     ]
    }
   ],
   "source": [
    "print(genre)"
   ]
  },
  {
   "cell_type": "code",
   "execution_count": 12,
   "id": "e7b0f2fa",
   "metadata": {
    "colab": {
     "base_uri": "https://localhost:8080/"
    },
    "id": "H26In5TrMXcC",
    "outputId": "bd28070e-8c27-4c46-9170-683b75669c9c"
   },
   "outputs": [
    {
     "data": {
      "text/plain": [
       "{'id': 'pingpu', 'name': '핑푸'}"
      ]
     },
     "execution_count": 12,
     "metadata": {},
     "output_type": "execute_result"
    }
   ],
   "source": [
    "author[0][0]"
   ]
  },
  {
   "cell_type": "code",
   "execution_count": 13,
   "id": "33aa26bf",
   "metadata": {
    "id": "yyRke0qJMSiP"
   },
   "outputs": [],
   "source": [
    "# writers = [author[i][0]['name'] for i in range(len(author))]\n",
    "# illustrator = [author[i][1]['name'] for i in range(len(author))]"
   ]
  },
  {
   "cell_type": "code",
   "execution_count": 14,
   "id": "be0377fd",
   "metadata": {
    "colab": {
     "base_uri": "https://localhost:8080/"
    },
    "id": "zA3-ZbzjMl7c",
    "outputId": "2fa77a24-9b42-43b7-8f4b-5addbc216f55"
   },
   "outputs": [],
   "source": [
    "# print(writers)"
   ]
  },
  {
   "cell_type": "code",
   "execution_count": 15,
   "id": "73efa344",
   "metadata": {},
   "outputs": [],
   "source": [
    "import pandas as pd\n",
    "\n",
    "kakao = pd.DataFrame({'title':title, 'img_src':img_url, 'url':url, 'platform':'lezhin'})"
   ]
  },
  {
   "cell_type": "code",
   "execution_count": 16,
   "id": "ff541cee",
   "metadata": {
    "colab": {
     "base_uri": "https://localhost:8080/",
     "height": 204
    },
    "id": "IfAR0djNNb0X",
    "outputId": "bb6650a9-dd3a-44bd-8f66-f3c4e314d061"
   },
   "outputs": [
    {
     "data": {
      "text/html": [
       "<div>\n",
       "<style scoped>\n",
       "    .dataframe tbody tr th:only-of-type {\n",
       "        vertical-align: middle;\n",
       "    }\n",
       "\n",
       "    .dataframe tbody tr th {\n",
       "        vertical-align: top;\n",
       "    }\n",
       "\n",
       "    .dataframe thead th {\n",
       "        text-align: right;\n",
       "    }\n",
       "</style>\n",
       "<table border=\"1\" class=\"dataframe\">\n",
       "  <thead>\n",
       "    <tr style=\"text-align: right;\">\n",
       "      <th></th>\n",
       "      <th>title</th>\n",
       "      <th>img_src</th>\n",
       "      <th>url</th>\n",
       "      <th>platform</th>\n",
       "    </tr>\n",
       "  </thead>\n",
       "  <tbody>\n",
       "    <tr>\n",
       "      <th>0</th>\n",
       "      <td>천지해</td>\n",
       "      <td>https://ccdn.lezhin.com/v2/comics/59/images/th...</td>\n",
       "      <td>https://www.lezhin.com/ko/comic/cheonjihae</td>\n",
       "      <td>lezhin</td>\n",
       "    </tr>\n",
       "    <tr>\n",
       "      <th>1</th>\n",
       "      <td>여우비 내리는 날에</td>\n",
       "      <td>https://ccdn.lezhin.com/v2/comics/590167373545...</td>\n",
       "      <td>https://www.lezhin.com/ko/comic/foxrain</td>\n",
       "      <td>lezhin</td>\n",
       "    </tr>\n",
       "    <tr>\n",
       "      <th>2</th>\n",
       "      <td>정당한 기만</td>\n",
       "      <td>https://ccdn.lezhin.com/v2/comics/567525214158...</td>\n",
       "      <td>https://www.lezhin.com/ko/comic/giman</td>\n",
       "      <td>lezhin</td>\n",
       "    </tr>\n",
       "    <tr>\n",
       "      <th>3</th>\n",
       "      <td>부랄친구</td>\n",
       "      <td>https://ccdn.lezhin.com/v2/comics/547437938343...</td>\n",
       "      <td>https://www.lezhin.com/ko/comic/bff</td>\n",
       "      <td>lezhin</td>\n",
       "    </tr>\n",
       "    <tr>\n",
       "      <th>4</th>\n",
       "      <td>꼴데툰 2021</td>\n",
       "      <td>https://ccdn.lezhin.com/v2/comics/669029457598...</td>\n",
       "      <td>https://www.lezhin.com/ko/comic/ggtoon2021</td>\n",
       "      <td>lezhin</td>\n",
       "    </tr>\n",
       "  </tbody>\n",
       "</table>\n",
       "</div>"
      ],
      "text/plain": [
       "        title                                            img_src  \\\n",
       "0         천지해  https://ccdn.lezhin.com/v2/comics/59/images/th...   \n",
       "1  여우비 내리는 날에  https://ccdn.lezhin.com/v2/comics/590167373545...   \n",
       "2      정당한 기만  https://ccdn.lezhin.com/v2/comics/567525214158...   \n",
       "3        부랄친구  https://ccdn.lezhin.com/v2/comics/547437938343...   \n",
       "4    꼴데툰 2021  https://ccdn.lezhin.com/v2/comics/669029457598...   \n",
       "\n",
       "                                          url platform  \n",
       "0  https://www.lezhin.com/ko/comic/cheonjihae   lezhin  \n",
       "1     https://www.lezhin.com/ko/comic/foxrain   lezhin  \n",
       "2       https://www.lezhin.com/ko/comic/giman   lezhin  \n",
       "3         https://www.lezhin.com/ko/comic/bff   lezhin  \n",
       "4  https://www.lezhin.com/ko/comic/ggtoon2021   lezhin  "
      ]
     },
     "execution_count": 16,
     "metadata": {},
     "output_type": "execute_result"
    }
   ],
   "source": [
    "kakao.head()"
   ]
  },
  {
   "cell_type": "code",
   "execution_count": 17,
   "id": "1ee2b274-d0ed-4a1a-9166-e3d00c9bff73",
   "metadata": {
    "id": "LEGSDMo3Nc0-"
   },
   "outputs": [],
   "source": [
    "# 스토리, 일러스트, 글작가 받아오기"
   ]
  },
  {
   "cell_type": "code",
   "execution_count": 18,
   "id": "2562f670-aab4-43b3-864f-1264156a9173",
   "metadata": {},
   "outputs": [],
   "source": [
    "import selenium\n",
    "from selenium import webdriver\n",
    "from selenium.webdriver.support.ui import WebDriverWait\n",
    "import urllib\n",
    "import urllib.request\n",
    "from selenium.common.exceptions import NoSuchElementException\n",
    "import time\n",
    "import pyautogui\n",
    "import os\n",
    "import requests\n",
    "import pymongo\n",
    "import pandas as pd\n",
    "from selenium import webdriver\n",
    "from selenium.webdriver.chrome.options import Options\n",
    "# from scrapy.http import TextResponse\n",
    "import urllib.request\n",
    "import urllib\n",
    "import getpass\n",
    "import time\n",
    "import re\n",
    "# from google.cloud import vision\n",
    "# from google.cloud.vision import types\n",
    "import os\n",
    "import io\n",
    "from os import walk\n",
    "from bs4 import BeautifulSoup\n",
    "from selenium.webdriver.common.keys import Keys"
   ]
  },
  {
   "cell_type": "code",
   "execution_count": 26,
   "id": "16153df2-f76e-47fd-872a-35e0d6780aaf",
   "metadata": {},
   "outputs": [],
   "source": [
    "URL = 'https://www.lezhin.com/ko/scheduled?day=1'\n",
    "\n",
    "driver = webdriver.Chrome(executable_path='C:\\chromedriver')\n",
    "driver.implicitly_wait(time_to_wait=1)\n",
    "driver.get(URL)\n",
    "time.sleep(1)\n",
    "\n",
    "title_list = []\n",
    "author_list = []\n",
    "story_list = []\n",
    "illustrator_list = []\n",
    "writer_list = []\n",
    "\n",
    "\n",
    "for i in range(1,7):\n",
    "    \n",
    "    driver.find_element_by_xpath('//*[@id=\"main\"]/div/a['+str(i)+']').click()\n",
    "    time.sleep(1)\n",
    "\n",
    "    html = driver.page_source\n",
    "    soup = BeautifulSoup(html, 'html.parser')   \n",
    "    \n",
    "    x = 1\n",
    "    \n",
    "    while True:\n",
    "        try:\n",
    "            driver.find_element_by_xpath('//*[@id=\"scheduled-day-'+str(i)+'\"]/li['+str(x)+']').click()\n",
    "            time.sleep(0.5)\n",
    "            driver.find_element_by_xpath('//*[@id=\"comic-info\"]/div/button[5]').click()\n",
    "            time.sleep(0.5)\n",
    "            \n",
    "            title2 = driver.find_element_by_xpath('//*[@id=\"comic-info\"]/div/h2').text\n",
    "            author = driver.find_element_by_xpath('//*[@id=\"comic-info\"]/div/section/div[2]').text\n",
    "            story = driver.find_element_by_xpath('//*[@id=\"comic-info-extend\"]/dialog/div[1]/p').text\n",
    "            \n",
    "            driver.find_element_by_xpath('//*[@id=\"comic-info-extend\"]/dialog/button').click()\n",
    "           \n",
    "            title_list.append(title2)\n",
    "            author_list.append(author)\n",
    "            story_list.append(story)\n",
    "\n",
    "            driver.back()\n",
    "            x += 1\n",
    "        except:\n",
    "            break\n",
    "            \n",
    "# driver.close()"
   ]
  },
  {
   "cell_type": "code",
   "execution_count": 27,
   "id": "b4a5bf3e-c6fa-4187-bd14-1179c06772d2",
   "metadata": {},
   "outputs": [],
   "source": [
    "#일요일 웹툰\n",
    "URL = 'https://www.lezhin.com/ko/scheduled?day=1'\n",
    "\n",
    "driver = webdriver.Chrome(executable_path='C:\\chromedriver')\n",
    "driver.implicitly_wait(time_to_wait=1)\n",
    "driver.get(URL)\n",
    "time.sleep(1)\n",
    "\n",
    "driver.find_element_by_xpath('//*[@id=\"main\"]/div/a[7]').click()\n",
    "time.sleep(1)\n",
    "\n",
    "html = driver.page_source\n",
    "soup = BeautifulSoup(html, 'html.parser')   \n",
    "\n",
    "x = 1\n",
    "# //*[@id=\"scheduled-day-5\"]/li[1] 금\n",
    "# //*[@id=\"scheduled-day-0\"]/li[1] 일\n",
    "# //*[@id=\"scheduled-day-6\"]/li[1] 토\n",
    "# //*[@id=\"scheduled-day-n\"]/li[1] 10\n",
    "while True:\n",
    "    try:\n",
    "        driver.find_element_by_xpath('//*[@id=\"scheduled-day-0\"]/li['+str(x)+']').click()\n",
    "        time.sleep(0.5)\n",
    "        driver.find_element_by_xpath('//*[@id=\"comic-info\"]/div/button[5]').click()\n",
    "        time.sleep(0.5)\n",
    "\n",
    "        title2 = driver.find_element_by_xpath('//*[@id=\"comic-info\"]/div/h2').text\n",
    "        author = driver.find_element_by_xpath('//*[@id=\"comic-info\"]/div/section/div[2]').text\n",
    "        story = driver.find_element_by_xpath('//*[@id=\"comic-info-extend\"]/dialog/div[1]/p').text\n",
    "\n",
    "        driver.find_element_by_xpath('//*[@id=\"comic-info-extend\"]/dialog/button').click()\n",
    "\n",
    "        title_list.append(title2)\n",
    "        author_list.append(author)\n",
    "        story_list.append(story)\n",
    "\n",
    "        driver.back()\n",
    "        x += 1\n",
    "    except:\n",
    "        break\n",
    "\n",
    "# driver.close()"
   ]
  },
  {
   "cell_type": "code",
   "execution_count": 28,
   "id": "f779a877-04ab-47c3-b2f7-6508acee863f",
   "metadata": {},
   "outputs": [],
   "source": [
    "#10일 웹툰\n",
    "URL = 'https://www.lezhin.com/ko/scheduled?day=1'\n",
    "\n",
    "driver = webdriver.Chrome(executable_path='C:\\chromedriver')\n",
    "driver.implicitly_wait(time_to_wait=1)\n",
    "driver.get(URL)\n",
    "time.sleep(1)\n",
    "\n",
    "driver.find_element_by_xpath('//*[@id=\"main\"]/div/a[8]').click()\n",
    "time.sleep(1)\n",
    "\n",
    "html = driver.page_source\n",
    "soup = BeautifulSoup(html, 'html.parser')   \n",
    "\n",
    "x = 1\n",
    "# //*[@id=\"scheduled-day-5\"]/li[1] 금\n",
    "# //*[@id=\"scheduled-day-0\"]/li[1] 일\n",
    "# //*[@id=\"scheduled-day-6\"]/li[1] 토\n",
    "# //*[@id=\"scheduled-day-n\"]/li[1] 10\n",
    "while True:\n",
    "    try:\n",
    "        driver.find_element_by_xpath('//*[@id=\"scheduled-day-n\"]/li['+str(x)+']').click()\n",
    "        time.sleep(0.5)\n",
    "        driver.find_element_by_xpath('//*[@id=\"comic-info\"]/div/button[5]').click()\n",
    "        time.sleep(0.5)\n",
    "\n",
    "        title2 = driver.find_element_by_xpath('//*[@id=\"comic-info\"]/div/h2').text\n",
    "        author = driver.find_element_by_xpath('//*[@id=\"comic-info\"]/div/section/div[2]').text\n",
    "        story = driver.find_element_by_xpath('//*[@id=\"comic-info-extend\"]/dialog/div[1]/p').text\n",
    "\n",
    "        driver.find_element_by_xpath('//*[@id=\"comic-info-extend\"]/dialog/button').click()\n",
    "\n",
    "        title_list.append(title2)\n",
    "        author_list.append(author)\n",
    "        story_list.append(story)\n",
    "\n",
    "        driver.back()\n",
    "        x += 1\n",
    "    except:\n",
    "        break\n",
    "\n",
    "# driver.close()"
   ]
  },
  {
   "cell_type": "code",
   "execution_count": 58,
   "id": "2f512415-6704-4049-abc8-4bceff71a544",
   "metadata": {},
   "outputs": [
    {
     "name": "stdout",
     "output_type": "stream",
     "text": [
      "138\n",
      "['바른쀼생활', '바퀴멘터리', '커튼콜 아래그랑', '꼴데툰 2021', 'citrus 시트러스', '안나 이야기', 'BJ 알렉스[개정판]', '아스란히', '모모세 헬프!!', '이토록 다채로운 핏빛', '러브 포엠', '주먹꾹', '사랑이라 생각하지 않아', '사람의 사이로', '미성년', '바퀴멘터리', '4컷용사', '오타쿠에게 사랑은 어려워', '레그널 트리거', '안티피티[개정판]', '잘 자 내 꿈 꿔', '러브 오어 헤이트[개정판]', '조만국박람회', '나의 수하[개정판]', '인시크릿[개정판]', '시선 끝, 30도', '구독한 식탁', '신데렐라 리미트', '용의 아들 최창식', '울프 인더 하우스[개정판]', '노라줘요 -우리 집 웰시코기 이야기-', '그렇게 내가 싫다면[개정판]', '보름달 식당', '연화', '소꿉친구가 자꾸 괴롭혀!', '타치바나 백작', '단금지교', '바퀴멘터리', '배달부들', 'LOVE WINS', '머쉬룸 스프', '왓치가이', '꼴데툰 2021', '달의 상자', '국제결혼 절대로 하지 마라', '킹스메이커', '피장파장의 오류', '1미터 사이', '차린 건 없지만', '니 친구 김저키', '바람', '풀스 리마스터', '4와 2분의 1 정거장', '주인의 사정[개정판]', '꽃점 봐 드립니다', '비 갠 뒤 우리들을 따라', '살맛 : 전생에 나라를 구했습니다[개정판]', 'Teach Me!', '삐딱한 기억 사전', '바리데기 별자국', '한여름 밤의 꿈', '아이싱', '바퀴멘터리', '바나나툰', '히어로즈 플랜비', '집사랑', '돌아올 땐 해일같이', '이름 없는 가게', '꼴데툰 2021', '방과후에 3', '구최애로부터 비밀을 사수하라!', '소년이 소년에게', '일어나서 사랑을 시작해', '헌터의 약혼자로 살아남기', '아르카나 판타지', '보름달 식당', '전설의 과학도들', '레바툰', 'A와 B의 초상', '매드 독', '바퀴멘터리', '나는 너의 귀여운 카피캣!', '하루종일 조아영', '친하게 지내자', '2주간 재워주세요', '블랙보이', '삼국지 가후전 R', '에로만화부!', '천사의 용도', '라온의 남자', '꼴데툰 2021', '나와 호랑이님', '황룡전 [개정판]', '조만국박람회', '사랑이라 하기엔 기분 나빠', '마들레느가 9번지', '주먹꾹', '제 3 경호팀', '조만국의 영화캠프', '심펭져스', '킬러가 사랑에 빠졌을 때', '클라우드', 'BJ 엘프의 요리 채널', '불멸의 날들', '백억년을 자는 남자', '꼴데툰 2021', '데우스 바드 마키나 2 : 선택받은 잡것', '무명의 등불', '메리 고 라운드', '내가 원하는 건', '차린 건 없지만', '꽃은 꽃으로, 잎은 잎으로', '최강! 중2병 그녀', '작전본부: 우리 집', '한여름 밤의 꿈', '천지해', '정당한 기만', '여우비 내리는 날에', '부랄친구', '꼴데툰 2021', '아버지의 집밥', '명동젠틀맨', '달토끼와 안드로이드', '펀칭머신', '타임라인', '기절소녀 하나미!', '데스크레센도', '안아줄게 (Burn It)', '제5열 Born to kill', '상상당 한의원', '박씨유대기', '표준규격전사', '던전 속 사정[개정판]', '지젤 씨의 피[개정판]', '도깨비도 수풀이 있어야 모인다[개정판]', '포젯션', '비 마이 게스트[개정판]', 'FREAK-QUENCY : 프릭-퀀시']\n"
     ]
    }
   ],
   "source": [
    "print(len(title_list))\n",
    "print(title_list)"
   ]
  },
  {
   "cell_type": "code",
   "execution_count": 50,
   "id": "5f1bbf68-c504-43ab-9964-0a766b61589a",
   "metadata": {},
   "outputs": [
    {
     "name": "stdout",
     "output_type": "stream",
     "text": [
      "['바른쀼생활', '바퀴멘터리', '커튼콜아래그랑', '꼴데툰2021', 'citrus시트러스', '안나이야기', 'BJ알렉스[개정판]', '아스란히', '모모세헬프!!', '이토록다채로운핏빛', '러브포엠', '주먹꾹', '사랑이라생각하지않아', '사람의사이로', '미성년', '바퀴멘터리', '4컷용사', '오타쿠에게사랑은어려워', '레그널트리거', '안티피티[개정판]', '잘자내꿈꿔', '러브오어헤이트[개정판]', '조만국박람회', '나의수하[개정판]', '인시크릿[개정판]', '시선끝,30도', '구독한식탁', '신데렐라리미트', '용의아들최창식', '울프인더하우스[개정판]', '노라줘요-우리집웰시코기이야기-', '그렇게내가싫다면[개정판]', '보름달식당', '연화', '소꿉친구가자꾸괴롭혀!', '타치바나백작', '단금지교', '바퀴멘터리', '배달부들', 'LOVEWINS', '머쉬룸스프', '왓치가이', '꼴데툰2021', '달의상자', '국제결혼절대로하지마라', '킹스메이커', '피장파장의오류', '1미터사이', '차린건없지만', '니친구김저키', '바람', '풀스리마스터', '4와2분의1정거장', '주인의사정[개정판]', '꽃점봐드립니다', '비갠뒤우리들을따라', '살맛전생에나라를구했습니다[개정판]', 'TeachMe!', '삐딱한기억사전', '바리데기별자국', '한여름밤의꿈', '아이싱', '바퀴멘터리', '바나나툰', '히어로즈플랜비', '집사랑', '돌아올땐해일같이', '이름없는가게', '꼴데툰2021', '방과후에3', '구최애로부터비밀을사수하라!', '소년이소년에게', '일어나서사랑을시작해', '헌터의약혼자로살아남기', '아르카나판타지', '보름달식당', '전설의과학도들', '레바툰', 'A와B의초상', '매드독', '바퀴멘터리', '나는너의귀여운카피캣!', '하루종일조아영', '친하게지내자', '2주간재워주세요', '블랙보이', '삼국지가후전R', '에로만화부!', '천사의용도', '라온의남자', '꼴데툰2021', '나와호랑이님', '황룡전[개정판]', '조만국박람회', '사랑이라하기엔기분나빠', '마들레느가9번지', '주먹꾹', '제3경호팀', '조만국의영화캠프', '심펭져스', '킬러가사랑에빠졌을때', '클라우드', 'BJ엘프의요리채널', '불멸의날들', '백억년을자는남자', '꼴데툰2021', '데우스바드마키나2선택받은잡것', '무명의등불', '메리고라운드', '내가원하는건', '차린건없지만', '꽃은꽃으로,잎은잎으로', '최강!중2병그녀', '작전본부우리집', '한여름밤의꿈', '천지해', '정당한기만', '여우비내리는날에', '부랄친구', '꼴데툰2021', '아버지의집밥', '명동젠틀맨', '달토끼와안드로이드', '펀칭머신', '타임라인', '기절소녀하나미!', '데스크레센도', '안아줄게(BurnIt)', '제5열Borntokill', '상상당한의원', '박씨유대기', '표준규격전사', '던전속사정[개정판]', '지젤씨의피[개정판]', '도깨비도수풀이있어야모인다[개정판]', '포젯션', '비마이게스트[개정판]', 'FREAK-QUENCY프릭-퀀시']\n"
     ]
    }
   ],
   "source": [
    "re_title_list = []\n",
    "for title in title_list:\n",
    "    title = re.sub('[\\\\/:*?\"<>|]','',title)\n",
    "    title = title.replace(\" \",\"\")\n",
    "    re_title_list.append(title)\n",
    "print(re_title_list)"
   ]
  },
  {
   "cell_type": "code",
   "execution_count": 30,
   "id": "a0804efd-8b03-4c53-b4e0-591b0f5c66cb",
   "metadata": {},
   "outputs": [
    {
     "name": "stdout",
     "output_type": "stream",
     "text": [
      "138\n",
      "['작가: 윤박', '작가: 박바퀴', '작가: 바싹탄숯', '작가: 샤다라빠', '작가: 사부로우타', '작가: 김지효', '작가: 밍과', '작가: 포카', '작가: 성원', '작가: 므앵갱', '작가: 해연', '작가: 캐너피', '작가: 스미야 제니코', '작가: 김보통', '작가: 히눈', '작가: 박바퀴', '작가: 고지라군', '작가: 후지타', '작가: kalma', '작가: 이지피', '작가: 이이런', '그림: 박담 / 글: 영하', '작가: 조만국', '작가: 차현', '작가: 이파도', '그림: 소보로 / 글: 여로', '작가: 눅쓰', '작가: 깨알', '작가: 임인스', '작가: 박지연', '작가: 라쿠다', '작가: 파고', '작가: 김보통', '작가: 스튜디오 열일, 스튜디오 질풍', '작가: NAKTA', '작가: 활기', '작가: 핑푸', '작가: 박바퀴', '작가: 우주', '작가: 목도리', '작가: 부발', '그림: ASURA / 글: 마사토끼', '작가: 샤다라빠', '작가: 김달', '작가: 쑤', '작가: 강지영, 하가', '작가: 나뭇', '그림: 김병관 / 글: 이은정', '작가: 심모람', '작가: 김저키', '작가: 반메', '그림: 박담 / 글: 영하', '작가: 팀만나', '그림: WAJE / 글: 찐밤', '작가: 주은', '작가: 라쿠타 쇼코', '작가: 스튜디오 스텔라즈', '작가: 뉴라', '작가: 김팍새', '작가: 김보통', '그림: 룡키 / 글: 박연조 / 그림: 재재', '작가: 스튜디오 웨이브', '작가: 박바퀴', '작가: 와나나', '작가: 인디고', '작가: 김첨지', '작가: 티오비', '작가: 하몽', '작가: 샤다라빠', '작가: 권골수', '그림: 네치 / 글: 선마', '작가: 엠제이', '작가: 토너진', '글: 서하 / 그림: 은나', '글: 유희 / 그림: 포엠', '작가: 김보통', '작가: 김보통', '작가: 레바', '작가: 두긍', '작가: 하리보', '작가: 박바퀴', '작가: 마롭-믹', '작가: 김맹', '작가: 영일', '작가: 은하이', '작가: 노커', '글: 마사토끼 / 그림: 입개', '그림: Canaria / 글: 공란', '작가: 공사', '작가: 릴리', '작가: 샤다라빠', '그림: 윤재호 / 원작: 카넬', '작가: 오늘만 사는 형제', '작가: 조만국', '작가: 모구스', '작가: 진혜리', '작가: 캐너피', '작가: 카리보', '작가: 조만국', '작가: 김보통', '작가: 에레세모', '작가: 김파스', '작가: 변태너구리', '작가: 허긴개', '작가: 수사반장', '작가: 샤다라빠', '그림: 죽은고양이 / 글: 폴빠', '작가: 이재', '작가: 나솔', '작가: 정', '작가: 심모람', '글: 골지 / 원작: 우지혜 / 그림: 해표', '작가: 영식', '작가: 청혈구', '그림: 룡키 / 글: 박연조 / 그림: 재재', '작가: 핑푸', '작가: 진5', '글: 우시목 / 그림: 이하안', '작가: 한라감귤', '작가: 샤다라빠', '작가: 고리타', '글: 미스와플 / 그림: 직가', '글: 개호주 / 그림: 뉴꼬', '작가: 늴릴', '작가: 헛둘', '작가: 호이', '글: 빌뱅 / 그림: 턱시도펭귄', '글: HYEYA / 그림: west dog alcohol', '원작: 김성종 / 그림: 스튜디오 웨이브', '작가: 서영애', '작가: 슬라정', '작가: 오솟', '작가: 레바', '작가: 이연지', '작가: 신', '작가: Happykwak', '그림: 영모 / 글: 티오비', '그림: Sakon / 글: Xero']\n"
     ]
    }
   ],
   "source": [
    "print(len(author_list))\n",
    "print(author_list)"
   ]
  },
  {
   "cell_type": "code",
   "execution_count": null,
   "id": "7d16d859-28b1-46d4-974a-1bc26e773c9d",
   "metadata": {},
   "outputs": [],
   "source": [
    "print(len(story_list))\n",
    "print(story_list)"
   ]
  },
  {
   "cell_type": "code",
   "execution_count": 32,
   "id": "bea2fde3-0dec-43ac-bcfd-e9cfc44ec7d6",
   "metadata": {},
   "outputs": [
    {
     "name": "stdout",
     "output_type": "stream",
     "text": [
      "그림: 박담 / 글: 영하\n",
      "그림: 소보로 / 글: 여로\n",
      "그림: ASURA / 글: 마사토끼\n",
      "그림: 김병관 / 글: 이은정\n",
      "그림: 박담 / 글: 영하\n",
      "그림: WAJE / 글: 찐밤\n",
      "그림: 룡키 / 글: 박연조 / 그림: 재재\n",
      "그림: 네치 / 글: 선마\n",
      "글: 서하 / 그림: 은나\n",
      "글: 유희 / 그림: 포엠\n",
      "글: 마사토끼 / 그림: 입개\n",
      "그림: Canaria / 글: 공란\n",
      "그림: 윤재호 / 원작: 카넬\n",
      "그림: 죽은고양이 / 글: 폴빠\n",
      "글: 골지 / 원작: 우지혜 / 그림: 해표\n",
      "그림: 룡키 / 글: 박연조 / 그림: 재재\n",
      "글: 우시목 / 그림: 이하안\n",
      "글: 미스와플 / 그림: 직가\n",
      "글: 개호주 / 그림: 뉴꼬\n",
      "글: 빌뱅 / 그림: 턱시도펭귄\n",
      "글: HYEYA / 그림: west dog alcohol\n",
      "원작: 김성종 / 그림: 스튜디오 웨이브\n",
      "그림: 영모 / 글: 티오비\n",
      "그림: Sakon / 글: Xero\n"
     ]
    }
   ],
   "source": [
    "for author in author_list:\n",
    "    if '그림' in author:\n",
    "        print(author)"
   ]
  },
  {
   "cell_type": "code",
   "execution_count": 33,
   "id": "dd7227af-9bf9-44bc-88e9-2d47cc020029",
   "metadata": {},
   "outputs": [],
   "source": [
    "#글작가 그림작가 분리\n",
    "\n",
    "writer_list = []\n",
    "illustrator_list = []\n",
    "\n",
    "for author in author_list:\n",
    "    author = author.split('/')\n",
    "    if len(author) > 1:\n",
    "        if '그림' in author[0]:\n",
    "            illustrator_list.append(author[0])\n",
    "            writer_list.append(author[1])\n",
    "        elif '그림' in author[1]:\n",
    "            illustrator_list.append(author[1])\n",
    "            writer_list.append(author[0])\n",
    "        elif '그림' in author[2]:\n",
    "            illustrator_list.append(author[2])\n",
    "            writer_list.append(author[0])\n",
    "    else:\n",
    "        writer_list.append(author[0])\n",
    "        illustrator_list.append(author[0])"
   ]
  },
  {
   "cell_type": "code",
   "execution_count": 34,
   "id": "0c8f4474-84b8-4ae1-af44-ca325605cda7",
   "metadata": {},
   "outputs": [
    {
     "name": "stdout",
     "output_type": "stream",
     "text": [
      "['작가: 윤박', '작가: 박바퀴', '작가: 바싹탄숯', '작가: 샤다라빠', '작가: 사부로우타', '작가: 김지효', '작가: 밍과', '작가: 포카', '작가: 성원', '작가: 므앵갱', '작가: 해연', '작가: 캐너피', '작가: 스미야 제니코', '작가: 김보통', '작가: 히눈', '작가: 박바퀴', '작가: 고지라군', '작가: 후지타', '작가: kalma', '작가: 이지피', '작가: 이이런', ' 글: 영하', '작가: 조만국', '작가: 차현', '작가: 이파도', ' 글: 여로', '작가: 눅쓰', '작가: 깨알', '작가: 임인스', '작가: 박지연', '작가: 라쿠다', '작가: 파고', '작가: 김보통', '작가: 스튜디오 열일, 스튜디오 질풍', '작가: NAKTA', '작가: 활기', '작가: 핑푸', '작가: 박바퀴', '작가: 우주', '작가: 목도리', '작가: 부발', ' 글: 마사토끼', '작가: 샤다라빠', '작가: 김달', '작가: 쑤', '작가: 강지영, 하가', '작가: 나뭇', ' 글: 이은정', '작가: 심모람', '작가: 김저키', '작가: 반메', ' 글: 영하', '작가: 팀만나', ' 글: 찐밤', '작가: 주은', '작가: 라쿠타 쇼코', '작가: 스튜디오 스텔라즈', '작가: 뉴라', '작가: 김팍새', '작가: 김보통', ' 글: 박연조 ', '작가: 스튜디오 웨이브', '작가: 박바퀴', '작가: 와나나', '작가: 인디고', '작가: 김첨지', '작가: 티오비', '작가: 하몽', '작가: 샤다라빠', '작가: 권골수', ' 글: 선마', '작가: 엠제이', '작가: 토너진', '글: 서하 ', '글: 유희 ', '작가: 김보통', '작가: 김보통', '작가: 레바', '작가: 두긍', '작가: 하리보', '작가: 박바퀴', '작가: 마롭-믹', '작가: 김맹', '작가: 영일', '작가: 은하이', '작가: 노커', '글: 마사토끼 ', ' 글: 공란', '작가: 공사', '작가: 릴리', '작가: 샤다라빠', ' 원작: 카넬', '작가: 오늘만 사는 형제', '작가: 조만국', '작가: 모구스', '작가: 진혜리', '작가: 캐너피', '작가: 카리보', '작가: 조만국', '작가: 김보통', '작가: 에레세모', '작가: 김파스', '작가: 변태너구리', '작가: 허긴개', '작가: 수사반장', '작가: 샤다라빠', ' 글: 폴빠', '작가: 이재', '작가: 나솔', '작가: 정', '작가: 심모람', '글: 골지 ', '작가: 영식', '작가: 청혈구', ' 글: 박연조 ', '작가: 핑푸', '작가: 진5', '글: 우시목 ', '작가: 한라감귤', '작가: 샤다라빠', '작가: 고리타', '글: 미스와플 ', '글: 개호주 ', '작가: 늴릴', '작가: 헛둘', '작가: 호이', '글: 빌뱅 ', '글: HYEYA ', '원작: 김성종 ', '작가: 서영애', '작가: 슬라정', '작가: 오솟', '작가: 레바', '작가: 이연지', '작가: 신', '작가: Happykwak', ' 글: 티오비', ' 글: Xero']\n",
      "138\n"
     ]
    }
   ],
   "source": [
    "print(writer_list)\n",
    "print(len(writer_list))"
   ]
  },
  {
   "cell_type": "code",
   "execution_count": 35,
   "id": "9d599f9e-6c86-4b84-a8f2-174cbb64257e",
   "metadata": {},
   "outputs": [
    {
     "name": "stdout",
     "output_type": "stream",
     "text": [
      "['작가: 윤박', '작가: 박바퀴', '작가: 바싹탄숯', '작가: 샤다라빠', '작가: 사부로우타', '작가: 김지효', '작가: 밍과', '작가: 포카', '작가: 성원', '작가: 므앵갱', '작가: 해연', '작가: 캐너피', '작가: 스미야 제니코', '작가: 김보통', '작가: 히눈', '작가: 박바퀴', '작가: 고지라군', '작가: 후지타', '작가: kalma', '작가: 이지피', '작가: 이이런', '그림: 박담 ', '작가: 조만국', '작가: 차현', '작가: 이파도', '그림: 소보로 ', '작가: 눅쓰', '작가: 깨알', '작가: 임인스', '작가: 박지연', '작가: 라쿠다', '작가: 파고', '작가: 김보통', '작가: 스튜디오 열일, 스튜디오 질풍', '작가: NAKTA', '작가: 활기', '작가: 핑푸', '작가: 박바퀴', '작가: 우주', '작가: 목도리', '작가: 부발', '그림: ASURA ', '작가: 샤다라빠', '작가: 김달', '작가: 쑤', '작가: 강지영, 하가', '작가: 나뭇', '그림: 김병관 ', '작가: 심모람', '작가: 김저키', '작가: 반메', '그림: 박담 ', '작가: 팀만나', '그림: WAJE ', '작가: 주은', '작가: 라쿠타 쇼코', '작가: 스튜디오 스텔라즈', '작가: 뉴라', '작가: 김팍새', '작가: 김보통', '그림: 룡키 ', '작가: 스튜디오 웨이브', '작가: 박바퀴', '작가: 와나나', '작가: 인디고', '작가: 김첨지', '작가: 티오비', '작가: 하몽', '작가: 샤다라빠', '작가: 권골수', '그림: 네치 ', '작가: 엠제이', '작가: 토너진', ' 그림: 은나', ' 그림: 포엠', '작가: 김보통', '작가: 김보통', '작가: 레바', '작가: 두긍', '작가: 하리보', '작가: 박바퀴', '작가: 마롭-믹', '작가: 김맹', '작가: 영일', '작가: 은하이', '작가: 노커', ' 그림: 입개', '그림: Canaria ', '작가: 공사', '작가: 릴리', '작가: 샤다라빠', '그림: 윤재호 ', '작가: 오늘만 사는 형제', '작가: 조만국', '작가: 모구스', '작가: 진혜리', '작가: 캐너피', '작가: 카리보', '작가: 조만국', '작가: 김보통', '작가: 에레세모', '작가: 김파스', '작가: 변태너구리', '작가: 허긴개', '작가: 수사반장', '작가: 샤다라빠', '그림: 죽은고양이 ', '작가: 이재', '작가: 나솔', '작가: 정', '작가: 심모람', ' 그림: 해표', '작가: 영식', '작가: 청혈구', '그림: 룡키 ', '작가: 핑푸', '작가: 진5', ' 그림: 이하안', '작가: 한라감귤', '작가: 샤다라빠', '작가: 고리타', ' 그림: 직가', ' 그림: 뉴꼬', '작가: 늴릴', '작가: 헛둘', '작가: 호이', ' 그림: 턱시도펭귄', ' 그림: west dog alcohol', ' 그림: 스튜디오 웨이브', '작가: 서영애', '작가: 슬라정', '작가: 오솟', '작가: 레바', '작가: 이연지', '작가: 신', '작가: Happykwak', '그림: 영모 ', '그림: Sakon ']\n",
      "138\n"
     ]
    }
   ],
   "source": [
    "print(illustrator_list)\n",
    "print(len(illustrator_list))"
   ]
  },
  {
   "cell_type": "code",
   "execution_count": 36,
   "id": "52390278-70c4-4381-a198-3796cb801524",
   "metadata": {},
   "outputs": [],
   "source": [
    "# df = pd.DataFrame({'author':pd.Series(author_list),'writer':pd.Series(writer_list),'illustrator':pd.Series(illustrator_list)})\n",
    "# df.to_csv('aa.csv')"
   ]
  },
  {
   "cell_type": "code",
   "execution_count": 37,
   "id": "f8c78073-79d8-4f9e-ad06-7621e7f4fff9",
   "metadata": {},
   "outputs": [],
   "source": [
    "re_writer_list = []\n",
    "for writer in writer_list:\n",
    "    writer = re.sub(\"작가|글|:\",\"\",writer)\n",
    "    writer = writer.replace(\" \",\"\")\n",
    "    re_writer_list.append(writer)\n",
    "\n",
    "re_illustrator_lists = []\n",
    "for illustrator in illustrator_list:\n",
    "    illustrator = re.sub(\"작가|그림|:\",\"\",illustrator)\n",
    "    illustrator = illustrator.replace(\" \",\"\")\n",
    "    re_illustrator_lists.append(illustrator)"
   ]
  },
  {
   "cell_type": "code",
   "execution_count": 38,
   "id": "242a412f-13b8-4857-aca8-38572f657170",
   "metadata": {},
   "outputs": [
    {
     "name": "stdout",
     "output_type": "stream",
     "text": [
      "['윤박', '박바퀴', '바싹탄숯', '샤다라빠', '사부로우타', '김지효', '밍과', '포카', '성원', '므앵갱', '해연', '캐너피', '스미야제니코', '김보통', '히눈', '박바퀴', '고지라군', '후지타', 'kalma', '이지피', '이이런', '영하', '조만국', '차현', '이파도', '여로', '눅쓰', '깨알', '임인스', '박지연', '라쿠다', '파고', '김보통', '스튜디오열일,스튜디오질풍', 'NAKTA', '활기', '핑푸', '박바퀴', '우주', '목도리', '부발', '마사토끼', '샤다라빠', '김달', '쑤', '강지영,하가', '나뭇', '이은정', '심모람', '김저키', '반메', '영하', '팀만나', '찐밤', '주은', '라쿠타쇼코', '스튜디오스텔라즈', '뉴라', '김팍새', '김보통', '박연조', '스튜디오웨이브', '박바퀴', '와나나', '인디고', '김첨지', '티오비', '하몽', '샤다라빠', '권골수', '선마', '엠제이', '토너진', '서하', '유희', '김보통', '김보통', '레바', '두긍', '하리보', '박바퀴', '마롭-믹', '김맹', '영일', '은하이', '노커', '마사토끼', '공란', '공사', '릴리', '샤다라빠', '원작카넬', '오늘만사는형제', '조만국', '모구스', '진혜리', '캐너피', '카리보', '조만국', '김보통', '에레세모', '김파스', '변태너구리', '허긴개', '수사반장', '샤다라빠', '폴빠', '이재', '나솔', '정', '심모람', '골지', '영식', '청혈구', '박연조', '핑푸', '진5', '우시목', '한라감귤', '샤다라빠', '고리타', '미스와플', '개호주', '늴릴', '헛둘', '호이', '빌뱅', 'HYEYA', '원작김성종', '서영애', '슬라정', '오솟', '레바', '이연지', '신', 'Happykwak', '티오비', 'Xero']\n"
     ]
    }
   ],
   "source": [
    "print(re_writer_list)"
   ]
  },
  {
   "cell_type": "code",
   "execution_count": 39,
   "id": "5413c410-ca68-4b65-bdb6-e93e93528f30",
   "metadata": {},
   "outputs": [
    {
     "name": "stdout",
     "output_type": "stream",
     "text": [
      "['윤박', '박바퀴', '바싹탄숯', '샤다라빠', '사부로우타', '김지효', '밍과', '포카', '성원', '므앵갱', '해연', '캐너피', '스미야제니코', '김보통', '히눈', '박바퀴', '고지라군', '후지타', 'kalma', '이지피', '이이런', '박담', '조만국', '차현', '이파도', '소보로', '눅쓰', '깨알', '임인스', '박지연', '라쿠다', '파고', '김보통', '스튜디오열일,스튜디오질풍', 'NAKTA', '활기', '핑푸', '박바퀴', '우주', '목도리', '부발', 'ASURA', '샤다라빠', '김달', '쑤', '강지영,하가', '나뭇', '김병관', '심모람', '김저키', '반메', '박담', '팀만나', 'WAJE', '주은', '라쿠타쇼코', '스튜디오스텔라즈', '뉴라', '김팍새', '김보통', '룡키', '스튜디오웨이브', '박바퀴', '와나나', '인디고', '김첨지', '티오비', '하몽', '샤다라빠', '권골수', '네치', '엠제이', '토너진', '은나', '포엠', '김보통', '김보통', '레바', '두긍', '하리보', '박바퀴', '마롭-믹', '김맹', '영일', '은하이', '노커', '입개', 'Canaria', '공사', '릴리', '샤다라빠', '윤재호', '오늘만사는형제', '조만국', '모구스', '진혜리', '캐너피', '카리보', '조만국', '김보통', '에레세모', '김파스', '변태너구리', '허긴개', '수사반장', '샤다라빠', '죽은고양이', '이재', '나솔', '정', '심모람', '해표', '영식', '청혈구', '룡키', '핑푸', '진5', '이하안', '한라감귤', '샤다라빠', '고리타', '직가', '뉴꼬', '늴릴', '헛둘', '호이', '턱시도펭귄', 'westdogalcohol', '스튜디오웨이브', '서영애', '슬라정', '오솟', '레바', '이연지', '신', 'Happykwak', '영모', 'Sakon']\n"
     ]
    }
   ],
   "source": [
    "print(re_illustrator_lists)"
   ]
  },
  {
   "cell_type": "code",
   "execution_count": 40,
   "id": "ca16ed1a-3fc9-4708-96c8-86a93521eae6",
   "metadata": {},
   "outputs": [],
   "source": [
    "re_illustrator_list = []\n",
    "for illustrator in re_illustrator_lists:\n",
    "    illustrator = re.sub(\":\",\"\",illustrator)\n",
    "    re_illustrator_list.append(illustrator)"
   ]
  },
  {
   "cell_type": "code",
   "execution_count": 41,
   "id": "3e2f84bd-04b0-41ab-9dbb-7ff1375e8ba2",
   "metadata": {},
   "outputs": [
    {
     "name": "stdout",
     "output_type": "stream",
     "text": [
      "['윤박', '박바퀴', '바싹탄숯', '샤다라빠', '사부로우타', '김지효', '밍과', '포카', '성원', '므앵갱', '해연', '캐너피', '스미야제니코', '김보통', '히눈', '박바퀴', '고지라군', '후지타', 'kalma', '이지피', '이이런', '박담', '조만국', '차현', '이파도', '소보로', '눅쓰', '깨알', '임인스', '박지연', '라쿠다', '파고', '김보통', '스튜디오열일,스튜디오질풍', 'NAKTA', '활기', '핑푸', '박바퀴', '우주', '목도리', '부발', 'ASURA', '샤다라빠', '김달', '쑤', '강지영,하가', '나뭇', '김병관', '심모람', '김저키', '반메', '박담', '팀만나', 'WAJE', '주은', '라쿠타쇼코', '스튜디오스텔라즈', '뉴라', '김팍새', '김보통', '룡키', '스튜디오웨이브', '박바퀴', '와나나', '인디고', '김첨지', '티오비', '하몽', '샤다라빠', '권골수', '네치', '엠제이', '토너진', '은나', '포엠', '김보통', '김보통', '레바', '두긍', '하리보', '박바퀴', '마롭-믹', '김맹', '영일', '은하이', '노커', '입개', 'Canaria', '공사', '릴리', '샤다라빠', '윤재호', '오늘만사는형제', '조만국', '모구스', '진혜리', '캐너피', '카리보', '조만국', '김보통', '에레세모', '김파스', '변태너구리', '허긴개', '수사반장', '샤다라빠', '죽은고양이', '이재', '나솔', '정', '심모람', '해표', '영식', '청혈구', '룡키', '핑푸', '진5', '이하안', '한라감귤', '샤다라빠', '고리타', '직가', '뉴꼬', '늴릴', '헛둘', '호이', '턱시도펭귄', 'westdogalcohol', '스튜디오웨이브', '서영애', '슬라정', '오솟', '레바', '이연지', '신', 'Happykwak', '영모', 'Sakon']\n"
     ]
    }
   ],
   "source": [
    "print(re_illustrator_list)"
   ]
  },
  {
   "cell_type": "code",
   "execution_count": 54,
   "id": "01b74208-8819-4ff1-9b0d-0b4b0e691c7c",
   "metadata": {
    "id": "LEGSDMo3Nc0-"
   },
   "outputs": [
    {
     "name": "stdout",
     "output_type": "stream",
     "text": [
      "1 바른쀼생활 윤박 190\n",
      "2 바퀴멘터리 박바퀴 999\n",
      "3 커튼콜 아래그랑 바싹탄숯 317\n",
      "4 꼴데툰 2021 샤다라빠 114\n",
      "5 citrus 시트러스 사부로우타 122\n",
      "6 안나 이야기 김지효 38\n",
      "7 BJ 알렉스[개정판] 밍과 56\n",
      "8 아스란히 포카 27\n",
      "9 모모세 헬프!! 성원 70\n",
      "10 이토록 다채로운 핏빛 므앵갱 46\n",
      "11 러브 포엠 해연 35\n",
      "12 주먹꾹 캐너피 396\n",
      "13 사랑이라 생각하지 않아 스미야제니코 11\n",
      "14 사람의 사이로 김보통 44\n",
      "15 미성년 히눈 53\n",
      "16 바퀴멘터리 박바퀴 999\n",
      "17 4컷용사 고지라군 175\n",
      "18 오타쿠에게 사랑은 어려워 후지타 92\n",
      "19 레그널 트리거 kalma 124\n",
      "20 안티피티[개정판] 이지피 45\n",
      "21 잘 자 내 꿈 꿔 이이런 98\n",
      "22 러브 오어 헤이트[개정판] 박담 62\n",
      "23 조만국박람회 조만국 42\n",
      "24 나의 수하[개정판] 차현 43\n",
      "25 인시크릿[개정판] 이파도 48\n",
      "26 시선 끝, 30도 소보로 32\n",
      "27 구독한 식탁 눅쓰 12\n",
      "28 신데렐라 리미트 깨알 38\n",
      "29 용의 아들 최창식 임인스 124\n",
      "30 울프 인더 하우스[개정판] 박지연 73\n",
      "31 노라줘요 -우리 집 웰시코기 이야기- 라쿠다 72\n",
      "32 그렇게 내가 싫다면[개정판] 파고 40\n",
      "33 보름달 식당 김보통 13\n",
      "34 연화 스튜디오열일,스튜디오질풍 45\n",
      "35 소꿉친구가 자꾸 괴롭혀! NAKTA 21\n",
      "36 타치바나 백작 활기 18\n",
      "37 단금지교 핑푸 24\n",
      "38 바퀴멘터리 박바퀴 999\n",
      "39 배달부들 우주 60\n",
      "40 LOVE WINS 목도리 37\n",
      "41 머쉬룸 스프 부발 95\n",
      "42 왓치가이 ASURA 101\n",
      "43 꼴데툰 2021 샤다라빠 114\n",
      "44 달의 상자 김달 143\n",
      "45 국제결혼 절대로 하지 마라 쑤 28\n",
      "46 킹스메이커 강지영,하가 39\n",
      "47 피장파장의 오류 나뭇 59\n",
      "48 1미터 사이 김병관 23\n",
      "49 차린 건 없지만 심모람 102\n",
      "50 니 친구 김저키 김저키 178\n",
      "51 바람 반메 141\n",
      "52 풀스 리마스터 박담 18\n",
      "53 4와 2분의 1 정거장 팀만나 47\n",
      "54 주인의 사정[개정판] WAJE 24\n",
      "55 꽃점 봐 드립니다 주은 24\n",
      "56 비 갠 뒤 우리들을 따라 라쿠타쇼코 23\n",
      "57 살맛 : 전생에 나라를 구했습니다[개정판] 스튜디오스텔라즈 26\n",
      "58 Teach Me! 뉴라 57\n",
      "59 삐딱한 기억 사전 김팍새 119\n",
      "60 바리데기 별자국 김보통 18\n",
      "61 한여름 밤의 꿈 룡키 12\n",
      "62 아이싱 스튜디오웨이브 10\n",
      "63 바퀴멘터리 박바퀴 999\n",
      "64 바나나툰 와나나 154\n",
      "65 히어로즈 플랜비 인디고 304\n",
      "66 집사랑 김첨지 54\n",
      "67 돌아올 땐 해일같이 티오비 179\n",
      "68 이름 없는 가게 하몽 249\n",
      "69 꼴데툰 2021 샤다라빠 114\n",
      "70 방과후에 3 권골수 125\n",
      "71 구최애로부터 비밀을 사수하라! 네치 20\n",
      "72 소년이 소년에게 엠제이 72\n",
      "73 일어나서 사랑을 시작해 토너진 52\n",
      "74 헌터의 약혼자로 살아남기 은나 50\n",
      "75 아르카나 판타지 포엠 31\n",
      "76 보름달 식당 김보통 13\n",
      "77 전설의 과학도들 김보통 10\n",
      "78 레바툰 레바 319\n",
      "79 A와 B의 초상 두긍 107\n",
      "80 매드 독 하리보 17\n",
      "81 바퀴멘터리 박바퀴 999\n",
      "82 나는 너의 귀여운 카피캣! 마롭-믹 31\n",
      "83 하루종일 조아영 김맹 220\n",
      "84 친하게 지내자 영일 236\n",
      "85 2주간 재워주세요 은하이 28\n",
      "86 블랙보이 노커 243\n",
      "87 삼국지 가후전 R 입개 117\n",
      "88 에로만화부! Canaria 40\n",
      "89 천사의 용도 공사 75\n",
      "90 라온의 남자 릴리 35\n",
      "91 꼴데툰 2021 샤다라빠 114\n",
      "92 나와 호랑이님 윤재호 364\n",
      "93 황룡전 [개정판] 오늘만사는형제 69\n",
      "94 조만국박람회 조만국 42\n",
      "95 사랑이라 하기엔 기분 나빠 모구스 75\n",
      "96 마들레느가 9번지 진혜리 0\n",
      "97 주먹꾹 캐너피 396\n",
      "98 제 3 경호팀 카리보 94\n",
      "99 조만국의 영화캠프 조만국 39\n",
      "100 심펭져스 김보통 12\n",
      "101 킬러가 사랑에 빠졌을 때 에레세모 9\n",
      "102 클라우드 김파스 39\n",
      "103 BJ 엘프의 요리 채널 변태너구리 62\n",
      "104 불멸의 날들 허긴개 209\n",
      "105 백억년을 자는 남자 수사반장 139\n",
      "106 꼴데툰 2021 샤다라빠 114\n",
      "107 데우스 바드 마키나 2 : 선택받은 잡것 죽은고양이 21\n",
      "108 무명의 등불 이재 54\n",
      "109 메리 고 라운드 나솔 54\n",
      "110 내가 원하는 건 정 71\n",
      "111 차린 건 없지만 심모람 102\n",
      "112 꽃은 꽃으로, 잎은 잎으로 해표 14\n",
      "113 최강! 중2병 그녀 영식 28\n",
      "114 작전본부: 우리 집 청혈구 27\n",
      "115 한여름 밤의 꿈 룡키 12\n"
     ]
    }
   ],
   "source": [
    "URL = 'https://www.lezhin.com/ko/scheduled?day=1'\n",
    "\n",
    "driver = webdriver.Chrome(executable_path='C:\\chromedriver')\n",
    "driver.implicitly_wait(time_to_wait=1)\n",
    "driver.get(URL)\n",
    "time.sleep(1)\n",
    "\n",
    "\n",
    "if not os.path.exists('./thumb_detail'):\n",
    "    os.mkdir('./thumb_detail')\n",
    "\n",
    "num = 0\n",
    "    \n",
    "for i in range(1,7):\n",
    "    \n",
    "    driver.find_element_by_xpath('//*[@id=\"main\"]/div/a['+str(i)+']').click()\n",
    "    time.sleep(1)\n",
    "    \n",
    "    html = driver.page_source\n",
    "    soup = BeautifulSoup(html, 'html.parser')   \n",
    "  \n",
    "    x = 1\n",
    "\n",
    "    while True:\n",
    "        try:        \n",
    "            driver.find_element_by_xpath('//*[@id=\"scheduled-day-'+str(i)+'\"]/li['+str(x)+']').click()\n",
    "            time.sleep(0.5)\n",
    "            \n",
    "            body = driver.find_element_by_tag_name('body')\n",
    "            last = driver.execute_script('return document.body.scrollHeight')\n",
    "\n",
    "            for key_down in range(1):\n",
    "                # driver.find_element_by_tag_name('body').send_keys(Keys.PAGE_DOWN)\n",
    "                for scroll in range(0, 200):     # PAGE_DOWN 횟수\n",
    "                    scroll_down = 0\n",
    "                    body.send_keys(Keys.PAGE_DOWN)\n",
    "#                     time.sleep(0.15)\n",
    "                    scroll_down += 1\n",
    "\n",
    "                    new = driver.execute_script('return document.body.scrollHeight')\n",
    "            \n",
    "                    \n",
    "                html = driver.page_source\n",
    "                soup = BeautifulSoup(html, 'html.parser')\n",
    "                webtoon_area = soup.select('#main > #section > ul.comic-episode-list')\n",
    "\n",
    "                #제목 수집\n",
    "                title = soup.find_all('div', {'class': 'episode__name'}) # 제목 수집\n",
    "                titles = []\n",
    "\n",
    "                for t in range(len(title)):\n",
    "                    titles.append(re.sub('[\\\\/:*?\"<>|]','',title[t].get_text()))\n",
    "\n",
    "                titles = titles[0:]\n",
    "\n",
    "                #이미지 수집\n",
    "                data_list=soup.findAll('div',{'class':'episode__thumb'})\n",
    "\n",
    "                li_list = []\n",
    "                for data in data_list:\n",
    "                    li_list.extend(data.findAll('picture')) #해당 부분을 찾아 li_list와 병합\n",
    "\n",
    "                thumb = []\n",
    "\n",
    "                for li in li_list:\n",
    "                    img = li.find('img')\n",
    "                    img_src = img['src']\n",
    "                    thumb.append(img_src)\n",
    "                thumb = thumb[0:]\n",
    "                print(num+1, title_list[num], re_illustrator_list[num], len(thumb))\n",
    "                \n",
    "                try:\n",
    "                    for k in range(len(thumb)):\n",
    "                        if not os.path.exists('./thumb_detail/{}'.format(re_illustrator_list[num])):\n",
    "                            os.mkdir('./thumb_detail/{}'.format(re_illustrator_list[num]))\n",
    "\n",
    "                        urllib.request.urlretrieve(thumb[k], './thumb_detail/{}/{}{}{}.jpg'.format(re_illustrator_list[num],re_title_list[num],'_',titles[k]))\n",
    "                except:\n",
    "                    break\n",
    "\n",
    "            driver.back()\n",
    "            x+=1\n",
    "            num += 1\n",
    "        except:\n",
    "            break\n",
    "            \n",
    "driver.close()"
   ]
  },
  {
   "cell_type": "code",
   "execution_count": null,
   "id": "efdfd5dd-cebb-4dd6-9fb1-e28147f2789f",
   "metadata": {
    "id": "LEGSDMo3Nc0-"
   },
   "outputs": [],
   "source": [
    "#일요일 웹툰\n",
    "\n",
    "URL = 'https://www.lezhin.com/ko/scheduled?day=1'\n",
    "\n",
    "driver = webdriver.Chrome(executable_path='C:\\chromedriver')\n",
    "driver.implicitly_wait(time_to_wait=1)\n",
    "driver.get(URL)\n",
    "time.sleep(1)\n",
    "\n",
    "\n",
    "if not os.path.exists('./thumb_detail'):\n",
    "    os.mkdir('./thumb_detail')\n",
    "\n",
    "    \n",
    "driver.find_element_by_xpath('//*[@id=\"main\"]/div/a[7]').click()\n",
    "time.sleep(1)\n",
    "\n",
    "html = driver.page_source\n",
    "soup = BeautifulSoup(html, 'html.parser')   \n",
    "\n",
    "num = 115\n",
    "\n",
    "x = 1\n",
    "\n",
    "while True:\n",
    "    try:\n",
    "        driver.find_element_by_xpath('//*[@id=\"scheduled-day-0\"]/li['+str(x)+']').click()\n",
    "        time.sleep(0.5)\n",
    "\n",
    "        body = driver.find_element_by_tag_name('body')\n",
    "        last = driver.execute_script('return document.body.scrollHeight')\n",
    "\n",
    "        for key_down in range(1):\n",
    "            # driver.find_element_by_tag_name('body').send_keys(Keys.PAGE_DOWN)\n",
    "\n",
    "            for scroll in range(0, 100):     # PAGE_DOWN 횟수\n",
    "                scroll_down = 0\n",
    "                body.send_keys(Keys.PAGE_DOWN)\n",
    "                time.sleep(0.15)\n",
    "                scroll_down += 1\n",
    "\n",
    "                new = driver.execute_script('return document.body.scrollHeight')\n",
    "\n",
    "            html = driver.page_source\n",
    "            soup = BeautifulSoup(html, 'html.parser')\n",
    "            webtoon_area = soup.select('#main > #section > ul.comic-episode-list')\n",
    "\n",
    "            #제목 수집\n",
    "            title = soup.find_all('div', {'class': 'episode__name'}) # 제목 수집\n",
    "            titles = []\n",
    "\n",
    "            for t in range(len(title)):\n",
    "                titles.append(re.sub('[\\\\/:*?\"<>|]','',title[t].get_text()))\n",
    "\n",
    "            titles = titles[0:]\n",
    "\n",
    "            #이미지 수집\n",
    "            data_list=soup.findAll('div',{'class':'episode__thumb'})\n",
    "\n",
    "            li_list = []\n",
    "            for data in data_list:\n",
    "                li_list.extend(data.findAll('picture')) #해당 부분을 찾아 li_list와 병합\n",
    "\n",
    "            thumb = []\n",
    "\n",
    "            for li in li_list:\n",
    "                img = li.find('img')\n",
    "                img_src = img['src']\n",
    "                thumb.append(img_src)\n",
    "            thumb = thumb[0:]\n",
    "            print(num+1, title_list[num], re_illustrator_list[num], len(thumb))\n",
    "\n",
    "            try:\n",
    "                for k in range(len(thumb)):\n",
    "                    if not os.path.exists('./thumb_detail/{}'.format(re_illustrator_list[num])):\n",
    "                        os.mkdir('./thumb_detail/{}'.format(re_illustrator_list[num]))\n",
    "\n",
    "                    urllib.request.urlretrieve(thumb[k], './thumb_detail/{}/{}{}{}.jpg'.format(re_illustrator_list[num],re_title_list[num],'_',titles[k]))\n",
    "            except:\n",
    "                break\n",
    "        driver.back()\n",
    "        x+=1\n",
    "        num += 1\n",
    "    except:\n",
    "        break\n",
    "\n",
    "driver.close()"
   ]
  },
  {
   "cell_type": "code",
   "execution_count": 57,
   "id": "a52e85aa-86e9-4a13-98d6-900282a83637",
   "metadata": {
    "id": "LEGSDMo3Nc0-"
   },
   "outputs": [],
   "source": [
    "#10일 간격 웹툰\n",
    "\n",
    "URL = 'https://www.lezhin.com/ko/scheduled?day=1'\n",
    "\n",
    "driver = webdriver.Chrome(executable_path='C:\\chromedriver')\n",
    "driver.implicitly_wait(time_to_wait=1)\n",
    "driver.get(URL)\n",
    "time.sleep(1)\n",
    "\n",
    "\n",
    "if not os.path.exists('./thumb_detail'):\n",
    "    os.mkdir('./thumb_detail')\n",
    "\n",
    "\n",
    "    \n",
    "driver.find_element_by_xpath('//*[@id=\"main\"]/div/a[8]').click()\n",
    "time.sleep(1)\n",
    "\n",
    "html = driver.page_source\n",
    "soup = BeautifulSoup(html, 'html.parser')   \n",
    "\n",
    "num = 130\n",
    "x = 1\n",
    "\n",
    "while True:\n",
    "    try:\n",
    "        driver.find_element_by_xpath('//*[@id=\"scheduled-day-n\"]/li['+str(x)+']').click()\n",
    "        time.sleep(0.5)\n",
    "\n",
    "        body = driver.find_element_by_tag_name('body')\n",
    "        last = driver.execute_script('return document.body.scrollHeight')\n",
    "\n",
    "        for key_down in range(1):\n",
    "            # driver.find_element_by_tag_name('body').send_keys(Keys.PAGE_DOWN)\n",
    "\n",
    "            for scroll in range(0, 100):     # PAGE_DOWN 횟수\n",
    "                scroll_down = 0\n",
    "                body.send_keys(Keys.PAGE_DOWN)\n",
    "                time.sleep(0.15)\n",
    "                scroll_down += 1\n",
    "\n",
    "                new = driver.execute_script('return document.body.scrollHeight')\n",
    "\n",
    "            html = driver.page_source\n",
    "            soup = BeautifulSoup(html, 'html.parser')\n",
    "            webtoon_area = soup.select('#main > #section > ul.comic-episode-list')\n",
    "\n",
    "            #제목 수집\n",
    "            title = soup.find_all('div', {'class': 'episode__name'}) # 제목 수집\n",
    "            titles = []\n",
    "\n",
    "            for t in range(len(title)):\n",
    "                titles.append(re.sub('[\\\\/:*?\"<>|]','',title[t].get_text()))\n",
    "\n",
    "            titles = titles[0:]\n",
    "\n",
    "            #이미지 수집\n",
    "            data_list=soup.findAll('div',{'class':'episode__thumb'})\n",
    "\n",
    "            li_list = []\n",
    "            for data in data_list:\n",
    "                li_list.extend(data.findAll('picture')) #해당 부분을 찾아 li_list와 병합\n",
    "\n",
    "            thumb = []\n",
    "\n",
    "            for li in li_list:\n",
    "                img = li.find('img')\n",
    "                img_src = img['src']\n",
    "                thumb.append(img_src)\n",
    "            thumb = thumb[0:]\n",
    "            print(num+1, title_list[num], re_illustrator_list[num], len(thumb))\n",
    "\n",
    "            try:\n",
    "                for k in range(len(thumb)):\n",
    "                    if not os.path.exists('./thumb_detail/{}'.format(re_illustrator_list[num])):\n",
    "                        os.mkdir('./thumb_detail/{}'.format(re_illustrator_list[num]))\n",
    "\n",
    "                    urllib.request.urlretrieve(thumb[k], './thumb_detail/{}/{}{}{}.jpg'.format(re_illustrator_list[num],re_title_list[num],'_',titles[k]))\n",
    "            except:\n",
    "                break\n",
    "                \n",
    "        driver.back()\n",
    "        x+=1\n",
    "        num += 1\n",
    "        \n",
    "    except:\n",
    "        break\n",
    "            \n",
    "driver.close()"
   ]
  },
  {
   "cell_type": "code",
   "execution_count": 62,
   "id": "d10ce94d-34f4-43b0-b094-c6f6f357f518",
   "metadata": {
    "id": "LEGSDMo3Nc0-"
   },
   "outputs": [],
   "source": [
    "# print(title)\n",
    "# print(author)\n",
    "# print(img_url)\n",
    "# print(url)\n",
    "# print(genre)"
   ]
  },
  {
   "cell_type": "code",
   "execution_count": 74,
   "id": "c1015ce9-fd70-43d0-b792-c674c0bd23ff",
   "metadata": {
    "id": "LEGSDMo3Nc0-"
   },
   "outputs": [],
   "source": [
    "df = pd.DataFrame({'title':title_list,'illustrator':re_illustrator_lists,'writer':re_writer_list, 'platform':'lezhin'})\n",
    "df2 = pd.DataFrame({'title':title,'url':url, 'img_src':img_url,'genre':genre})\n",
    "# df.head()\n",
    "\n",
    "df.to_csv('webtoon_info.csv', encoding='utf-8-sig')\n",
    "df2.to_csv('webtoon_info2.csv', encoding='utf-8-sig')"
   ]
  },
  {
   "cell_type": "code",
   "execution_count": 47,
   "id": "818c815a-dc95-4d23-8407-953c1295c758",
   "metadata": {},
   "outputs": [
    {
     "name": "stdout",
     "output_type": "stream",
     "text": [
      "스튜디오스텔라즈\n",
      "살맛 : 전생에 나라를 구했습니다[개정판]\n"
     ]
    }
   ],
   "source": [
    "num = 56\n",
    "print(re_illustrator_list[num])\n",
    "print(title_list[num])"
   ]
  },
  {
   "cell_type": "code",
   "execution_count": 77,
   "id": "9898d546-e988-4479-8fa9-ba25877fb5b2",
   "metadata": {},
   "outputs": [],
   "source": [
    "print(re_illustrator_list)"
   ]
  },
  {
   "cell_type": "code",
   "execution_count": 82,
   "id": "af34c97a-ff8c-4987-9702-9f67153e948b",
   "metadata": {},
   "outputs": [
    {
     "data": {
      "text/plain": [
       "115"
      ]
     },
     "execution_count": 82,
     "metadata": {},
     "output_type": "execute_result"
    }
   ],
   "source": [
    "len(pd.Series(re_illustrator_list).unique())"
   ]
  },
  {
   "cell_type": "code",
   "execution_count": null,
   "id": "a409fe71-380b-426e-a945-2b1c1e6a4318",
   "metadata": {},
   "outputs": [],
   "source": [
    "# df = pd.DataFrame({'author':pd.Series(author_list),'writer':pd.Series(writer_list),'illustrator':pd.Series(illustrator_list)})\n",
    "# df.to_csv('aa.csv')"
   ]
  }
 ],
 "metadata": {
  "colab": {
   "collapsed_sections": [],
   "name": "JSON.ipynb의 사본",
   "provenance": []
  },
  "interpreter": {
   "hash": "cbc7b8543d1a0c0580dd6c6f93fd506ee08c247999fac6a3411f4896a6caf960"
  },
  "kernelspec": {
   "display_name": "Python Multi",
   "language": "python",
   "name": "multi"
  },
  "language_info": {
   "codemirror_mode": {
    "name": "ipython",
    "version": 3
   },
   "file_extension": ".py",
   "mimetype": "text/x-python",
   "name": "python",
   "nbconvert_exporter": "python",
   "pygments_lexer": "ipython3",
   "version": "3.7.6"
  },
  "toc": {
   "base_numbering": 1,
   "nav_menu": {},
   "number_sections": false,
   "sideBar": true,
   "skip_h1_title": false,
   "title_cell": "Table of Contents",
   "title_sidebar": "Contents",
   "toc_cell": false,
   "toc_position": {},
   "toc_section_display": true,
   "toc_window_display": false
  }
 },
 "nbformat": 4,
 "nbformat_minor": 5
}
