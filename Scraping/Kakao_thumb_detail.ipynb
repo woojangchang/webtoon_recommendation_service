{
 "cells": [
  {
   "cell_type": "code",
   "execution_count": 1,
   "id": "67287e04-6563-4f50-b77e-671c6858f9f8",
   "metadata": {},
   "outputs": [],
   "source": [
    "import selenium\n",
    "from selenium import webdriver\n",
    "from selenium.webdriver.support.ui import WebDriverWait\n",
    "import urllib\n",
    "import urllib.request\n",
    "from selenium.common.exceptions import NoSuchElementException\n",
    "import time\n",
    "import pyautogui\n",
    "import os"
   ]
  },
  {
   "cell_type": "markdown",
   "id": "a23f0ebe-b59d-4a4a-beb4-e1a0cb873fac",
   "metadata": {},
   "source": [
    "## 카카오json파일 가져오는 방법\n",
    "\n",
    "카카오웹툰 웹 페이지는 웹 페이지에서 사용자의 클릭 등과 같은 조작을 통해 AJAX 호출이 발생하여 그 결과가 페이지에 반영되어 변경되는 동적 페이지로 되어있음\n",
    "\n",
    "1. 카카오페이지 접속\n",
    "2. f12 -> network 탭\n",
    "3. general-weekdays\n",
    "4. https://jsonlint.com/ 에서 보기 좋게 변경"
   ]
  },
  {
   "cell_type": "code",
   "execution_count": 2,
   "id": "3c4f9071-cf51-463c-abe5-c5169acc56c5",
   "metadata": {},
   "outputs": [],
   "source": [
    "#데이터 불러오기\n",
    "\n",
    "import json\n",
    "\n",
    "with open('weekdays.json', 'r', encoding='utf8') as f:\n",
    "    contents = f.read()\n",
    "    json_data = json.loads(contents)\n",
    "\n",
    "# print(json.dumps(json_data, indent=\"\\t\", ensure_ascii=False))\n",
    "# print(json_data['data']['sections'][0]['cardGroups'][0]['cards'][0]['content']['title'])\n",
    "\n",
    "# 구조 정제\n",
    "\n",
    "title = json_data['data']['sections'][0]['cardGroups'][0]['cards'][0]['content']['title']\n",
    "keyword = json_data['data']['sections'][0]['cardGroups'][0]['cards'][0]['content']['seoKeywords']\n",
    "synopsis = json_data['data']['sections'][0]['cardGroups'][0]['cards'][0]['content']['synopsis']\n",
    "authors = json_data['data']['sections'][0]['cardGroups'][0]['cards'][0]['content']['authors']\n",
    "featuredCharacterImageB = json_data['data']['sections'][0]['cardGroups'][0]['cards'][0]['content']['featuredCharacterImageB']\n",
    "\n",
    "# print(title)\n",
    "# print(keyword)\n",
    "# print(synopsis)\n",
    "# print(authors)\n",
    "# print(featuredCharacterImageB+'.png')\n",
    "\n",
    "x = 0\n",
    "y = 0\n",
    "z = 0\n",
    "\n",
    "days = []\n",
    "titles = []\n",
    "keywords = []\n",
    "synopsises = []\n",
    "authorsl = []\n",
    "main_image = []\n",
    "\n",
    "while True:\n",
    "  try:\n",
    "    xs = json_data['data']['sections'][x]\n",
    "    while True:\n",
    "      try:\n",
    "        ys = xs['cardGroups'][y]\n",
    "        while True:\n",
    "          try:\n",
    "            day = xs['title']\n",
    "            title = ys['cards'][z]['content']['title']\n",
    "            keyword = ys['cards'][z]['content']['seoKeywords']\n",
    "            synopsis = ys['cards'][z]['content']['synopsis']\n",
    "            authors = ys['cards'][z]['content']['authors']\n",
    "            images = ys['cards'][z]['content']['featuredCharacterImageB']\n",
    "\n",
    "            days.append(day)\n",
    "            titles.append(title)\n",
    "            keywords.append(keyword)\n",
    "            synopsises.append(synopsis)\n",
    "            authorsl.append(authors)\n",
    "            main_image.append(images)\n",
    "\n",
    "            z += 1\n",
    "          except:\n",
    "            z = 0\n",
    "            y += 1\n",
    "            break\n",
    "      except:\n",
    "        z = 0\n",
    "        y = 0\n",
    "        x += 1\n",
    "        break\n",
    "  except:\n",
    "    break"
   ]
  },
  {
   "cell_type": "code",
   "execution_count": 3,
   "id": "c480ff3a-574f-43b2-ac8f-d82ebb209087",
   "metadata": {},
   "outputs": [
    {
     "name": "stdout",
     "output_type": "stream",
     "text": [
      "['바니와 오빠들', '사귄 건 아닌데', '뱀파이어님의 대리식사', '쓰레기 머학생', '액괴', '그 책에 마음을 주지 마세요', '기숙사(死)', '서천화원', '오무라이스 잼잼', '교수님을 빚는 중', '그라티아', '이대로 멈출 순 없다', '환골탈태', '흑우', '사랑하면 디져~트', '독고3 [완전판]', '집행자여', '천인의 신부', '강호표사', '환율이 바뀌었나요', '유부녀의 탄생', '조류공포증', '일단 질러! 질렐루야', '니니툰즈', '롱리브더킹', '무지개다리 파수꾼', '아싸가 알아버렸다', '타원을 그리는 법', '연습생 고영신', '네 곁에도 어쩌면', '아비무쌍', '비밀 사이', '지옥사원', '사랑하는 존재', '멸종인간', '딩스뚱스', '단두 (斷頭)', '우리집이거든요!', '골드핸즈', '신랑이 사라졌다', '기프트', '악한 기사', '아싸클럽', '우주를 삼킨 별', '트리거', '환상의 아이들', '그녀의 앵무새', '화폐개혁', '해피하우스', '대선비쇼에 어서오세요!', '악마의 편집', '개목걸이', '니니툰즈', '뱀파이어 신드롬', '닥터 파인의 하루', '유부녀 킬러', '말하지 말까', '두번째 썸', '금수친구들', '천광명월', '수린당 -비늘 고치는 집-', '블랙 베히모스', '후크', '좋아하면 울리는', '칼집의 아이', '악녀의 탄생', '구원', '방구석 여포', '소쩍이 운다', '죽어도! 치우', '조국이 당신을 원한다', '저승사자 온라인', '미드나잇 블루', '이미테이션', '하나하나둘', '슈퍼매치 1탄  LoL BJ 멸망전', '우리가 사랑하는 방법', 'CELL', '니니툰즈', '블랙윈터', '샬롯에게는 다섯 명의 제자가 있다', '러브 스트리밍', '뽀짜툰', '함께 춤을', '프레너미', '신의 태궁', '백의사자', '시간이 머문 집', '침묵의 정원', '26번째 살인', '쑥', '록산', '울화통 고등학교', '저기요 손님', '조국이 당신을 원한다', '도깨비언덕에 왜 왔니', '시월드 게임 -please save my husband-', '재벌과의 인터뷰', '나를 지켜줘', '살어리랏다', '논현동 장사꾼', '트러블', '니니툰즈', '백로식당', '갱스쿨', '스타의 학교생활', '나만 아는 사랑', '퀴퀴한 일기', '소녀신선', '남남', '불합격인간', '헤븐 투 헬', '열무와 알타리', '우리가 헤어진 사이에', '지금은 연애를 쉽니다', '로엘린은 미래를 걷는다', '키몽의 호구로운 생활', '더 챌린저', '신락도', '파륜아이', '플러스 마이너스 제로', '전생에 나라를 구한 자', '체벌교사', '날씨의 요정', '불러줘 내 이름만', '폭군황제의 첫사랑', '슈퍼매치 1탄  LoL BJ 멸망전', '크레센도', '닭은 의외로 위대하다', '니니툰즈', '유리의 벽', '너에게 투 혼(魂)!', '김탐정 사용설명서', '미완결', '복무신조  우리의 결의', '이렇게 바보일리 없어', '랑데부', '반지하셋방', '천연 天緣', '할매', '후궁공략', '풍검', '별똥별이 떨어지는 그 곳에서 기다려', '이세계 전담반', '쥐덫', '오늘은 꼭 고백할 거야!', '선택은 하나', '어린 (물고기 비늘)', '부기영화', '랜딩', '주말 도미 시식회', '허약선생', '순정 히포크라테스', '정의는 죽지 않는다', '이토록 보통의', '너에게 가는 거리 2091km', '멀리서 보면 푸른 봄', '우리반 숙경이', '샤크', '이뤄질 수 없는 마녀의 소망', '구슬의 주인', '리매치 ', '내일도 출근!', '취향저격 그녀', '가드패스', '남의 사랑 이야기', '슬프게도 이게 내 인생', '질투유발자들', '백의조각', '트레이스 리마스터', '무법대학', '크라우드', '퀴퀴한 일기', '우범소년', '이상징후', '언데드킹', '일진에게 찍혔을 때', '그 아해', '이토록 보통의', '하렘생존기', '씨방것들', '미래의 사진', '내 친구는 선녀보살']\n",
      "['미생', '너를 만나다', '쌍갑포차', '관존 이강진', '바리공주', '백작가의 불청객들', '주간소년열애사']\n",
      "183\n",
      "7\n"
     ]
    }
   ],
   "source": [
    "#제목 정제\n",
    "import re\n",
    "\n",
    "re_titles = []\n",
    "\n",
    "for i in range(len(titles)):\n",
    "    re_titles.append(re.sub('[\\\\/:*?\"<>:|]','',titles[i]))\n",
    "    \n",
    "v_titles = ['미생','너를 만나다','쌍갑포차','관존 이강진','바리공주','백작가의 불청객들','주간소년열애사']\n",
    "for i in range(len(v_titles)):\n",
    "    re_titles.remove(v_titles[i])\n",
    "print(re_titles)\n",
    "print(v_titles)\n",
    "\n",
    "print(len(re_titles))\n",
    "print(len(v_titles))"
   ]
  },
  {
   "cell_type": "code",
   "execution_count": 4,
   "id": "cc0091d1-6458-44ee-805c-04b5d58c4ca5",
   "metadata": {},
   "outputs": [
    {
     "name": "stdout",
     "output_type": "stream",
     "text": [
      "['윤태호', '니은', '민홍', '웬즈데이', '수레기', '서강용', '임조조', '나는나야', '곡', '조경규', '서아', '기현', '골왕', '마고(mago)', '늙슬', '참치캔', '백승훈', '종수', '희명', 'OZi', '쥐곰이', '김환타', '리도', 'yami', '니니즈', '버드나무숲', '이서', '곰브', '섬멍', '정현수', '다노아', '윤지운', '이현석', '맥퀸스튜디오', '캐러멜', '향유 크리에이티브', '디디', '딩스', '이동욱', '공룡', '박하', '방자', '정이리이리', '김랄라', '랑쓰', '이온상', '불만있냥', '김다', '금계수', '임정호', '장삥준', '아람', '건초', '만두', '니니즈', '이충호', '김용회', '배혜수', '검둥', '마루', '비아이', '짤태식', '석빈', '일링스', '케이지콘', '나진수', '천계영', '양경일', 'TB', 'Axis', '키미하이', '박흥용', '만백', '스박', '쑨', '보보군', '박경란', '고은', '뽈쟁이', '기비', '강형규', '니니즈', '송윤달', '정이나', '용용', '권다희', '유리', '도연', '돌석', '해소금', '체사', '헤고', '얌', '아비디 이노우에', '문홍조', '백작', '박세가', '강소소', '스박', '김용회', '송백', '우다', '하나', '김민소', '아론', '여름비', '니니즈', '이나이', 'taibogi', '올챙구리', '김나임', '아임', '2B', '효미', '정영롱', 'Sepia', '김종훈', '유영', '오하', '유현숙', '로지야', '키몽', '키보드', '다원', '박은비', '하민석', '현마담', '홍솔민', '이이영', '꿀삼', '치와', '뽈쟁이', '김탐미', '미역의효능', '니니즈', '조호', '롱토피아', '이장희', '안나래', '아르누니', '우윱', 'POP', '지민', '평범한 자매', 'ALIC', '재후', '봉봉', '김철현', '만물상', '택', '오닛', 'CHYA', '박만두', '윤태호', '여빛', '설구', '이용우', '울펜', '골드키위새', '경우', '캐롯', '빵시헌', '지늉', '뽀얌', '김우섭', '해청', '갸가', '박시인', '이노안', '맥퀸스튜디오', '로즈옹', '오손도손', '사란', '슬', '김꽁', '홍일', '네스티캣', '조민호', '파크', '2B', '병장', '잇선', '백지운', '체댜', '권계림', '캐롯', '오리발', '오청', '낑깡', '챰']\n",
      "190\n"
     ]
    }
   ],
   "source": [
    "#작가 정제\n",
    "import re\n",
    "\n",
    "writers = [authorsl[i][0]['name'] for i in range(len(authorsl))]\n",
    "illustrator = [authorsl[i][1]['name'] for i in range(len(authorsl))]\n",
    "\n",
    "print(illustrator)\n",
    "print(len(illustrator))"
   ]
  },
  {
   "cell_type": "code",
   "execution_count": 5,
   "id": "007019ac-f31d-4cfd-946e-467a3ba01abc",
   "metadata": {},
   "outputs": [
    {
     "name": "stdout",
     "output_type": "stream",
     "text": [
      "['니은', '민홍', '웬즈데이', '수레기', '서강용', '임조조', '나는나야', '곡', '조경규', '서아', '기현', '골왕', '마고(mago)', '늙슬', '참치캔', '백승훈', '종수', '희명', 'OZi', '쥐곰이', '김환타', '리도', 'yami', '니니즈', '버드나무숲', '이서', '곰브', '섬멍', '정현수', '윤지운', '이현석', '맥퀸스튜디오', '캐러멜', '향유 크리에이티브', '디디', '딩스', '이동욱', '공룡', '박하', '방자', '정이리이리', '김랄라', '랑쓰', '이온상', '불만있냥', '김다', '금계수', '임정호', '장삥준', '아람', '건초', '만두', '니니즈', '이충호', '김용회', '검둥', '마루', '비아이', '짤태식', '석빈', '일링스', '케이지콘', '나진수', '천계영', '양경일', 'TB', 'Axis', '키미하이', '박흥용', '만백', '스박', '쑨', '보보군', '박경란', '고은', '뽈쟁이', '기비', '강형규', '니니즈', '정이나', '용용', '권다희', '유리', '도연', '돌석', '해소금', '체사', '헤고', '얌', '아비디 이노우에', '문홍조', '백작', '박세가', '강소소', '스박', '김용회', '송백', '우다', '하나', '김민소', '아론', '여름비', '니니즈', '이나이', 'taibogi', '올챙구리', '아임', '2B', '효미', '정영롱', 'Sepia', '김종훈', '유영', '오하', '유현숙', '로지야', '키몽', '키보드', '다원', '박은비', '하민석', '현마담', '홍솔민', '이이영', '꿀삼', '치와', '뽈쟁이', '김탐미', '미역의효능', '니니즈', '조호', '롱토피아', '이장희', '안나래', '우윱', 'POP', '지민', '평범한 자매', 'ALIC', '재후', '봉봉', '김철현', '만물상', '택', '오닛', 'CHYA', '박만두', '윤태호', '여빛', '설구', '이용우', '울펜', '골드키위새', '경우', '캐롯', '빵시헌', '지늉', '뽀얌', '김우섭', '해청', '갸가', '이노안', '맥퀸스튜디오', '로즈옹', '오손도손', '사란', '슬', '김꽁', '홍일', '네스티캣', '조민호', '파크', '2B', '병장', '잇선', '백지운', '체댜', '권계림', '캐롯', '오리발', '오청', '낑깡', '챰']\n",
      "['윤태호', '다노아', '배혜수', '송윤달', '김나임', '아르누니', '박시인']\n",
      "183\n",
      "7\n"
     ]
    }
   ],
   "source": [
    "re_illustrator = []\n",
    "\n",
    "for i in range(len(titles)):\n",
    "    re_illustrator.append(re.sub('[\\\\/:*?\"<>:|]','',illustrator[i]))\n",
    "    \n",
    "v_illustrator = ['윤태호','다노아','배혜수','송윤달','김나임','아르누니','박시인']\n",
    "for i in range(len(v_illustrator)):\n",
    "    re_illustrator.remove(v_illustrator[i])\n",
    "print(re_illustrator)\n",
    "print(v_illustrator)\n",
    "\n",
    "print(len(re_illustrator))\n",
    "print(len(v_illustrator))"
   ]
  },
  {
   "cell_type": "code",
   "execution_count": 6,
   "id": "c5c93f2e-7657-4950-884f-3b9de421263b",
   "metadata": {},
   "outputs": [
    {
     "data": {
      "text/plain": [
       "['윤태호', '다노아', '배혜수', '송윤달', '김나임', '아르누니', '박시인']"
      ]
     },
     "execution_count": 6,
     "metadata": {},
     "output_type": "execute_result"
    }
   ],
   "source": [
    "v_illustrator"
   ]
  },
  {
   "cell_type": "code",
   "execution_count": 7,
   "id": "8bed591b-0fd1-4b85-8788-32f6759ad5f8",
   "metadata": {},
   "outputs": [],
   "source": [
    "def Video_Webtoon_Crawler():\n",
    "    \n",
    "    if not os.path.exists('./thumb_detail'):\n",
    "        os.mkdir('./thumb_detail')\n",
    "\n",
    "    URL = 'https://webtoon.kakao.com/original-webtoon?tab=mon'\n",
    "\n",
    "    driver = webdriver.Chrome(executable_path='C:/chromedriver')\n",
    "    driver.implicitly_wait(time_to_wait=1)\n",
    "    driver.get(URL)\n",
    "\n",
    "    #Vedio 웹툰\n",
    "    for i in range(1,8):\n",
    "\n",
    "        driver.find_element_by_xpath('//*[@id=\"root\"]/main/div/div[1]/div[1]/div[3]/div[2]/div[2]/ul/li['+str(i+1)+']/p').click()\n",
    "        time.sleep(1)\n",
    "\n",
    "        first = driver.find_element_by_xpath('//*[@id=\"root\"]/main/div/div[1]/div[2]/div/div[3]/div/div/div/div/div/div['+str(i)+']/div[3]/div[1]/div/div/div/div/div/a/video')\n",
    "        first.click()\n",
    "        time.sleep(1)\n",
    "        \n",
    "        try:\n",
    "            scrap_title.append(driver.find_element_by_xpath('//*[@id=\"root\"]/main/div/div[2]/div/div[1]/div[2]/div[1]/div[1]/div[3]/div[2]/div/p[1]').text)\n",
    "            scrap_genre.append(driver.find_element_by_xpath('//*[@id=\"root\"]/main/div/div[2]/div/div[1]/div[2]/div[1]/div[1]/div[3]/div[2]/div/div/p[1]').text)\n",
    "        except:\n",
    "            scrap_title.append(driver.find_element_by_xpath('//*[@id=\"root\"]/main/div/div[2]/div/div[1]/div[2]/div[1]/div[1]/div[4]/div[2]/div/p[1]').text)\n",
    "            scrap_genre.append(driver.find_element_by_xpath('//*[@id=\"root\"]/main/div/div[2]/div/div[1]/div[2]/div[1]/div[1]/div[4]/div[2]/div/div/p[1]').text)\n",
    "        scrap_url.append(driver.current_url)\n",
    "        \n",
    "        print(scrap_title[-1],scrap_genre[-1],scrap_url[-1])\n",
    "\n",
    "        pyautogui.mouseDown()\n",
    "\n",
    "        for iter_1 in range(1,11):\n",
    "            pyautogui.scroll(-1000)\n",
    "            time.sleep(1)\n",
    "\n",
    "        for iter_2 in range(1,11):\n",
    "            pyautogui.scroll(1000)\n",
    "            time.sleep(1)\n",
    "\n",
    "\n",
    "        img_url = driver.find_elements_by_xpath('//*[@id=\"root\"]/main/div/div[2]/div/div[1]/div[3]/div/div/div[1]/div/div[2]/div/div[1]/div/div/div/div/ul/li/a/div[1]/div/picture/img')\n",
    "    #     len(img_url)\n",
    "\n",
    "        img_list = []\n",
    "\n",
    "        for img in img_url:\n",
    "            img_list.append(img.get_attribute('src'))\n",
    "\n",
    "    #     print(img_list)\n",
    "        time.sleep(1)\n",
    "\n",
    "        if not os.path.exists('./thumb_detail/{}'.format(v_illustrator[i-1])):\n",
    "            os.mkdir('./thumb_detail/{}'.format(re.sub('[\\\\/:*?\"<>|]','',v_illustrator[i-1])))\n",
    "\n",
    "        for k in range(len(img_url)):\n",
    "            urllib.request.urlretrieve(img_list[k], './thumb_detail/{}/{}{}.jpg'.format(v_illustrator[i-1], v_illustrator[i-1], str(k+1)+ '화'))\n",
    "\n",
    "        driver.find_element_by_xpath('//*[@id=\"root\"]/main/div/div[2]/div/div[1]/div[1]/div[1]/div[1]/img').click()\n",
    "        time.sleep(1)\n",
    "\n",
    "    driver.close()"
   ]
  },
  {
   "cell_type": "code",
   "execution_count": 17,
   "id": "0d44c927-3187-4f54-beba-bae6ae2ff6af",
   "metadata": {},
   "outputs": [],
   "source": [
    "#정보를 담을 리스트 선언\n",
    "scrap_url = []\n",
    "scrap_title = []\n",
    "scrap_genre = []"
   ]
  },
  {
   "cell_type": "code",
   "execution_count": 65,
   "id": "eaf73451-e637-4e37-99d6-dd24fa472739",
   "metadata": {},
   "outputs": [],
   "source": [
    "# scrap_url = ['https://webtoon.kakao.com/content/%EB%AF%B8%EC%83%9D/818', 'https://webtoon.kakao.com/content/%EB%84%88%EB%A5%BC-%EB%A7%8C%EB%82%98%EB%8B%A4/1891', 'https://webtoon.kakao.com/content/%EC%8C%8D%EA%B0%91%ED%8F%AC%EC%B0%A8/1299', 'https://webtoon.kakao.com/content/%EA%B4%80%EC%A1%B4-%EC%9D%B4%EA%B0%95%EC%A7%84/2155', 'https://webtoon.kakao.com/content/%EB%B0%94%EB%A6%AC%EA%B3%B5%EC%A3%BC/1405', 'https://webtoon.kakao.com/content/%EB%B0%B1%EC%9E%91%EA%B0%80%EC%9D%98-%EB%B6%88%EC%B2%AD%EA%B0%9D%EB%93%A4/2141', 'https://webtoon.kakao.com/content/%EC%A3%BC%EA%B0%84%EC%86%8C%EB%85%84%EC%97%B4%EC%95%A0%EC%82%AC/1262']\n",
    "# scrap_title = ['미생', '너를 만나다', '쌍갑포차', '관존 이강진', '바리공주', '백작가의 불청객들', '주간소년열애사']\n",
    "# scrap_genre = ['드라마', '로맨스', '판타지 드라마', '액션/무협', '판타지 드라마', '드라마', '로맨스']"
   ]
  },
  {
   "cell_type": "code",
   "execution_count": 18,
   "id": "9e83633e-3d69-40ca-b5c8-c041b7543e4a",
   "metadata": {},
   "outputs": [
    {
     "name": "stdout",
     "output_type": "stream",
     "text": [
      "['미생'] ['드라마'] ['https://webtoon.kakao.com/content/%EB%AF%B8%EC%83%9D/818']\n",
      "['미생', '너를 만나다'] ['드라마', '로맨스'] ['https://webtoon.kakao.com/content/%EB%AF%B8%EC%83%9D/818', 'https://webtoon.kakao.com/content/%EB%84%88%EB%A5%BC-%EB%A7%8C%EB%82%98%EB%8B%A4/1891']\n",
      "['미생', '너를 만나다', '쌍갑포차'] ['드라마', '로맨스', '판타지 드라마'] ['https://webtoon.kakao.com/content/%EB%AF%B8%EC%83%9D/818', 'https://webtoon.kakao.com/content/%EB%84%88%EB%A5%BC-%EB%A7%8C%EB%82%98%EB%8B%A4/1891', 'https://webtoon.kakao.com/content/%EC%8C%8D%EA%B0%91%ED%8F%AC%EC%B0%A8/1299']\n",
      "['미생', '너를 만나다', '쌍갑포차', '관존 이강진'] ['드라마', '로맨스', '판타지 드라마', '액션/무협'] ['https://webtoon.kakao.com/content/%EB%AF%B8%EC%83%9D/818', 'https://webtoon.kakao.com/content/%EB%84%88%EB%A5%BC-%EB%A7%8C%EB%82%98%EB%8B%A4/1891', 'https://webtoon.kakao.com/content/%EC%8C%8D%EA%B0%91%ED%8F%AC%EC%B0%A8/1299', 'https://webtoon.kakao.com/content/%EA%B4%80%EC%A1%B4-%EC%9D%B4%EA%B0%95%EC%A7%84/2155']\n",
      "['미생', '너를 만나다', '쌍갑포차', '관존 이강진', '바리공주'] ['드라마', '로맨스', '판타지 드라마', '액션/무협', '판타지 드라마'] ['https://webtoon.kakao.com/content/%EB%AF%B8%EC%83%9D/818', 'https://webtoon.kakao.com/content/%EB%84%88%EB%A5%BC-%EB%A7%8C%EB%82%98%EB%8B%A4/1891', 'https://webtoon.kakao.com/content/%EC%8C%8D%EA%B0%91%ED%8F%AC%EC%B0%A8/1299', 'https://webtoon.kakao.com/content/%EA%B4%80%EC%A1%B4-%EC%9D%B4%EA%B0%95%EC%A7%84/2155', 'https://webtoon.kakao.com/content/%EB%B0%94%EB%A6%AC%EA%B3%B5%EC%A3%BC/1405']\n",
      "['미생', '너를 만나다', '쌍갑포차', '관존 이강진', '바리공주', '백작가의 불청객들'] ['드라마', '로맨스', '판타지 드라마', '액션/무협', '판타지 드라마', '드라마'] ['https://webtoon.kakao.com/content/%EB%AF%B8%EC%83%9D/818', 'https://webtoon.kakao.com/content/%EB%84%88%EB%A5%BC-%EB%A7%8C%EB%82%98%EB%8B%A4/1891', 'https://webtoon.kakao.com/content/%EC%8C%8D%EA%B0%91%ED%8F%AC%EC%B0%A8/1299', 'https://webtoon.kakao.com/content/%EA%B4%80%EC%A1%B4-%EC%9D%B4%EA%B0%95%EC%A7%84/2155', 'https://webtoon.kakao.com/content/%EB%B0%94%EB%A6%AC%EA%B3%B5%EC%A3%BC/1405', 'https://webtoon.kakao.com/content/%EB%B0%B1%EC%9E%91%EA%B0%80%EC%9D%98-%EB%B6%88%EC%B2%AD%EA%B0%9D%EB%93%A4/2141']\n",
      "['미생', '너를 만나다', '쌍갑포차', '관존 이강진', '바리공주', '백작가의 불청객들', '주간소년열애사'] ['드라마', '로맨스', '판타지 드라마', '액션/무협', '판타지 드라마', '드라마', '로맨스'] ['https://webtoon.kakao.com/content/%EB%AF%B8%EC%83%9D/818', 'https://webtoon.kakao.com/content/%EB%84%88%EB%A5%BC-%EB%A7%8C%EB%82%98%EB%8B%A4/1891', 'https://webtoon.kakao.com/content/%EC%8C%8D%EA%B0%91%ED%8F%AC%EC%B0%A8/1299', 'https://webtoon.kakao.com/content/%EA%B4%80%EC%A1%B4-%EC%9D%B4%EA%B0%95%EC%A7%84/2155', 'https://webtoon.kakao.com/content/%EB%B0%94%EB%A6%AC%EA%B3%B5%EC%A3%BC/1405', 'https://webtoon.kakao.com/content/%EB%B0%B1%EC%9E%91%EA%B0%80%EC%9D%98-%EB%B6%88%EC%B2%AD%EA%B0%9D%EB%93%A4/2141', 'https://webtoon.kakao.com/content/%EC%A3%BC%EA%B0%84%EC%86%8C%EB%85%84%EC%97%B4%EC%95%A0%EC%82%AC/1262']\n"
     ]
    }
   ],
   "source": [
    "Video_Webtoon_Crawler()"
   ]
  },
  {
   "cell_type": "code",
   "execution_count": null,
   "id": "92a44dcd-717f-4e8a-b4c8-c57b149749f7",
   "metadata": {},
   "outputs": [],
   "source": [
    "#요일별 웹툰 개수 확인\n",
    "day_titles = re_titles[134:161]\n",
    "day_titles"
   ]
  },
  {
   "cell_type": "code",
   "execution_count": 9,
   "id": "93f161c3-2892-40d6-b7ae-db7e970f65fd",
   "metadata": {},
   "outputs": [],
   "source": [
    "monday_title = re_titles[:29] #월요일\n",
    "tuesday_title = re_titles[29:55] #화요일\n",
    "wednesday_title = re_titles[55:79] #수요일\n",
    "thursday_title = re_titles[79:106] #목요일\n",
    "friday_title = re_titles[106:134] #금요일\n",
    "saturday_title = re_titles[134:161] #토요일\n",
    "sunday_title = re_titles[161:] #일요일\n",
    "\n",
    "monday_illustrator = re_illustrator[:29] #월요일\n",
    "tuesday_illustrator = re_illustrator[29:55] #화요일\n",
    "wednesday_illustrator = re_illustrator[55:79] #수요일\n",
    "thursday_illustrator = re_illustrator[79:106] #목요일\n",
    "friday_illustrator = re_illustrator[106:134] #금요일\n",
    "saturday_illustrator = re_illustrator[134:161] #토요일\n",
    "sunday_illustrator = re_illustrator[161:] #일요일"
   ]
  },
  {
   "cell_type": "code",
   "execution_count": 62,
   "id": "4d44427a-b904-4997-afca-38b9dbd8db43",
   "metadata": {},
   "outputs": [],
   "source": [
    "#image 웹툰\n",
    "def Image_Webtoon_Crawler(illustrators, titles, day, title_list, genre_list, url_list, days):\n",
    "    \n",
    "    if not os.path.exists('./thumb_detail'):\n",
    "        os.mkdir('./thumb_detail')\n",
    "    \n",
    "    URL = 'https://webtoon.kakao.com/original-webtoon?tab=mon'\n",
    "\n",
    "    driver = webdriver.Chrome(executable_path='C:/chromedriver')\n",
    "    driver.implicitly_wait(time_to_wait=1)\n",
    "\n",
    "    driver.get(URL)\n",
    "    time.sleep(1)\n",
    "\n",
    "    #로그인 페이지로 이동\n",
    "    driver.find_element_by_xpath('//*[@id=\"root\"]/main/div/div/div[1]/div[2]/div[1]/img').click()\n",
    "    time.sleep(1)\n",
    "    driver.find_element_by_xpath('//*[@id=\"root\"]/main/div/div[2]/div[2]/div/div[1]/div/div/div/div/div/a').click()\n",
    "    time.sleep(1)\n",
    "    driver.find_element_by_xpath('/html/body/div[3]/div/div/div/div[1]/div/div/button').click()\n",
    "    time.sleep(1)\n",
    "\n",
    "    #로그인\n",
    "    driver.find_element_by_id(\"id_email_2\").send_keys('아이디입력')\n",
    "    driver.find_element_by_id(\"id_password_3\").send_keys('비밀번호입력')\n",
    "    driver.find_element_by_xpath('//*[@id=\"login-form\"]/fieldset/div[8]/button[1]').click()\n",
    "    time.sleep(1)\n",
    "\n",
    "    #웹툰 원작 페이지로 이동\n",
    "    driver.find_element_by_xpath('//*[@id=\"root\"]/main/div/div/div[1]/div[2]/div[2]').click()\n",
    "    time.sleep(1)\n",
    "    try:\n",
    "        driver.find_element_by_xpath('/html/body/div[7]/div/div/div/div[4]/button[1]').click()\n",
    "        time.sleep(1)\n",
    "    except:\n",
    "        pass\n",
    "    \n",
    "    driver.find_element_by_xpath('//*[@id=\"root\"]/main/div/div[2]/div[1]/div[3]/div[1]/div/div[8]').click()\n",
    "    time.sleep(1)\n",
    "    driver.find_element_by_xpath('//*[@id=\"root\"]/main/div/div[2]/div[1]/div[3]/div[1]/div/div[8]/div/p').click()\n",
    "    time.sleep(1)\n",
    "\n",
    "    #요일 클릭\n",
    "    driver.find_element_by_xpath('//*[@id=\"root\"]/main/div/div[2]/div[1]/div[3]/div[2]/div[2]/ul/li['+str(day+1)+']/p').click()\n",
    "    time.sleep(1.5)\n",
    "\n",
    "\n",
    "    #xpath 변동 초기화 위해 페이지 이동\n",
    "    first = driver.find_element_by_xpath('//*[@id=\"root\"]/main/div/div[2]/div[2]/div/div[3]/div/div/div/div/div/div['+ str(day) +']/div[3]/div[2]/div/div/div/div/a')\n",
    "    first.click()\n",
    "\n",
    "    time.sleep(1.5)\n",
    "    driver.find_element_by_xpath('//*[@id=\"root\"]/main/div/div[2]/div/div[1]/div[1]/div[1]/div[1]/img').click()\n",
    "#     driver.back()\n",
    "\n",
    "    time.sleep(1.5)\n",
    "\n",
    "    num = 0\n",
    "\n",
    "    try:\n",
    "\n",
    "        for j in range(2,50):\n",
    "\n",
    "            if j == 4:\n",
    "                continue\n",
    "            if j == 6:\n",
    "                continue\n",
    "\n",
    "\n",
    "            first = driver.find_element_by_xpath('//*[@id=\"root\"]/main/div/div[1]/div[2]/div/div[3]/div/div/div/div/div/div['+str(day)+']/div[3]/div['+str(j)+']/div/div/div/div')\n",
    "            first.click()\n",
    "            time.sleep(1.5)\n",
    "\n",
    "            pyautogui.mouseDown()\n",
    "\n",
    "            for i in range(1,11):\n",
    "                pyautogui.scroll(-1000)\n",
    "                time.sleep(1)\n",
    "\n",
    "            for i in range(1,11):\n",
    "                pyautogui.scroll(1000)\n",
    "                time.sleep(1)\n",
    "                \n",
    "            try:\n",
    "                title_list.append(driver.find_element_by_xpath('//*[@id=\"root\"]/main/div/div[2]/div/div[1]/div[2]/div[1]/div[1]/div[3]/div[2]/div/p[1]').text)\n",
    "                genre_list.append(driver.find_element_by_xpath('//*[@id=\"root\"]/main/div/div[2]/div/div[1]/div[2]/div[1]/div[1]/div[3]/div[2]/div/div/p[1]').text)\n",
    "            except:\n",
    "                title_list.append(driver.find_element_by_xpath('//*[@id=\"root\"]/main/div/div[2]/div/div[1]/div[2]/div[1]/div[1]/div[4]/div[2]/div/p[1]').text)\n",
    "                genre_list.append(driver.find_element_by_xpath('//*[@id=\"root\"]/main/div/div[2]/div/div[1]/div[2]/div[1]/div[1]/div[4]/div[2]/div/div/p[1]').text)\n",
    "            url_list.append(driver.current_url)\n",
    "            \n",
    "            print(title_list[-1], genre_list[-1], url_list[-1], illustrators[num], titles[num])\n",
    "\n",
    "            img_url = driver.find_elements_by_xpath('//*[@id=\"root\"]/main/div/div[2]/div/div[1]/div[3]/div/div/div[1]/div/div[2]/div/div[1]/div/div/div/div/ul/li/a/div[1]/div/picture/img')\n",
    "        #     len(img_url)\n",
    "\n",
    "            img_list = []\n",
    "\n",
    "            for img in img_url:\n",
    "                img_list.append(img.get_attribute('src'))\n",
    "\n",
    "        #         print(img_list)\n",
    "            time.sleep(1.5)\n",
    "\n",
    "            if not os.path.exists('./thumb_detail/{}'.format(illustrators[num])):\n",
    "                os.mkdir('./thumb_detail/{}'.format(re.sub('[\\\\/:*?\"<>|]','',illustrators[num])))\n",
    "\n",
    "            for k in range(len(img_url)):\n",
    "                urllib.request.urlretrieve(img_list[k], './thumb_detail/{}/{}{}.jpg'.format(illustrators[num], titles[num], str(k+1)+ '화'))\n",
    "\n",
    "            num+=1\n",
    "\n",
    "#             driver.find_element_by_xpath('//*[@id=\"root\"]/main/div/div[2]/div/div[1]/div[1]/div[1]/div[1]/img').click()\n",
    "#             driver.back()\n",
    "            driver.get('https://webtoon.kakao.com/original-webtoon?tab='+str(days)+'')\n",
    "            time.sleep(2)\n",
    "\n",
    "    except:\n",
    "        #로그아웃\n",
    "        driver.get('https://webtoon.kakao.com/original-webtoon?tab=mon')\n",
    "        \n",
    "        driver.find_element_by_xpath('//*[@id=\"root\"]/main/div/div[1]/div[1]/div[2]/div[2]/div/a[2]').click()\n",
    "        time.sleep(1)\n",
    "        \n",
    "        driver.find_element_by_xpath('//*[@id=\"root\"]/main/div/div[2]/div[3]/div[2]/div[1]/a[1]/div').click()\n",
    "        time.sleep(1)\n",
    "        \n",
    "        driver.find_element_by_xpath('//*[@id=\"root\"]/main/div/div[3]/div[2]/div/a[2]').click()\n",
    "        time.sleep(1)\n",
    "        \n",
    "        driver.find_element_by_xpath('/html/body/div[6]/div/div/div/div[2]/button[2]').click()\n",
    "        time.sleep(1)\n",
    "        \n",
    "        print('종료')\n",
    "    \n",
    "        try:\n",
    "            driver.close()\n",
    "        except:\n",
    "            print('브라우저 수동 종료 필요')"
   ]
  },
  {
   "cell_type": "code",
   "execution_count": null,
   "id": "aa8e06ca-7d1f-402f-8d3f-b4350466cbb2",
   "metadata": {},
   "outputs": [],
   "source": [
    "#월 :1 / 화 :2 /수 : 3 /목 : 4/ 금 : 5/ 토 : 6 /일 : 7\n",
    "\n",
    "#정보를 담을 리스트 선언\n",
    "mon_title = []\n",
    "mon_genre = []\n",
    "mon_url = []\n",
    "\n",
    "Image_Webtoon_Crawler(monday_illustrator, monday_title, 1, mon_title, mon_genre, mon_url, 'mon')"
   ]
  },
  {
   "cell_type": "code",
   "execution_count": 68,
   "id": "3481f3ed-a5bc-47cd-a5d6-ab796b6cdc1a",
   "metadata": {},
   "outputs": [],
   "source": [
    "# mon_title = ['바니와 오빠들', '사귄 건 아닌데', '뱀파이어님의 대리식사', '쓰레기 머학생', '액괴', '그 책에 마음을 주지 마세요', '기숙사(死)', '서천화원', '오무라이스 잼잼', '교수님을 빚는 중', '그라티아', '이대로 멈출 순 없다', '환골탈태', '흑우', '사랑하면 디져~트', '독고3 [완전판]', '집행자여', '천인의 신부', '강호표사', '환율이 바뀌었나요?', '유부녀의 탄생', '조류공포증', '일단 질러! 질렐루야', '니니툰즈', '롱리브더킹', '무지개다리 파수꾼', '아싸가 알아버렸다', '타원을 그리는 법', '연습생 고영신']\n",
    "# mon_genre = ['로맨스', '로맨스', '로맨스', '코믹/일상', '학원/판타지', '로맨스 판타지', '공포/스릴러', '로맨스', '코믹/일상', '로맨스', '학원/판타지', '코믹/일상', '판타지 드라마', '드라마', '로맨스', '액션/무협', '판타지 드라마', '로맨스 판타지', '액션/무협', '판타지 드라마', '코믹/일상', '공포/스릴러', '코믹/일상', '코믹/일상', '드라마', '판타지 드라마', '드라마', '로맨스', '로맨스']\n",
    "# mon_url = ['https://webtoon.kakao.com/content/%EB%B0%94%EB%8B%88%EC%99%80-%EC%98%A4%EB%B9%A0%EB%93%A4/1781', 'https://webtoon.kakao.com/content/%EC%82%AC%EA%B7%84-%EA%B1%B4-%EC%95%84%EB%8B%8C%EB%8D%B0/1933', 'https://webtoon.kakao.com/content/%EB%B1%80%ED%8C%8C%EC%9D%B4%EC%96%B4%EB%8B%98%EC%9D%98-%EB%8C%80%EB%A6%AC%EC%8B%9D%EC%82%AC/1959', 'https://webtoon.kakao.com/content/%EC%93%B0%EB%A0%88%EA%B8%B0-%EB%A8%B8%ED%95%99%EC%83%9D/1903', 'https://webtoon.kakao.com/content/%EC%95%A1%EA%B4%B4/2147', 'https://webtoon.kakao.com/content/%EA%B7%B8-%EC%B1%85%EC%97%90-%EB%A7%88%EC%9D%8C%EC%9D%84-%EC%A3%BC%EC%A7%80-%EB%A7%88%EC%84%B8%EC%9A%94/2143', 'https://webtoon.kakao.com/content/%EA%B8%B0%EC%88%99%EC%82%AC/2148', 'https://webtoon.kakao.com/content/%EC%84%9C%EC%B2%9C%ED%99%94%EC%9B%90/1997', 'https://webtoon.kakao.com/content/%EC%98%A4%EB%AC%B4%EB%9D%BC%EC%9D%B4%EC%8A%A4-%EC%9E%BC%EC%9E%BC/198', 'https://webtoon.kakao.com/content/%EA%B5%90%EC%88%98%EB%8B%98%EC%9D%84-%EB%B9%9A%EB%8A%94-%EC%A4%91/1760', 'https://webtoon.kakao.com/content/%EA%B7%B8%EB%9D%BC%ED%8B%B0%EC%95%84/1621', 'https://webtoon.kakao.com/content/%EC%9D%B4%EB%8C%80%EB%A1%9C-%EB%A9%88%EC%B6%9C-%EC%88%9C-%EC%97%86%EB%8B%A4/1703', 'https://webtoon.kakao.com/content/%ED%99%98%EA%B3%A8%ED%83%88%ED%83%9C/2329', 'https://webtoon.kakao.com/content/%ED%9D%91%EC%9A%B0/1795', 'https://webtoon.kakao.com/content/%EC%82%AC%EB%9E%91%ED%95%98%EB%A9%B4-%EB%94%94%EC%A0%B8%ED%8A%B8/2145', 'https://webtoon.kakao.com/content/%EB%8F%85%EA%B3%A03-%EC%99%84%EC%A0%84%ED%8C%90/2306', 'https://webtoon.kakao.com/content/%EC%A7%91%ED%96%89%EC%9E%90%EC%97%AC/1372', 'https://webtoon.kakao.com/content/%EC%B2%9C%EC%9D%B8%EC%9D%98-%EC%8B%A0%EB%B6%80/2423', 'https://webtoon.kakao.com/content/%EA%B0%95%ED%98%B8%ED%91%9C%EC%82%AC/1931', 'https://webtoon.kakao.com/content/%ED%99%98%EC%9C%A8%EC%9D%B4-%EB%B0%94%EB%80%8C%EC%97%88%EB%82%98%EC%9A%94/2086', 'https://webtoon.kakao.com/content/%EC%9C%A0%EB%B6%80%EB%85%80%EC%9D%98-%ED%83%84%EC%83%9D/1078', 'https://webtoon.kakao.com/content/%EC%A1%B0%EB%A5%98%EA%B3%B5%ED%8F%AC%EC%A6%9D/1716', 'https://webtoon.kakao.com/content/%EC%9D%BC%EB%8B%A8-%EC%A7%88%EB%9F%AC-%EC%A7%88%EB%A0%90%EB%A3%A8%EC%95%BC/1140', 'https://webtoon.kakao.com/content/%EB%8B%88%EB%8B%88%ED%88%B0%EC%A6%88/2484', 'https://webtoon.kakao.com/content/%EB%A1%B1%EB%A6%AC%EB%B8%8C%EB%8D%94%ED%82%B9/2302', 'https://webtoon.kakao.com/content/%EB%AC%B4%EC%A7%80%EA%B0%9C%EB%8B%A4%EB%A6%AC-%ED%8C%8C%EC%88%98%EA%BE%BC/2043', 'https://webtoon.kakao.com/content/%EC%95%84%EC%8B%B8%EA%B0%80-%EC%95%8C%EC%95%84%EB%B2%84%EB%A0%B8%EB%8B%A4/1847', 'https://webtoon.kakao.com/content/%ED%83%80%EC%9B%90%EC%9D%84-%EA%B7%B8%EB%A6%AC%EB%8A%94-%EB%B2%95/1768', 'https://webtoon.kakao.com/content/%EC%97%B0%EC%8A%B5%EC%83%9D-%EA%B3%A0%EC%98%81%EC%8B%A0/2479']"
   ]
  },
  {
   "cell_type": "code",
   "execution_count": 50,
   "id": "191bdcfd-96be-4d04-b2fb-d401c7f8e3be",
   "metadata": {},
   "outputs": [
    {
     "name": "stdout",
     "output_type": "stream",
     "text": [
      "네 곁에도 어쩌면 드라마 https://webtoon.kakao.com/content/%EB%84%A4-%EA%B3%81%EC%97%90%EB%8F%84-%EC%96%B4%EC%A9%8C%EB%A9%B4/2544 윤지운 네 곁에도 어쩌면\n",
      "아비무쌍 액션/무협 https://webtoon.kakao.com/content/%EC%95%84%EB%B9%84%EB%AC%B4%EC%8C%8D/1395 이현석 아비무쌍\n",
      "비밀 사이 로맨스 https://webtoon.kakao.com/content/%EB%B9%84%EB%B0%80-%EC%82%AC%EC%9D%B4/1943 맥퀸스튜디오 비밀 사이\n",
      "지옥사원 판타지 드라마 https://webtoon.kakao.com/content/%EC%A7%80%EC%98%A5%EC%82%AC%EC%9B%90/1369 캐러멜 지옥사원\n",
      "사랑하는 존재 로맨스 https://webtoon.kakao.com/content/%EC%82%AC%EB%9E%91%ED%95%98%EB%8A%94-%EC%A1%B4%EC%9E%AC/1998 향유 크리에이티브 사랑하는 존재\n",
      "멸종인간 공포/스릴러 https://webtoon.kakao.com/content/%EB%A9%B8%EC%A2%85%EC%9D%B8%EA%B0%84/1705 디디 멸종인간\n",
      "딩스뚱스 코믹/일상 https://webtoon.kakao.com/content/%EB%94%A9%EC%8A%A4%EB%9A%B1%EC%8A%A4/760 딩스 딩스뚱스\n",
      "단두 (斷頭) 액션/무협 https://webtoon.kakao.com/content/%EB%8B%A8%EB%91%90-%E6%96%B7%E9%A0%AD/1825 이동욱 단두 (斷頭)\n",
      "우리집이거든요! 로맨스 https://webtoon.kakao.com/content/%EC%9A%B0%EB%A6%AC%EC%A7%91%EC%9D%B4%EA%B1%B0%EB%93%A0%EC%9A%94/1673 공룡 우리집이거든요!\n",
      "골드핸즈 로맨스 https://webtoon.kakao.com/content/%EA%B3%A8%EB%93%9C%ED%95%B8%EC%A6%88/2117 박하 골드핸즈\n",
      "신랑이 사라졌다 드라마 https://webtoon.kakao.com/content/%EC%8B%A0%EB%9E%91%EC%9D%B4-%EC%82%AC%EB%9D%BC%EC%A1%8C%EB%8B%A4/2034 방자 신랑이 사라졌다\n",
      "기프트 판타지 드라마 https://webtoon.kakao.com/content/%EA%B8%B0%ED%94%84%ED%8A%B8/2140 정이리이리 기프트\n",
      "악한 기사 로맨스 판타지 https://webtoon.kakao.com/content/%EC%95%85%ED%95%9C-%EA%B8%B0%EC%82%AC/2152 김랄라 악한 기사\n",
      "아싸클럽 드라마 https://webtoon.kakao.com/content/%EC%95%84%EC%8B%B8%ED%81%B4%EB%9F%BD/1930 랑쓰 아싸클럽\n",
      "우주를 삼킨 별 로맨스 https://webtoon.kakao.com/content/%EC%9A%B0%EC%A3%BC%EB%A5%BC-%EC%82%BC%ED%82%A8-%EB%B3%84/2516 이온상 우주를 삼킨 별\n",
      "트리거 학원/판타지 https://webtoon.kakao.com/content/%ED%8A%B8%EB%A6%AC%EA%B1%B0/2364 불만있냥 트리거\n",
      "환상의 아이들 판타지 드라마 https://webtoon.kakao.com/content/%ED%99%98%EC%83%81%EC%9D%98-%EC%95%84%EC%9D%B4%EB%93%A4/2144 김다 환상의 아이들\n",
      "그녀의 앵무새 판타지 드라마 https://webtoon.kakao.com/content/%EA%B7%B8%EB%85%80%EC%9D%98-%EC%95%B5%EB%AC%B4%EC%83%88/1863 금계수 그녀의 앵무새\n",
      "화폐개혁 판타지 드라마 https://webtoon.kakao.com/content/%ED%99%94%ED%8F%90%EA%B0%9C%ED%98%81/1877 임정호 화폐개혁\n",
      "해피하우스 공포/스릴러 https://webtoon.kakao.com/content/%ED%95%B4%ED%94%BC%ED%95%98%EC%9A%B0%EC%8A%A4/2151 장삥준 해피하우스\n",
      "대선비쇼에 어서오세요! 드라마 https://webtoon.kakao.com/content/%EB%8C%80%EC%84%A0%EB%B9%84%EC%87%BC%EC%97%90-%EC%96%B4%EC%84%9C%EC%98%A4%EC%84%B8%EC%9A%94/2017 아람 대선비쇼에 어서오세요!\n",
      "악마의 편집 공포/스릴러 https://webtoon.kakao.com/content/%EC%95%85%EB%A7%88%EC%9D%98-%ED%8E%B8%EC%A7%91/2021 건초 악마의 편집\n",
      "개목걸이 학원/판타지 https://webtoon.kakao.com/content/%EA%B0%9C%EB%AA%A9%EA%B1%B8%EC%9D%B4/2046 만두 개목걸이\n",
      "니니툰즈 코믹/일상 https://webtoon.kakao.com/content/%EB%8B%88%EB%8B%88%ED%88%B0%EC%A6%88/2484 니니즈 니니툰즈\n",
      "뱀파이어 신드롬 학원/판타지 https://webtoon.kakao.com/content/%EB%B1%80%ED%8C%8C%EC%9D%B4%EC%96%B4-%EC%8B%A0%EB%93%9C%EB%A1%AC/1898 이충호 뱀파이어 신드롬\n",
      "닥터 파인의 하루 판타지 드라마 https://webtoon.kakao.com/content/%EB%8B%A5%ED%84%B0-%ED%8C%8C%EC%9D%B8%EC%9D%98-%ED%95%98%EB%A3%A8/1827 김용회 닥터 파인의 하루\n",
      "종료\n",
      "브라우저 수동 종료 필요\n"
     ]
    }
   ],
   "source": [
    "#정보를 담을 리스트 선언\n",
    "tues_title = []\n",
    "tues_genre = []\n",
    "tues_url = []\n",
    "\n",
    "Image_Webtoon_Crawler(tuesday_illustrator, tuesday_title, 2, tues_title, tues_genre, tues_url, 'tue')"
   ]
  },
  {
   "cell_type": "code",
   "execution_count": 34,
   "id": "fb9191af-1801-4d55-bebb-27a9f9ce636c",
   "metadata": {},
   "outputs": [],
   "source": [
    "# tues_title = tues_title[0:6]\n",
    "# tues_genre = tues_genre[0:6]\n",
    "# tues_url = tues_url[0:6]"
   ]
  },
  {
   "cell_type": "code",
   "execution_count": 35,
   "id": "0466ffc7-0221-4483-a6bd-8934d94934c5",
   "metadata": {},
   "outputs": [
    {
     "name": "stdout",
     "output_type": "stream",
     "text": [
      "['네 곁에도 어쩌면', '아비무쌍', '비밀 사이', '지옥사원', '사랑하는 존재', '멸종인간']\n",
      "['드라마', '액션/무협', '로맨스', '판타지 드라마', '로맨스', '공포/스릴러']\n",
      "['https://webtoon.kakao.com/content/%EB%84%A4-%EA%B3%81%EC%97%90%EB%8F%84-%EC%96%B4%EC%A9%8C%EB%A9%B4/2544', 'https://webtoon.kakao.com/content/%EC%95%84%EB%B9%84%EB%AC%B4%EC%8C%8D/1395', 'https://webtoon.kakao.com/content/%EB%B9%84%EB%B0%80-%EC%82%AC%EC%9D%B4/1943', 'https://webtoon.kakao.com/content/%EC%A7%80%EC%98%A5%EC%82%AC%EC%9B%90/1369', 'https://webtoon.kakao.com/content/%EC%82%AC%EB%9E%91%ED%95%98%EB%8A%94-%EC%A1%B4%EC%9E%AC/1998', 'https://webtoon.kakao.com/content/%EB%A9%B8%EC%A2%85%EC%9D%B8%EA%B0%84/1705']\n"
     ]
    }
   ],
   "source": [
    "print(tues_title)\n",
    "print(tues_genre)\n",
    "print(tues_url)"
   ]
  },
  {
   "cell_type": "code",
   "execution_count": 51,
   "id": "4eac9ed1-6230-437e-9816-e808ff56c7bf",
   "metadata": {},
   "outputs": [
    {
     "name": "stdout",
     "output_type": "stream",
     "text": [
      "유부녀 킬러 드라마 https://webtoon.kakao.com/content/%EC%9C%A0%EB%B6%80%EB%85%80-%ED%82%AC%EB%9F%AC/1963 검둥 유부녀 킬러\n",
      "말하지 말까 로맨스 https://webtoon.kakao.com/content/%EB%A7%90%ED%95%98%EC%A7%80-%EB%A7%90%EA%B9%8C/1875 마루 말하지 말까\n",
      "두번째 썸 로맨스 https://webtoon.kakao.com/content/%EB%91%90%EB%B2%88%EC%A7%B8-%EC%8D%B8/2047 비아이 두번째 썸\n",
      "금수친구들 코믹/일상 https://webtoon.kakao.com/content/%EA%B8%88%EC%88%98%EC%B9%9C%EA%B5%AC%EB%93%A4/1909 짤태식 금수친구들\n",
      "천광명월 액션/무협 https://webtoon.kakao.com/content/%EC%B2%9C%EA%B4%91%EB%AA%85%EC%9B%94/2153 석빈 천광명월\n",
      "수린당 -비늘 고치는 집- 판타지 드라마 https://webtoon.kakao.com/content/%EC%88%98%EB%A6%B0%EB%8B%B9-%EB%B9%84%EB%8A%98-%EA%B3%A0%EC%B9%98%EB%8A%94-%EC%A7%91/2074 일링스 수린당 -비늘 고치는 집-\n",
      "블랙 베히모스 학원/판타지 https://webtoon.kakao.com/content/%EB%B8%94%EB%9E%99-%EB%B2%A0%ED%9E%88%EB%AA%A8%EC%8A%A4/792 케이지콘 블랙 베히모스\n",
      "후크 학원/판타지 https://webtoon.kakao.com/content/%ED%9B%84%ED%81%AC/1381 나진수 후크\n",
      "좋아하면 울리는 판타지 드라마 https://webtoon.kakao.com/content/%EC%A2%8B%EC%95%84%ED%95%98%EB%A9%B4-%EC%9A%B8%EB%A6%AC%EB%8A%94/1132 천계영 좋아하면 울리는\n",
      "칼집의 아이 학원/판타지 https://webtoon.kakao.com/content/%EC%B9%BC%EC%A7%91%EC%9D%98-%EC%95%84%EC%9D%B4/2368 양경일 칼집의 아이\n",
      "악녀의 탄생 로맨스 판타지 https://webtoon.kakao.com/content/%EC%95%85%EB%85%80%EC%9D%98-%ED%83%84%EC%83%9D/2049 TB 악녀의 탄생\n",
      "구원 액션/무협 https://webtoon.kakao.com/content/%EA%B5%AC%EC%9B%90/2130 Axis 구원\n",
      "방구석 여포 학원/판타지 https://webtoon.kakao.com/content/%EB%B0%A9%EA%B5%AC%EC%84%9D-%EC%97%AC%ED%8F%AC/2118 키미하이 방구석 여포\n",
      "소쩍이 운다 드라마 https://webtoon.kakao.com/content/%EC%86%8C%EC%A9%8D%EC%9D%B4-%EC%9A%B4%EB%8B%A4/2135 박흥용 소쩍이 운다\n",
      "죽어도! 치우 학원/판타지 https://webtoon.kakao.com/content/%EC%A3%BD%EC%96%B4%EB%8F%84-%EC%B9%98%EC%9A%B0/1923 만백 죽어도! 치우\n",
      "조국이 당신을 원한다 코믹/일상 https://webtoon.kakao.com/content/%EC%A1%B0%EA%B5%AD%EC%9D%B4-%EB%8B%B9%EC%8B%A0%EC%9D%84-%EC%9B%90%ED%95%9C%EB%8B%A4/2390 스박 조국이 당신을 원한다\n",
      "저승사자 온라인 학원/판타지 https://webtoon.kakao.com/content/%EC%A0%80%EC%8A%B9%EC%82%AC%EC%9E%90-%EC%98%A8%EB%9D%BC%EC%9D%B8/2022 쑨 저승사자 온라인\n",
      "미드나잇 블루 로맨스 https://webtoon.kakao.com/content/%EB%AF%B8%EB%93%9C%EB%82%98%EC%9E%87-%EB%B8%94%EB%A3%A8/2073 보보군 미드나잇 블루\n",
      "이미테이션 로맨스 https://webtoon.kakao.com/content/%EC%9D%B4%EB%AF%B8%ED%85%8C%EC%9D%B4%EC%85%98/2301 박경란 이미테이션\n",
      "하나하나둘 로맨스 https://webtoon.kakao.com/content/%ED%95%98%EB%82%98%ED%95%98%EB%82%98%EB%91%98/1853 고은 하나하나둘\n",
      "슈퍼매치 1탄 : LoL BJ 멸망전 코믹/일상 https://webtoon.kakao.com/content/%EC%8A%88%ED%8D%BC%EB%A7%A4%EC%B9%98-1%ED%83%84-LoL-BJ-%EB%A9%B8%EB%A7%9D%EC%A0%84/2146 뽈쟁이 슈퍼매치 1탄  LoL BJ 멸망전\n",
      "우리가 사랑하는 방법 로맨스 https://webtoon.kakao.com/content/%EC%9A%B0%EB%A6%AC%EA%B0%80-%EC%82%AC%EB%9E%91%ED%95%98%EB%8A%94-%EB%B0%A9%EB%B2%95/1468 기비 우리가 사랑하는 방법\n",
      "CELL 판타지 드라마 https://webtoon.kakao.com/content/CELL/1960 강형규 CELL\n",
      "니니툰즈 코믹/일상 https://webtoon.kakao.com/content/%EB%8B%88%EB%8B%88%ED%88%B0%EC%A6%88/2484 니니즈 니니툰즈\n",
      "종료\n",
      "브라우저 수동 종료 필요\n"
     ]
    }
   ],
   "source": [
    "#정보를 담을 리스트 선언\n",
    "wed_title = []\n",
    "wed_genre = []\n",
    "wed_url = []\n",
    "\n",
    "Image_Webtoon_Crawler(wednesday_illustrator, wednesday_title, 3, wed_title, wed_genre, wed_url, 'wed')"
   ]
  },
  {
   "cell_type": "code",
   "execution_count": 52,
   "id": "d9682b91-61af-4a28-8238-e57ce6555d2d",
   "metadata": {},
   "outputs": [
    {
     "name": "stdout",
     "output_type": "stream",
     "text": [
      "블랙윈터 로맨스 판타지 https://webtoon.kakao.com/content/%EB%B8%94%EB%9E%99%EC%9C%88%ED%84%B0/1678 정이나 블랙윈터\n",
      "샬롯에게는 다섯 명의 제자가 있다 로맨스 판타지 https://webtoon.kakao.com/content/%EC%83%AC%EB%A1%AF%EC%97%90%EA%B2%8C%EB%8A%94-%EB%8B%A4%EC%84%AF-%EB%AA%85%EC%9D%98-%EC%A0%9C%EC%9E%90%EA%B0%80-%EC%9E%88%EB%8B%A4/1796 용용 샬롯에게는 다섯 명의 제자가 있다\n",
      "러브 스트리밍 드라마 https://webtoon.kakao.com/content/%EB%9F%AC%EB%B8%8C-%EC%8A%A4%ED%8A%B8%EB%A6%AC%EB%B0%8D/2064 권다희 러브 스트리밍\n",
      "뽀짜툰 코믹/일상 https://webtoon.kakao.com/content/%EB%BD%80%EC%A7%9C%ED%88%B0/933 유리 뽀짜툰\n",
      "함께 춤을 로맨스 https://webtoon.kakao.com/content/%ED%95%A8%EA%BB%98-%EC%B6%A4%EC%9D%84/2048 도연 함께 춤을\n",
      "프레너미 액션/무협 https://webtoon.kakao.com/content/%ED%94%84%EB%A0%88%EB%84%88%EB%AF%B8/1361 돌석 프레너미\n",
      "신의 태궁 판타지 드라마 https://webtoon.kakao.com/content/%EC%8B%A0%EC%9D%98-%ED%83%9C%EA%B6%81/1878 해소금 신의 태궁\n",
      "백의사자 판타지 드라마 https://webtoon.kakao.com/content/%EB%B0%B1%EC%9D%98%EC%82%AC%EC%9E%90/2042 체사 백의사자\n",
      "시간이 머문 집 판타지 드라마 https://webtoon.kakao.com/content/%EC%8B%9C%EA%B0%84%EC%9D%B4-%EB%A8%B8%EB%AC%B8-%EC%A7%91/2020 헤고 시간이 머문 집\n",
      "침묵의 정원 로맨스 판타지 https://webtoon.kakao.com/content/%EC%B9%A8%EB%AC%B5%EC%9D%98-%EC%A0%95%EC%9B%90/2129 얌 침묵의 정원\n",
      "26번째 살인 판타지 드라마 https://webtoon.kakao.com/content/26%EB%B2%88%EC%A7%B8-%EC%82%B4%EC%9D%B8/2510 아비디 이노우에 26번째 살인\n",
      "쑥 드라마 https://webtoon.kakao.com/content/%EC%91%A5/2119 문홍조 쑥\n",
      "록산 판타지 드라마 https://webtoon.kakao.com/content/%EB%A1%9D%EC%82%B0/1995 백작 록산\n",
      "울화통 고등학교 코믹/일상 https://webtoon.kakao.com/content/%EC%9A%B8%ED%99%94%ED%86%B5-%EA%B3%A0%EB%93%B1%ED%95%99%EA%B5%90/2512 박세가 울화통 고등학교\n",
      "저기요 손님 드라마 https://webtoon.kakao.com/content/%EC%A0%80%EA%B8%B0%EC%9A%94-%EC%86%90%EB%8B%98/1713 강소소 저기요 손님\n",
      "조국이 당신을 원한다 코믹/일상 https://webtoon.kakao.com/content/%EC%A1%B0%EA%B5%AD%EC%9D%B4-%EB%8B%B9%EC%8B%A0%EC%9D%84-%EC%9B%90%ED%95%9C%EB%8B%A4/2390 스박 조국이 당신을 원한다\n",
      "도깨비언덕에 왜 왔니? 판타지 드라마 https://webtoon.kakao.com/content/%EB%8F%84%EA%B9%A8%EB%B9%84%EC%96%B8%EB%8D%95%EC%97%90-%EC%99%9C-%EC%99%94%EB%8B%88/982 김용회 도깨비언덕에 왜 왔니\n",
      "시월드 게임 -please save my husband- 판타지 드라마 https://webtoon.kakao.com/content/%EC%8B%9C%EC%9B%94%EB%93%9C-%EA%B2%8C%EC%9E%84--please-save-my-husband-/2420 송백 시월드 게임 -please save my husband-\n",
      "재벌과의 인터뷰 로맨스 https://webtoon.kakao.com/content/%EC%9E%AC%EB%B2%8C%EA%B3%BC%EC%9D%98-%EC%9D%B8%ED%84%B0%EB%B7%B0/1861 우다 재벌과의 인터뷰\n",
      "나를 지켜줘 로맨스 https://webtoon.kakao.com/content/%EB%82%98%EB%A5%BC-%EC%A7%80%EC%BC%9C%EC%A4%98/2100 하나 나를 지켜줘\n",
      "살어리랏다 공포/스릴러 https://webtoon.kakao.com/content/%EC%82%B4%EC%96%B4%EB%A6%AC%EB%9E%8F%EB%8B%A4/1939 김민소 살어리랏다\n",
      "논현동 장사꾼 드라마 https://webtoon.kakao.com/content/%EB%85%BC%ED%98%84%EB%8F%99-%EC%9E%A5%EC%82%AC%EA%BE%BC/1981 아론 논현동 장사꾼\n",
      "트러블 학원/판타지 https://webtoon.kakao.com/content/%ED%8A%B8%EB%9F%AC%EB%B8%94/2045 여름비 트러블\n",
      "니니툰즈 코믹/일상 https://webtoon.kakao.com/content/%EB%8B%88%EB%8B%88%ED%88%B0%EC%A6%88/2484 니니즈 니니툰즈\n",
      "백로식당 판타지 드라마 https://webtoon.kakao.com/content/%EB%B0%B1%EB%A1%9C%EC%8B%9D%EB%8B%B9/2075 이나이 백로식당\n",
      "갱스쿨 학원/판타지 https://webtoon.kakao.com/content/%EA%B0%B1%EC%8A%A4%EC%BF%A8/2322 taibogi 갱스쿨\n",
      "스타의 학교생활 드라마 https://webtoon.kakao.com/content/%EC%8A%A4%ED%83%80%EC%9D%98-%ED%95%99%EA%B5%90%EC%83%9D%ED%99%9C/1924 올챙구리 스타의 학교생활\n",
      "종료\n",
      "브라우저 수동 종료 필요\n"
     ]
    }
   ],
   "source": [
    "#정보를 담을 리스트 선언\n",
    "thur_title = []\n",
    "thur_genre = []\n",
    "thur_url = []\n",
    "\n",
    "Image_Webtoon_Crawler(thursday_illustrator, thursday_title, 4, thur_title, thur_genre, thur_url, 'thu')"
   ]
  },
  {
   "cell_type": "code",
   "execution_count": 55,
   "id": "97dcf66a-8260-4382-a863-34163589fa6e",
   "metadata": {},
   "outputs": [
    {
     "name": "stdout",
     "output_type": "stream",
     "text": [
      "나만 아는 사랑 로맨스 https://webtoon.kakao.com/content/%EB%82%98%EB%A7%8C-%EC%95%84%EB%8A%94-%EC%82%AC%EB%9E%91/1694 아임 나만 아는 사랑\n",
      "퀴퀴한 일기 코믹/일상 https://webtoon.kakao.com/content/%ED%80%B4%ED%80%B4%ED%95%9C-%EC%9D%BC%EA%B8%B0/1295 2B 퀴퀴한 일기\n",
      "소녀신선 판타지 드라마 https://webtoon.kakao.com/content/%EC%86%8C%EB%85%80%EC%8B%A0%EC%84%A0/1304 효미 소녀신선\n",
      "남남 드라마 https://webtoon.kakao.com/content/%EB%82%A8%EB%82%A8/1762 정영롱 남남\n",
      "불합격인간 드라마 https://webtoon.kakao.com/content/%EB%B6%88%ED%95%A9%EA%B2%A9%EC%9D%B8%EA%B0%84/2149 Sepia 불합격인간\n",
      "헤븐 투 헬 학원/판타지 https://webtoon.kakao.com/content/%ED%97%A4%EB%B8%90-%ED%88%AC-%ED%97%AC/1336 김종훈 헤븐 투 헬\n",
      "열무와 알타리 코믹/일상 https://webtoon.kakao.com/content/%EC%97%B4%EB%AC%B4%EC%99%80-%EC%95%8C%ED%83%80%EB%A6%AC/1855 유영 열무와 알타리\n",
      "우리가 헤어진 사이에 로맨스 https://webtoon.kakao.com/content/%EC%9A%B0%EB%A6%AC%EA%B0%80-%ED%97%A4%EC%96%B4%EC%A7%84-%EC%82%AC%EC%9D%B4%EC%97%90/2004 오하 우리가 헤어진 사이에\n",
      "지금은 연애를 쉽니다 로맨스 https://webtoon.kakao.com/content/%EC%A7%80%EA%B8%88%EC%9D%80-%EC%97%B0%EC%95%A0%EB%A5%BC-%EC%89%BD%EB%8B%88%EB%8B%A4/2044 유현숙 지금은 연애를 쉽니다\n",
      "로엘린은 미래를 걷는다 로맨스 판타지 https://webtoon.kakao.com/content/%EB%A1%9C%EC%97%98%EB%A6%B0%EC%9D%80-%EB%AF%B8%EB%9E%98%EB%A5%BC-%EA%B1%B7%EB%8A%94%EB%8B%A4/2522 로지야 로엘린은 미래를 걷는다\n",
      "키몽의 호구로운 생활 코믹/일상 https://webtoon.kakao.com/content/%ED%82%A4%EB%AA%BD%EC%9D%98-%ED%98%B8%EA%B5%AC%EB%A1%9C%EC%9A%B4-%EC%83%9D%ED%99%9C/1577 키몽 키몽의 호구로운 생활\n",
      "더 챌린저 판타지 드라마 https://webtoon.kakao.com/content/%EB%8D%94-%EC%B1%8C%EB%A6%B0%EC%A0%80/2536 키보드 더 챌린저\n",
      "신락도 공포/스릴러 https://webtoon.kakao.com/content/%EC%8B%A0%EB%9D%BD%EB%8F%84/2132 다원 신락도\n",
      "파륜아이 공포/스릴러 https://webtoon.kakao.com/content/%ED%8C%8C%EB%A5%9C%EC%95%84%EC%9D%B4/1999 박은비 파륜아이\n",
      "플러스 마이너스 제로 공포/스릴러 https://webtoon.kakao.com/content/%ED%94%8C%EB%9F%AC%EC%8A%A4-%EB%A7%88%EC%9D%B4%EB%84%88%EC%8A%A4-%EC%A0%9C%EB%A1%9C/2137 하민석 플러스 마이너스 제로\n",
      "전생에 나라를 구한 자 학원/판타지 https://webtoon.kakao.com/content/%EC%A0%84%EC%83%9D%EC%97%90-%EB%82%98%EB%9D%BC%EB%A5%BC-%EA%B5%AC%ED%95%9C-%EC%9E%90/2089 현마담 전생에 나라를 구한 자\n",
      "체벌교사 학원/판타지 https://webtoon.kakao.com/content/%EC%B2%B4%EB%B2%8C%EA%B5%90%EC%82%AC/2090 홍솔민 체벌교사\n",
      "날씨의 요정 판타지 드라마 https://webtoon.kakao.com/content/%EB%82%A0%EC%94%A8%EC%9D%98-%EC%9A%94%EC%A0%95/2126 이이영 날씨의 요정\n",
      "불러줘 내 이름만 로맨스 https://webtoon.kakao.com/content/%EB%B6%88%EB%9F%AC%EC%A4%98-%EB%82%B4-%EC%9D%B4%EB%A6%84%EB%A7%8C/1919 꿀삼 불러줘 내 이름만\n",
      "폭군황제의 첫사랑 로맨스 판타지 https://webtoon.kakao.com/content/%ED%8F%AD%EA%B5%B0%ED%99%A9%EC%A0%9C%EC%9D%98-%EC%B2%AB%EC%82%AC%EB%9E%91/2359 치와 폭군황제의 첫사랑\n",
      "슈퍼매치 1탄 : LoL BJ 멸망전 코믹/일상 https://webtoon.kakao.com/content/%EC%8A%88%ED%8D%BC%EB%A7%A4%EC%B9%98-1%ED%83%84-LoL-BJ-%EB%A9%B8%EB%A7%9D%EC%A0%84/2146 뽈쟁이 슈퍼매치 1탄  LoL BJ 멸망전\n",
      "크레센도 드라마 https://webtoon.kakao.com/content/%ED%81%AC%EB%A0%88%EC%84%BC%EB%8F%84/2097 김탐미 크레센도\n",
      "닭은 의외로 위대하다 판타지 드라마 https://webtoon.kakao.com/content/%EB%8B%AD%EC%9D%80-%EC%9D%98%EC%99%B8%EB%A1%9C-%EC%9C%84%EB%8C%80%ED%95%98%EB%8B%A4/1816 미역의효능 닭은 의외로 위대하다\n",
      "니니툰즈 코믹/일상 https://webtoon.kakao.com/content/%EB%8B%88%EB%8B%88%ED%88%B0%EC%A6%88/2484 니니즈 니니툰즈\n",
      "유리의 벽 로맨스 판타지 https://webtoon.kakao.com/content/%EC%9C%A0%EB%A6%AC%EC%9D%98-%EB%B2%BD/1558 조호 유리의 벽\n",
      "너에게 투 혼(魂)! 판타지 드라마 https://webtoon.kakao.com/content/%EB%84%88%EC%97%90%EA%B2%8C-%ED%88%AC-%ED%98%BC%E9%AD%82/1757 롱토피아 너에게 투 혼(魂)!\n",
      "김탐정 사용설명서 학원/판타지 https://webtoon.kakao.com/content/%EA%B9%80%ED%83%90%EC%A0%95-%EC%82%AC%EC%9A%A9%EC%84%A4%EB%AA%85%EC%84%9C/1298 이장희 김탐정 사용설명서\n",
      "미완결 드라마 https://webtoon.kakao.com/content/%EB%AF%B8%EC%99%84%EA%B2%B0/1882 안나래 미완결\n",
      "종료\n",
      "브라우저 수동 종료 필요\n"
     ]
    }
   ],
   "source": [
    "#정보를 담을 리스트 선언\n",
    "fri_title = []\n",
    "fri_genre = []\n",
    "fri_url = []\n",
    "\n",
    "Image_Webtoon_Crawler(friday_illustrator, friday_title, 5, fri_title, fri_genre, fri_url, 'fri')"
   ]
  },
  {
   "cell_type": "code",
   "execution_count": 56,
   "id": "9e35e7aa-9bf3-4746-b5dc-b59fc239d061",
   "metadata": {},
   "outputs": [
    {
     "name": "stdout",
     "output_type": "stream",
     "text": [
      "복무신조 : 우리의 결의 공포/스릴러 https://webtoon.kakao.com/content/%EB%B3%B5%EB%AC%B4%EC%8B%A0%EC%A1%B0-%EC%9A%B0%EB%A6%AC%EC%9D%98-%EA%B2%B0%EC%9D%98/2554 우윱 복무신조  우리의 결의\n",
      "이렇게 바보일리 없어 로맨스 https://webtoon.kakao.com/content/%EC%9D%B4%EB%A0%87%EA%B2%8C-%EB%B0%94%EB%B3%B4%EC%9D%BC%EB%A6%AC-%EC%97%86%EC%96%B4/2534 POP 이렇게 바보일리 없어\n",
      "랑데부 학원/판타지 https://webtoon.kakao.com/content/%EB%9E%91%EB%8D%B0%EB%B6%80/1836 지민 랑데부\n",
      "반지하셋방 코믹/일상 https://webtoon.kakao.com/content/%EB%B0%98%EC%A7%80%ED%95%98%EC%85%8B%EB%B0%A9/1347 평범한 자매 반지하셋방\n",
      "천연 天緣 판타지 드라마 https://webtoon.kakao.com/content/%EC%B2%9C%EC%97%B0-%E5%A4%A9%E7%B7%A3/869 ALIC 천연 天緣\n",
      "할매 액션/무협 https://webtoon.kakao.com/content/%ED%95%A0%EB%A7%A4/1682 재후 할매\n",
      "후궁공략 로맨스 판타지 https://webtoon.kakao.com/content/%ED%9B%84%EA%B6%81%EA%B3%B5%EB%9E%B5/1986 봉봉 후궁공략\n",
      "풍검 액션/무협 https://webtoon.kakao.com/content/%ED%92%8D%EA%B2%80/1545 김철현 풍검\n",
      "별똥별이 떨어지는 그 곳에서 기다려 판타지 드라마 https://webtoon.kakao.com/content/%EB%B3%84%EB%98%A5%EB%B3%84%EC%9D%B4-%EB%96%A8%EC%96%B4%EC%A7%80%EB%8A%94-%EA%B7%B8-%EA%B3%B3%EC%97%90%EC%84%9C-%EA%B8%B0%EB%8B%A4%EB%A0%A4/1531 만물상 별똥별이 떨어지는 그 곳에서 기다려\n",
      "이세계 전담반 학원/판타지 https://webtoon.kakao.com/content/%EC%9D%B4%EC%84%B8%EA%B3%84-%EC%A0%84%EB%8B%B4%EB%B0%98/1852 택 이세계 전담반\n",
      "쥐덫 공포/스릴러 https://webtoon.kakao.com/content/%EC%A5%90%EB%8D%AB/2134 오닛 쥐덫\n",
      "오늘은 꼭 고백할 거야! 로맨스 https://webtoon.kakao.com/content/%EC%98%A4%EB%8A%98%EC%9D%80-%EA%BC%AD-%EA%B3%A0%EB%B0%B1%ED%95%A0-%EA%B1%B0%EC%95%BC/1916 CHYA 오늘은 꼭 고백할 거야!\n",
      "선택은 하나 로맨스 https://webtoon.kakao.com/content/%EC%84%A0%ED%83%9D%EC%9D%80-%ED%95%98%EB%82%98/2131 박만두 선택은 하나\n",
      "어린 (물고기 비늘) 드라마 https://webtoon.kakao.com/content/%EC%96%B4%EB%A6%B0-%EB%AC%BC%EA%B3%A0%EA%B8%B0-%EB%B9%84%EB%8A%98/1905 윤태호 어린 (물고기 비늘)\n",
      "부기영화 코믹/일상 https://webtoon.kakao.com/content/%EB%B6%80%EA%B8%B0%EC%98%81%ED%99%94/2343 여빛 부기영화\n",
      "랜딩 드라마 https://webtoon.kakao.com/content/%EB%9E%9C%EB%94%A9/2422 설구 랜딩\n",
      "주말 도미 시식회 액션/무협 https://webtoon.kakao.com/content/%EC%A3%BC%EB%A7%90-%EB%8F%84%EB%AF%B8-%EC%8B%9C%EC%8B%9D%ED%9A%8C/1497 이용우 주말 도미 시식회\n",
      "허약선생 액션/무협 https://webtoon.kakao.com/content/%ED%97%88%EC%95%BD%EC%84%A0%EC%83%9D/2080 울펜 허약선생\n",
      "순정 히포크라테스 로맨스 https://webtoon.kakao.com/content/%EC%88%9C%EC%A0%95-%ED%9E%88%ED%8F%AC%ED%81%AC%EB%9D%BC%ED%85%8C%EC%8A%A4/1689 골드키위새 순정 히포크라테스\n",
      "정의는 죽지 않는다 학원/판타지 https://webtoon.kakao.com/content/%EC%A0%95%EC%9D%98%EB%8A%94-%EC%A3%BD%EC%A7%80-%EC%95%8A%EB%8A%94%EB%8B%A4/2124 경우 정의는 죽지 않는다\n",
      "이토록 보통의 판타지 드라마 https://webtoon.kakao.com/content/%EC%9D%B4%ED%86%A0%EB%A1%9D-%EB%B3%B4%ED%86%B5%EC%9D%98/1351 캐롯 이토록 보통의\n",
      "너에게 가는 거리 2091km 로맨스 https://webtoon.kakao.com/content/%EB%84%88%EC%97%90%EA%B2%8C-%EA%B0%80%EB%8A%94-%EA%B1%B0%EB%A6%AC-2091km/1872 빵시헌 너에게 가는 거리 2091km\n",
      "멀리서 보면 푸른 봄 드라마 https://webtoon.kakao.com/content/%EB%A9%80%EB%A6%AC%EC%84%9C-%EB%B3%B4%EB%A9%B4-%ED%91%B8%EB%A5%B8-%EB%B4%84/1089 지늉 멀리서 보면 푸른 봄\n",
      "우리반 숙경이 판타지 드라마 https://webtoon.kakao.com/content/%EC%9A%B0%EB%A6%AC%EB%B0%98-%EC%88%99%EA%B2%BD%EC%9D%B4/2068 뽀얌 우리반 숙경이\n",
      "샤크 액션/무협 https://webtoon.kakao.com/content/%EC%83%A4%ED%81%AC/2308 김우섭 샤크\n",
      "이뤄질 수 없는 마녀의 소망 로맨스 판타지 https://webtoon.kakao.com/content/%EC%9D%B4%EB%A4%84%EC%A7%88-%EC%88%98-%EC%97%86%EB%8A%94-%EB%A7%88%EB%85%80%EC%9D%98-%EC%86%8C%EB%A7%9D/2338 해청 이뤄질 수 없는 마녀의 소망\n",
      "구슬의 주인 로맨스 https://webtoon.kakao.com/content/%EA%B5%AC%EC%8A%AC%EC%9D%98-%EC%A3%BC%EC%9D%B8/2091 갸가 구슬의 주인\n",
      "종료\n",
      "브라우저 수동 종료 필요\n"
     ]
    }
   ],
   "source": [
    "#정보를 담을 리스트 선언\n",
    "sat_title = []\n",
    "sat_genre = []\n",
    "sat_url = []\n",
    "\n",
    "Image_Webtoon_Crawler(saturday_illustrator, saturday_title, 6, sat_title, sat_genre, sat_url, 'sat')"
   ]
  },
  {
   "cell_type": "code",
   "execution_count": 63,
   "id": "08b1bff1-ab3a-403f-b0c7-f473f2f93e30",
   "metadata": {},
   "outputs": [
    {
     "name": "stdout",
     "output_type": "stream",
     "text": [
      "리매치 액션/무협 https://webtoon.kakao.com/content/%EB%A6%AC%EB%A7%A4%EC%B9%98/2542 이노안 리매치 \n",
      "내일도 출근! 로맨스 https://webtoon.kakao.com/content/%EB%82%B4%EC%9D%BC%EB%8F%84-%EC%B6%9C%EA%B7%BC/1873 맥퀸스튜디오 내일도 출근!\n",
      "취향저격 그녀 로맨스 https://webtoon.kakao.com/content/%EC%B7%A8%ED%96%A5%EC%A0%80%EA%B2%A9-%EA%B7%B8%EB%85%80/1450 로즈옹 취향저격 그녀\n",
      "가드패스 학원/판타지 https://webtoon.kakao.com/content/%EA%B0%80%EB%93%9C%ED%8C%A8%EC%8A%A4/2511 오손도손 가드패스\n",
      "남의 사랑 이야기 로맨스 https://webtoon.kakao.com/content/%EB%82%A8%EC%9D%98-%EC%82%AC%EB%9E%91-%EC%9D%B4%EC%95%BC%EA%B8%B0/2142 사란 남의 사랑 이야기\n",
      "슬프게도 이게 내 인생 코믹/일상 https://webtoon.kakao.com/content/%EC%8A%AC%ED%94%84%EA%B2%8C%EB%8F%84-%EC%9D%B4%EA%B2%8C-%EB%82%B4-%EC%9D%B8%EC%83%9D/1575 슬 슬프게도 이게 내 인생\n",
      "질투유발자들 로맨스 https://webtoon.kakao.com/content/%EC%A7%88%ED%88%AC%EC%9C%A0%EB%B0%9C%EC%9E%90%EB%93%A4/2024 김꽁 질투유발자들\n",
      "백의조각 공포/스릴러 https://webtoon.kakao.com/content/%EB%B0%B1%EC%9D%98%EC%A1%B0%EA%B0%81/2150 홍일 백의조각\n",
      "트레이스 리마스터 학원/판타지 https://webtoon.kakao.com/content/%ED%8A%B8%EB%A0%88%EC%9D%B4%EC%8A%A4-%EB%A6%AC%EB%A7%88%EC%8A%A4%ED%84%B0/2139 네스티캣 트레이스 리마스터\n",
      "무법대학 액션/무협 https://webtoon.kakao.com/content/%EB%AC%B4%EB%B2%95%EB%8C%80%ED%95%99/2517 조민호 무법대학\n",
      "크라우드 학원/판타지 https://webtoon.kakao.com/content/%ED%81%AC%EB%9D%BC%EC%9A%B0%EB%93%9C/2029 파크 크라우드\n",
      "퀴퀴한 일기 코믹/일상 https://webtoon.kakao.com/content/%ED%80%B4%ED%80%B4%ED%95%9C-%EC%9D%BC%EA%B8%B0/1295 2B 퀴퀴한 일기\n",
      "우범소년 학원/판타지 https://webtoon.kakao.com/content/%EC%9A%B0%EB%B2%94%EC%86%8C%EB%85%84/2504 병장 우범소년\n",
      "이상징후 판타지 드라마 https://webtoon.kakao.com/content/%EC%9D%B4%EC%83%81%EC%A7%95%ED%9B%84/2154 잇선 이상징후\n",
      "언데드킹 학원/판타지 https://webtoon.kakao.com/content/%EC%96%B8%EB%8D%B0%EB%93%9C%ED%82%B9/2300 백지운 언데드킹\n",
      "일진에게 찍혔을 때 로맨스 https://webtoon.kakao.com/content/%EC%9D%BC%EC%A7%84%EC%97%90%EA%B2%8C-%EC%B0%8D%ED%98%94%EC%9D%84-%EB%95%8C/2370 체댜 일진에게 찍혔을 때\n",
      "그 아해 공포/스릴러 https://webtoon.kakao.com/content/%EA%B7%B8-%EC%95%84%ED%95%B4/2133 권계림 그 아해\n",
      "이토록 보통의 판타지 드라마 https://webtoon.kakao.com/content/%EC%9D%B4%ED%86%A0%EB%A1%9D-%EB%B3%B4%ED%86%B5%EC%9D%98/1351 캐롯 이토록 보통의\n",
      "하렘생존기 판타지 드라마 https://webtoon.kakao.com/content/%ED%95%98%EB%A0%98%EC%83%9D%EC%A1%B4%EA%B8%B0/1776 오리발 하렘생존기\n",
      "씨방것들 드라마 https://webtoon.kakao.com/content/%EC%94%A8%EB%B0%A9%EA%B2%83%EB%93%A4/1908 오청 씨방것들\n",
      "미래의 사진 로맨스 https://webtoon.kakao.com/content/%EB%AF%B8%EB%9E%98%EC%9D%98-%EC%82%AC%EC%A7%84/1982 낑깡 미래의 사진\n",
      "내 친구는 선녀보살 판타지 드라마 https://webtoon.kakao.com/content/%EB%82%B4-%EC%B9%9C%EA%B5%AC%EB%8A%94-%EC%84%A0%EB%85%80%EB%B3%B4%EC%82%B4/1980 챰 내 친구는 선녀보살\n",
      "종료\n",
      "브라우저 수동 종료 필요\n"
     ]
    }
   ],
   "source": [
    "#정보를 담을 리스트 선언\n",
    "sun_title = []\n",
    "sun_genre = []\n",
    "sun_url = []\n",
    "# //*[@id=\"root\"]/main/div/div[1]/div[2]/div/div[3]/div/div/div/div/div/div[7]/div[3]/div[2]/div/div/div/div/a/picture/img\n",
    "Image_Webtoon_Crawler(sunday_illustrator, sunday_title, 7, sun_title, sun_genre, sun_url, 'sun')"
   ]
  },
  {
   "cell_type": "code",
   "execution_count": 109,
   "id": "6994271f-6b68-44cd-a3fa-f1a525ffece8",
   "metadata": {},
   "outputs": [],
   "source": [
    "URL = 'https://webtoon.kakao.com/original-webtoon?tab=mon'\n",
    "\n",
    "driver = webdriver.Chrome(executable_path='C:/chromedriver')\n",
    "driver.implicitly_wait(time_to_wait=1)\n",
    "\n",
    "driver.get(URL)\n",
    "time.sleep(2)\n",
    "\n",
    "first = driver.find_element_by_xpath('//*[@id=\"root\"]/main/div/div[1]/div[2]/div/div[3]/div/div/div/div/div/div[2]/div[3]/div[10]/div/div/div/div/a')\n",
    "first.click()"
   ]
  },
  {
   "cell_type": "code",
   "execution_count": 112,
   "id": "a8e8d0b0-846a-46e1-9379-d7454d0edb2e",
   "metadata": {},
   "outputs": [],
   "source": [
    "first = driver.find_element_by_xpath('//*[@id=\"root\"]/main/div/div[1]/div[2]/div/div[3]/div/div/div/div/div/div[2]/div[3]/div[10]/div/div/div/div/a')\n",
    "first.click()"
   ]
  },
  {
   "cell_type": "code",
   "execution_count": 76,
   "id": "7d372b82-e72b-4145-a2d7-ba5b5df3d072",
   "metadata": {},
   "outputs": [],
   "source": [
    "# scrap_url = []\n",
    "# scrap_title = []\n",
    "# scrap_genre = []\n",
    "# mon_title = []\n",
    "# mon_genre = []\n",
    "# mon_url = []\n",
    "\n",
    "\n",
    "title_list = scrap_title + mon_title + tues_title + wed_title + thur_title + fri_title + sat_title + sun_title\n",
    "genre_list = scrap_genre + mon_genre + tues_genre + wed_genre + thur_genre + fri_genre + sat_genre + sun_genre\n",
    "url_list = scrap_url + mon_url + tues_url + wed_url + thur_url + fri_url + sat_url + sun_url"
   ]
  },
  {
   "cell_type": "code",
   "execution_count": 77,
   "id": "e2019a90-7f74-4f8f-b447-27028a674882",
   "metadata": {},
   "outputs": [
    {
     "name": "stdout",
     "output_type": "stream",
     "text": [
      "['미생', '너를 만나다', '쌍갑포차', '관존 이강진', '바리공주', '백작가의 불청객들', '주간소년열애사', '바니와 오빠들', '사귄 건 아닌데', '뱀파이어님의 대리식사', '쓰레기 머학생', '액괴', '그 책에 마음을 주지 마세요', '기숙사(死)', '서천화원', '오무라이스 잼잼', '교수님을 빚는 중', '그라티아', '이대로 멈출 순 없다', '환골탈태', '흑우', '사랑하면 디져~트', '독고3 [완전판]', '집행자여', '천인의 신부', '강호표사', '환율이 바뀌었나요?', '유부녀의 탄생', '조류공포증', '일단 질러! 질렐루야', '니니툰즈', '롱리브더킹', '무지개다리 파수꾼', '아싸가 알아버렸다', '타원을 그리는 법', '연습생 고영신', '네 곁에도 어쩌면', '아비무쌍', '비밀 사이', '지옥사원', '사랑하는 존재', '멸종인간', '딩스뚱스', '단두 (斷頭)', '우리집이거든요!', '골드핸즈', '신랑이 사라졌다', '기프트', '악한 기사', '아싸클럽', '우주를 삼킨 별', '트리거', '환상의 아이들', '그녀의 앵무새', '화폐개혁', '해피하우스', '대선비쇼에 어서오세요!', '악마의 편집', '개목걸이', '니니툰즈', '뱀파이어 신드롬', '닥터 파인의 하루', '유부녀 킬러', '말하지 말까', '두번째 썸', '금수친구들', '천광명월', '수린당 -비늘 고치는 집-', '블랙 베히모스', '후크', '좋아하면 울리는', '칼집의 아이', '악녀의 탄생', '구원', '방구석 여포', '소쩍이 운다', '죽어도! 치우', '조국이 당신을 원한다', '저승사자 온라인', '미드나잇 블루', '이미테이션', '하나하나둘', '슈퍼매치 1탄 : LoL BJ 멸망전', '우리가 사랑하는 방법', 'CELL', '니니툰즈', '블랙윈터', '샬롯에게는 다섯 명의 제자가 있다', '러브 스트리밍', '뽀짜툰', '함께 춤을', '프레너미', '신의 태궁', '백의사자', '시간이 머문 집', '침묵의 정원', '26번째 살인', '쑥', '록산', '울화통 고등학교', '저기요 손님', '조국이 당신을 원한다', '도깨비언덕에 왜 왔니?', '시월드 게임 -please save my husband-', '재벌과의 인터뷰', '나를 지켜줘', '살어리랏다', '논현동 장사꾼', '트러블', '니니툰즈', '백로식당', '갱스쿨', '스타의 학교생활', '나만 아는 사랑', '퀴퀴한 일기', '소녀신선', '남남', '불합격인간', '헤븐 투 헬', '열무와 알타리', '우리가 헤어진 사이에', '지금은 연애를 쉽니다', '로엘린은 미래를 걷는다', '키몽의 호구로운 생활', '더 챌린저', '신락도', '파륜아이', '플러스 마이너스 제로', '전생에 나라를 구한 자', '체벌교사', '날씨의 요정', '불러줘 내 이름만', '폭군황제의 첫사랑', '슈퍼매치 1탄 : LoL BJ 멸망전', '크레센도', '닭은 의외로 위대하다', '니니툰즈', '유리의 벽', '너에게 투 혼(魂)!', '김탐정 사용설명서', '미완결', '복무신조 : 우리의 결의', '이렇게 바보일리 없어', '랑데부', '반지하셋방', '천연 天緣', '할매', '후궁공략', '풍검', '별똥별이 떨어지는 그 곳에서 기다려', '이세계 전담반', '쥐덫', '오늘은 꼭 고백할 거야!', '선택은 하나', '어린 (물고기 비늘)', '부기영화', '랜딩', '주말 도미 시식회', '허약선생', '순정 히포크라테스', '정의는 죽지 않는다', '이토록 보통의', '너에게 가는 거리 2091km', '멀리서 보면 푸른 봄', '우리반 숙경이', '샤크', '이뤄질 수 없는 마녀의 소망', '구슬의 주인', '리매치', '내일도 출근!', '취향저격 그녀', '가드패스', '남의 사랑 이야기', '슬프게도 이게 내 인생', '질투유발자들', '백의조각', '트레이스 리마스터', '무법대학', '크라우드', '퀴퀴한 일기', '우범소년', '이상징후', '언데드킹', '일진에게 찍혔을 때', '그 아해', '이토록 보통의', '하렘생존기', '씨방것들', '미래의 사진', '내 친구는 선녀보살']\n",
      "190\n"
     ]
    }
   ],
   "source": [
    "print(title_list)\n",
    "print(len(title_list))"
   ]
  },
  {
   "cell_type": "code",
   "execution_count": 78,
   "id": "af2d0d63-6a60-427b-a1f8-ff73e18885c5",
   "metadata": {},
   "outputs": [
    {
     "name": "stdout",
     "output_type": "stream",
     "text": [
      "['드라마', '로맨스', '판타지 드라마', '액션/무협', '판타지 드라마', '드라마', '로맨스', '로맨스', '로맨스', '로맨스', '코믹/일상', '학원/판타지', '로맨스 판타지', '공포/스릴러', '로맨스', '코믹/일상', '로맨스', '학원/판타지', '코믹/일상', '판타지 드라마', '드라마', '로맨스', '액션/무협', '판타지 드라마', '로맨스 판타지', '액션/무협', '판타지 드라마', '코믹/일상', '공포/스릴러', '코믹/일상', '코믹/일상', '드라마', '판타지 드라마', '드라마', '로맨스', '로맨스', '드라마', '액션/무협', '로맨스', '판타지 드라마', '로맨스', '공포/스릴러', '코믹/일상', '액션/무협', '로맨스', '로맨스', '드라마', '판타지 드라마', '로맨스 판타지', '드라마', '로맨스', '학원/판타지', '판타지 드라마', '판타지 드라마', '판타지 드라마', '공포/스릴러', '드라마', '공포/스릴러', '학원/판타지', '코믹/일상', '학원/판타지', '판타지 드라마', '드라마', '로맨스', '로맨스', '코믹/일상', '액션/무협', '판타지 드라마', '학원/판타지', '학원/판타지', '판타지 드라마', '학원/판타지', '로맨스 판타지', '액션/무협', '학원/판타지', '드라마', '학원/판타지', '코믹/일상', '학원/판타지', '로맨스', '로맨스', '로맨스', '코믹/일상', '로맨스', '판타지 드라마', '코믹/일상', '로맨스 판타지', '로맨스 판타지', '드라마', '코믹/일상', '로맨스', '액션/무협', '판타지 드라마', '판타지 드라마', '판타지 드라마', '로맨스 판타지', '판타지 드라마', '드라마', '판타지 드라마', '코믹/일상', '드라마', '코믹/일상', '판타지 드라마', '판타지 드라마', '로맨스', '로맨스', '공포/스릴러', '드라마', '학원/판타지', '코믹/일상', '판타지 드라마', '학원/판타지', '드라마', '로맨스', '코믹/일상', '판타지 드라마', '드라마', '드라마', '학원/판타지', '코믹/일상', '로맨스', '로맨스', '로맨스 판타지', '코믹/일상', '판타지 드라마', '공포/스릴러', '공포/스릴러', '공포/스릴러', '학원/판타지', '학원/판타지', '판타지 드라마', '로맨스', '로맨스 판타지', '코믹/일상', '드라마', '판타지 드라마', '코믹/일상', '로맨스 판타지', '판타지 드라마', '학원/판타지', '드라마', '공포/스릴러', '로맨스', '학원/판타지', '코믹/일상', '판타지 드라마', '액션/무협', '로맨스 판타지', '액션/무협', '판타지 드라마', '학원/판타지', '공포/스릴러', '로맨스', '로맨스', '드라마', '코믹/일상', '드라마', '액션/무협', '액션/무협', '로맨스', '학원/판타지', '판타지 드라마', '로맨스', '드라마', '판타지 드라마', '액션/무협', '로맨스 판타지', '로맨스', '액션/무협', '로맨스', '로맨스', '학원/판타지', '로맨스', '코믹/일상', '로맨스', '공포/스릴러', '학원/판타지', '액션/무협', '학원/판타지', '코믹/일상', '학원/판타지', '판타지 드라마', '학원/판타지', '로맨스', '공포/스릴러', '판타지 드라마', '판타지 드라마', '드라마', '로맨스', '판타지 드라마']\n",
      "190\n"
     ]
    }
   ],
   "source": [
    "print(genre_list)\n",
    "print(len(genre_list))"
   ]
  },
  {
   "cell_type": "code",
   "execution_count": 79,
   "id": "7a382973-4b5e-4ecd-a1ce-12fd467d83f2",
   "metadata": {},
   "outputs": [
    {
     "name": "stdout",
     "output_type": "stream",
     "text": [
      "['https://webtoon.kakao.com/content/%EB%AF%B8%EC%83%9D/818', 'https://webtoon.kakao.com/content/%EB%84%88%EB%A5%BC-%EB%A7%8C%EB%82%98%EB%8B%A4/1891', 'https://webtoon.kakao.com/content/%EC%8C%8D%EA%B0%91%ED%8F%AC%EC%B0%A8/1299', 'https://webtoon.kakao.com/content/%EA%B4%80%EC%A1%B4-%EC%9D%B4%EA%B0%95%EC%A7%84/2155', 'https://webtoon.kakao.com/content/%EB%B0%94%EB%A6%AC%EA%B3%B5%EC%A3%BC/1405', 'https://webtoon.kakao.com/content/%EB%B0%B1%EC%9E%91%EA%B0%80%EC%9D%98-%EB%B6%88%EC%B2%AD%EA%B0%9D%EB%93%A4/2141', 'https://webtoon.kakao.com/content/%EC%A3%BC%EA%B0%84%EC%86%8C%EB%85%84%EC%97%B4%EC%95%A0%EC%82%AC/1262', 'https://webtoon.kakao.com/content/%EB%B0%94%EB%8B%88%EC%99%80-%EC%98%A4%EB%B9%A0%EB%93%A4/1781', 'https://webtoon.kakao.com/content/%EC%82%AC%EA%B7%84-%EA%B1%B4-%EC%95%84%EB%8B%8C%EB%8D%B0/1933', 'https://webtoon.kakao.com/content/%EB%B1%80%ED%8C%8C%EC%9D%B4%EC%96%B4%EB%8B%98%EC%9D%98-%EB%8C%80%EB%A6%AC%EC%8B%9D%EC%82%AC/1959', 'https://webtoon.kakao.com/content/%EC%93%B0%EB%A0%88%EA%B8%B0-%EB%A8%B8%ED%95%99%EC%83%9D/1903', 'https://webtoon.kakao.com/content/%EC%95%A1%EA%B4%B4/2147', 'https://webtoon.kakao.com/content/%EA%B7%B8-%EC%B1%85%EC%97%90-%EB%A7%88%EC%9D%8C%EC%9D%84-%EC%A3%BC%EC%A7%80-%EB%A7%88%EC%84%B8%EC%9A%94/2143', 'https://webtoon.kakao.com/content/%EA%B8%B0%EC%88%99%EC%82%AC/2148', 'https://webtoon.kakao.com/content/%EC%84%9C%EC%B2%9C%ED%99%94%EC%9B%90/1997', 'https://webtoon.kakao.com/content/%EC%98%A4%EB%AC%B4%EB%9D%BC%EC%9D%B4%EC%8A%A4-%EC%9E%BC%EC%9E%BC/198', 'https://webtoon.kakao.com/content/%EA%B5%90%EC%88%98%EB%8B%98%EC%9D%84-%EB%B9%9A%EB%8A%94-%EC%A4%91/1760', 'https://webtoon.kakao.com/content/%EA%B7%B8%EB%9D%BC%ED%8B%B0%EC%95%84/1621', 'https://webtoon.kakao.com/content/%EC%9D%B4%EB%8C%80%EB%A1%9C-%EB%A9%88%EC%B6%9C-%EC%88%9C-%EC%97%86%EB%8B%A4/1703', 'https://webtoon.kakao.com/content/%ED%99%98%EA%B3%A8%ED%83%88%ED%83%9C/2329', 'https://webtoon.kakao.com/content/%ED%9D%91%EC%9A%B0/1795', 'https://webtoon.kakao.com/content/%EC%82%AC%EB%9E%91%ED%95%98%EB%A9%B4-%EB%94%94%EC%A0%B8%ED%8A%B8/2145', 'https://webtoon.kakao.com/content/%EB%8F%85%EA%B3%A03-%EC%99%84%EC%A0%84%ED%8C%90/2306', 'https://webtoon.kakao.com/content/%EC%A7%91%ED%96%89%EC%9E%90%EC%97%AC/1372', 'https://webtoon.kakao.com/content/%EC%B2%9C%EC%9D%B8%EC%9D%98-%EC%8B%A0%EB%B6%80/2423', 'https://webtoon.kakao.com/content/%EA%B0%95%ED%98%B8%ED%91%9C%EC%82%AC/1931', 'https://webtoon.kakao.com/content/%ED%99%98%EC%9C%A8%EC%9D%B4-%EB%B0%94%EB%80%8C%EC%97%88%EB%82%98%EC%9A%94/2086', 'https://webtoon.kakao.com/content/%EC%9C%A0%EB%B6%80%EB%85%80%EC%9D%98-%ED%83%84%EC%83%9D/1078', 'https://webtoon.kakao.com/content/%EC%A1%B0%EB%A5%98%EA%B3%B5%ED%8F%AC%EC%A6%9D/1716', 'https://webtoon.kakao.com/content/%EC%9D%BC%EB%8B%A8-%EC%A7%88%EB%9F%AC-%EC%A7%88%EB%A0%90%EB%A3%A8%EC%95%BC/1140', 'https://webtoon.kakao.com/content/%EB%8B%88%EB%8B%88%ED%88%B0%EC%A6%88/2484', 'https://webtoon.kakao.com/content/%EB%A1%B1%EB%A6%AC%EB%B8%8C%EB%8D%94%ED%82%B9/2302', 'https://webtoon.kakao.com/content/%EB%AC%B4%EC%A7%80%EA%B0%9C%EB%8B%A4%EB%A6%AC-%ED%8C%8C%EC%88%98%EA%BE%BC/2043', 'https://webtoon.kakao.com/content/%EC%95%84%EC%8B%B8%EA%B0%80-%EC%95%8C%EC%95%84%EB%B2%84%EB%A0%B8%EB%8B%A4/1847', 'https://webtoon.kakao.com/content/%ED%83%80%EC%9B%90%EC%9D%84-%EA%B7%B8%EB%A6%AC%EB%8A%94-%EB%B2%95/1768', 'https://webtoon.kakao.com/content/%EC%97%B0%EC%8A%B5%EC%83%9D-%EA%B3%A0%EC%98%81%EC%8B%A0/2479', 'https://webtoon.kakao.com/content/%EB%84%A4-%EA%B3%81%EC%97%90%EB%8F%84-%EC%96%B4%EC%A9%8C%EB%A9%B4/2544', 'https://webtoon.kakao.com/content/%EC%95%84%EB%B9%84%EB%AC%B4%EC%8C%8D/1395', 'https://webtoon.kakao.com/content/%EB%B9%84%EB%B0%80-%EC%82%AC%EC%9D%B4/1943', 'https://webtoon.kakao.com/content/%EC%A7%80%EC%98%A5%EC%82%AC%EC%9B%90/1369', 'https://webtoon.kakao.com/content/%EC%82%AC%EB%9E%91%ED%95%98%EB%8A%94-%EC%A1%B4%EC%9E%AC/1998', 'https://webtoon.kakao.com/content/%EB%A9%B8%EC%A2%85%EC%9D%B8%EA%B0%84/1705', 'https://webtoon.kakao.com/content/%EB%94%A9%EC%8A%A4%EB%9A%B1%EC%8A%A4/760', 'https://webtoon.kakao.com/content/%EB%8B%A8%EB%91%90-%E6%96%B7%E9%A0%AD/1825', 'https://webtoon.kakao.com/content/%EC%9A%B0%EB%A6%AC%EC%A7%91%EC%9D%B4%EA%B1%B0%EB%93%A0%EC%9A%94/1673', 'https://webtoon.kakao.com/content/%EA%B3%A8%EB%93%9C%ED%95%B8%EC%A6%88/2117', 'https://webtoon.kakao.com/content/%EC%8B%A0%EB%9E%91%EC%9D%B4-%EC%82%AC%EB%9D%BC%EC%A1%8C%EB%8B%A4/2034', 'https://webtoon.kakao.com/content/%EA%B8%B0%ED%94%84%ED%8A%B8/2140', 'https://webtoon.kakao.com/content/%EC%95%85%ED%95%9C-%EA%B8%B0%EC%82%AC/2152', 'https://webtoon.kakao.com/content/%EC%95%84%EC%8B%B8%ED%81%B4%EB%9F%BD/1930', 'https://webtoon.kakao.com/content/%EC%9A%B0%EC%A3%BC%EB%A5%BC-%EC%82%BC%ED%82%A8-%EB%B3%84/2516', 'https://webtoon.kakao.com/content/%ED%8A%B8%EB%A6%AC%EA%B1%B0/2364', 'https://webtoon.kakao.com/content/%ED%99%98%EC%83%81%EC%9D%98-%EC%95%84%EC%9D%B4%EB%93%A4/2144', 'https://webtoon.kakao.com/content/%EA%B7%B8%EB%85%80%EC%9D%98-%EC%95%B5%EB%AC%B4%EC%83%88/1863', 'https://webtoon.kakao.com/content/%ED%99%94%ED%8F%90%EA%B0%9C%ED%98%81/1877', 'https://webtoon.kakao.com/content/%ED%95%B4%ED%94%BC%ED%95%98%EC%9A%B0%EC%8A%A4/2151', 'https://webtoon.kakao.com/content/%EB%8C%80%EC%84%A0%EB%B9%84%EC%87%BC%EC%97%90-%EC%96%B4%EC%84%9C%EC%98%A4%EC%84%B8%EC%9A%94/2017', 'https://webtoon.kakao.com/content/%EC%95%85%EB%A7%88%EC%9D%98-%ED%8E%B8%EC%A7%91/2021', 'https://webtoon.kakao.com/content/%EA%B0%9C%EB%AA%A9%EA%B1%B8%EC%9D%B4/2046', 'https://webtoon.kakao.com/content/%EB%8B%88%EB%8B%88%ED%88%B0%EC%A6%88/2484', 'https://webtoon.kakao.com/content/%EB%B1%80%ED%8C%8C%EC%9D%B4%EC%96%B4-%EC%8B%A0%EB%93%9C%EB%A1%AC/1898', 'https://webtoon.kakao.com/content/%EB%8B%A5%ED%84%B0-%ED%8C%8C%EC%9D%B8%EC%9D%98-%ED%95%98%EB%A3%A8/1827', 'https://webtoon.kakao.com/content/%EC%9C%A0%EB%B6%80%EB%85%80-%ED%82%AC%EB%9F%AC/1963', 'https://webtoon.kakao.com/content/%EB%A7%90%ED%95%98%EC%A7%80-%EB%A7%90%EA%B9%8C/1875', 'https://webtoon.kakao.com/content/%EB%91%90%EB%B2%88%EC%A7%B8-%EC%8D%B8/2047', 'https://webtoon.kakao.com/content/%EA%B8%88%EC%88%98%EC%B9%9C%EA%B5%AC%EB%93%A4/1909', 'https://webtoon.kakao.com/content/%EC%B2%9C%EA%B4%91%EB%AA%85%EC%9B%94/2153', 'https://webtoon.kakao.com/content/%EC%88%98%EB%A6%B0%EB%8B%B9-%EB%B9%84%EB%8A%98-%EA%B3%A0%EC%B9%98%EB%8A%94-%EC%A7%91/2074', 'https://webtoon.kakao.com/content/%EB%B8%94%EB%9E%99-%EB%B2%A0%ED%9E%88%EB%AA%A8%EC%8A%A4/792', 'https://webtoon.kakao.com/content/%ED%9B%84%ED%81%AC/1381', 'https://webtoon.kakao.com/content/%EC%A2%8B%EC%95%84%ED%95%98%EB%A9%B4-%EC%9A%B8%EB%A6%AC%EB%8A%94/1132', 'https://webtoon.kakao.com/content/%EC%B9%BC%EC%A7%91%EC%9D%98-%EC%95%84%EC%9D%B4/2368', 'https://webtoon.kakao.com/content/%EC%95%85%EB%85%80%EC%9D%98-%ED%83%84%EC%83%9D/2049', 'https://webtoon.kakao.com/content/%EA%B5%AC%EC%9B%90/2130', 'https://webtoon.kakao.com/content/%EB%B0%A9%EA%B5%AC%EC%84%9D-%EC%97%AC%ED%8F%AC/2118', 'https://webtoon.kakao.com/content/%EC%86%8C%EC%A9%8D%EC%9D%B4-%EC%9A%B4%EB%8B%A4/2135', 'https://webtoon.kakao.com/content/%EC%A3%BD%EC%96%B4%EB%8F%84-%EC%B9%98%EC%9A%B0/1923', 'https://webtoon.kakao.com/content/%EC%A1%B0%EA%B5%AD%EC%9D%B4-%EB%8B%B9%EC%8B%A0%EC%9D%84-%EC%9B%90%ED%95%9C%EB%8B%A4/2390', 'https://webtoon.kakao.com/content/%EC%A0%80%EC%8A%B9%EC%82%AC%EC%9E%90-%EC%98%A8%EB%9D%BC%EC%9D%B8/2022', 'https://webtoon.kakao.com/content/%EB%AF%B8%EB%93%9C%EB%82%98%EC%9E%87-%EB%B8%94%EB%A3%A8/2073', 'https://webtoon.kakao.com/content/%EC%9D%B4%EB%AF%B8%ED%85%8C%EC%9D%B4%EC%85%98/2301', 'https://webtoon.kakao.com/content/%ED%95%98%EB%82%98%ED%95%98%EB%82%98%EB%91%98/1853', 'https://webtoon.kakao.com/content/%EC%8A%88%ED%8D%BC%EB%A7%A4%EC%B9%98-1%ED%83%84-LoL-BJ-%EB%A9%B8%EB%A7%9D%EC%A0%84/2146', 'https://webtoon.kakao.com/content/%EC%9A%B0%EB%A6%AC%EA%B0%80-%EC%82%AC%EB%9E%91%ED%95%98%EB%8A%94-%EB%B0%A9%EB%B2%95/1468', 'https://webtoon.kakao.com/content/CELL/1960', 'https://webtoon.kakao.com/content/%EB%8B%88%EB%8B%88%ED%88%B0%EC%A6%88/2484', 'https://webtoon.kakao.com/content/%EB%B8%94%EB%9E%99%EC%9C%88%ED%84%B0/1678', 'https://webtoon.kakao.com/content/%EC%83%AC%EB%A1%AF%EC%97%90%EA%B2%8C%EB%8A%94-%EB%8B%A4%EC%84%AF-%EB%AA%85%EC%9D%98-%EC%A0%9C%EC%9E%90%EA%B0%80-%EC%9E%88%EB%8B%A4/1796', 'https://webtoon.kakao.com/content/%EB%9F%AC%EB%B8%8C-%EC%8A%A4%ED%8A%B8%EB%A6%AC%EB%B0%8D/2064', 'https://webtoon.kakao.com/content/%EB%BD%80%EC%A7%9C%ED%88%B0/933', 'https://webtoon.kakao.com/content/%ED%95%A8%EA%BB%98-%EC%B6%A4%EC%9D%84/2048', 'https://webtoon.kakao.com/content/%ED%94%84%EB%A0%88%EB%84%88%EB%AF%B8/1361', 'https://webtoon.kakao.com/content/%EC%8B%A0%EC%9D%98-%ED%83%9C%EA%B6%81/1878', 'https://webtoon.kakao.com/content/%EB%B0%B1%EC%9D%98%EC%82%AC%EC%9E%90/2042', 'https://webtoon.kakao.com/content/%EC%8B%9C%EA%B0%84%EC%9D%B4-%EB%A8%B8%EB%AC%B8-%EC%A7%91/2020', 'https://webtoon.kakao.com/content/%EC%B9%A8%EB%AC%B5%EC%9D%98-%EC%A0%95%EC%9B%90/2129', 'https://webtoon.kakao.com/content/26%EB%B2%88%EC%A7%B8-%EC%82%B4%EC%9D%B8/2510', 'https://webtoon.kakao.com/content/%EC%91%A5/2119', 'https://webtoon.kakao.com/content/%EB%A1%9D%EC%82%B0/1995', 'https://webtoon.kakao.com/content/%EC%9A%B8%ED%99%94%ED%86%B5-%EA%B3%A0%EB%93%B1%ED%95%99%EA%B5%90/2512', 'https://webtoon.kakao.com/content/%EC%A0%80%EA%B8%B0%EC%9A%94-%EC%86%90%EB%8B%98/1713', 'https://webtoon.kakao.com/content/%EC%A1%B0%EA%B5%AD%EC%9D%B4-%EB%8B%B9%EC%8B%A0%EC%9D%84-%EC%9B%90%ED%95%9C%EB%8B%A4/2390', 'https://webtoon.kakao.com/content/%EB%8F%84%EA%B9%A8%EB%B9%84%EC%96%B8%EB%8D%95%EC%97%90-%EC%99%9C-%EC%99%94%EB%8B%88/982', 'https://webtoon.kakao.com/content/%EC%8B%9C%EC%9B%94%EB%93%9C-%EA%B2%8C%EC%9E%84--please-save-my-husband-/2420', 'https://webtoon.kakao.com/content/%EC%9E%AC%EB%B2%8C%EA%B3%BC%EC%9D%98-%EC%9D%B8%ED%84%B0%EB%B7%B0/1861', 'https://webtoon.kakao.com/content/%EB%82%98%EB%A5%BC-%EC%A7%80%EC%BC%9C%EC%A4%98/2100', 'https://webtoon.kakao.com/content/%EC%82%B4%EC%96%B4%EB%A6%AC%EB%9E%8F%EB%8B%A4/1939', 'https://webtoon.kakao.com/content/%EB%85%BC%ED%98%84%EB%8F%99-%EC%9E%A5%EC%82%AC%EA%BE%BC/1981', 'https://webtoon.kakao.com/content/%ED%8A%B8%EB%9F%AC%EB%B8%94/2045', 'https://webtoon.kakao.com/content/%EB%8B%88%EB%8B%88%ED%88%B0%EC%A6%88/2484', 'https://webtoon.kakao.com/content/%EB%B0%B1%EB%A1%9C%EC%8B%9D%EB%8B%B9/2075', 'https://webtoon.kakao.com/content/%EA%B0%B1%EC%8A%A4%EC%BF%A8/2322', 'https://webtoon.kakao.com/content/%EC%8A%A4%ED%83%80%EC%9D%98-%ED%95%99%EA%B5%90%EC%83%9D%ED%99%9C/1924', 'https://webtoon.kakao.com/content/%EB%82%98%EB%A7%8C-%EC%95%84%EB%8A%94-%EC%82%AC%EB%9E%91/1694', 'https://webtoon.kakao.com/content/%ED%80%B4%ED%80%B4%ED%95%9C-%EC%9D%BC%EA%B8%B0/1295', 'https://webtoon.kakao.com/content/%EC%86%8C%EB%85%80%EC%8B%A0%EC%84%A0/1304', 'https://webtoon.kakao.com/content/%EB%82%A8%EB%82%A8/1762', 'https://webtoon.kakao.com/content/%EB%B6%88%ED%95%A9%EA%B2%A9%EC%9D%B8%EA%B0%84/2149', 'https://webtoon.kakao.com/content/%ED%97%A4%EB%B8%90-%ED%88%AC-%ED%97%AC/1336', 'https://webtoon.kakao.com/content/%EC%97%B4%EB%AC%B4%EC%99%80-%EC%95%8C%ED%83%80%EB%A6%AC/1855', 'https://webtoon.kakao.com/content/%EC%9A%B0%EB%A6%AC%EA%B0%80-%ED%97%A4%EC%96%B4%EC%A7%84-%EC%82%AC%EC%9D%B4%EC%97%90/2004', 'https://webtoon.kakao.com/content/%EC%A7%80%EA%B8%88%EC%9D%80-%EC%97%B0%EC%95%A0%EB%A5%BC-%EC%89%BD%EB%8B%88%EB%8B%A4/2044', 'https://webtoon.kakao.com/content/%EB%A1%9C%EC%97%98%EB%A6%B0%EC%9D%80-%EB%AF%B8%EB%9E%98%EB%A5%BC-%EA%B1%B7%EB%8A%94%EB%8B%A4/2522', 'https://webtoon.kakao.com/content/%ED%82%A4%EB%AA%BD%EC%9D%98-%ED%98%B8%EA%B5%AC%EB%A1%9C%EC%9A%B4-%EC%83%9D%ED%99%9C/1577', 'https://webtoon.kakao.com/content/%EB%8D%94-%EC%B1%8C%EB%A6%B0%EC%A0%80/2536', 'https://webtoon.kakao.com/content/%EC%8B%A0%EB%9D%BD%EB%8F%84/2132', 'https://webtoon.kakao.com/content/%ED%8C%8C%EB%A5%9C%EC%95%84%EC%9D%B4/1999', 'https://webtoon.kakao.com/content/%ED%94%8C%EB%9F%AC%EC%8A%A4-%EB%A7%88%EC%9D%B4%EB%84%88%EC%8A%A4-%EC%A0%9C%EB%A1%9C/2137', 'https://webtoon.kakao.com/content/%EC%A0%84%EC%83%9D%EC%97%90-%EB%82%98%EB%9D%BC%EB%A5%BC-%EA%B5%AC%ED%95%9C-%EC%9E%90/2089', 'https://webtoon.kakao.com/content/%EC%B2%B4%EB%B2%8C%EA%B5%90%EC%82%AC/2090', 'https://webtoon.kakao.com/content/%EB%82%A0%EC%94%A8%EC%9D%98-%EC%9A%94%EC%A0%95/2126', 'https://webtoon.kakao.com/content/%EB%B6%88%EB%9F%AC%EC%A4%98-%EB%82%B4-%EC%9D%B4%EB%A6%84%EB%A7%8C/1919', 'https://webtoon.kakao.com/content/%ED%8F%AD%EA%B5%B0%ED%99%A9%EC%A0%9C%EC%9D%98-%EC%B2%AB%EC%82%AC%EB%9E%91/2359', 'https://webtoon.kakao.com/content/%EC%8A%88%ED%8D%BC%EB%A7%A4%EC%B9%98-1%ED%83%84-LoL-BJ-%EB%A9%B8%EB%A7%9D%EC%A0%84/2146', 'https://webtoon.kakao.com/content/%ED%81%AC%EB%A0%88%EC%84%BC%EB%8F%84/2097', 'https://webtoon.kakao.com/content/%EB%8B%AD%EC%9D%80-%EC%9D%98%EC%99%B8%EB%A1%9C-%EC%9C%84%EB%8C%80%ED%95%98%EB%8B%A4/1816', 'https://webtoon.kakao.com/content/%EB%8B%88%EB%8B%88%ED%88%B0%EC%A6%88/2484', 'https://webtoon.kakao.com/content/%EC%9C%A0%EB%A6%AC%EC%9D%98-%EB%B2%BD/1558', 'https://webtoon.kakao.com/content/%EB%84%88%EC%97%90%EA%B2%8C-%ED%88%AC-%ED%98%BC%E9%AD%82/1757', 'https://webtoon.kakao.com/content/%EA%B9%80%ED%83%90%EC%A0%95-%EC%82%AC%EC%9A%A9%EC%84%A4%EB%AA%85%EC%84%9C/1298', 'https://webtoon.kakao.com/content/%EB%AF%B8%EC%99%84%EA%B2%B0/1882', 'https://webtoon.kakao.com/content/%EB%B3%B5%EB%AC%B4%EC%8B%A0%EC%A1%B0-%EC%9A%B0%EB%A6%AC%EC%9D%98-%EA%B2%B0%EC%9D%98/2554', 'https://webtoon.kakao.com/content/%EC%9D%B4%EB%A0%87%EA%B2%8C-%EB%B0%94%EB%B3%B4%EC%9D%BC%EB%A6%AC-%EC%97%86%EC%96%B4/2534', 'https://webtoon.kakao.com/content/%EB%9E%91%EB%8D%B0%EB%B6%80/1836', 'https://webtoon.kakao.com/content/%EB%B0%98%EC%A7%80%ED%95%98%EC%85%8B%EB%B0%A9/1347', 'https://webtoon.kakao.com/content/%EC%B2%9C%EC%97%B0-%E5%A4%A9%E7%B7%A3/869', 'https://webtoon.kakao.com/content/%ED%95%A0%EB%A7%A4/1682', 'https://webtoon.kakao.com/content/%ED%9B%84%EA%B6%81%EA%B3%B5%EB%9E%B5/1986', 'https://webtoon.kakao.com/content/%ED%92%8D%EA%B2%80/1545', 'https://webtoon.kakao.com/content/%EB%B3%84%EB%98%A5%EB%B3%84%EC%9D%B4-%EB%96%A8%EC%96%B4%EC%A7%80%EB%8A%94-%EA%B7%B8-%EA%B3%B3%EC%97%90%EC%84%9C-%EA%B8%B0%EB%8B%A4%EB%A0%A4/1531', 'https://webtoon.kakao.com/content/%EC%9D%B4%EC%84%B8%EA%B3%84-%EC%A0%84%EB%8B%B4%EB%B0%98/1852', 'https://webtoon.kakao.com/content/%EC%A5%90%EB%8D%AB/2134', 'https://webtoon.kakao.com/content/%EC%98%A4%EB%8A%98%EC%9D%80-%EA%BC%AD-%EA%B3%A0%EB%B0%B1%ED%95%A0-%EA%B1%B0%EC%95%BC/1916', 'https://webtoon.kakao.com/content/%EC%84%A0%ED%83%9D%EC%9D%80-%ED%95%98%EB%82%98/2131', 'https://webtoon.kakao.com/content/%EC%96%B4%EB%A6%B0-%EB%AC%BC%EA%B3%A0%EA%B8%B0-%EB%B9%84%EB%8A%98/1905', 'https://webtoon.kakao.com/content/%EB%B6%80%EA%B8%B0%EC%98%81%ED%99%94/2343', 'https://webtoon.kakao.com/content/%EB%9E%9C%EB%94%A9/2422', 'https://webtoon.kakao.com/content/%EC%A3%BC%EB%A7%90-%EB%8F%84%EB%AF%B8-%EC%8B%9C%EC%8B%9D%ED%9A%8C/1497', 'https://webtoon.kakao.com/content/%ED%97%88%EC%95%BD%EC%84%A0%EC%83%9D/2080', 'https://webtoon.kakao.com/content/%EC%88%9C%EC%A0%95-%ED%9E%88%ED%8F%AC%ED%81%AC%EB%9D%BC%ED%85%8C%EC%8A%A4/1689', 'https://webtoon.kakao.com/content/%EC%A0%95%EC%9D%98%EB%8A%94-%EC%A3%BD%EC%A7%80-%EC%95%8A%EB%8A%94%EB%8B%A4/2124', 'https://webtoon.kakao.com/content/%EC%9D%B4%ED%86%A0%EB%A1%9D-%EB%B3%B4%ED%86%B5%EC%9D%98/1351', 'https://webtoon.kakao.com/content/%EB%84%88%EC%97%90%EA%B2%8C-%EA%B0%80%EB%8A%94-%EA%B1%B0%EB%A6%AC-2091km/1872', 'https://webtoon.kakao.com/content/%EB%A9%80%EB%A6%AC%EC%84%9C-%EB%B3%B4%EB%A9%B4-%ED%91%B8%EB%A5%B8-%EB%B4%84/1089', 'https://webtoon.kakao.com/content/%EC%9A%B0%EB%A6%AC%EB%B0%98-%EC%88%99%EA%B2%BD%EC%9D%B4/2068', 'https://webtoon.kakao.com/content/%EC%83%A4%ED%81%AC/2308', 'https://webtoon.kakao.com/content/%EC%9D%B4%EB%A4%84%EC%A7%88-%EC%88%98-%EC%97%86%EB%8A%94-%EB%A7%88%EB%85%80%EC%9D%98-%EC%86%8C%EB%A7%9D/2338', 'https://webtoon.kakao.com/content/%EA%B5%AC%EC%8A%AC%EC%9D%98-%EC%A3%BC%EC%9D%B8/2091', 'https://webtoon.kakao.com/content/%EB%A6%AC%EB%A7%A4%EC%B9%98/2542', 'https://webtoon.kakao.com/content/%EB%82%B4%EC%9D%BC%EB%8F%84-%EC%B6%9C%EA%B7%BC/1873', 'https://webtoon.kakao.com/content/%EC%B7%A8%ED%96%A5%EC%A0%80%EA%B2%A9-%EA%B7%B8%EB%85%80/1450', 'https://webtoon.kakao.com/content/%EA%B0%80%EB%93%9C%ED%8C%A8%EC%8A%A4/2511', 'https://webtoon.kakao.com/content/%EB%82%A8%EC%9D%98-%EC%82%AC%EB%9E%91-%EC%9D%B4%EC%95%BC%EA%B8%B0/2142', 'https://webtoon.kakao.com/content/%EC%8A%AC%ED%94%84%EA%B2%8C%EB%8F%84-%EC%9D%B4%EA%B2%8C-%EB%82%B4-%EC%9D%B8%EC%83%9D/1575', 'https://webtoon.kakao.com/content/%EC%A7%88%ED%88%AC%EC%9C%A0%EB%B0%9C%EC%9E%90%EB%93%A4/2024', 'https://webtoon.kakao.com/content/%EB%B0%B1%EC%9D%98%EC%A1%B0%EA%B0%81/2150', 'https://webtoon.kakao.com/content/%ED%8A%B8%EB%A0%88%EC%9D%B4%EC%8A%A4-%EB%A6%AC%EB%A7%88%EC%8A%A4%ED%84%B0/2139', 'https://webtoon.kakao.com/content/%EB%AC%B4%EB%B2%95%EB%8C%80%ED%95%99/2517', 'https://webtoon.kakao.com/content/%ED%81%AC%EB%9D%BC%EC%9A%B0%EB%93%9C/2029', 'https://webtoon.kakao.com/content/%ED%80%B4%ED%80%B4%ED%95%9C-%EC%9D%BC%EA%B8%B0/1295', 'https://webtoon.kakao.com/content/%EC%9A%B0%EB%B2%94%EC%86%8C%EB%85%84/2504', 'https://webtoon.kakao.com/content/%EC%9D%B4%EC%83%81%EC%A7%95%ED%9B%84/2154', 'https://webtoon.kakao.com/content/%EC%96%B8%EB%8D%B0%EB%93%9C%ED%82%B9/2300', 'https://webtoon.kakao.com/content/%EC%9D%BC%EC%A7%84%EC%97%90%EA%B2%8C-%EC%B0%8D%ED%98%94%EC%9D%84-%EB%95%8C/2370', 'https://webtoon.kakao.com/content/%EA%B7%B8-%EC%95%84%ED%95%B4/2133', 'https://webtoon.kakao.com/content/%EC%9D%B4%ED%86%A0%EB%A1%9D-%EB%B3%B4%ED%86%B5%EC%9D%98/1351', 'https://webtoon.kakao.com/content/%ED%95%98%EB%A0%98%EC%83%9D%EC%A1%B4%EA%B8%B0/1776', 'https://webtoon.kakao.com/content/%EC%94%A8%EB%B0%A9%EA%B2%83%EB%93%A4/1908', 'https://webtoon.kakao.com/content/%EB%AF%B8%EB%9E%98%EC%9D%98-%EC%82%AC%EC%A7%84/1982', 'https://webtoon.kakao.com/content/%EB%82%B4-%EC%B9%9C%EA%B5%AC%EB%8A%94-%EC%84%A0%EB%85%80%EB%B3%B4%EC%82%B4/1980']\n",
      "190\n"
     ]
    }
   ],
   "source": [
    "print(url_list)\n",
    "print(len(url_list))"
   ]
  },
  {
   "cell_type": "code",
   "execution_count": 81,
   "id": "b847816f-caa8-4bf3-acb4-9862f7bf3862",
   "metadata": {},
   "outputs": [],
   "source": [
    "import pandas as pd\n",
    "kakao = pd.DataFrame({'title':title_list, 'genre':genre_list,'url':url_list})"
   ]
  },
  {
   "cell_type": "code",
   "execution_count": 82,
   "id": "58d3b391-f111-44a8-9890-e0dbc11fe4ef",
   "metadata": {},
   "outputs": [
    {
     "data": {
      "text/html": [
       "<div>\n",
       "<style scoped>\n",
       "    .dataframe tbody tr th:only-of-type {\n",
       "        vertical-align: middle;\n",
       "    }\n",
       "\n",
       "    .dataframe tbody tr th {\n",
       "        vertical-align: top;\n",
       "    }\n",
       "\n",
       "    .dataframe thead th {\n",
       "        text-align: right;\n",
       "    }\n",
       "</style>\n",
       "<table border=\"1\" class=\"dataframe\">\n",
       "  <thead>\n",
       "    <tr style=\"text-align: right;\">\n",
       "      <th></th>\n",
       "      <th>title</th>\n",
       "      <th>genre</th>\n",
       "      <th>url</th>\n",
       "    </tr>\n",
       "  </thead>\n",
       "  <tbody>\n",
       "    <tr>\n",
       "      <th>0</th>\n",
       "      <td>미생</td>\n",
       "      <td>드라마</td>\n",
       "      <td>https://webtoon.kakao.com/content/%EB%AF%B8%EC...</td>\n",
       "    </tr>\n",
       "    <tr>\n",
       "      <th>1</th>\n",
       "      <td>너를 만나다</td>\n",
       "      <td>로맨스</td>\n",
       "      <td>https://webtoon.kakao.com/content/%EB%84%88%EB...</td>\n",
       "    </tr>\n",
       "    <tr>\n",
       "      <th>2</th>\n",
       "      <td>쌍갑포차</td>\n",
       "      <td>판타지 드라마</td>\n",
       "      <td>https://webtoon.kakao.com/content/%EC%8C%8D%EA...</td>\n",
       "    </tr>\n",
       "    <tr>\n",
       "      <th>3</th>\n",
       "      <td>관존 이강진</td>\n",
       "      <td>액션/무협</td>\n",
       "      <td>https://webtoon.kakao.com/content/%EA%B4%80%EC...</td>\n",
       "    </tr>\n",
       "    <tr>\n",
       "      <th>4</th>\n",
       "      <td>바리공주</td>\n",
       "      <td>판타지 드라마</td>\n",
       "      <td>https://webtoon.kakao.com/content/%EB%B0%94%EB...</td>\n",
       "    </tr>\n",
       "  </tbody>\n",
       "</table>\n",
       "</div>"
      ],
      "text/plain": [
       "    title    genre                                                url\n",
       "0      미생      드라마  https://webtoon.kakao.com/content/%EB%AF%B8%EC...\n",
       "1  너를 만나다      로맨스  https://webtoon.kakao.com/content/%EB%84%88%EB...\n",
       "2    쌍갑포차  판타지 드라마  https://webtoon.kakao.com/content/%EC%8C%8D%EA...\n",
       "3  관존 이강진    액션/무협  https://webtoon.kakao.com/content/%EA%B4%80%EC...\n",
       "4    바리공주  판타지 드라마  https://webtoon.kakao.com/content/%EB%B0%94%EB..."
      ]
     },
     "execution_count": 82,
     "metadata": {},
     "output_type": "execute_result"
    }
   ],
   "source": [
    "kakao.head()"
   ]
  },
  {
   "cell_type": "code",
   "execution_count": 83,
   "id": "4d8c6749-4e35-4dc4-9621-9071a86797a5",
   "metadata": {},
   "outputs": [],
   "source": [
    "kakao.to_csv('kakao2.csv')"
   ]
  },
  {
   "cell_type": "code",
   "execution_count": null,
   "id": "96b1b5fd-b4fb-4803-8fa8-c91f20f08903",
   "metadata": {},
   "outputs": [],
   "source": []
  }
 ],
 "metadata": {
  "kernelspec": {
   "display_name": "Python Multi",
   "language": "python",
   "name": "multi"
  },
  "language_info": {
   "codemirror_mode": {
    "name": "ipython",
    "version": 3
   },
   "file_extension": ".py",
   "mimetype": "text/x-python",
   "name": "python",
   "nbconvert_exporter": "python",
   "pygments_lexer": "ipython3",
   "version": "3.7.6"
  },
  "toc": {
   "base_numbering": 1,
   "nav_menu": {},
   "number_sections": false,
   "sideBar": true,
   "skip_h1_title": false,
   "title_cell": "Table of Contents",
   "title_sidebar": "Contents",
   "toc_cell": false,
   "toc_position": {},
   "toc_section_display": true,
   "toc_window_display": false
  }
 },
 "nbformat": 4,
 "nbformat_minor": 5
}
