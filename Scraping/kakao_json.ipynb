{
 "cells": [
  {
   "cell_type": "code",
   "execution_count": null,
   "id": "fa096e0a",
   "metadata": {
    "colab": {
     "base_uri": "https://localhost:8080/"
    },
    "id": "K8jIFaF9G6C9",
    "outputId": "a6a9857c-3143-4043-fe9c-1453496392c1"
   },
   "outputs": [],
   "source": [
    "import json\n",
    "\n",
    "with open('weekdays.json', 'r', encoding='utf8') as f:\n",
    "    contents = f.read()\n",
    "    json_data = json.loads(contents)\n",
    "\n",
    "print(json.dumps(json_data, indent=\"\\t\", ensure_ascii=False))\n",
    "# print(json_data['data']['sections'][0]['cardGroups'][0]['cards'][0]['content']['title'])itle'])"
   ]
  },
  {
   "cell_type": "code",
   "execution_count": null,
   "id": "ed95ad01-0c2a-4463-8c71-805d0afbd12f",
   "metadata": {
    "colab": {
     "base_uri": "https://localhost:8080/"
    },
    "id": "uIV452M2G6DA",
    "outputId": "a081269a-95c7-4967-fd7c-a0c6fa506bf0"
   },
   "outputs": [],
   "source": [
    "# 구조 정제\n",
    "\n",
    "title = json_data['data']['sections'][0]['cardGroups'][0]['cards'][0]['content']['title']\n",
    "keyword = json_data['data']['sections'][0]['cardGroups'][0]['cards'][0]['content']['seoKeywords']\n",
    "synopsis = json_data['data']['sections'][0]['cardGroups'][0]['cards'][0]['content']['synopsis']\n",
    "authors = json_data['data']['sections'][0]['cardGroups'][0]['cards'][0]['content']['authors']\n",
    "featuredCharacterImageB = json_data['data']['sections'][0]['cardGroups'][0]['cards'][0]['content']['featuredCharacterImageB']\n",
    "\n",
    "print(title)\n",
    "print(keyword)\n",
    "print(synopsis)\n",
    "print(authors)\n",
    "print(featuredCharacterImageB+'.png')"
   ]
  },
  {
   "cell_type": "code",
   "execution_count": null,
   "id": "6a4f5774",
   "metadata": {
    "id": "vMJE4an5G6DB"
   },
   "outputs": [],
   "source": [
    "x = 0\n",
    "y = 0\n",
    "z = 0\n",
    "\n",
    "days = []\n",
    "titles = []\n",
    "keywords = []\n",
    "synopsises = []\n",
    "authorsl = []\n",
    "main_image = []\n",
    "\n",
    "while True:\n",
    "  try:\n",
    "    xs = json_data['data']['sections'][x]\n",
    "    while True:\n",
    "      try:\n",
    "        ys = xs['cardGroups'][y]\n",
    "        while True:\n",
    "          try:\n",
    "            day = xs['title']\n",
    "            title = ys['cards'][z]['content']['title']\n",
    "            keyword = ys['cards'][z]['content']['seoKeywords']\n",
    "            synopsis = ys['cards'][z]['content']['synopsis']\n",
    "            authors = ys['cards'][z]['content']['authors']\n",
    "            images = ys['cards'][z]['content']['featuredCharacterImageB'] + '.png'\n",
    "\n",
    "            days.append(day)\n",
    "            titles.append(title)\n",
    "            keywords.append(keyword)\n",
    "            synopsises.append(synopsis)\n",
    "            authorsl.append(authors)\n",
    "            main_image.append(images)\n",
    "\n",
    "            z += 1\n",
    "          except:\n",
    "            z = 0\n",
    "            y += 1\n",
    "            break\n",
    "      except:\n",
    "        z = 0\n",
    "        y = 0\n",
    "        x += 1\n",
    "        break\n",
    "  except:\n",
    "    break"
   ]
  },
  {
   "cell_type": "code",
   "execution_count": null,
   "id": "fb31c5e2",
   "metadata": {},
   "outputs": [],
   "source": [
    "print(titles)"
   ]
  },
  {
   "cell_type": "code",
   "execution_count": null,
   "id": "8237e304",
   "metadata": {
    "colab": {
     "base_uri": "https://localhost:8080/"
    },
    "id": "cyz4ES7GKmP3",
    "outputId": "317cf29e-0176-456f-cfd7-856ec753f55d"
   },
   "outputs": [],
   "source": [
    "print(synopsises)"
   ]
  },
  {
   "cell_type": "code",
   "execution_count": null,
   "id": "1edcfec7",
   "metadata": {
    "colab": {
     "base_uri": "https://localhost:8080/"
    },
    "id": "68afPkL3MO4T",
    "outputId": "0818a7c1-e1d7-4987-d63a-771ae970fd2f"
   },
   "outputs": [],
   "source": [
    "print(authorsl)"
   ]
  },
  {
   "cell_type": "code",
   "execution_count": null,
   "id": "5537c6a8",
   "metadata": {
    "colab": {
     "base_uri": "https://localhost:8080/"
    },
    "id": "8mpEUAo2NM8Q",
    "outputId": "44b94ca2-f0df-4578-a055-d2cddee06e16"
   },
   "outputs": [],
   "source": [
    "print(days)"
   ]
  },
  {
   "cell_type": "code",
   "execution_count": null,
   "id": "e7b0f2fa",
   "metadata": {
    "colab": {
     "base_uri": "https://localhost:8080/"
    },
    "id": "H26In5TrMXcC",
    "outputId": "bd28070e-8c27-4c46-9170-683b75669c9c"
   },
   "outputs": [],
   "source": [
    "authorsl[0]"
   ]
  },
  {
   "cell_type": "code",
   "execution_count": null,
   "id": "f3a86a8d-215b-4dea-a6a4-6c08de958962",
   "metadata": {},
   "outputs": [],
   "source": [
    "authorsl[1]"
   ]
  },
  {
   "cell_type": "code",
   "execution_count": null,
   "id": "b1c758d9-e99a-4ddd-bba2-d5ae6a5ff3dc",
   "metadata": {},
   "outputs": [],
   "source": [
    "authorsl[0][1]"
   ]
  },
  {
   "cell_type": "code",
   "execution_count": null,
   "id": "33aa26bf",
   "metadata": {
    "id": "yyRke0qJMSiP"
   },
   "outputs": [],
   "source": [
    "writers = [authorsl[i][0]['name'] for i in range(len(authorsl))]\n",
    "illustrator = [authorsl[i][1]['name'] for i in range(len(authorsl))]"
   ]
  },
  {
   "cell_type": "code",
   "execution_count": null,
   "id": "be0377fd",
   "metadata": {
    "colab": {
     "base_uri": "https://localhost:8080/"
    },
    "id": "zA3-ZbzjMl7c",
    "outputId": "2fa77a24-9b42-43b7-8f4b-5addbc216f55"
   },
   "outputs": [],
   "source": [
    "print(writers)\n",
    "print(len(writers))"
   ]
  },
  {
   "cell_type": "code",
   "execution_count": null,
   "id": "3a38a728-9f15-4be4-8791-b26934598a8f",
   "metadata": {},
   "outputs": [],
   "source": [
    "print(illustrator)\n",
    "print(len(illustrator))"
   ]
  },
  {
   "cell_type": "code",
   "execution_count": 42,
   "id": "4333742a-a7fa-4b35-8239-39795a5f4d4e",
   "metadata": {},
   "outputs": [],
   "source": [
    "import pandas as pd\n",
    "\n",
    "kakao = pd.DataFrame({'title':titles, 'writer':writers,'illustrator':illustrator, 'story':synopsises, 'platform':'kakao', 'Thumbnail':main_image})"
   ]
  },
  {
   "cell_type": "code",
   "execution_count": 43,
   "id": "ff541cee",
   "metadata": {
    "colab": {
     "base_uri": "https://localhost:8080/",
     "height": 204
    },
    "id": "IfAR0djNNb0X",
    "outputId": "bb6650a9-dd3a-44bd-8f66-f3c4e314d061"
   },
   "outputs": [
    {
     "data": {
      "text/html": [
       "<div>\n",
       "<style scoped>\n",
       "    .dataframe tbody tr th:only-of-type {\n",
       "        vertical-align: middle;\n",
       "    }\n",
       "\n",
       "    .dataframe tbody tr th {\n",
       "        vertical-align: top;\n",
       "    }\n",
       "\n",
       "    .dataframe thead th {\n",
       "        text-align: right;\n",
       "    }\n",
       "</style>\n",
       "<table border=\"1\" class=\"dataframe\">\n",
       "  <thead>\n",
       "    <tr style=\"text-align: right;\">\n",
       "      <th></th>\n",
       "      <th>title</th>\n",
       "      <th>writer</th>\n",
       "      <th>illustrator</th>\n",
       "      <th>story</th>\n",
       "      <th>platform</th>\n",
       "      <th>Thumbnail</th>\n",
       "    </tr>\n",
       "  </thead>\n",
       "  <tbody>\n",
       "    <tr>\n",
       "      <th>0</th>\n",
       "      <td>미생</td>\n",
       "      <td>윤태호</td>\n",
       "      <td>윤태호</td>\n",
       "      <td>자신의 삶을 승리하기 위해 한 수 한 수 돌을 잇는 사람들의 이야기</td>\n",
       "      <td>kakao</td>\n",
       "      <td>https://kr-a.kakaopagecdn.com/P/C/818/c2/2x/19...</td>\n",
       "    </tr>\n",
       "    <tr>\n",
       "      <th>1</th>\n",
       "      <td>바니와 오빠들</td>\n",
       "      <td>니은</td>\n",
       "      <td>니은</td>\n",
       "      <td>외모 따지지 않는 '개념녀'?\\n아니, 나 완전 '얼빠'야!\\n\\n신입생 시절, 남...</td>\n",
       "      <td>kakao</td>\n",
       "      <td>https://kr-a.kakaopagecdn.com/P/C/1781/c2/2x/1...</td>\n",
       "    </tr>\n",
       "    <tr>\n",
       "      <th>2</th>\n",
       "      <td>사귄 건 아닌데</td>\n",
       "      <td>민홍</td>\n",
       "      <td>민홍</td>\n",
       "      <td>스물아홉 살, 서른을 목전에 둔 나이. \\n고수아는 그 나이가 괜히 심란하다. \\n...</td>\n",
       "      <td>kakao</td>\n",
       "      <td>https://kr-a.kakaopagecdn.com/P/C/1933/c2/2x/c...</td>\n",
       "    </tr>\n",
       "    <tr>\n",
       "      <th>3</th>\n",
       "      <td>뱀파이어님의 대리식사</td>\n",
       "      <td>멜리</td>\n",
       "      <td>웬즈데이</td>\n",
       "      <td>\"대신 먹어주기만 하면 되는 '입주 대리식사' 알바?!\"\\n\\n가난한 대학생 강시영...</td>\n",
       "      <td>kakao</td>\n",
       "      <td>https://kr-a.kakaopagecdn.com/P/C/1959/c2/2x/8...</td>\n",
       "    </tr>\n",
       "    <tr>\n",
       "      <th>4</th>\n",
       "      <td>쓰레기 머학생</td>\n",
       "      <td>수레기</td>\n",
       "      <td>수레기</td>\n",
       "      <td>\"나는 흔한 대학생, 수학을 아주 싫어하지\"\\n\\n학교 수업은 출튀.\\nPC방에서 ...</td>\n",
       "      <td>kakao</td>\n",
       "      <td>https://kr-a.kakaopagecdn.com/P/C/1903/c2/2x/6...</td>\n",
       "    </tr>\n",
       "  </tbody>\n",
       "</table>\n",
       "</div>"
      ],
      "text/plain": [
       "         title writer illustrator  \\\n",
       "0           미생    윤태호         윤태호   \n",
       "1      바니와 오빠들     니은          니은   \n",
       "2     사귄 건 아닌데     민홍          민홍   \n",
       "3  뱀파이어님의 대리식사     멜리        웬즈데이   \n",
       "4      쓰레기 머학생    수레기         수레기   \n",
       "\n",
       "                                               story platform  \\\n",
       "0              자신의 삶을 승리하기 위해 한 수 한 수 돌을 잇는 사람들의 이야기    kakao   \n",
       "1  외모 따지지 않는 '개념녀'?\\n아니, 나 완전 '얼빠'야!\\n\\n신입생 시절, 남...    kakao   \n",
       "2  스물아홉 살, 서른을 목전에 둔 나이. \\n고수아는 그 나이가 괜히 심란하다. \\n...    kakao   \n",
       "3  \"대신 먹어주기만 하면 되는 '입주 대리식사' 알바?!\"\\n\\n가난한 대학생 강시영...    kakao   \n",
       "4  \"나는 흔한 대학생, 수학을 아주 싫어하지\"\\n\\n학교 수업은 출튀.\\nPC방에서 ...    kakao   \n",
       "\n",
       "                                           Thumbnail  \n",
       "0  https://kr-a.kakaopagecdn.com/P/C/818/c2/2x/19...  \n",
       "1  https://kr-a.kakaopagecdn.com/P/C/1781/c2/2x/1...  \n",
       "2  https://kr-a.kakaopagecdn.com/P/C/1933/c2/2x/c...  \n",
       "3  https://kr-a.kakaopagecdn.com/P/C/1959/c2/2x/8...  \n",
       "4  https://kr-a.kakaopagecdn.com/P/C/1903/c2/2x/6...  "
      ]
     },
     "execution_count": 43,
     "metadata": {},
     "output_type": "execute_result"
    }
   ],
   "source": [
    "kakao.head()"
   ]
  },
  {
   "cell_type": "code",
   "execution_count": 44,
   "id": "d86f225b",
   "metadata": {
    "id": "Qecs8yoONs_E"
   },
   "outputs": [],
   "source": [
    "import re\n",
    "\n",
    "def preprocess_sentence_kr(w):\n",
    "  w = w.strip()\n",
    "  w = re.sub(r\"[^0-9가-힣?.!,¿]+\", \" \", w) # \\n도 공백으로 대체해줌\n",
    "  w = w.strip()\n",
    "  return w"
   ]
  },
  {
   "cell_type": "code",
   "execution_count": 45,
   "id": "6f104dc3",
   "metadata": {
    "id": "Weol4dj9N16e"
   },
   "outputs": [],
   "source": [
    "kakao['story'] = kakao['story'].apply(lambda x:preprocess_sentence_kr(x))"
   ]
  },
  {
   "cell_type": "code",
   "execution_count": 46,
   "id": "c70345ff",
   "metadata": {
    "colab": {
     "base_uri": "https://localhost:8080/",
     "height": 204
    },
    "id": "n5an_WOWN_WJ",
    "outputId": "519abeec-7fa7-4d54-b4b0-195f56b419b9"
   },
   "outputs": [
    {
     "data": {
      "text/html": [
       "<div>\n",
       "<style scoped>\n",
       "    .dataframe tbody tr th:only-of-type {\n",
       "        vertical-align: middle;\n",
       "    }\n",
       "\n",
       "    .dataframe tbody tr th {\n",
       "        vertical-align: top;\n",
       "    }\n",
       "\n",
       "    .dataframe thead th {\n",
       "        text-align: right;\n",
       "    }\n",
       "</style>\n",
       "<table border=\"1\" class=\"dataframe\">\n",
       "  <thead>\n",
       "    <tr style=\"text-align: right;\">\n",
       "      <th></th>\n",
       "      <th>title</th>\n",
       "      <th>writer</th>\n",
       "      <th>illustrator</th>\n",
       "      <th>story</th>\n",
       "      <th>platform</th>\n",
       "      <th>Thumbnail</th>\n",
       "    </tr>\n",
       "  </thead>\n",
       "  <tbody>\n",
       "    <tr>\n",
       "      <th>0</th>\n",
       "      <td>미생</td>\n",
       "      <td>윤태호</td>\n",
       "      <td>윤태호</td>\n",
       "      <td>자신의 삶을 승리하기 위해 한 수 한 수 돌을 잇는 사람들의 이야기</td>\n",
       "      <td>kakao</td>\n",
       "      <td>https://kr-a.kakaopagecdn.com/P/C/818/c2/2x/19...</td>\n",
       "    </tr>\n",
       "    <tr>\n",
       "      <th>1</th>\n",
       "      <td>바니와 오빠들</td>\n",
       "      <td>니은</td>\n",
       "      <td>니은</td>\n",
       "      <td>외모 따지지 않는 개념녀 ? 아니, 나 완전 얼빠 야! 신입생 시절, 남자의 외모를...</td>\n",
       "      <td>kakao</td>\n",
       "      <td>https://kr-a.kakaopagecdn.com/P/C/1781/c2/2x/1...</td>\n",
       "    </tr>\n",
       "    <tr>\n",
       "      <th>2</th>\n",
       "      <td>사귄 건 아닌데</td>\n",
       "      <td>민홍</td>\n",
       "      <td>민홍</td>\n",
       "      <td>스물아홉 살, 서른을 목전에 둔 나이. 고수아는 그 나이가 괜히 심란하다. 고향을 ...</td>\n",
       "      <td>kakao</td>\n",
       "      <td>https://kr-a.kakaopagecdn.com/P/C/1933/c2/2x/c...</td>\n",
       "    </tr>\n",
       "    <tr>\n",
       "      <th>3</th>\n",
       "      <td>뱀파이어님의 대리식사</td>\n",
       "      <td>멜리</td>\n",
       "      <td>웬즈데이</td>\n",
       "      <td>대신 먹어주기만 하면 되는 입주 대리식사 알바?! 가난한 대학생 강시영은 입주 대리...</td>\n",
       "      <td>kakao</td>\n",
       "      <td>https://kr-a.kakaopagecdn.com/P/C/1959/c2/2x/8...</td>\n",
       "    </tr>\n",
       "    <tr>\n",
       "      <th>4</th>\n",
       "      <td>쓰레기 머학생</td>\n",
       "      <td>수레기</td>\n",
       "      <td>수레기</td>\n",
       "      <td>나는 흔한 대학생, 수학을 아주 싫어하지 학교 수업은 출튀. 방에서 하루 종일 게임...</td>\n",
       "      <td>kakao</td>\n",
       "      <td>https://kr-a.kakaopagecdn.com/P/C/1903/c2/2x/6...</td>\n",
       "    </tr>\n",
       "  </tbody>\n",
       "</table>\n",
       "</div>"
      ],
      "text/plain": [
       "         title writer illustrator  \\\n",
       "0           미생    윤태호         윤태호   \n",
       "1      바니와 오빠들     니은          니은   \n",
       "2     사귄 건 아닌데     민홍          민홍   \n",
       "3  뱀파이어님의 대리식사     멜리        웬즈데이   \n",
       "4      쓰레기 머학생    수레기         수레기   \n",
       "\n",
       "                                               story platform  \\\n",
       "0              자신의 삶을 승리하기 위해 한 수 한 수 돌을 잇는 사람들의 이야기    kakao   \n",
       "1  외모 따지지 않는 개념녀 ? 아니, 나 완전 얼빠 야! 신입생 시절, 남자의 외모를...    kakao   \n",
       "2  스물아홉 살, 서른을 목전에 둔 나이. 고수아는 그 나이가 괜히 심란하다. 고향을 ...    kakao   \n",
       "3  대신 먹어주기만 하면 되는 입주 대리식사 알바?! 가난한 대학생 강시영은 입주 대리...    kakao   \n",
       "4  나는 흔한 대학생, 수학을 아주 싫어하지 학교 수업은 출튀. 방에서 하루 종일 게임...    kakao   \n",
       "\n",
       "                                           Thumbnail  \n",
       "0  https://kr-a.kakaopagecdn.com/P/C/818/c2/2x/19...  \n",
       "1  https://kr-a.kakaopagecdn.com/P/C/1781/c2/2x/1...  \n",
       "2  https://kr-a.kakaopagecdn.com/P/C/1933/c2/2x/c...  \n",
       "3  https://kr-a.kakaopagecdn.com/P/C/1959/c2/2x/8...  \n",
       "4  https://kr-a.kakaopagecdn.com/P/C/1903/c2/2x/6...  "
      ]
     },
     "execution_count": 46,
     "metadata": {},
     "output_type": "execute_result"
    }
   ],
   "source": [
    "kakao.head()"
   ]
  },
  {
   "cell_type": "code",
   "execution_count": 47,
   "id": "3d64ebec",
   "metadata": {
    "id": "LEGSDMo3Nc0-"
   },
   "outputs": [],
   "source": [
    "kakao.to_csv('kakao.csv', encoding='utf-8-sig')"
   ]
  },
  {
   "cell_type": "code",
   "execution_count": null,
   "id": "f55d1da0-cda4-4214-aaa7-d1674b37936d",
   "metadata": {},
   "outputs": [],
   "source": []
  }
 ],
 "metadata": {
  "colab": {
   "collapsed_sections": [],
   "name": "JSON.ipynb의 사본",
   "provenance": []
  },
  "interpreter": {
   "hash": "cbc7b8543d1a0c0580dd6c6f93fd506ee08c247999fac6a3411f4896a6caf960"
  },
  "kernelspec": {
   "display_name": "Python Multi",
   "language": "python",
   "name": "multi"
  },
  "language_info": {
   "codemirror_mode": {
    "name": "ipython",
    "version": 3
   },
   "file_extension": ".py",
   "mimetype": "text/x-python",
   "name": "python",
   "nbconvert_exporter": "python",
   "pygments_lexer": "ipython3",
   "version": "3.7.6"
  }
 },
 "nbformat": 4,
 "nbformat_minor": 5
}
